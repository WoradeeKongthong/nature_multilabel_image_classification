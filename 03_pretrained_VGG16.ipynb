{
  "nbformat": 4,
  "nbformat_minor": 0,
  "metadata": {
    "accelerator": "GPU",
    "colab": {
      "name": "03_pretrained_VGG16.ipynb",
      "provenance": [],
      "collapsed_sections": [],
      "toc_visible": true,
      "include_colab_link": true
    },
    "kernelspec": {
      "display_name": "Python 3",
      "language": "python",
      "name": "python3"
    },
    "language_info": {
      "codemirror_mode": {
        "name": "ipython",
        "version": 3
      },
      "file_extension": ".py",
      "mimetype": "text/x-python",
      "name": "python",
      "nbconvert_exporter": "python",
      "pygments_lexer": "ipython3",
      "version": "3.8.8"
    }
  },
  "cells": [
    {
      "cell_type": "markdown",
      "metadata": {
        "id": "view-in-github",
        "colab_type": "text"
      },
      "source": [
        "<a href=\"https://colab.research.google.com/github/WoradeeKongthong/nature_multilabel_image_classification/blob/main/03_pretrained_VGG16.ipynb\" target=\"_parent\"><img src=\"https://colab.research.google.com/assets/colab-badge.svg\" alt=\"Open In Colab\"/></a>"
      ]
    },
    {
      "cell_type": "code",
      "metadata": {
        "id": "-WvDSNPCduKz",
        "outputId": "c65d96cd-f046-41e2-e2c6-b8aeb414a518",
        "colab": {
          "base_uri": "https://localhost:8080/"
        }
      },
      "source": [
        "# CTRL + A then CTRL + / to uncomment\n",
        "# CLONE PROJECT TO TRAIN IN GOOGLE COLAB\n",
        "import os\n",
        "if os.path.isdir('/content/nature_multilabel_image_classification'):\n",
        "  !rm -rf '/content/nature_multilabel_image_classification'\n",
        "  \n",
        "!git clone https://github.com/WoradeeKongthong/nature_multilabel_image_classification.git\n",
        "\n",
        "if not os.getcwd() == '/content/nature_multilabel_image_classification' :\n",
        "  %cd /content/nature_multilabel_image_classification\n",
        "\n",
        "!pwd"
      ],
      "execution_count": 1,
      "outputs": [
        {
          "output_type": "stream",
          "name": "stdout",
          "text": [
            "Cloning into 'nature_multilabel_image_classification'...\n",
            "remote: Enumerating objects: 2050, done.\u001b[K\n",
            "remote: Counting objects: 100% (2050/2050), done.\u001b[K\n",
            "remote: Compressing objects: 100% (2038/2038), done.\u001b[K\n",
            "remote: Total 2050 (delta 14), reused 2037 (delta 7), pack-reused 0\u001b[K\n",
            "Receiving objects: 100% (2050/2050), 151.81 MiB | 24.72 MiB/s, done.\n",
            "Resolving deltas: 100% (14/14), done.\n",
            "/content/nature_multilabel_image_classification\n",
            "/content/nature_multilabel_image_classification\n"
          ]
        }
      ]
    },
    {
      "cell_type": "code",
      "metadata": {
        "id": "PfnzksyNt9mQ"
      },
      "source": [
        "# prepared dataset\n",
        "dataset_path = 'data/nature_data.npz'\n",
        "\n",
        "# saved model name\n",
        "model_name = 'best_pretrained_VGG16.h5'"
      ],
      "execution_count": 2,
      "outputs": []
    },
    {
      "cell_type": "markdown",
      "metadata": {
        "id": "abSMiFfOu3RD"
      },
      "source": [
        "# Nature Image Classification (Multi-labels)\n",
        "\n",
        "## Objective \n",
        "To learn tags given to each image.  \n",
        "There are 5 tags;  \n",
        "- desert  \n",
        "- mountains  \n",
        "- sea  \n",
        "- sunset  \n",
        "- trees  \n",
        "\n",
        "## Dataset\n",
        "source : https://www.dropbox.com/s/0htmeoie69q650p/miml_dataset.zip?dl=0  \n",
        "(You can follow the tutorial in this blog https://vijayabhaskar96.medium.com/multi-label-image-classification-tutorial-with-keras-imagedatagenerator-cd541f8eaf24)\n",
        "\n",
        "## Approach\n",
        "Baseline model : CNN model with 1,2 or 3 VGG block(s)  \n",
        "\n",
        "Improved model \n",
        "- dropout\n",
        "- data augmentation"
      ]
    },
    {
      "cell_type": "markdown",
      "metadata": {
        "id": "hI4siRTuzkP8"
      },
      "source": [
        "## Load dataset from file"
      ]
    },
    {
      "cell_type": "code",
      "metadata": {
        "id": "DY0pyMMyzng5"
      },
      "source": [
        "import numpy as np"
      ],
      "execution_count": 3,
      "outputs": []
    },
    {
      "cell_type": "code",
      "metadata": {
        "colab": {
          "base_uri": "https://localhost:8080/"
        },
        "id": "sTPYiaN0zrve",
        "outputId": "a2bb2372-2e91-4abd-c82f-774ae0258715"
      },
      "source": [
        "# load data\n",
        "data = np.load(dataset_path)\n",
        "X, y = data['arr_0'], data['arr_1']\n",
        "print('X shape : ', X.shape)\n",
        "print('y shape : ', y.shape)"
      ],
      "execution_count": 4,
      "outputs": [
        {
          "output_type": "stream",
          "name": "stdout",
          "text": [
            "X shape :  (2000, 128, 128, 3)\n",
            "y shape :  (2000, 5)\n"
          ]
        }
      ]
    },
    {
      "cell_type": "markdown",
      "metadata": {
        "id": "cdtytULs0Y7s"
      },
      "source": [
        "## Create train and test set\n",
        "(Note : validation set will be created with ImageDataGenerator)"
      ]
    },
    {
      "cell_type": "code",
      "metadata": {
        "id": "wO_FPRcW0c5t"
      },
      "source": [
        "from sklearn.model_selection import train_test_split"
      ],
      "execution_count": 5,
      "outputs": []
    },
    {
      "cell_type": "code",
      "metadata": {
        "id": "ER5Tq-HU06Cq"
      },
      "source": [
        "X_train, X_test, y_train, y_test = train_test_split(X, y, test_size=0.2, random_state=100)"
      ],
      "execution_count": 6,
      "outputs": []
    },
    {
      "cell_type": "code",
      "metadata": {
        "colab": {
          "base_uri": "https://localhost:8080/"
        },
        "id": "9uhCuhbq1bVu",
        "outputId": "46a13401-c00b-480a-feea-d54ca081e3ae"
      },
      "source": [
        "print('X_train shape : ', X_train.shape)\n",
        "print('y_train shape : ', y_train.shape)\n",
        "print()\n",
        "print('X_test shape : ', X_test.shape)\n",
        "print('y_test shape : ', y_test.shape)"
      ],
      "execution_count": 7,
      "outputs": [
        {
          "output_type": "stream",
          "name": "stdout",
          "text": [
            "X_train shape :  (1600, 128, 128, 3)\n",
            "y_train shape :  (1600, 5)\n",
            "\n",
            "X_test shape :  (400, 128, 128, 3)\n",
            "y_test shape :  (400, 5)\n"
          ]
        }
      ]
    },
    {
      "cell_type": "markdown",
      "metadata": {
        "id": "ejRHmGDVlSP-"
      },
      "source": [
        "## Create data generator without data augmentation"
      ]
    },
    {
      "cell_type": "code",
      "metadata": {
        "id": "LWRbPRUblbIP"
      },
      "source": [
        "from tensorflow.keras.preprocessing.image import ImageDataGenerator\n",
        "from tensorflow.keras.applications.vgg16 import preprocess_input"
      ],
      "execution_count": 8,
      "outputs": []
    },
    {
      "cell_type": "code",
      "metadata": {
        "id": "SIRwdlwulfCM"
      },
      "source": [
        "train_gen = ImageDataGenerator(preprocessing_function=preprocess_input, validation_split=0.2)\n",
        "test_gen = ImageDataGenerator(preprocessing_function=preprocess_input)\n",
        "\n",
        "batch_size = 20\n",
        "train_iter = train_gen.flow(X_train, y_train, batch_size=batch_size, subset='training', seed=123)\n",
        "val_iter = train_gen.flow(X_train, y_train, batch_size=batch_size, subset='validation', seed=123)\n",
        "test_iter = test_gen.flow(X_test, y_test, batch_size=1, shuffle=False)"
      ],
      "execution_count": 9,
      "outputs": []
    },
    {
      "cell_type": "markdown",
      "metadata": {
        "id": "LAytm0b02LY4"
      },
      "source": [
        "## fbeta score function for multi-label problem"
      ]
    },
    {
      "cell_type": "code",
      "metadata": {
        "id": "Wn9549YT2QL0"
      },
      "source": [
        "from tensorflow.keras import backend\n",
        "\n",
        "# optional sklearn.metrics.fbeta_score (cannot be used as training metric)\n",
        "#from sklearn.metrics import fbeta_score"
      ],
      "execution_count": 10,
      "outputs": []
    },
    {
      "cell_type": "code",
      "metadata": {
        "id": "v6dCRxSK2T2M"
      },
      "source": [
        "# I create F-beta score calculation in Keras to use as a metric \n",
        "# during training process instead of accuracy.\n",
        "\n",
        "def fbeta(y_true, y_pred, beta=2):\n",
        "  # clip predictions\n",
        "  y_pred = backend.clip(y_pred, 0, 1)\n",
        "  # calculate elements\n",
        "  tp = backend.sum(backend.round(backend.clip(y_true * y_pred, 0, 1)), axis=1)\n",
        "  fp = backend.sum(backend.round(backend.clip(y_pred - y_true, 0, 1)), axis=1)\n",
        "  fn = backend.sum(backend.round(backend.clip(y_true - y_pred, 0, 1)), axis=1)\n",
        "  # calculate precision\n",
        "  p = tp / (tp + fp + backend.epsilon())\n",
        "  # calculate recall\n",
        "  r = tp / (tp + fn + backend.epsilon())\n",
        "  # calculate fbeta, averaged across each class\n",
        "  bb = beta ** 2\n",
        "  fbeta_score = backend.mean((1 + bb) * (p * r) / (bb * p + r + backend.epsilon()))\n",
        "  return fbeta_score"
      ],
      "execution_count": 11,
      "outputs": []
    },
    {
      "cell_type": "markdown",
      "metadata": {
        "id": "CD1IWrOXgXlg"
      },
      "source": [
        "## Baseline Model"
      ]
    },
    {
      "cell_type": "markdown",
      "metadata": {
        "id": "LFAW2XEMk7PJ"
      },
      "source": [
        "### Baseline model : "
      ]
    },
    {
      "cell_type": "code",
      "metadata": {
        "id": "lQ1jwo4sAjgi"
      },
      "source": [
        "from tensorflow.keras.applications.vgg16 import VGG16\n",
        "from tensorflow.keras.models import Model\n",
        "from tensorflow.keras.layers import Dense, Flatten, Dropout\n",
        "from tensorflow.keras.callbacks import EarlyStopping, ModelCheckpoint\n",
        "import matplotlib.pyplot as plt"
      ],
      "execution_count": 12,
      "outputs": []
    },
    {
      "cell_type": "code",
      "metadata": {
        "colab": {
          "base_uri": "https://localhost:8080/"
        },
        "id": "SSU7wg4TAl5G",
        "outputId": "587197f3-5cdb-4605-f9c7-e5dc9a623d70"
      },
      "source": [
        "# create model\n",
        "\n",
        "# load VGG16 model\n",
        "model = VGG16(include_top=False, input_shape=(128,128,3))\n",
        "# mark loaded layers as not trainable\n",
        "for layer in model.layers:\n",
        "    layer.trainable = False\n",
        "# add new classifier layers\n",
        "flat1 = Flatten()(model.layers[-1].output)\n",
        "class1 = Dense(100, activation='relu', kernel_initializer='he_uniform')(flat1)\n",
        "output = Dense(5, activation='sigmoid')(class1)\n",
        "# define model\n",
        "model = Model(inputs=model.inputs, outputs=output)\n",
        "\n",
        "# compile model\n",
        "model.compile(optimizer='adam', loss='binary_crossentropy', metrics=[fbeta])"
      ],
      "execution_count": 13,
      "outputs": [
        {
          "output_type": "stream",
          "name": "stdout",
          "text": [
            "Downloading data from https://storage.googleapis.com/tensorflow/keras-applications/vgg16/vgg16_weights_tf_dim_ordering_tf_kernels_notop.h5\n",
            "58892288/58889256 [==============================] - 1s 0us/step\n",
            "58900480/58889256 [==============================] - 1s 0us/step\n"
          ]
        }
      ]
    },
    {
      "cell_type": "code",
      "metadata": {
        "colab": {
          "base_uri": "https://localhost:8080/"
        },
        "id": "p1iYWekdotgI",
        "outputId": "15181c52-adc4-4543-87c2-5bd54fb7e8ff"
      },
      "source": [
        "model.summary()"
      ],
      "execution_count": 14,
      "outputs": [
        {
          "output_type": "stream",
          "name": "stdout",
          "text": [
            "Model: \"model\"\n",
            "_________________________________________________________________\n",
            "Layer (type)                 Output Shape              Param #   \n",
            "=================================================================\n",
            "input_1 (InputLayer)         [(None, 128, 128, 3)]     0         \n",
            "_________________________________________________________________\n",
            "block1_conv1 (Conv2D)        (None, 128, 128, 64)      1792      \n",
            "_________________________________________________________________\n",
            "block1_conv2 (Conv2D)        (None, 128, 128, 64)      36928     \n",
            "_________________________________________________________________\n",
            "block1_pool (MaxPooling2D)   (None, 64, 64, 64)        0         \n",
            "_________________________________________________________________\n",
            "block2_conv1 (Conv2D)        (None, 64, 64, 128)       73856     \n",
            "_________________________________________________________________\n",
            "block2_conv2 (Conv2D)        (None, 64, 64, 128)       147584    \n",
            "_________________________________________________________________\n",
            "block2_pool (MaxPooling2D)   (None, 32, 32, 128)       0         \n",
            "_________________________________________________________________\n",
            "block3_conv1 (Conv2D)        (None, 32, 32, 256)       295168    \n",
            "_________________________________________________________________\n",
            "block3_conv2 (Conv2D)        (None, 32, 32, 256)       590080    \n",
            "_________________________________________________________________\n",
            "block3_conv3 (Conv2D)        (None, 32, 32, 256)       590080    \n",
            "_________________________________________________________________\n",
            "block3_pool (MaxPooling2D)   (None, 16, 16, 256)       0         \n",
            "_________________________________________________________________\n",
            "block4_conv1 (Conv2D)        (None, 16, 16, 512)       1180160   \n",
            "_________________________________________________________________\n",
            "block4_conv2 (Conv2D)        (None, 16, 16, 512)       2359808   \n",
            "_________________________________________________________________\n",
            "block4_conv3 (Conv2D)        (None, 16, 16, 512)       2359808   \n",
            "_________________________________________________________________\n",
            "block4_pool (MaxPooling2D)   (None, 8, 8, 512)         0         \n",
            "_________________________________________________________________\n",
            "block5_conv1 (Conv2D)        (None, 8, 8, 512)         2359808   \n",
            "_________________________________________________________________\n",
            "block5_conv2 (Conv2D)        (None, 8, 8, 512)         2359808   \n",
            "_________________________________________________________________\n",
            "block5_conv3 (Conv2D)        (None, 8, 8, 512)         2359808   \n",
            "_________________________________________________________________\n",
            "block5_pool (MaxPooling2D)   (None, 4, 4, 512)         0         \n",
            "_________________________________________________________________\n",
            "flatten (Flatten)            (None, 8192)              0         \n",
            "_________________________________________________________________\n",
            "dense (Dense)                (None, 100)               819300    \n",
            "_________________________________________________________________\n",
            "dense_1 (Dense)              (None, 5)                 505       \n",
            "=================================================================\n",
            "Total params: 15,534,493\n",
            "Trainable params: 819,805\n",
            "Non-trainable params: 14,714,688\n",
            "_________________________________________________________________\n"
          ]
        }
      ]
    },
    {
      "cell_type": "code",
      "metadata": {
        "colab": {
          "base_uri": "https://localhost:8080/"
        },
        "id": "nJGKobxWo8uv",
        "outputId": "aab3c066-9c19-4392-a269-69939582b1fe"
      },
      "source": [
        "# create early stopping object\n",
        "es = EarlyStopping(monitor='val_loss', mode='min', verbose=1, patience=20)\n",
        "\n",
        "# fit model\n",
        "history = model.fit(train_iter, \n",
        "                    steps_per_epoch=len(train_iter),\n",
        "                    validation_data=val_iter,\n",
        "                    validation_steps=len(val_iter), \n",
        "                    callbacks=[es],\n",
        "                    epochs=200)"
      ],
      "execution_count": 15,
      "outputs": [
        {
          "output_type": "stream",
          "name": "stdout",
          "text": [
            "Epoch 1/200\n",
            "64/64 [==============================] - 38s 98ms/step - loss: 0.7951 - fbeta: 0.7353 - val_loss: 0.3224 - val_fbeta: 0.7514\n",
            "Epoch 2/200\n",
            "64/64 [==============================] - 6s 92ms/step - loss: 0.1576 - fbeta: 0.8939 - val_loss: 0.3047 - val_fbeta: 0.8157\n",
            "Epoch 3/200\n",
            "64/64 [==============================] - 6s 94ms/step - loss: 0.0715 - fbeta: 0.9500 - val_loss: 0.3271 - val_fbeta: 0.7942\n",
            "Epoch 4/200\n",
            "64/64 [==============================] - 6s 93ms/step - loss: 0.0398 - fbeta: 0.9765 - val_loss: 0.3665 - val_fbeta: 0.8142\n",
            "Epoch 5/200\n",
            "64/64 [==============================] - 6s 94ms/step - loss: 0.0255 - fbeta: 0.9834 - val_loss: 0.3714 - val_fbeta: 0.8064\n",
            "Epoch 6/200\n",
            "64/64 [==============================] - 6s 94ms/step - loss: 0.0178 - fbeta: 0.9856 - val_loss: 0.3711 - val_fbeta: 0.8244\n",
            "Epoch 7/200\n",
            "64/64 [==============================] - 6s 93ms/step - loss: 0.0157 - fbeta: 0.9900 - val_loss: 0.3926 - val_fbeta: 0.8288\n",
            "Epoch 8/200\n",
            "64/64 [==============================] - 6s 94ms/step - loss: 0.0092 - fbeta: 0.9946 - val_loss: 0.4169 - val_fbeta: 0.8112\n",
            "Epoch 9/200\n",
            "64/64 [==============================] - 6s 93ms/step - loss: 0.0103 - fbeta: 0.9959 - val_loss: 0.4132 - val_fbeta: 0.8122\n",
            "Epoch 10/200\n",
            "64/64 [==============================] - 6s 94ms/step - loss: 0.0077 - fbeta: 0.9952 - val_loss: 0.4043 - val_fbeta: 0.8198\n",
            "Epoch 11/200\n",
            "64/64 [==============================] - 6s 95ms/step - loss: 0.0041 - fbeta: 0.9978 - val_loss: 0.4192 - val_fbeta: 0.8203\n",
            "Epoch 12/200\n",
            "64/64 [==============================] - 6s 94ms/step - loss: 0.0032 - fbeta: 0.9971 - val_loss: 0.4137 - val_fbeta: 0.8208\n",
            "Epoch 13/200\n",
            "64/64 [==============================] - 6s 94ms/step - loss: 0.0029 - fbeta: 0.9980 - val_loss: 0.4113 - val_fbeta: 0.8259\n",
            "Epoch 14/200\n",
            "64/64 [==============================] - 6s 94ms/step - loss: 0.0030 - fbeta: 0.9981 - val_loss: 0.4296 - val_fbeta: 0.8280\n",
            "Epoch 15/200\n",
            "64/64 [==============================] - 6s 94ms/step - loss: 0.0025 - fbeta: 0.9987 - val_loss: 0.4187 - val_fbeta: 0.8316\n",
            "Epoch 16/200\n",
            "64/64 [==============================] - 6s 94ms/step - loss: 0.0023 - fbeta: 0.9987 - val_loss: 0.4337 - val_fbeta: 0.8337\n",
            "Epoch 17/200\n",
            "64/64 [==============================] - 6s 95ms/step - loss: 0.0025 - fbeta: 0.9989 - val_loss: 0.4483 - val_fbeta: 0.8372\n",
            "Epoch 18/200\n",
            "64/64 [==============================] - 6s 94ms/step - loss: 0.0042 - fbeta: 0.9989 - val_loss: 0.4405 - val_fbeta: 0.8375\n",
            "Epoch 19/200\n",
            "64/64 [==============================] - 6s 95ms/step - loss: 0.0022 - fbeta: 0.9988 - val_loss: 0.4434 - val_fbeta: 0.8393\n",
            "Epoch 20/200\n",
            "64/64 [==============================] - 6s 94ms/step - loss: 0.0019 - fbeta: 0.9987 - val_loss: 0.4524 - val_fbeta: 0.8405\n",
            "Epoch 21/200\n",
            "64/64 [==============================] - 6s 95ms/step - loss: 0.0016 - fbeta: 0.9988 - val_loss: 0.4526 - val_fbeta: 0.8405\n",
            "Epoch 22/200\n",
            "64/64 [==============================] - 6s 95ms/step - loss: 0.0017 - fbeta: 0.9989 - val_loss: 0.4673 - val_fbeta: 0.8304\n",
            "Epoch 00022: early stopping\n"
          ]
        }
      ]
    },
    {
      "cell_type": "code",
      "metadata": {
        "id": "sQNEF43drCyz"
      },
      "source": [
        "# create function for plotting\n",
        "\n",
        "def evaluate_model(history):\n",
        "    # plot training and validation loss\n",
        "    fig = plt.figure(figsize=(15,5))\n",
        "    fig.add_subplot(121)\n",
        "    plt.plot(history.history['loss'], color='blue', label='train')\n",
        "    plt.plot(history.history['val_loss'], color='orange', label='val')\n",
        "    plt.legend()\n",
        "    plt.title('Loss')\n",
        "\n",
        "    # plot training and validation accuracy\n",
        "    fig.add_subplot(122)\n",
        "    plt.plot(history.history['fbeta'], color='blue', label='train')\n",
        "    plt.plot(history.history['val_fbeta'], color='orange', label='val')\n",
        "    plt.legend()\n",
        "    plt.title('F-beta score')\n",
        "    \n",
        "    plt.show()\n",
        "    \n",
        "    # print model accuracy\n",
        "    _, fbeta = model.evaluate(test_iter, steps=len(test_iter), verbose=0)\n",
        "    print('Model F-beta score : ', fbeta)\n",
        "    return fbeta"
      ],
      "execution_count": 16,
      "outputs": []
    },
    {
      "cell_type": "code",
      "metadata": {
        "colab": {
          "base_uri": "https://localhost:8080/",
          "height": 353
        },
        "id": "MUSmt3KfrsZI",
        "outputId": "71afb8e8-6043-4706-d639-5f8bdd0fe456"
      },
      "source": [
        "baseline_perf = evaluate_model(history)"
      ],
      "execution_count": 17,
      "outputs": [
        {
          "output_type": "display_data",
          "data": {
            "image/png": "[encoded data removed]",
            "text/plain": [
              "<Figure size 1080x360 with 2 Axes>"
            ]
          },
          "metadata": {
            "needs_background": "light"
          }
        },
        {
          "output_type": "stream",
          "name": "stdout",
          "text": [
            "Model F-beta score :  0.8260606527328491\n"
          ]
        }
      ]
    },
    {
      "cell_type": "markdown",
      "metadata": {
        "id": "cfjiGFryBexB"
      },
      "source": [
        "Note : overfitting"
      ]
    },
    {
      "cell_type": "markdown",
      "metadata": {
        "id": "ccaNy9GUBX8s"
      },
      "source": [
        "## Improved Models"
      ]
    },
    {
      "cell_type": "markdown",
      "metadata": {
        "id": "-QURID71BaMS"
      },
      "source": [
        "### model 1 : set last VGG block as trainable"
      ]
    },
    {
      "cell_type": "code",
      "metadata": {
        "colab": {
          "base_uri": "https://localhost:8080/",
          "height": 1000
        },
        "id": "wg0nbm8oBZda",
        "outputId": "19a6464c-94c2-4ea6-d8aa-624f6cf75346"
      },
      "source": [
        "# create image data generator\n",
        "train_gen = ImageDataGenerator(preprocessing_function=preprocess_input, validation_split=0.2)\n",
        "test_gen = ImageDataGenerator(preprocessing_function=preprocess_input)\n",
        "\n",
        "batch_size = 20\n",
        "train_iter = train_gen.flow(X_train, y_train, batch_size=batch_size, subset='training', seed=123)\n",
        "val_iter = train_gen.flow(X_train, y_train, batch_size=batch_size, subset='validation', seed=123)\n",
        "test_iter = test_gen.flow(X_test, y_test, batch_size=1, shuffle=False)\n",
        "\n",
        "# create model\n",
        "\n",
        "# load VGG16 model\n",
        "model = VGG16(include_top=False, input_shape=(128,128,3))\n",
        "# mark loaded layers as not trainable\n",
        "for layer in model.layers:\n",
        "    layer.trainable = False\n",
        "# mark last vgg block as trainable\n",
        "model.get_layer('block5_conv1').trainable = True\n",
        "model.get_layer('block5_conv2').trainable = True\n",
        "model.get_layer('block5_conv3').trainable = True\n",
        "model.get_layer('block5_pool').trainable = True\n",
        "# add new classifier layers\n",
        "flat1 = Flatten()(model.layers[-1].output)\n",
        "class1 = Dense(100, activation='relu', kernel_initializer='he_uniform')(flat1)\n",
        "output = Dense(5, activation='sigmoid')(class1)\n",
        "# define model\n",
        "model = Model(inputs=model.inputs, outputs=output)\n",
        "\n",
        "# optimizer \n",
        "from tensorflow.keras.optimizers import Adam\n",
        "opt = Adam(learning_rate=0.01)\n",
        "\n",
        "# compile model\n",
        "model.compile(optimizer=opt, loss='binary_crossentropy', metrics=[fbeta])\n",
        "\n",
        "# create early stopping object\n",
        "es = EarlyStopping(monitor='val_loss', mode='min', verbose=1, patience=20)\n",
        "\n",
        "# fit model\n",
        "history = model.fit(train_iter, \n",
        "                    steps_per_epoch=len(train_iter),\n",
        "                    validation_data=val_iter,\n",
        "                    validation_steps=len(val_iter), \n",
        "                    callbacks=[es],\n",
        "                    epochs=200)\n",
        "\n",
        "model1_perf = evaluate_model(history)"
      ],
      "execution_count": 18,
      "outputs": [
        {
          "output_type": "stream",
          "name": "stdout",
          "text": [
            "Epoch 1/200\n",
            "64/64 [==============================] - 9s 112ms/step - loss: 755.7322 - fbeta: 0.1102 - val_loss: 0.6399 - val_fbeta: 0.0000e+00\n",
            "Epoch 2/200\n",
            "64/64 [==============================] - 7s 107ms/step - loss: 3.1302 - fbeta: 0.0220 - val_loss: 162.2780 - val_fbeta: 0.0279\n",
            "Epoch 3/200\n",
            "64/64 [==============================] - 7s 107ms/step - loss: 2.8372 - fbeta: 0.0149 - val_loss: 0.5686 - val_fbeta: 0.0000e+00\n",
            "Epoch 4/200\n",
            "64/64 [==============================] - 7s 107ms/step - loss: 0.5576 - fbeta: 0.0000e+00 - val_loss: 0.5640 - val_fbeta: 0.0000e+00\n",
            "Epoch 5/200\n",
            "64/64 [==============================] - 7s 107ms/step - loss: 0.5539 - fbeta: 0.0000e+00 - val_loss: 0.5630 - val_fbeta: 0.0000e+00\n",
            "Epoch 6/200\n",
            "64/64 [==============================] - 7s 108ms/step - loss: 0.5528 - fbeta: 0.0000e+00 - val_loss: 0.5632 - val_fbeta: 0.0000e+00\n",
            "Epoch 7/200\n",
            "64/64 [==============================] - 7s 108ms/step - loss: 0.5526 - fbeta: 0.0000e+00 - val_loss: 0.5636 - val_fbeta: 0.0000e+00\n",
            "Epoch 8/200\n",
            "64/64 [==============================] - 7s 107ms/step - loss: 0.5525 - fbeta: 0.0000e+00 - val_loss: 0.5636 - val_fbeta: 0.0000e+00\n",
            "Epoch 9/200\n",
            "64/64 [==============================] - 7s 108ms/step - loss: 0.5524 - fbeta: 0.0000e+00 - val_loss: 0.5638 - val_fbeta: 0.0000e+00\n",
            "Epoch 10/200\n",
            "64/64 [==============================] - 7s 108ms/step - loss: 0.5524 - fbeta: 0.0000e+00 - val_loss: 0.5637 - val_fbeta: 0.0000e+00\n",
            "Epoch 11/200\n",
            "64/64 [==============================] - 7s 108ms/step - loss: 0.5524 - fbeta: 0.0000e+00 - val_loss: 0.5638 - val_fbeta: 0.0000e+00\n",
            "Epoch 12/200\n",
            "64/64 [==============================] - 7s 108ms/step - loss: 0.5525 - fbeta: 0.0000e+00 - val_loss: 0.5640 - val_fbeta: 0.0000e+00\n",
            "Epoch 13/200\n",
            "64/64 [==============================] - 7s 108ms/step - loss: 0.5524 - fbeta: 0.0000e+00 - val_loss: 0.5639 - val_fbeta: 0.0000e+00\n",
            "Epoch 14/200\n",
            "64/64 [==============================] - 7s 108ms/step - loss: 0.5526 - fbeta: 0.0000e+00 - val_loss: 0.5638 - val_fbeta: 0.0000e+00\n",
            "Epoch 15/200\n",
            "64/64 [==============================] - 7s 108ms/step - loss: 0.5526 - fbeta: 0.0000e+00 - val_loss: 0.5638 - val_fbeta: 0.0000e+00\n",
            "Epoch 16/200\n",
            "64/64 [==============================] - 7s 107ms/step - loss: 0.5525 - fbeta: 0.0000e+00 - val_loss: 0.5641 - val_fbeta: 0.0000e+00\n",
            "Epoch 17/200\n",
            "64/64 [==============================] - 7s 108ms/step - loss: 0.5525 - fbeta: 0.0000e+00 - val_loss: 0.5640 - val_fbeta: 0.0000e+00\n",
            "Epoch 18/200\n",
            "64/64 [==============================] - 7s 109ms/step - loss: 0.5526 - fbeta: 0.0000e+00 - val_loss: 0.5636 - val_fbeta: 0.0000e+00\n",
            "Epoch 19/200\n",
            "64/64 [==============================] - 7s 108ms/step - loss: 0.5525 - fbeta: 0.0000e+00 - val_loss: 0.5641 - val_fbeta: 0.0000e+00\n",
            "Epoch 20/200\n",
            "64/64 [==============================] - 7s 107ms/step - loss: 0.5525 - fbeta: 0.0000e+00 - val_loss: 0.5635 - val_fbeta: 0.0000e+00\n",
            "Epoch 21/200\n",
            "64/64 [==============================] - 7s 108ms/step - loss: 0.5525 - fbeta: 0.0000e+00 - val_loss: 0.5640 - val_fbeta: 0.0000e+00\n",
            "Epoch 22/200\n",
            "64/64 [==============================] - 7s 108ms/step - loss: 0.5526 - fbeta: 0.0000e+00 - val_loss: 0.5637 - val_fbeta: 0.0000e+00\n",
            "Epoch 23/200\n",
            "64/64 [==============================] - 7s 108ms/step - loss: 0.5525 - fbeta: 0.0000e+00 - val_loss: 0.5638 - val_fbeta: 0.0000e+00\n",
            "Epoch 24/200\n",
            "64/64 [==============================] - 7s 108ms/step - loss: 0.5525 - fbeta: 0.0000e+00 - val_loss: 0.5637 - val_fbeta: 0.0000e+00\n",
            "Epoch 25/200\n",
            "64/64 [==============================] - 7s 110ms/step - loss: 0.5525 - fbeta: 0.0000e+00 - val_loss: 0.5640 - val_fbeta: 0.0000e+00\n",
            "Epoch 00025: early stopping\n"
          ]
        },
        {
          "output_type": "display_data",
          "data": {
            "image/png": "[encoded data removed]",
            "text/plain": [
              "<Figure size 1080x360 with 2 Axes>"
            ]
          },
          "metadata": {
            "needs_background": "light"
          }
        },
        {
          "output_type": "stream",
          "name": "stdout",
          "text": [
            "Model F-beta score :  0.0\n"
          ]
        }
      ]
    },
    {
      "cell_type": "markdown",
      "metadata": {
        "id": "S_ykttc-B_Zw"
      },
      "source": [
        "Note : model doesn't learn properly, need to adjust learning rate"
      ]
    },
    {
      "cell_type": "markdown",
      "metadata": {
        "id": "i2Pf8CitCAh1"
      },
      "source": [
        "### model 2 : Baseline model + dropout layer"
      ]
    },
    {
      "cell_type": "code",
      "metadata": {
        "colab": {
          "base_uri": "https://localhost:8080/",
          "height": 1000
        },
        "id": "4Mz7gSXiD2M2",
        "outputId": "1ea9dd61-7373-4f31-aacc-42e087ac3861"
      },
      "source": [
        "# create image data generator\n",
        "train_gen = ImageDataGenerator(preprocessing_function=preprocess_input, validation_split=0.2)\n",
        "test_gen = ImageDataGenerator(preprocessing_function=preprocess_input)\n",
        "\n",
        "batch_size = 20\n",
        "train_iter = train_gen.flow(X_train, y_train, batch_size=batch_size, subset='training', seed=123)\n",
        "val_iter = train_gen.flow(X_train, y_train, batch_size=batch_size, subset='validation', seed=123)\n",
        "test_iter = test_gen.flow(X_test, y_test, batch_size=1, shuffle=False)\n",
        "\n",
        "# create model\n",
        "\n",
        "# load VGG16 model\n",
        "model = VGG16(include_top=False, input_shape=(128,128,3))\n",
        "# mark loaded layers as not trainable\n",
        "for layer in model.layers:\n",
        "    layer.trainable = False\n",
        "# add new classifier layers\n",
        "dropout1 = Dropout(0.2)(model.layers[-1].output)\n",
        "flat1 = Flatten()(dropout1)\n",
        "class1 = Dense(100, activation='relu', kernel_initializer='he_uniform')(flat1)\n",
        "dropout2 = Dropout(0.2)(class1)\n",
        "output = Dense(5, activation='sigmoid')(dropout2)\n",
        "\n",
        "# define model\n",
        "model = Model(inputs=model.inputs, outputs=output)\n",
        "\n",
        "# compile model\n",
        "model.compile(optimizer='adam', loss='binary_crossentropy', metrics=[fbeta])\n",
        "\n",
        "# create early stopping object\n",
        "es = EarlyStopping(monitor='val_loss', mode='min', verbose=1, patience=20)\n",
        "\n",
        "# fit model\n",
        "history = model.fit(train_iter, \n",
        "                    steps_per_epoch=len(train_iter),\n",
        "                    validation_data=val_iter,\n",
        "                    validation_steps=len(val_iter), \n",
        "                    callbacks=[es],\n",
        "                    epochs=200)\n",
        "\n",
        "model2_perf = evaluate_model(history)"
      ],
      "execution_count": 19,
      "outputs": [
        {
          "output_type": "stream",
          "name": "stdout",
          "text": [
            "Epoch 1/200\n",
            "64/64 [==============================] - 7s 98ms/step - loss: 1.1157 - fbeta: 0.7084 - val_loss: 0.2996 - val_fbeta: 0.8084\n",
            "Epoch 2/200\n",
            "64/64 [==============================] - 6s 94ms/step - loss: 0.2978 - fbeta: 0.8341 - val_loss: 0.2401 - val_fbeta: 0.8280\n",
            "Epoch 3/200\n",
            "64/64 [==============================] - 6s 95ms/step - loss: 0.1744 - fbeta: 0.8903 - val_loss: 0.2547 - val_fbeta: 0.8165\n",
            "Epoch 4/200\n",
            "64/64 [==============================] - 6s 94ms/step - loss: 0.1209 - fbeta: 0.9200 - val_loss: 0.2534 - val_fbeta: 0.8305\n",
            "Epoch 5/200\n",
            "64/64 [==============================] - 6s 94ms/step - loss: 0.1019 - fbeta: 0.9390 - val_loss: 0.2748 - val_fbeta: 0.8353\n",
            "Epoch 6/200\n",
            "64/64 [==============================] - 6s 96ms/step - loss: 0.0984 - fbeta: 0.9429 - val_loss: 0.2910 - val_fbeta: 0.8057\n",
            "Epoch 7/200\n",
            "64/64 [==============================] - 6s 94ms/step - loss: 0.0701 - fbeta: 0.9598 - val_loss: 0.3058 - val_fbeta: 0.8312\n",
            "Epoch 8/200\n",
            "64/64 [==============================] - 6s 94ms/step - loss: 0.0992 - fbeta: 0.9483 - val_loss: 0.3150 - val_fbeta: 0.8076\n",
            "Epoch 9/200\n",
            "64/64 [==============================] - 6s 94ms/step - loss: 0.0703 - fbeta: 0.9539 - val_loss: 0.3443 - val_fbeta: 0.8166\n",
            "Epoch 10/200\n",
            "64/64 [==============================] - 6s 94ms/step - loss: 0.0619 - fbeta: 0.9676 - val_loss: 0.3683 - val_fbeta: 0.8262\n",
            "Epoch 11/200\n",
            "64/64 [==============================] - 6s 94ms/step - loss: 0.0607 - fbeta: 0.9644 - val_loss: 0.3259 - val_fbeta: 0.8421\n",
            "Epoch 12/200\n",
            "64/64 [==============================] - 6s 94ms/step - loss: 0.0508 - fbeta: 0.9703 - val_loss: 0.3037 - val_fbeta: 0.8404\n",
            "Epoch 13/200\n",
            "64/64 [==============================] - 6s 95ms/step - loss: 0.0522 - fbeta: 0.9733 - val_loss: 0.3474 - val_fbeta: 0.8139\n",
            "Epoch 14/200\n",
            "64/64 [==============================] - 6s 94ms/step - loss: 0.0450 - fbeta: 0.9715 - val_loss: 0.3581 - val_fbeta: 0.8199\n",
            "Epoch 15/200\n",
            "64/64 [==============================] - 6s 94ms/step - loss: 0.0406 - fbeta: 0.9705 - val_loss: 0.3520 - val_fbeta: 0.8431\n",
            "Epoch 16/200\n",
            "64/64 [==============================] - 6s 95ms/step - loss: 0.0325 - fbeta: 0.9808 - val_loss: 0.4087 - val_fbeta: 0.8491\n",
            "Epoch 17/200\n",
            "64/64 [==============================] - 6s 96ms/step - loss: 0.0527 - fbeta: 0.9733 - val_loss: 0.4395 - val_fbeta: 0.8137\n",
            "Epoch 18/200\n",
            "64/64 [==============================] - 6s 94ms/step - loss: 0.0521 - fbeta: 0.9689 - val_loss: 0.3891 - val_fbeta: 0.8365\n",
            "Epoch 19/200\n",
            "64/64 [==============================] - 6s 94ms/step - loss: 0.0549 - fbeta: 0.9718 - val_loss: 0.4585 - val_fbeta: 0.8262\n",
            "Epoch 20/200\n",
            "64/64 [==============================] - 6s 95ms/step - loss: 0.0430 - fbeta: 0.9803 - val_loss: 0.4219 - val_fbeta: 0.8328\n",
            "Epoch 21/200\n",
            "64/64 [==============================] - 6s 95ms/step - loss: 0.0550 - fbeta: 0.9743 - val_loss: 0.4457 - val_fbeta: 0.8413\n",
            "Epoch 22/200\n",
            "64/64 [==============================] - 6s 95ms/step - loss: 0.0525 - fbeta: 0.9773 - val_loss: 0.5255 - val_fbeta: 0.8050\n",
            "Epoch 00022: early stopping\n"
          ]
        },
        {
          "output_type": "display_data",
          "data": {
            "image/png": "[encoded data removed]",
            "text/plain": [
              "<Figure size 1080x360 with 2 Axes>"
            ]
          },
          "metadata": {
            "needs_background": "light"
          }
        },
        {
          "output_type": "stream",
          "name": "stdout",
          "text": [
            "Model F-beta score :  0.8120419383049011\n"
          ]
        }
      ]
    },
    {
      "cell_type": "markdown",
      "metadata": {
        "id": "bEZtkcEMEwNq"
      },
      "source": [
        "Note : overfitting, fbeta score is lower"
      ]
    },
    {
      "cell_type": "markdown",
      "metadata": {
        "id": "q-saE58DExd1"
      },
      "source": [
        "### model 3 : Baseline model + data augmentation"
      ]
    },
    {
      "cell_type": "code",
      "metadata": {
        "colab": {
          "base_uri": "https://localhost:8080/",
          "height": 1000
        },
        "id": "y0o0sG3EEw4n",
        "outputId": "0b851d31-f854-4f3b-fc02-ea2aee9c2549"
      },
      "source": [
        "# create data generator with data augmentation\n",
        "train_gen = ImageDataGenerator(preprocessing_function=preprocess_input,\n",
        "                               rotation_range=30,\n",
        "                               width_shift_range=0.2,\n",
        "                               height_shift_range=0.2,\n",
        "                               zoom_range=0.2,\n",
        "                               horizontal_flip=True,\n",
        "                               vertical_flip=True,\n",
        "                               validation_split=0.2)\n",
        "test_gen = ImageDataGenerator(preprocessing_function=preprocess_input)\n",
        "\n",
        "batch_size = 20\n",
        "train_iter = train_gen.flow(X_train, y_train, batch_size=batch_size, subset='training', seed=123)\n",
        "val_iter = train_gen.flow(X_train, y_train, batch_size=batch_size, subset='validation', seed=123)\n",
        "test_iter = test_gen.flow(X_test, y_test, batch_size=1, shuffle=False)\n",
        "\n",
        "# create model\n",
        "\n",
        "# load VGG16 model\n",
        "model = VGG16(include_top=False, input_shape=(128,128,3))\n",
        "# mark loaded layers as not trainable\n",
        "for layer in model.layers:\n",
        "    layer.trainable = False\n",
        "# add new classifier layers\n",
        "flat1 = Flatten()(model.layers[-1].output)\n",
        "class1 = Dense(100, activation='relu', kernel_initializer='he_uniform')(flat1)\n",
        "output = Dense(5, activation='sigmoid')(class1)\n",
        "# define model\n",
        "model = Model(inputs=model.inputs, outputs=output)\n",
        "\n",
        "# compile model\n",
        "model.compile(optimizer='adam', loss='binary_crossentropy', metrics=[fbeta])\n",
        "\n",
        "# create early stopping object\n",
        "es = EarlyStopping(monitor='val_loss', mode='min', verbose=1, patience=20)\n",
        "\n",
        "# fit model\n",
        "history = model.fit(train_iter, \n",
        "                    steps_per_epoch=len(train_iter),\n",
        "                    validation_data=val_iter,\n",
        "                    validation_steps=len(val_iter), \n",
        "                    callbacks=[es],\n",
        "                    epochs=200)\n",
        "\n",
        "model3_perf = evaluate_model(history)"
      ],
      "execution_count": 20,
      "outputs": [
        {
          "output_type": "stream",
          "name": "stdout",
          "text": [
            "Epoch 1/200\n",
            "64/64 [==============================] - 10s 141ms/step - loss: 1.1480 - fbeta: 0.5766 - val_loss: 0.4468 - val_fbeta: 0.6383\n",
            "Epoch 2/200\n",
            "64/64 [==============================] - 8s 132ms/step - loss: 0.3809 - fbeta: 0.6539 - val_loss: 0.3517 - val_fbeta: 0.6571\n",
            "Epoch 3/200\n",
            "64/64 [==============================] - 9s 133ms/step - loss: 0.3115 - fbeta: 0.7162 - val_loss: 0.3461 - val_fbeta: 0.6458\n",
            "Epoch 4/200\n",
            "64/64 [==============================] - 8s 132ms/step - loss: 0.2760 - fbeta: 0.7370 - val_loss: 0.3422 - val_fbeta: 0.7234\n",
            "Epoch 5/200\n",
            "64/64 [==============================] - 9s 133ms/step - loss: 0.2552 - fbeta: 0.7590 - val_loss: 0.3148 - val_fbeta: 0.7296\n",
            "Epoch 6/200\n",
            "64/64 [==============================] - 8s 132ms/step - loss: 0.2481 - fbeta: 0.7772 - val_loss: 0.3083 - val_fbeta: 0.7097\n",
            "Epoch 7/200\n",
            "64/64 [==============================] - 8s 132ms/step - loss: 0.2252 - fbeta: 0.7951 - val_loss: 0.2931 - val_fbeta: 0.7699\n",
            "Epoch 8/200\n",
            "64/64 [==============================] - 8s 132ms/step - loss: 0.2211 - fbeta: 0.8076 - val_loss: 0.2987 - val_fbeta: 0.7364\n",
            "Epoch 9/200\n",
            "64/64 [==============================] - 8s 132ms/step - loss: 0.2023 - fbeta: 0.8139 - val_loss: 0.3083 - val_fbeta: 0.7626\n",
            "Epoch 10/200\n",
            "64/64 [==============================] - 8s 131ms/step - loss: 0.2149 - fbeta: 0.8151 - val_loss: 0.3382 - val_fbeta: 0.7100\n",
            "Epoch 11/200\n",
            "64/64 [==============================] - 8s 131ms/step - loss: 0.1921 - fbeta: 0.8331 - val_loss: 0.2865 - val_fbeta: 0.7732\n",
            "Epoch 12/200\n",
            "64/64 [==============================] - 8s 132ms/step - loss: 0.1889 - fbeta: 0.8387 - val_loss: 0.2664 - val_fbeta: 0.7675\n",
            "Epoch 13/200\n",
            "64/64 [==============================] - 9s 134ms/step - loss: 0.1877 - fbeta: 0.8373 - val_loss: 0.2601 - val_fbeta: 0.7916\n",
            "Epoch 14/200\n",
            "64/64 [==============================] - 9s 133ms/step - loss: 0.1782 - fbeta: 0.8477 - val_loss: 0.2933 - val_fbeta: 0.7624\n",
            "Epoch 15/200\n",
            "64/64 [==============================] - 9s 133ms/step - loss: 0.1661 - fbeta: 0.8583 - val_loss: 0.2984 - val_fbeta: 0.7432\n",
            "Epoch 16/200\n",
            "64/64 [==============================] - 8s 132ms/step - loss: 0.1852 - fbeta: 0.8412 - val_loss: 0.3090 - val_fbeta: 0.7430\n",
            "Epoch 17/200\n",
            "64/64 [==============================] - 9s 133ms/step - loss: 0.1819 - fbeta: 0.8549 - val_loss: 0.2844 - val_fbeta: 0.7882\n",
            "Epoch 18/200\n",
            "64/64 [==============================] - 8s 132ms/step - loss: 0.1760 - fbeta: 0.8477 - val_loss: 0.2695 - val_fbeta: 0.7628\n",
            "Epoch 19/200\n",
            "64/64 [==============================] - 9s 133ms/step - loss: 0.1600 - fbeta: 0.8620 - val_loss: 0.2822 - val_fbeta: 0.7592\n",
            "Epoch 20/200\n",
            "64/64 [==============================] - 9s 134ms/step - loss: 0.1760 - fbeta: 0.8485 - val_loss: 0.2673 - val_fbeta: 0.7838\n",
            "Epoch 21/200\n",
            "64/64 [==============================] - 9s 134ms/step - loss: 0.1491 - fbeta: 0.8779 - val_loss: 0.3106 - val_fbeta: 0.7706\n",
            "Epoch 22/200\n",
            "64/64 [==============================] - 9s 133ms/step - loss: 0.1658 - fbeta: 0.8654 - val_loss: 0.2844 - val_fbeta: 0.7821\n",
            "Epoch 23/200\n",
            "64/64 [==============================] - 9s 134ms/step - loss: 0.1634 - fbeta: 0.8602 - val_loss: 0.3028 - val_fbeta: 0.7767\n",
            "Epoch 24/200\n",
            "64/64 [==============================] - 9s 134ms/step - loss: 0.1510 - fbeta: 0.8769 - val_loss: 0.3289 - val_fbeta: 0.7930\n",
            "Epoch 25/200\n",
            "64/64 [==============================] - 9s 133ms/step - loss: 0.1514 - fbeta: 0.8746 - val_loss: 0.2811 - val_fbeta: 0.7910\n",
            "Epoch 26/200\n",
            "64/64 [==============================] - 8s 132ms/step - loss: 0.1456 - fbeta: 0.8808 - val_loss: 0.2994 - val_fbeta: 0.7612\n",
            "Epoch 27/200\n",
            "64/64 [==============================] - 9s 134ms/step - loss: 0.1545 - fbeta: 0.8741 - val_loss: 0.3167 - val_fbeta: 0.7585\n",
            "Epoch 28/200\n",
            "64/64 [==============================] - 9s 133ms/step - loss: 0.1396 - fbeta: 0.8814 - val_loss: 0.3101 - val_fbeta: 0.7708\n",
            "Epoch 29/200\n",
            "64/64 [==============================] - 9s 133ms/step - loss: 0.1407 - fbeta: 0.8821 - val_loss: 0.3181 - val_fbeta: 0.7765\n",
            "Epoch 30/200\n",
            "64/64 [==============================] - 9s 133ms/step - loss: 0.1401 - fbeta: 0.8901 - val_loss: 0.3181 - val_fbeta: 0.7411\n",
            "Epoch 31/200\n",
            "64/64 [==============================] - 9s 147ms/step - loss: 0.1523 - fbeta: 0.8730 - val_loss: 0.3247 - val_fbeta: 0.7683\n",
            "Epoch 32/200\n",
            "64/64 [==============================] - 9s 134ms/step - loss: 0.1446 - fbeta: 0.8806 - val_loss: 0.2628 - val_fbeta: 0.7850\n",
            "Epoch 33/200\n",
            "64/64 [==============================] - 8s 131ms/step - loss: 0.1390 - fbeta: 0.8870 - val_loss: 0.3020 - val_fbeta: 0.7737\n",
            "Epoch 00033: early stopping\n"
          ]
        },
        {
          "output_type": "display_data",
          "data": {
            "image/png": "[encoded data removed]",
            "text/plain": [
              "<Figure size 1080x360 with 2 Axes>"
            ]
          },
          "metadata": {
            "needs_background": "light"
          }
        },
        {
          "output_type": "stream",
          "name": "stdout",
          "text": [
            "Model F-beta score :  0.8327091336250305\n"
          ]
        }
      ]
    },
    {
      "cell_type": "markdown",
      "metadata": {
        "id": "9qGPZwgvF2f_"
      },
      "source": [
        "Note : overfitting is reduced, fbeta score is high"
      ]
    },
    {
      "cell_type": "markdown",
      "metadata": {
        "id": "KGG4AlngF3uA"
      },
      "source": [
        "### model 4 : Baseline model + data augmentation + dropout layers"
      ]
    },
    {
      "cell_type": "code",
      "metadata": {
        "colab": {
          "base_uri": "https://localhost:8080/",
          "height": 1000
        },
        "id": "-gJTY-PYF8gP",
        "outputId": "08fd7cd4-9491-4471-b423-97d06b7b60a8"
      },
      "source": [
        "# create data generator with data augmentation\n",
        "train_gen = ImageDataGenerator(preprocessing_function=preprocess_input,\n",
        "                               rotation_range=30,\n",
        "                               width_shift_range=0.2,\n",
        "                               height_shift_range=0.2,\n",
        "                               zoom_range=0.2,\n",
        "                               horizontal_flip=True,\n",
        "                               vertical_flip=True,\n",
        "                               validation_split=0.2)\n",
        "test_gen = ImageDataGenerator(preprocessing_function=preprocess_input)\n",
        "\n",
        "batch_size = 20\n",
        "train_iter = train_gen.flow(X_train, y_train, batch_size=batch_size, subset='training', seed=123)\n",
        "val_iter = train_gen.flow(X_train, y_train, batch_size=batch_size, subset='validation', seed=123)\n",
        "test_iter = test_gen.flow(X_test, y_test, batch_size=1, shuffle=False)\n",
        "\n",
        "# create model\n",
        "\n",
        "# load VGG16 model\n",
        "model = VGG16(include_top=False, input_shape=(128,128,3))\n",
        "# mark loaded layers as not trainable\n",
        "for layer in model.layers:\n",
        "    layer.trainable = False\n",
        "# add new classifier layers\n",
        "dropout1 = Dropout(0.2)(model.layers[-1].output)\n",
        "flat1 = Flatten()(dropout1)\n",
        "class1 = Dense(100, activation='relu', kernel_initializer='he_uniform')(flat1)\n",
        "dropout2 = Dropout(0.2)(class1)\n",
        "output = Dense(5, activation='sigmoid')(dropout2)\n",
        "# define model\n",
        "model = Model(inputs=model.inputs, outputs=output)\n",
        "\n",
        "# compile model\n",
        "model.compile(optimizer='adam', loss='binary_crossentropy', metrics=[fbeta])\n",
        "\n",
        "# create early stopping object\n",
        "es = EarlyStopping(monitor='val_loss', mode='min', verbose=1, patience=20)\n",
        "\n",
        "# fit model\n",
        "history = model.fit(train_iter, \n",
        "                    steps_per_epoch=len(train_iter),\n",
        "                    validation_data=val_iter,\n",
        "                    validation_steps=len(val_iter), \n",
        "                    callbacks=[es],\n",
        "                    epochs=200)\n",
        "\n",
        "model4_perf = evaluate_model(history)"
      ],
      "execution_count": 21,
      "outputs": [
        {
          "output_type": "stream",
          "name": "stdout",
          "text": [
            "Epoch 1/200\n",
            "64/64 [==============================] - 10s 140ms/step - loss: 1.3553 - fbeta: 0.4892 - val_loss: 0.4463 - val_fbeta: 0.5728\n",
            "Epoch 2/200\n",
            "64/64 [==============================] - 9s 134ms/step - loss: 0.4528 - fbeta: 0.5496 - val_loss: 0.3926 - val_fbeta: 0.6172\n",
            "Epoch 3/200\n",
            "64/64 [==============================] - 9s 140ms/step - loss: 0.4194 - fbeta: 0.5564 - val_loss: 0.3851 - val_fbeta: 0.5847\n",
            "Epoch 4/200\n",
            "64/64 [==============================] - 9s 137ms/step - loss: 0.3741 - fbeta: 0.6121 - val_loss: 0.3762 - val_fbeta: 0.6019\n",
            "Epoch 5/200\n",
            "64/64 [==============================] - 9s 136ms/step - loss: 0.3473 - fbeta: 0.6549 - val_loss: 0.3652 - val_fbeta: 0.6934\n",
            "Epoch 6/200\n",
            "64/64 [==============================] - 9s 135ms/step - loss: 0.3246 - fbeta: 0.6862 - val_loss: 0.3418 - val_fbeta: 0.6305\n",
            "Epoch 7/200\n",
            "64/64 [==============================] - 9s 138ms/step - loss: 0.3026 - fbeta: 0.7124 - val_loss: 0.3355 - val_fbeta: 0.6828\n",
            "Epoch 8/200\n",
            "64/64 [==============================] - 9s 136ms/step - loss: 0.3013 - fbeta: 0.7053 - val_loss: 0.3327 - val_fbeta: 0.6840\n",
            "Epoch 9/200\n",
            "64/64 [==============================] - 9s 136ms/step - loss: 0.3013 - fbeta: 0.6966 - val_loss: 0.3218 - val_fbeta: 0.7217\n",
            "Epoch 10/200\n",
            "64/64 [==============================] - 9s 136ms/step - loss: 0.2828 - fbeta: 0.7220 - val_loss: 0.3665 - val_fbeta: 0.6991\n",
            "Epoch 11/200\n",
            "64/64 [==============================] - 9s 134ms/step - loss: 0.2778 - fbeta: 0.7378 - val_loss: 0.3025 - val_fbeta: 0.7524\n",
            "Epoch 12/200\n",
            "64/64 [==============================] - 8s 132ms/step - loss: 0.2757 - fbeta: 0.7258 - val_loss: 0.3002 - val_fbeta: 0.7430\n",
            "Epoch 13/200\n",
            "64/64 [==============================] - 9s 133ms/step - loss: 0.2728 - fbeta: 0.7326 - val_loss: 0.2932 - val_fbeta: 0.7072\n",
            "Epoch 14/200\n",
            "64/64 [==============================] - 9s 134ms/step - loss: 0.2491 - fbeta: 0.7337 - val_loss: 0.2883 - val_fbeta: 0.7099\n",
            "Epoch 15/200\n",
            "64/64 [==============================] - 9s 134ms/step - loss: 0.2657 - fbeta: 0.7240 - val_loss: 0.2695 - val_fbeta: 0.7370\n",
            "Epoch 16/200\n",
            "64/64 [==============================] - 9s 134ms/step - loss: 0.2464 - fbeta: 0.7521 - val_loss: 0.2750 - val_fbeta: 0.7008\n",
            "Epoch 17/200\n",
            "64/64 [==============================] - 8s 132ms/step - loss: 0.2433 - fbeta: 0.7666 - val_loss: 0.3002 - val_fbeta: 0.7262\n",
            "Epoch 18/200\n",
            "64/64 [==============================] - 9s 134ms/step - loss: 0.2392 - fbeta: 0.7597 - val_loss: 0.2696 - val_fbeta: 0.7383\n",
            "Epoch 19/200\n",
            "64/64 [==============================] - 9s 133ms/step - loss: 0.2346 - fbeta: 0.7635 - val_loss: 0.2900 - val_fbeta: 0.7378\n",
            "Epoch 20/200\n",
            "64/64 [==============================] - 9s 134ms/step - loss: 0.2403 - fbeta: 0.7573 - val_loss: 0.2524 - val_fbeta: 0.7722\n",
            "Epoch 21/200\n",
            "64/64 [==============================] - 9s 133ms/step - loss: 0.2417 - fbeta: 0.7489 - val_loss: 0.2869 - val_fbeta: 0.7725\n",
            "Epoch 22/200\n",
            "64/64 [==============================] - 9s 134ms/step - loss: 0.2406 - fbeta: 0.7550 - val_loss: 0.2824 - val_fbeta: 0.7307\n",
            "Epoch 23/200\n",
            "64/64 [==============================] - 9s 134ms/step - loss: 0.2281 - fbeta: 0.7531 - val_loss: 0.2615 - val_fbeta: 0.7430\n",
            "Epoch 24/200\n",
            "64/64 [==============================] - 9s 133ms/step - loss: 0.2287 - fbeta: 0.7671 - val_loss: 0.2876 - val_fbeta: 0.7871\n",
            "Epoch 25/200\n",
            "64/64 [==============================] - 9s 133ms/step - loss: 0.2201 - fbeta: 0.7904 - val_loss: 0.2372 - val_fbeta: 0.7809\n",
            "Epoch 26/200\n",
            "64/64 [==============================] - 8s 132ms/step - loss: 0.2306 - fbeta: 0.7665 - val_loss: 0.2838 - val_fbeta: 0.7382\n",
            "Epoch 27/200\n",
            "64/64 [==============================] - 8s 132ms/step - loss: 0.2263 - fbeta: 0.7748 - val_loss: 0.2797 - val_fbeta: 0.7444\n",
            "Epoch 28/200\n",
            "64/64 [==============================] - 9s 133ms/step - loss: 0.2133 - fbeta: 0.7854 - val_loss: 0.2648 - val_fbeta: 0.7590\n",
            "Epoch 29/200\n",
            "64/64 [==============================] - 9s 133ms/step - loss: 0.2081 - fbeta: 0.7792 - val_loss: 0.2862 - val_fbeta: 0.7427\n",
            "Epoch 30/200\n",
            "64/64 [==============================] - 9s 133ms/step - loss: 0.2077 - fbeta: 0.7912 - val_loss: 0.2801 - val_fbeta: 0.7588\n",
            "Epoch 31/200\n",
            "64/64 [==============================] - 9s 133ms/step - loss: 0.2142 - fbeta: 0.7885 - val_loss: 0.2952 - val_fbeta: 0.7451\n",
            "Epoch 32/200\n",
            "64/64 [==============================] - 9s 133ms/step - loss: 0.2027 - fbeta: 0.7964 - val_loss: 0.2711 - val_fbeta: 0.7507\n",
            "Epoch 33/200\n",
            "64/64 [==============================] - 9s 134ms/step - loss: 0.2151 - fbeta: 0.7942 - val_loss: 0.2781 - val_fbeta: 0.7578\n",
            "Epoch 34/200\n",
            "64/64 [==============================] - 9s 134ms/step - loss: 0.1948 - fbeta: 0.7998 - val_loss: 0.2858 - val_fbeta: 0.7628\n",
            "Epoch 35/200\n",
            "64/64 [==============================] - 9s 134ms/step - loss: 0.2076 - fbeta: 0.7945 - val_loss: 0.2593 - val_fbeta: 0.7760\n",
            "Epoch 36/200\n",
            "64/64 [==============================] - 9s 134ms/step - loss: 0.2165 - fbeta: 0.7779 - val_loss: 0.2601 - val_fbeta: 0.7401\n",
            "Epoch 37/200\n",
            "64/64 [==============================] - 9s 134ms/step - loss: 0.1849 - fbeta: 0.8053 - val_loss: 0.2803 - val_fbeta: 0.7609\n",
            "Epoch 38/200\n",
            "64/64 [==============================] - 9s 134ms/step - loss: 0.1907 - fbeta: 0.8247 - val_loss: 0.2592 - val_fbeta: 0.7701\n",
            "Epoch 39/200\n",
            "64/64 [==============================] - 9s 135ms/step - loss: 0.1962 - fbeta: 0.8059 - val_loss: 0.2828 - val_fbeta: 0.7677\n",
            "Epoch 40/200\n",
            "64/64 [==============================] - 9s 133ms/step - loss: 0.1954 - fbeta: 0.8034 - val_loss: 0.2853 - val_fbeta: 0.7251\n",
            "Epoch 41/200\n",
            "64/64 [==============================] - 9s 134ms/step - loss: 0.2090 - fbeta: 0.7942 - val_loss: 0.2616 - val_fbeta: 0.7684\n",
            "Epoch 42/200\n",
            "64/64 [==============================] - 9s 134ms/step - loss: 0.2086 - fbeta: 0.7873 - val_loss: 0.2501 - val_fbeta: 0.7774\n",
            "Epoch 43/200\n",
            "64/64 [==============================] - 9s 133ms/step - loss: 0.1964 - fbeta: 0.8085 - val_loss: 0.2685 - val_fbeta: 0.7691\n",
            "Epoch 44/200\n",
            "64/64 [==============================] - 9s 134ms/step - loss: 0.1983 - fbeta: 0.8011 - val_loss: 0.3026 - val_fbeta: 0.7220\n",
            "Epoch 45/200\n",
            "64/64 [==============================] - 9s 136ms/step - loss: 0.1869 - fbeta: 0.8215 - val_loss: 0.2702 - val_fbeta: 0.7732\n",
            "Epoch 00045: early stopping\n"
          ]
        },
        {
          "output_type": "display_data",
          "data": {
            "image/png": "[encoded data removed]",
            "text/plain": [
              "<Figure size 1080x360 with 2 Axes>"
            ]
          },
          "metadata": {
            "needs_background": "light"
          }
        },
        {
          "output_type": "stream",
          "name": "stdout",
          "text": [
            "Model F-beta score :  0.8210804462432861\n"
          ]
        }
      ]
    },
    {
      "cell_type": "markdown",
      "metadata": {
        "id": "Uf4K-qoAH5k0"
      },
      "source": [
        "Note : overfitting is reduced but get increase again in later epochs."
      ]
    },
    {
      "cell_type": "markdown",
      "metadata": {
        "id": "m82hxifMH7Ny"
      },
      "source": [
        "### model 5 : Baseline model + data augmentation + dropout layers + more dense layers"
      ]
    },
    {
      "cell_type": "code",
      "metadata": {
        "colab": {
          "base_uri": "https://localhost:8080/",
          "height": 1000
        },
        "id": "sBPwajb1LzF_",
        "outputId": "4832a1bd-20cc-437d-9e41-2f4b0830614f"
      },
      "source": [
        "# create data generator with data augmentation\n",
        "train_gen = ImageDataGenerator(preprocessing_function=preprocess_input,\n",
        "                               rotation_range=30,\n",
        "                               width_shift_range=0.2,\n",
        "                               height_shift_range=0.2,\n",
        "                               zoom_range=0.2,\n",
        "                               horizontal_flip=True,\n",
        "                               vertical_flip=True,\n",
        "                               validation_split=0.2)\n",
        "test_gen = ImageDataGenerator(preprocessing_function=preprocess_input)\n",
        "\n",
        "batch_size = 20\n",
        "train_iter = train_gen.flow(X_train, y_train, batch_size=batch_size, subset='training', seed=123)\n",
        "val_iter = train_gen.flow(X_train, y_train, batch_size=batch_size, subset='validation', seed=123)\n",
        "test_iter = test_gen.flow(X_test, y_test, batch_size=1, shuffle=False)\n",
        "\n",
        "# create model\n",
        "\n",
        "# load VGG16 model\n",
        "model = VGG16(include_top=False, input_shape=(128,128,3))\n",
        "# mark loaded layers as not trainable\n",
        "for layer in model.layers:\n",
        "    layer.trainable = False\n",
        "# add new classifier layers\n",
        "dropout1 = Dropout(0.2)(model.layers[-1].output)\n",
        "flat1 = Flatten()(dropout1)\n",
        "class1 = Dense(200, activation='relu', kernel_initializer='he_uniform')(flat1)\n",
        "dropout2 = Dropout(0.3)(class1)\n",
        "class2 = Dense(100, activation='relu', kernel_initializer='he_uniform')(dropout2)\n",
        "dropout3 = Dropout(0.3)(class2)\n",
        "output = Dense(5, activation='sigmoid')(dropout3)\n",
        "# define model\n",
        "model = Model(inputs=model.inputs, outputs=output)\n",
        "\n",
        "# compile model\n",
        "model.compile(optimizer='adam', loss='binary_crossentropy', metrics=[fbeta])\n",
        "\n",
        "# create early stopping object\n",
        "es = EarlyStopping(monitor='val_loss', mode='min', verbose=1, patience=20)\n",
        "\n",
        "# fit model\n",
        "history = model.fit(train_iter, \n",
        "                    steps_per_epoch=len(train_iter),\n",
        "                    validation_data=val_iter,\n",
        "                    validation_steps=len(val_iter), \n",
        "                    callbacks=[es],\n",
        "                    epochs=200)\n",
        "\n",
        "model5_perf = evaluate_model(history)"
      ],
      "execution_count": 22,
      "outputs": [
        {
          "output_type": "stream",
          "name": "stdout",
          "text": [
            "Epoch 1/200\n",
            "64/64 [==============================] - 10s 139ms/step - loss: 2.2971 - fbeta: 0.4190 - val_loss: 0.5338 - val_fbeta: 0.5397\n",
            "Epoch 2/200\n",
            "64/64 [==============================] - 9s 133ms/step - loss: 0.7437 - fbeta: 0.4914 - val_loss: 0.4238 - val_fbeta: 0.5574\n",
            "Epoch 3/200\n",
            "64/64 [==============================] - 9s 134ms/step - loss: 0.5446 - fbeta: 0.4426 - val_loss: 0.4335 - val_fbeta: 0.4477\n",
            "Epoch 4/200\n",
            "64/64 [==============================] - 9s 133ms/step - loss: 0.5032 - fbeta: 0.4198 - val_loss: 0.3867 - val_fbeta: 0.5576\n",
            "Epoch 5/200\n",
            "64/64 [==============================] - 9s 133ms/step - loss: 0.4880 - fbeta: 0.4374 - val_loss: 0.3898 - val_fbeta: 0.5675\n",
            "Epoch 6/200\n",
            "64/64 [==============================] - 9s 134ms/step - loss: 0.4709 - fbeta: 0.4648 - val_loss: 0.3706 - val_fbeta: 0.5111\n",
            "Epoch 7/200\n",
            "64/64 [==============================] - 9s 134ms/step - loss: 0.4559 - fbeta: 0.4466 - val_loss: 0.3776 - val_fbeta: 0.4677\n",
            "Epoch 8/200\n",
            "64/64 [==============================] - 9s 134ms/step - loss: 0.4171 - fbeta: 0.4802 - val_loss: 0.3664 - val_fbeta: 0.5003\n",
            "Epoch 9/200\n",
            "64/64 [==============================] - 9s 133ms/step - loss: 0.4171 - fbeta: 0.4323 - val_loss: 0.3715 - val_fbeta: 0.5085\n",
            "Epoch 10/200\n",
            "64/64 [==============================] - 9s 134ms/step - loss: 0.4058 - fbeta: 0.4632 - val_loss: 0.3838 - val_fbeta: 0.4738\n",
            "Epoch 11/200\n",
            "64/64 [==============================] - 9s 134ms/step - loss: 0.4010 - fbeta: 0.4427 - val_loss: 0.3765 - val_fbeta: 0.5357\n",
            "Epoch 12/200\n",
            "64/64 [==============================] - 9s 134ms/step - loss: 0.3916 - fbeta: 0.4757 - val_loss: 0.3731 - val_fbeta: 0.4941\n",
            "Epoch 13/200\n",
            "64/64 [==============================] - 9s 133ms/step - loss: 0.3716 - fbeta: 0.4990 - val_loss: 0.3797 - val_fbeta: 0.4745\n",
            "Epoch 14/200\n",
            "64/64 [==============================] - 9s 134ms/step - loss: 0.3874 - fbeta: 0.5122 - val_loss: 0.3444 - val_fbeta: 0.5033\n",
            "Epoch 15/200\n",
            "64/64 [==============================] - 9s 133ms/step - loss: 0.3629 - fbeta: 0.5394 - val_loss: 0.3226 - val_fbeta: 0.5831\n",
            "Epoch 16/200\n",
            "64/64 [==============================] - 9s 133ms/step - loss: 0.3742 - fbeta: 0.5168 - val_loss: 0.3607 - val_fbeta: 0.5680\n",
            "Epoch 17/200\n",
            "64/64 [==============================] - 9s 134ms/step - loss: 0.3527 - fbeta: 0.5421 - val_loss: 0.3608 - val_fbeta: 0.5199\n",
            "Epoch 18/200\n",
            "64/64 [==============================] - 9s 133ms/step - loss: 0.3617 - fbeta: 0.5302 - val_loss: 0.3554 - val_fbeta: 0.6014\n",
            "Epoch 19/200\n",
            "64/64 [==============================] - 9s 133ms/step - loss: 0.3673 - fbeta: 0.5833 - val_loss: 0.3357 - val_fbeta: 0.6149\n",
            "Epoch 20/200\n",
            "64/64 [==============================] - 9s 133ms/step - loss: 0.3393 - fbeta: 0.5745 - val_loss: 0.3083 - val_fbeta: 0.6432\n",
            "Epoch 21/200\n",
            "64/64 [==============================] - 9s 133ms/step - loss: 0.3463 - fbeta: 0.5535 - val_loss: 0.3581 - val_fbeta: 0.5606\n",
            "Epoch 22/200\n",
            "64/64 [==============================] - 9s 133ms/step - loss: 0.3363 - fbeta: 0.5813 - val_loss: 0.3512 - val_fbeta: 0.5413\n",
            "Epoch 23/200\n",
            "64/64 [==============================] - 9s 133ms/step - loss: 0.3232 - fbeta: 0.5997 - val_loss: 0.3252 - val_fbeta: 0.5967\n",
            "Epoch 24/200\n",
            "64/64 [==============================] - 9s 133ms/step - loss: 0.3404 - fbeta: 0.5485 - val_loss: 0.2895 - val_fbeta: 0.6428\n",
            "Epoch 25/200\n",
            "64/64 [==============================] - 9s 134ms/step - loss: 0.3153 - fbeta: 0.6214 - val_loss: 0.3083 - val_fbeta: 0.6363\n",
            "Epoch 26/200\n",
            "64/64 [==============================] - 9s 135ms/step - loss: 0.3031 - fbeta: 0.6241 - val_loss: 0.3274 - val_fbeta: 0.6222\n",
            "Epoch 27/200\n",
            "64/64 [==============================] - 9s 136ms/step - loss: 0.3044 - fbeta: 0.6168 - val_loss: 0.2929 - val_fbeta: 0.6678\n",
            "Epoch 28/200\n",
            "64/64 [==============================] - 9s 135ms/step - loss: 0.2969 - fbeta: 0.6659 - val_loss: 0.3004 - val_fbeta: 0.6685\n",
            "Epoch 29/200\n",
            "64/64 [==============================] - 9s 134ms/step - loss: 0.2937 - fbeta: 0.6427 - val_loss: 0.3290 - val_fbeta: 0.6366\n",
            "Epoch 30/200\n",
            "64/64 [==============================] - 9s 135ms/step - loss: 0.2849 - fbeta: 0.6581 - val_loss: 0.2952 - val_fbeta: 0.6889\n",
            "Epoch 31/200\n",
            "64/64 [==============================] - 9s 134ms/step - loss: 0.2987 - fbeta: 0.6417 - val_loss: 0.2997 - val_fbeta: 0.6550\n",
            "Epoch 32/200\n",
            "64/64 [==============================] - 9s 134ms/step - loss: 0.2963 - fbeta: 0.6464 - val_loss: 0.2877 - val_fbeta: 0.6810\n",
            "Epoch 33/200\n",
            "64/64 [==============================] - 9s 135ms/step - loss: 0.2927 - fbeta: 0.6711 - val_loss: 0.3015 - val_fbeta: 0.7004\n",
            "Epoch 34/200\n",
            "64/64 [==============================] - 9s 134ms/step - loss: 0.2872 - fbeta: 0.6762 - val_loss: 0.2861 - val_fbeta: 0.6788\n",
            "Epoch 35/200\n",
            "64/64 [==============================] - 9s 135ms/step - loss: 0.2682 - fbeta: 0.6775 - val_loss: 0.2593 - val_fbeta: 0.7083\n",
            "Epoch 36/200\n",
            "64/64 [==============================] - 9s 134ms/step - loss: 0.2633 - fbeta: 0.7158 - val_loss: 0.2734 - val_fbeta: 0.6760\n",
            "Epoch 37/200\n",
            "64/64 [==============================] - 9s 135ms/step - loss: 0.2651 - fbeta: 0.7017 - val_loss: 0.2945 - val_fbeta: 0.6901\n",
            "Epoch 38/200\n",
            "64/64 [==============================] - 9s 135ms/step - loss: 0.2607 - fbeta: 0.7023 - val_loss: 0.2734 - val_fbeta: 0.7104\n",
            "Epoch 39/200\n",
            "64/64 [==============================] - 9s 134ms/step - loss: 0.2700 - fbeta: 0.7051 - val_loss: 0.3037 - val_fbeta: 0.6590\n",
            "Epoch 40/200\n",
            "64/64 [==============================] - 9s 135ms/step - loss: 0.2606 - fbeta: 0.6894 - val_loss: 0.3161 - val_fbeta: 0.6477\n",
            "Epoch 41/200\n",
            "64/64 [==============================] - 9s 136ms/step - loss: 0.2546 - fbeta: 0.7089 - val_loss: 0.2930 - val_fbeta: 0.7175\n",
            "Epoch 42/200\n",
            "64/64 [==============================] - 9s 134ms/step - loss: 0.2594 - fbeta: 0.7140 - val_loss: 0.2937 - val_fbeta: 0.6639\n",
            "Epoch 43/200\n",
            "64/64 [==============================] - 9s 135ms/step - loss: 0.2557 - fbeta: 0.6973 - val_loss: 0.2827 - val_fbeta: 0.6861\n",
            "Epoch 44/200\n",
            "64/64 [==============================] - 9s 135ms/step - loss: 0.2527 - fbeta: 0.7240 - val_loss: 0.2703 - val_fbeta: 0.7020\n",
            "Epoch 45/200\n",
            "64/64 [==============================] - 9s 135ms/step - loss: 0.2358 - fbeta: 0.7367 - val_loss: 0.2584 - val_fbeta: 0.7392\n",
            "Epoch 46/200\n",
            "64/64 [==============================] - 9s 135ms/step - loss: 0.2608 - fbeta: 0.7202 - val_loss: 0.2898 - val_fbeta: 0.7206\n",
            "Epoch 47/200\n",
            "64/64 [==============================] - 9s 134ms/step - loss: 0.2362 - fbeta: 0.7366 - val_loss: 0.2842 - val_fbeta: 0.7218\n",
            "Epoch 48/200\n",
            "64/64 [==============================] - 9s 136ms/step - loss: 0.2368 - fbeta: 0.7502 - val_loss: 0.2801 - val_fbeta: 0.7375\n",
            "Epoch 49/200\n",
            "64/64 [==============================] - 9s 134ms/step - loss: 0.2424 - fbeta: 0.7427 - val_loss: 0.2786 - val_fbeta: 0.7250\n",
            "Epoch 50/200\n",
            "64/64 [==============================] - 9s 136ms/step - loss: 0.2524 - fbeta: 0.7304 - val_loss: 0.2543 - val_fbeta: 0.7366\n",
            "Epoch 51/200\n",
            "64/64 [==============================] - 9s 135ms/step - loss: 0.2348 - fbeta: 0.7434 - val_loss: 0.2801 - val_fbeta: 0.7397\n",
            "Epoch 52/200\n",
            "64/64 [==============================] - 9s 136ms/step - loss: 0.2358 - fbeta: 0.7449 - val_loss: 0.2750 - val_fbeta: 0.7199\n",
            "Epoch 53/200\n",
            "64/64 [==============================] - 9s 136ms/step - loss: 0.2377 - fbeta: 0.7433 - val_loss: 0.2790 - val_fbeta: 0.7259\n",
            "Epoch 54/200\n",
            "64/64 [==============================] - 9s 135ms/step - loss: 0.2353 - fbeta: 0.7481 - val_loss: 0.2752 - val_fbeta: 0.7175\n",
            "Epoch 55/200\n",
            "64/64 [==============================] - 9s 136ms/step - loss: 0.2403 - fbeta: 0.7273 - val_loss: 0.2748 - val_fbeta: 0.7140\n",
            "Epoch 56/200\n",
            "64/64 [==============================] - 9s 135ms/step - loss: 0.2358 - fbeta: 0.7450 - val_loss: 0.2718 - val_fbeta: 0.7430\n",
            "Epoch 57/200\n",
            "64/64 [==============================] - 9s 135ms/step - loss: 0.2260 - fbeta: 0.7518 - val_loss: 0.2651 - val_fbeta: 0.7326\n",
            "Epoch 58/200\n",
            "64/64 [==============================] - 9s 136ms/step - loss: 0.2234 - fbeta: 0.7545 - val_loss: 0.2746 - val_fbeta: 0.7300\n",
            "Epoch 59/200\n",
            "64/64 [==============================] - 9s 136ms/step - loss: 0.2427 - fbeta: 0.7689 - val_loss: 0.2812 - val_fbeta: 0.7260\n",
            "Epoch 60/200\n",
            "64/64 [==============================] - 9s 136ms/step - loss: 0.2300 - fbeta: 0.7435 - val_loss: 0.2589 - val_fbeta: 0.7634\n",
            "Epoch 61/200\n",
            "64/64 [==============================] - 9s 136ms/step - loss: 0.2148 - fbeta: 0.7761 - val_loss: 0.2779 - val_fbeta: 0.7317\n",
            "Epoch 62/200\n",
            "64/64 [==============================] - 9s 137ms/step - loss: 0.2214 - fbeta: 0.7722 - val_loss: 0.2836 - val_fbeta: 0.7058\n",
            "Epoch 63/200\n",
            "64/64 [==============================] - 9s 136ms/step - loss: 0.2131 - fbeta: 0.7757 - val_loss: 0.2883 - val_fbeta: 0.7534\n",
            "Epoch 64/200\n",
            "64/64 [==============================] - 9s 136ms/step - loss: 0.2257 - fbeta: 0.7703 - val_loss: 0.2516 - val_fbeta: 0.7368\n",
            "Epoch 65/200\n",
            "64/64 [==============================] - 9s 135ms/step - loss: 0.2313 - fbeta: 0.7412 - val_loss: 0.2753 - val_fbeta: 0.7470\n",
            "Epoch 66/200\n",
            "64/64 [==============================] - 9s 136ms/step - loss: 0.2255 - fbeta: 0.7565 - val_loss: 0.2431 - val_fbeta: 0.7349\n",
            "Epoch 67/200\n",
            "64/64 [==============================] - 9s 136ms/step - loss: 0.2138 - fbeta: 0.7620 - val_loss: 0.2695 - val_fbeta: 0.7522\n",
            "Epoch 68/200\n",
            "64/64 [==============================] - 9s 136ms/step - loss: 0.2189 - fbeta: 0.7614 - val_loss: 0.2655 - val_fbeta: 0.7576\n",
            "Epoch 69/200\n",
            "64/64 [==============================] - 9s 136ms/step - loss: 0.2152 - fbeta: 0.7700 - val_loss: 0.2636 - val_fbeta: 0.7303\n",
            "Epoch 70/200\n",
            "64/64 [==============================] - 9s 136ms/step - loss: 0.2060 - fbeta: 0.7818 - val_loss: 0.2661 - val_fbeta: 0.7546\n",
            "Epoch 71/200\n",
            "64/64 [==============================] - 9s 137ms/step - loss: 0.2136 - fbeta: 0.7723 - val_loss: 0.2630 - val_fbeta: 0.7479\n",
            "Epoch 72/200\n",
            "64/64 [==============================] - 9s 136ms/step - loss: 0.2194 - fbeta: 0.7734 - val_loss: 0.2732 - val_fbeta: 0.7195\n",
            "Epoch 73/200\n",
            "64/64 [==============================] - 9s 136ms/step - loss: 0.2225 - fbeta: 0.7902 - val_loss: 0.2852 - val_fbeta: 0.7298\n",
            "Epoch 74/200\n",
            "64/64 [==============================] - 9s 136ms/step - loss: 0.2200 - fbeta: 0.7712 - val_loss: 0.2718 - val_fbeta: 0.7420\n",
            "Epoch 75/200\n",
            "64/64 [==============================] - 9s 137ms/step - loss: 0.2085 - fbeta: 0.7778 - val_loss: 0.2448 - val_fbeta: 0.7505\n",
            "Epoch 76/200\n",
            "64/64 [==============================] - 9s 136ms/step - loss: 0.2021 - fbeta: 0.7897 - val_loss: 0.2662 - val_fbeta: 0.7359\n",
            "Epoch 77/200\n",
            "64/64 [==============================] - 9s 135ms/step - loss: 0.2090 - fbeta: 0.7731 - val_loss: 0.2676 - val_fbeta: 0.7767\n",
            "Epoch 78/200\n",
            "64/64 [==============================] - 9s 136ms/step - loss: 0.2035 - fbeta: 0.7820 - val_loss: 0.2814 - val_fbeta: 0.7446\n",
            "Epoch 79/200\n",
            "64/64 [==============================] - 9s 137ms/step - loss: 0.2198 - fbeta: 0.7574 - val_loss: 0.2758 - val_fbeta: 0.7415\n",
            "Epoch 80/200\n",
            "64/64 [==============================] - 9s 136ms/step - loss: 0.2271 - fbeta: 0.7740 - val_loss: 0.2530 - val_fbeta: 0.7319\n",
            "Epoch 81/200\n",
            "64/64 [==============================] - 9s 136ms/step - loss: 0.2043 - fbeta: 0.7919 - val_loss: 0.2651 - val_fbeta: 0.7225\n",
            "Epoch 82/200\n",
            "64/64 [==============================] - 9s 136ms/step - loss: 0.2128 - fbeta: 0.7795 - val_loss: 0.2729 - val_fbeta: 0.7286\n",
            "Epoch 83/200\n",
            "64/64 [==============================] - 9s 137ms/step - loss: 0.2100 - fbeta: 0.7973 - val_loss: 0.2702 - val_fbeta: 0.7530\n",
            "Epoch 84/200\n",
            "64/64 [==============================] - 9s 136ms/step - loss: 0.2048 - fbeta: 0.7939 - val_loss: 0.2432 - val_fbeta: 0.7856\n",
            "Epoch 85/200\n",
            "64/64 [==============================] - 9s 136ms/step - loss: 0.2026 - fbeta: 0.7885 - val_loss: 0.2754 - val_fbeta: 0.7536\n",
            "Epoch 86/200\n",
            "64/64 [==============================] - 9s 136ms/step - loss: 0.1994 - fbeta: 0.7913 - val_loss: 0.2795 - val_fbeta: 0.7543\n",
            "Epoch 00086: early stopping\n"
          ]
        },
        {
          "output_type": "display_data",
          "data": {
            "image/png": "[encoded data removed]",
            "text/plain": [
              "<Figure size 1080x360 with 2 Axes>"
            ]
          },
          "metadata": {
            "needs_background": "light"
          }
        },
        {
          "output_type": "stream",
          "name": "stdout",
          "text": [
            "Model F-beta score :  0.8138582706451416\n"
          ]
        }
      ]
    },
    {
      "cell_type": "markdown",
      "metadata": {
        "id": "0NfLpGGWLuNA"
      },
      "source": [
        "Note : overfitting is reduced"
      ]
    },
    {
      "cell_type": "code",
      "metadata": {
        "colab": {
          "base_uri": "https://localhost:8080/"
        },
        "id": "qpjb5o8GNVb3",
        "outputId": "16dba7c1-a25b-4b58-a491-6112f62bedad"
      },
      "source": [
        "print('Baseline model : ', baseline_perf)\n",
        "print('Model 1 : ', model1_perf)\n",
        "print('Model 2 : ', model2_perf)\n",
        "print('Model 3 : ', model3_perf)\n",
        "print('Model 4 : ', model4_perf)\n",
        "print('Model 5 : ', model5_perf)"
      ],
      "execution_count": 23,
      "outputs": [
        {
          "output_type": "stream",
          "name": "stdout",
          "text": [
            "Baseline model :  0.8260606527328491\n",
            "Model 1 :  0.0\n",
            "Model 2 :  0.8120419383049011\n",
            "Model 3 :  0.8327091336250305\n",
            "Model 4 :  0.8210804462432861\n",
            "Model 5 :  0.8138582706451416\n"
          ]
        }
      ]
    },
    {
      "cell_type": "markdown",
      "metadata": {
        "id": "WuuyOVxua6nE"
      },
      "source": [
        "Note : \n",
        "- model 2, 3  are overfitting  \n",
        "- model 4, 5 overfitting is reduced"
      ]
    },
    {
      "cell_type": "markdown",
      "metadata": {
        "id": "dG9yqMiOR4YZ"
      },
      "source": [
        "## Finalize model 5\n",
        "Train the selected model again.  \n",
        "Give it more time to learn.  \n",
        "Save the highest performance with ModelCheckpoint."
      ]
    },
    {
      "cell_type": "code",
      "metadata": {
        "colab": {
          "base_uri": "https://localhost:8080/",
          "height": 1000
        },
        "id": "Q7vbbOEpR6-A",
        "outputId": "e8602b6b-24b1-4e95-b115-429c3103a456"
      },
      "source": [
        "# create data generator with data augmentation\n",
        "train_gen = ImageDataGenerator(preprocessing_function=preprocess_input,\n",
        "                               rotation_range=30,\n",
        "                               width_shift_range=0.2,\n",
        "                               height_shift_range=0.2,\n",
        "                               zoom_range=0.2,\n",
        "                               horizontal_flip=True,\n",
        "                               vertical_flip=True,\n",
        "                               validation_split=0.2)\n",
        "test_gen = ImageDataGenerator(preprocessing_function=preprocess_input)\n",
        "\n",
        "batch_size = 20\n",
        "train_iter = train_gen.flow(X_train, y_train, batch_size=batch_size, subset='training', seed=123)\n",
        "val_iter = train_gen.flow(X_train, y_train, batch_size=batch_size, subset='validation', seed=123)\n",
        "test_iter = test_gen.flow(X_test, y_test, batch_size=1, shuffle=False)\n",
        "\n",
        "# create model\n",
        "\n",
        "# load VGG16 model\n",
        "model = VGG16(include_top=False, input_shape=(128,128,3))\n",
        "# mark loaded layers as not trainable\n",
        "for layer in model.layers:\n",
        "    layer.trainable = False\n",
        "# add new classifier layers\n",
        "dropout1 = Dropout(0.2)(model.layers[-1].output)\n",
        "flat1 = Flatten()(dropout1)\n",
        "class1 = Dense(200, activation='relu', kernel_initializer='he_uniform')(flat1)\n",
        "dropout2 = Dropout(0.3)(class1)\n",
        "class2 = Dense(100, activation='relu', kernel_initializer='he_uniform')(dropout2)\n",
        "dropout3 = Dropout(0.3)(class2)\n",
        "output = Dense(5, activation='sigmoid')(dropout3)\n",
        "# define model\n",
        "model = Model(inputs=model.inputs, outputs=output)\n",
        "\n",
        "# compile model\n",
        "model.compile(optimizer='adam', loss='binary_crossentropy', metrics=[fbeta])\n",
        "\n",
        "# create early stopping object\n",
        "es = EarlyStopping(monitor='val_loss', mode='min', verbose=1, patience=30)\n",
        "\n",
        "# create model checkpoint\n",
        "mc = ModelCheckpoint(model_name, monitor='val_loss', mode='min', verbose=1, save_best_only=True)\n",
        "\n",
        "# create model checkpoint to save the model\n",
        "mc = ModelCheckpoint(model_name, monitor='val_loss', mode='min', verbose=1, save_best_only=True)\n",
        "# fit model\n",
        "history = model.fit(train_iter, \n",
        "                    steps_per_epoch=len(train_iter),\n",
        "                    validation_data=val_iter,\n",
        "                    validation_steps=len(val_iter), \n",
        "                    callbacks=[es, mc],\n",
        "                    epochs=300)\n",
        "final_model_perf = evaluate_model(history)"
      ],
      "execution_count": 26,
      "outputs": [
        {
          "output_type": "stream",
          "name": "stdout",
          "text": [
            "Epoch 1/300\n",
            "64/64 [==============================] - 10s 139ms/step - loss: 2.3022 - fbeta: 0.4544 - val_loss: 0.5806 - val_fbeta: 0.5751\n",
            "\n",
            "Epoch 00001: val_loss improved from inf to 0.58059, saving model to best_pretrained_VGG16.h5\n",
            "Epoch 2/300\n",
            "64/64 [==============================] - 9s 135ms/step - loss: 0.8097 - fbeta: 0.5207 - val_loss: 0.4074 - val_fbeta: 0.5783\n",
            "\n",
            "Epoch 00002: val_loss improved from 0.58059 to 0.40744, saving model to best_pretrained_VGG16.h5\n",
            "Epoch 3/300\n",
            "64/64 [==============================] - 9s 135ms/step - loss: 0.5798 - fbeta: 0.4474 - val_loss: 0.4426 - val_fbeta: 0.4813\n",
            "\n",
            "Epoch 00003: val_loss did not improve from 0.40744\n",
            "Epoch 4/300\n",
            "64/64 [==============================] - 9s 136ms/step - loss: 0.5388 - fbeta: 0.4436 - val_loss: 0.4307 - val_fbeta: 0.4923\n",
            "\n",
            "Epoch 00004: val_loss did not improve from 0.40744\n",
            "Epoch 5/300\n",
            "64/64 [==============================] - 9s 134ms/step - loss: 0.4788 - fbeta: 0.4882 - val_loss: 0.3865 - val_fbeta: 0.5373\n",
            "\n",
            "Epoch 00005: val_loss improved from 0.40744 to 0.38646, saving model to best_pretrained_VGG16.h5\n",
            "Epoch 6/300\n",
            "64/64 [==============================] - 9s 136ms/step - loss: 0.4547 - fbeta: 0.5021 - val_loss: 0.3778 - val_fbeta: 0.5627\n",
            "\n",
            "Epoch 00006: val_loss improved from 0.38646 to 0.37782, saving model to best_pretrained_VGG16.h5\n",
            "Epoch 7/300\n",
            "64/64 [==============================] - 9s 134ms/step - loss: 0.4210 - fbeta: 0.5164 - val_loss: 0.3735 - val_fbeta: 0.5523\n",
            "\n",
            "Epoch 00007: val_loss improved from 0.37782 to 0.37353, saving model to best_pretrained_VGG16.h5\n",
            "Epoch 8/300\n",
            "64/64 [==============================] - 9s 135ms/step - loss: 0.4359 - fbeta: 0.4962 - val_loss: 0.3928 - val_fbeta: 0.5243\n",
            "\n",
            "Epoch 00008: val_loss did not improve from 0.37353\n",
            "Epoch 9/300\n",
            "64/64 [==============================] - 9s 135ms/step - loss: 0.3994 - fbeta: 0.4890 - val_loss: 0.3639 - val_fbeta: 0.5420\n",
            "\n",
            "Epoch 00009: val_loss improved from 0.37353 to 0.36393, saving model to best_pretrained_VGG16.h5\n",
            "Epoch 10/300\n",
            "64/64 [==============================] - 9s 136ms/step - loss: 0.4011 - fbeta: 0.5201 - val_loss: 0.3628 - val_fbeta: 0.5668\n",
            "\n",
            "Epoch 00010: val_loss improved from 0.36393 to 0.36282, saving model to best_pretrained_VGG16.h5\n",
            "Epoch 11/300\n",
            "64/64 [==============================] - 9s 135ms/step - loss: 0.3894 - fbeta: 0.5107 - val_loss: 0.3493 - val_fbeta: 0.6309\n",
            "\n",
            "Epoch 00011: val_loss improved from 0.36282 to 0.34926, saving model to best_pretrained_VGG16.h5\n",
            "Epoch 12/300\n",
            "64/64 [==============================] - 9s 135ms/step - loss: 0.3771 - fbeta: 0.5737 - val_loss: 0.3392 - val_fbeta: 0.6069\n",
            "\n",
            "Epoch 00012: val_loss improved from 0.34926 to 0.33917, saving model to best_pretrained_VGG16.h5\n",
            "Epoch 13/300\n",
            "64/64 [==============================] - 9s 136ms/step - loss: 0.3578 - fbeta: 0.5679 - val_loss: 0.3653 - val_fbeta: 0.5552\n",
            "\n",
            "Epoch 00013: val_loss did not improve from 0.33917\n",
            "Epoch 14/300\n",
            "64/64 [==============================] - 9s 134ms/step - loss: 0.3586 - fbeta: 0.5443 - val_loss: 0.3473 - val_fbeta: 0.6071\n",
            "\n",
            "Epoch 00014: val_loss did not improve from 0.33917\n",
            "Epoch 15/300\n",
            "64/64 [==============================] - 9s 134ms/step - loss: 0.3722 - fbeta: 0.5670 - val_loss: 0.3216 - val_fbeta: 0.5845\n",
            "\n",
            "Epoch 00015: val_loss improved from 0.33917 to 0.32159, saving model to best_pretrained_VGG16.h5\n",
            "Epoch 16/300\n",
            "64/64 [==============================] - 9s 135ms/step - loss: 0.3552 - fbeta: 0.5545 - val_loss: 0.3531 - val_fbeta: 0.6267\n",
            "\n",
            "Epoch 00016: val_loss did not improve from 0.32159\n",
            "Epoch 17/300\n",
            "64/64 [==============================] - 9s 135ms/step - loss: 0.3571 - fbeta: 0.5801 - val_loss: 0.3265 - val_fbeta: 0.5877\n",
            "\n",
            "Epoch 00017: val_loss did not improve from 0.32159\n",
            "Epoch 18/300\n",
            "64/64 [==============================] - 9s 135ms/step - loss: 0.3476 - fbeta: 0.5709 - val_loss: 0.3022 - val_fbeta: 0.6307\n",
            "\n",
            "Epoch 00018: val_loss improved from 0.32159 to 0.30217, saving model to best_pretrained_VGG16.h5\n",
            "Epoch 19/300\n",
            "64/64 [==============================] - 9s 135ms/step - loss: 0.3377 - fbeta: 0.5986 - val_loss: 0.2999 - val_fbeta: 0.6507\n",
            "\n",
            "Epoch 00019: val_loss improved from 0.30217 to 0.29988, saving model to best_pretrained_VGG16.h5\n",
            "Epoch 20/300\n",
            "64/64 [==============================] - 9s 135ms/step - loss: 0.3424 - fbeta: 0.6015 - val_loss: 0.3034 - val_fbeta: 0.6500\n",
            "\n",
            "Epoch 00020: val_loss did not improve from 0.29988\n",
            "Epoch 21/300\n",
            "64/64 [==============================] - 9s 136ms/step - loss: 0.3175 - fbeta: 0.6347 - val_loss: 0.3430 - val_fbeta: 0.6606\n",
            "\n",
            "Epoch 00021: val_loss did not improve from 0.29988\n",
            "Epoch 22/300\n",
            "64/64 [==============================] - 9s 135ms/step - loss: 0.3069 - fbeta: 0.6316 - val_loss: 0.3194 - val_fbeta: 0.6830\n",
            "\n",
            "Epoch 00022: val_loss did not improve from 0.29988\n",
            "Epoch 23/300\n",
            "64/64 [==============================] - 9s 135ms/step - loss: 0.3172 - fbeta: 0.6336 - val_loss: 0.2780 - val_fbeta: 0.6526\n",
            "\n",
            "Epoch 00023: val_loss improved from 0.29988 to 0.27804, saving model to best_pretrained_VGG16.h5\n",
            "Epoch 24/300\n",
            "64/64 [==============================] - 9s 136ms/step - loss: 0.3233 - fbeta: 0.6248 - val_loss: 0.3170 - val_fbeta: 0.6271\n",
            "\n",
            "Epoch 00024: val_loss did not improve from 0.27804\n",
            "Epoch 25/300\n",
            "64/64 [==============================] - 9s 135ms/step - loss: 0.3225 - fbeta: 0.6303 - val_loss: 0.2903 - val_fbeta: 0.6916\n",
            "\n",
            "Epoch 00025: val_loss did not improve from 0.27804\n",
            "Epoch 26/300\n",
            "64/64 [==============================] - 9s 135ms/step - loss: 0.3044 - fbeta: 0.6317 - val_loss: 0.3169 - val_fbeta: 0.6807\n",
            "\n",
            "Epoch 00026: val_loss did not improve from 0.27804\n",
            "Epoch 27/300\n",
            "64/64 [==============================] - 9s 135ms/step - loss: 0.2987 - fbeta: 0.6462 - val_loss: 0.2939 - val_fbeta: 0.6824\n",
            "\n",
            "Epoch 00027: val_loss did not improve from 0.27804\n",
            "Epoch 28/300\n",
            "64/64 [==============================] - 9s 135ms/step - loss: 0.2921 - fbeta: 0.6718 - val_loss: 0.2707 - val_fbeta: 0.7119\n",
            "\n",
            "Epoch 00028: val_loss improved from 0.27804 to 0.27066, saving model to best_pretrained_VGG16.h5\n",
            "Epoch 29/300\n",
            "64/64 [==============================] - 9s 135ms/step - loss: 0.2877 - fbeta: 0.6810 - val_loss: 0.2969 - val_fbeta: 0.7073\n",
            "\n",
            "Epoch 00029: val_loss did not improve from 0.27066\n",
            "Epoch 30/300\n",
            "64/64 [==============================] - 9s 135ms/step - loss: 0.2870 - fbeta: 0.6700 - val_loss: 0.2751 - val_fbeta: 0.6651\n",
            "\n",
            "Epoch 00030: val_loss did not improve from 0.27066\n",
            "Epoch 31/300\n",
            "64/64 [==============================] - 9s 135ms/step - loss: 0.2655 - fbeta: 0.6930 - val_loss: 0.2784 - val_fbeta: 0.7078\n",
            "\n",
            "Epoch 00031: val_loss did not improve from 0.27066\n",
            "Epoch 32/300\n",
            "64/64 [==============================] - 9s 136ms/step - loss: 0.2734 - fbeta: 0.7067 - val_loss: 0.2771 - val_fbeta: 0.6991\n",
            "\n",
            "Epoch 00032: val_loss did not improve from 0.27066\n",
            "Epoch 33/300\n",
            "64/64 [==============================] - 9s 136ms/step - loss: 0.2687 - fbeta: 0.6988 - val_loss: 0.2904 - val_fbeta: 0.7227\n",
            "\n",
            "Epoch 00033: val_loss did not improve from 0.27066\n",
            "Epoch 34/300\n",
            "64/64 [==============================] - 9s 135ms/step - loss: 0.2661 - fbeta: 0.7076 - val_loss: 0.2718 - val_fbeta: 0.7208\n",
            "\n",
            "Epoch 00034: val_loss did not improve from 0.27066\n",
            "Epoch 35/300\n",
            "64/64 [==============================] - 9s 135ms/step - loss: 0.2654 - fbeta: 0.6951 - val_loss: 0.2589 - val_fbeta: 0.7130\n",
            "\n",
            "Epoch 00035: val_loss improved from 0.27066 to 0.25885, saving model to best_pretrained_VGG16.h5\n",
            "Epoch 36/300\n",
            "64/64 [==============================] - 9s 136ms/step - loss: 0.2577 - fbeta: 0.7294 - val_loss: 0.2785 - val_fbeta: 0.7120\n",
            "\n",
            "Epoch 00036: val_loss did not improve from 0.25885\n",
            "Epoch 37/300\n",
            "64/64 [==============================] - 9s 135ms/step - loss: 0.2567 - fbeta: 0.7162 - val_loss: 0.3111 - val_fbeta: 0.6613\n",
            "\n",
            "Epoch 00037: val_loss did not improve from 0.25885\n",
            "Epoch 38/300\n",
            "64/64 [==============================] - 9s 135ms/step - loss: 0.2608 - fbeta: 0.7191 - val_loss: 0.2798 - val_fbeta: 0.7080\n",
            "\n",
            "Epoch 00038: val_loss did not improve from 0.25885\n",
            "Epoch 39/300\n",
            "64/64 [==============================] - 9s 135ms/step - loss: 0.2558 - fbeta: 0.7027 - val_loss: 0.2834 - val_fbeta: 0.7003\n",
            "\n",
            "Epoch 00039: val_loss did not improve from 0.25885\n",
            "Epoch 40/300\n",
            "64/64 [==============================] - 9s 135ms/step - loss: 0.2659 - fbeta: 0.7259 - val_loss: 0.2814 - val_fbeta: 0.7059\n",
            "\n",
            "Epoch 00040: val_loss did not improve from 0.25885\n",
            "Epoch 41/300\n",
            "64/64 [==============================] - 9s 135ms/step - loss: 0.2544 - fbeta: 0.7189 - val_loss: 0.2894 - val_fbeta: 0.7288\n",
            "\n",
            "Epoch 00041: val_loss did not improve from 0.25885\n",
            "Epoch 42/300\n",
            "64/64 [==============================] - 9s 135ms/step - loss: 0.2533 - fbeta: 0.7215 - val_loss: 0.2778 - val_fbeta: 0.7375\n",
            "\n",
            "Epoch 00042: val_loss did not improve from 0.25885\n",
            "Epoch 43/300\n",
            "64/64 [==============================] - 9s 135ms/step - loss: 0.2498 - fbeta: 0.7471 - val_loss: 0.2702 - val_fbeta: 0.7206\n",
            "\n",
            "Epoch 00043: val_loss did not improve from 0.25885\n",
            "Epoch 44/300\n",
            "64/64 [==============================] - 9s 135ms/step - loss: 0.2466 - fbeta: 0.7365 - val_loss: 0.2817 - val_fbeta: 0.7206\n",
            "\n",
            "Epoch 00044: val_loss did not improve from 0.25885\n",
            "Epoch 45/300\n",
            "64/64 [==============================] - 9s 135ms/step - loss: 0.2215 - fbeta: 0.7584 - val_loss: 0.2486 - val_fbeta: 0.7465\n",
            "\n",
            "Epoch 00045: val_loss improved from 0.25885 to 0.24857, saving model to best_pretrained_VGG16.h5\n",
            "Epoch 46/300\n",
            "64/64 [==============================] - 9s 136ms/step - loss: 0.2319 - fbeta: 0.7625 - val_loss: 0.2841 - val_fbeta: 0.7232\n",
            "\n",
            "Epoch 00046: val_loss did not improve from 0.24857\n",
            "Epoch 47/300\n",
            "64/64 [==============================] - 9s 136ms/step - loss: 0.2472 - fbeta: 0.7462 - val_loss: 0.2637 - val_fbeta: 0.7305\n",
            "\n",
            "Epoch 00047: val_loss did not improve from 0.24857\n",
            "Epoch 48/300\n",
            "64/64 [==============================] - 9s 136ms/step - loss: 0.2191 - fbeta: 0.7669 - val_loss: 0.2841 - val_fbeta: 0.7338\n",
            "\n",
            "Epoch 00048: val_loss did not improve from 0.24857\n",
            "Epoch 49/300\n",
            "64/64 [==============================] - 9s 134ms/step - loss: 0.2490 - fbeta: 0.7665 - val_loss: 0.2658 - val_fbeta: 0.7154\n",
            "\n",
            "Epoch 00049: val_loss did not improve from 0.24857\n",
            "Epoch 50/300\n",
            "64/64 [==============================] - 9s 135ms/step - loss: 0.2427 - fbeta: 0.7488 - val_loss: 0.2686 - val_fbeta: 0.7248\n",
            "\n",
            "Epoch 00050: val_loss did not improve from 0.24857\n",
            "Epoch 51/300\n",
            "64/64 [==============================] - 9s 135ms/step - loss: 0.2375 - fbeta: 0.7608 - val_loss: 0.2633 - val_fbeta: 0.7304\n",
            "\n",
            "Epoch 00051: val_loss did not improve from 0.24857\n",
            "Epoch 52/300\n",
            "64/64 [==============================] - 9s 135ms/step - loss: 0.2330 - fbeta: 0.7710 - val_loss: 0.2745 - val_fbeta: 0.7310\n",
            "\n",
            "Epoch 00052: val_loss did not improve from 0.24857\n",
            "Epoch 53/300\n",
            "64/64 [==============================] - 9s 135ms/step - loss: 0.2265 - fbeta: 0.7445 - val_loss: 0.2648 - val_fbeta: 0.7133\n",
            "\n",
            "Epoch 00053: val_loss did not improve from 0.24857\n",
            "Epoch 54/300\n",
            "64/64 [==============================] - 9s 135ms/step - loss: 0.2302 - fbeta: 0.7647 - val_loss: 0.2599 - val_fbeta: 0.7540\n",
            "\n",
            "Epoch 00054: val_loss did not improve from 0.24857\n",
            "Epoch 55/300\n",
            "64/64 [==============================] - 9s 136ms/step - loss: 0.2253 - fbeta: 0.7537 - val_loss: 0.2601 - val_fbeta: 0.7616\n",
            "\n",
            "Epoch 00055: val_loss did not improve from 0.24857\n",
            "Epoch 56/300\n",
            "64/64 [==============================] - 9s 135ms/step - loss: 0.2437 - fbeta: 0.7629 - val_loss: 0.2767 - val_fbeta: 0.7397\n",
            "\n",
            "Epoch 00056: val_loss did not improve from 0.24857\n",
            "Epoch 57/300\n",
            "64/64 [==============================] - 9s 134ms/step - loss: 0.2277 - fbeta: 0.7650 - val_loss: 0.2544 - val_fbeta: 0.7487\n",
            "\n",
            "Epoch 00057: val_loss did not improve from 0.24857\n",
            "Epoch 58/300\n",
            "64/64 [==============================] - 9s 135ms/step - loss: 0.2334 - fbeta: 0.7777 - val_loss: 0.2895 - val_fbeta: 0.7114\n",
            "\n",
            "Epoch 00058: val_loss did not improve from 0.24857\n",
            "Epoch 59/300\n",
            "64/64 [==============================] - 9s 136ms/step - loss: 0.2298 - fbeta: 0.7714 - val_loss: 0.2689 - val_fbeta: 0.7482\n",
            "\n",
            "Epoch 00059: val_loss did not improve from 0.24857\n",
            "Epoch 60/300\n",
            "64/64 [==============================] - 9s 136ms/step - loss: 0.2244 - fbeta: 0.7714 - val_loss: 0.2540 - val_fbeta: 0.7618\n",
            "\n",
            "Epoch 00060: val_loss did not improve from 0.24857\n",
            "Epoch 61/300\n",
            "64/64 [==============================] - 9s 136ms/step - loss: 0.2176 - fbeta: 0.7761 - val_loss: 0.2471 - val_fbeta: 0.7658\n",
            "\n",
            "Epoch 00061: val_loss improved from 0.24857 to 0.24712, saving model to best_pretrained_VGG16.h5\n",
            "Epoch 62/300\n",
            "64/64 [==============================] - 9s 138ms/step - loss: 0.2243 - fbeta: 0.7766 - val_loss: 0.2900 - val_fbeta: 0.7295\n",
            "\n",
            "Epoch 00062: val_loss did not improve from 0.24712\n",
            "Epoch 63/300\n",
            "64/64 [==============================] - 9s 136ms/step - loss: 0.2279 - fbeta: 0.7710 - val_loss: 0.2727 - val_fbeta: 0.7317\n",
            "\n",
            "Epoch 00063: val_loss did not improve from 0.24712\n",
            "Epoch 64/300\n",
            "64/64 [==============================] - 9s 136ms/step - loss: 0.2155 - fbeta: 0.7818 - val_loss: 0.2410 - val_fbeta: 0.7640\n",
            "\n",
            "Epoch 00064: val_loss improved from 0.24712 to 0.24099, saving model to best_pretrained_VGG16.h5\n",
            "Epoch 65/300\n",
            "64/64 [==============================] - 9s 137ms/step - loss: 0.2128 - fbeta: 0.7787 - val_loss: 0.2676 - val_fbeta: 0.7536\n",
            "\n",
            "Epoch 00065: val_loss did not improve from 0.24099\n",
            "Epoch 66/300\n",
            "64/64 [==============================] - 9s 136ms/step - loss: 0.2036 - fbeta: 0.7923 - val_loss: 0.2475 - val_fbeta: 0.7649\n",
            "\n",
            "Epoch 00066: val_loss did not improve from 0.24099\n",
            "Epoch 67/300\n",
            "64/64 [==============================] - 9s 136ms/step - loss: 0.2141 - fbeta: 0.7761 - val_loss: 0.2713 - val_fbeta: 0.7309\n",
            "\n",
            "Epoch 00067: val_loss did not improve from 0.24099\n",
            "Epoch 68/300\n",
            "64/64 [==============================] - 9s 135ms/step - loss: 0.2176 - fbeta: 0.7796 - val_loss: 0.2876 - val_fbeta: 0.7604\n",
            "\n",
            "Epoch 00068: val_loss did not improve from 0.24099\n",
            "Epoch 69/300\n",
            "64/64 [==============================] - 9s 135ms/step - loss: 0.2203 - fbeta: 0.7782 - val_loss: 0.2660 - val_fbeta: 0.7656\n",
            "\n",
            "Epoch 00069: val_loss did not improve from 0.24099\n",
            "Epoch 70/300\n",
            "64/64 [==============================] - 9s 134ms/step - loss: 0.2190 - fbeta: 0.7711 - val_loss: 0.2490 - val_fbeta: 0.7809\n",
            "\n",
            "Epoch 00070: val_loss did not improve from 0.24099\n",
            "Epoch 71/300\n",
            "64/64 [==============================] - 9s 134ms/step - loss: 0.2158 - fbeta: 0.7757 - val_loss: 0.2538 - val_fbeta: 0.7623\n",
            "\n",
            "Epoch 00071: val_loss did not improve from 0.24099\n",
            "Epoch 72/300\n",
            "64/64 [==============================] - 9s 134ms/step - loss: 0.1986 - fbeta: 0.7911 - val_loss: 0.2830 - val_fbeta: 0.7493\n",
            "\n",
            "Epoch 00072: val_loss did not improve from 0.24099\n",
            "Epoch 73/300\n",
            "64/64 [==============================] - 9s 136ms/step - loss: 0.2055 - fbeta: 0.7968 - val_loss: 0.2994 - val_fbeta: 0.7260\n",
            "\n",
            "Epoch 00073: val_loss did not improve from 0.24099\n",
            "Epoch 74/300\n",
            "64/64 [==============================] - 9s 136ms/step - loss: 0.2002 - fbeta: 0.8025 - val_loss: 0.2968 - val_fbeta: 0.7483\n",
            "\n",
            "Epoch 00074: val_loss did not improve from 0.24099\n",
            "Epoch 75/300\n",
            "64/64 [==============================] - 9s 136ms/step - loss: 0.1991 - fbeta: 0.8006 - val_loss: 0.2602 - val_fbeta: 0.7758\n",
            "\n",
            "Epoch 00075: val_loss did not improve from 0.24099\n",
            "Epoch 76/300\n",
            "64/64 [==============================] - 9s 136ms/step - loss: 0.2034 - fbeta: 0.7981 - val_loss: 0.2715 - val_fbeta: 0.7382\n",
            "\n",
            "Epoch 00076: val_loss did not improve from 0.24099\n",
            "Epoch 77/300\n",
            "64/64 [==============================] - 9s 136ms/step - loss: 0.2052 - fbeta: 0.7976 - val_loss: 0.2870 - val_fbeta: 0.7528\n",
            "\n",
            "Epoch 00077: val_loss did not improve from 0.24099\n",
            "Epoch 78/300\n",
            "64/64 [==============================] - 9s 136ms/step - loss: 0.2186 - fbeta: 0.7866 - val_loss: 0.2604 - val_fbeta: 0.7719\n",
            "\n",
            "Epoch 00078: val_loss did not improve from 0.24099\n",
            "Epoch 79/300\n",
            "64/64 [==============================] - 9s 138ms/step - loss: 0.2099 - fbeta: 0.7920 - val_loss: 0.2702 - val_fbeta: 0.7670\n",
            "\n",
            "Epoch 00079: val_loss did not improve from 0.24099\n",
            "Epoch 80/300\n",
            "64/64 [==============================] - 9s 135ms/step - loss: 0.2039 - fbeta: 0.8095 - val_loss: 0.2634 - val_fbeta: 0.7351\n",
            "\n",
            "Epoch 00080: val_loss did not improve from 0.24099\n",
            "Epoch 81/300\n",
            "64/64 [==============================] - 9s 136ms/step - loss: 0.1969 - fbeta: 0.8143 - val_loss: 0.2696 - val_fbeta: 0.7576\n",
            "\n",
            "Epoch 00081: val_loss did not improve from 0.24099\n",
            "Epoch 82/300\n",
            "64/64 [==============================] - 9s 136ms/step - loss: 0.1966 - fbeta: 0.8007 - val_loss: 0.2843 - val_fbeta: 0.7383\n",
            "\n",
            "Epoch 00082: val_loss did not improve from 0.24099\n",
            "Epoch 83/300\n",
            "64/64 [==============================] - 9s 134ms/step - loss: 0.2025 - fbeta: 0.8062 - val_loss: 0.2578 - val_fbeta: 0.7633\n",
            "\n",
            "Epoch 00083: val_loss did not improve from 0.24099\n",
            "Epoch 84/300\n",
            "64/64 [==============================] - 9s 135ms/step - loss: 0.2010 - fbeta: 0.8115 - val_loss: 0.2609 - val_fbeta: 0.7611\n",
            "\n",
            "Epoch 00084: val_loss did not improve from 0.24099\n",
            "Epoch 85/300\n",
            "64/64 [==============================] - 9s 136ms/step - loss: 0.1884 - fbeta: 0.8186 - val_loss: 0.2502 - val_fbeta: 0.7833\n",
            "\n",
            "Epoch 00085: val_loss did not improve from 0.24099\n",
            "Epoch 86/300\n",
            "64/64 [==============================] - 9s 136ms/step - loss: 0.1979 - fbeta: 0.8039 - val_loss: 0.2509 - val_fbeta: 0.7925\n",
            "\n",
            "Epoch 00086: val_loss did not improve from 0.24099\n",
            "Epoch 87/300\n",
            "64/64 [==============================] - 9s 134ms/step - loss: 0.1822 - fbeta: 0.8207 - val_loss: 0.2756 - val_fbeta: 0.7566\n",
            "\n",
            "Epoch 00087: val_loss did not improve from 0.24099\n",
            "Epoch 88/300\n",
            "64/64 [==============================] - 9s 135ms/step - loss: 0.1936 - fbeta: 0.8156 - val_loss: 0.2793 - val_fbeta: 0.7529\n",
            "\n",
            "Epoch 00088: val_loss did not improve from 0.24099\n",
            "Epoch 89/300\n",
            "64/64 [==============================] - 9s 135ms/step - loss: 0.2089 - fbeta: 0.8010 - val_loss: 0.2815 - val_fbeta: 0.7389\n",
            "\n",
            "Epoch 00089: val_loss did not improve from 0.24099\n",
            "Epoch 90/300\n",
            "64/64 [==============================] - 9s 135ms/step - loss: 0.1904 - fbeta: 0.8111 - val_loss: 0.2907 - val_fbeta: 0.7460\n",
            "\n",
            "Epoch 00090: val_loss did not improve from 0.24099\n",
            "Epoch 91/300\n",
            "64/64 [==============================] - 9s 135ms/step - loss: 0.1909 - fbeta: 0.8149 - val_loss: 0.2815 - val_fbeta: 0.7642\n",
            "\n",
            "Epoch 00091: val_loss did not improve from 0.24099\n",
            "Epoch 92/300\n",
            "64/64 [==============================] - 9s 136ms/step - loss: 0.2034 - fbeta: 0.8039 - val_loss: 0.2589 - val_fbeta: 0.7540\n",
            "\n",
            "Epoch 00092: val_loss did not improve from 0.24099\n",
            "Epoch 93/300\n",
            "64/64 [==============================] - 9s 136ms/step - loss: 0.2085 - fbeta: 0.7927 - val_loss: 0.2699 - val_fbeta: 0.7312\n",
            "\n",
            "Epoch 00093: val_loss did not improve from 0.24099\n",
            "Epoch 94/300\n",
            "64/64 [==============================] - 9s 135ms/step - loss: 0.1971 - fbeta: 0.8106 - val_loss: 0.3025 - val_fbeta: 0.7574\n",
            "\n",
            "Epoch 00094: val_loss did not improve from 0.24099\n",
            "Epoch 00094: early stopping\n"
          ]
        },
        {
          "output_type": "display_data",
          "data": {
            "image/png": "[encoded data removed]",
            "text/plain": [
              "<Figure size 1080x360 with 2 Axes>"
            ]
          },
          "metadata": {
            "needs_background": "light"
          }
        },
        {
          "output_type": "stream",
          "name": "stdout",
          "text": [
            "Model F-beta score :  0.8102471232414246\n"
          ]
        }
      ]
    },
    {
      "cell_type": "markdown",
      "metadata": {
        "id": "ISc5EB_jXT-r"
      },
      "source": [
        "## Evaluate model"
      ]
    },
    {
      "cell_type": "code",
      "metadata": {
        "colab": {
          "base_uri": "https://localhost:8080/"
        },
        "id": "PPlMnacVtMEu",
        "outputId": "d1b3cd8d-e1ce-4bfa-b7ab-b5bb91fb0cb5"
      },
      "source": [
        "# print model score\n",
        "final_model_fbeta = model.evaluate(test_iter)[1]\n",
        "print('final_model_fbeta : ', final_model_fbeta)"
      ],
      "execution_count": 29,
      "outputs": [
        {
          "output_type": "stream",
          "name": "stdout",
          "text": [
            "400/400 [==============================] - 7s 18ms/step - loss: 0.2362 - fbeta: 0.8102\n",
            "final_model_fbeta :  0.8102471232414246\n"
          ]
        }
      ]
    },
    {
      "cell_type": "markdown",
      "metadata": {
        "id": "0Y2wCmtus5LS"
      },
      "source": [
        "## Save model to local machine"
      ]
    },
    {
      "cell_type": "code",
      "metadata": {
        "colab": {
          "base_uri": "https://localhost:8080/",
          "height": 34
        },
        "id": "POBJhAMzs5LS",
        "outputId": "7d25c444-1338-4127-cd62-ed53f046319a"
      },
      "source": [
        "# load saved model file to local machine\n",
        "from google.colab import files\n",
        "files.download(model_name)"
      ],
      "execution_count": 30,
      "outputs": [
        {
          "output_type": "display_data",
          "data": {
            "application/javascript": [
              "\n",
              "    async function download(id, filename, size) {\n",
              "      if (!google.colab.kernel.accessAllowed) {\n",
              "        return;\n",
              "      }\n",
              "      const div = document.createElement('div');\n",
              "      const label = document.createElement('label');\n",
              "      label.textContent = `Downloading \"${filename}\": `;\n",
              "      div.appendChild(label);\n",
              "      const progress = document.createElement('progress');\n",
              "      progress.max = size;\n",
              "      div.appendChild(progress);\n",
              "      document.body.appendChild(div);\n",
              "\n",
              "      const buffers = [];\n",
              "      let downloaded = 0;\n",
              "\n",
              "      const channel = await google.colab.kernel.comms.open(id);\n",
              "      // Send a message to notify the kernel that we're ready.\n",
              "      channel.send({})\n",
              "\n",
              "      for await (const message of channel.messages) {\n",
              "        // Send a message to notify the kernel that we're ready.\n",
              "        channel.send({})\n",
              "        if (message.buffers) {\n",
              "          for (const buffer of message.buffers) {\n",
              "            buffers.push(buffer);\n",
              "            downloaded += buffer.byteLength;\n",
              "            progress.value = downloaded;\n",
              "          }\n",
              "        }\n",
              "      }\n",
              "      const blob = new Blob(buffers, {type: 'application/binary'});\n",
              "      const a = document.createElement('a');\n",
              "      a.href = window.URL.createObjectURL(blob);\n",
              "      a.download = filename;\n",
              "      div.appendChild(a);\n",
              "      a.click();\n",
              "      div.remove();\n",
              "    }\n",
              "  "
            ],
            "text/plain": [
              "<IPython.core.display.Javascript object>"
            ]
          },
          "metadata": {}
        },
        {
          "output_type": "display_data",
          "data": {
            "application/javascript": [
              "download(\"download_b7eddb6e-b723-4b69-b965-fe9074bb2c62\", \"best_pretrained_VGG16.h5\", 78869160)"
            ],
            "text/plain": [
              "<IPython.core.display.Javascript object>"
            ]
          },
          "metadata": {}
        }
      ]
    }
  ]
}