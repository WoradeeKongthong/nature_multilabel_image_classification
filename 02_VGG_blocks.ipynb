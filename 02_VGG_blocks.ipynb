{
 "cells": [
  {
   "cell_type": "code",
   "execution_count": 1,
   "metadata": {
    "executionInfo": {
     "elapsed": 983,
     "status": "ok",
     "timestamp": 1611577113676,
     "user": {
      "displayName": "Samantha K.",
      "photoUrl": "https://lh3.googleusercontent.com/a-/AOh14GjqOn4Eq2aGKTpdlO0FSSiTvIIbKGBzhPNGPF1Ysg=s64",
      "userId": "17154081479065187787"
     },
     "user_tz": -420
    },
    "id": "PfnzksyNt9mQ"
   },
   "outputs": [],
   "source": [
    "# prepared dataset\n",
    "dataset_path = 'data/nature_data.npz'\n",
    "\n",
    "# saved model name\n",
    "model_name = 'best_vggblocks.h5'"
   ]
  },
  {
   "cell_type": "markdown",
   "metadata": {
    "id": "abSMiFfOu3RD"
   },
   "source": [
    "# Nature Image Classification (Multi-labels)\n",
    "\n",
    "## Objective \n",
    "To learn tags given to each image.  \n",
    "There are 5 tags;  \n",
    "- desert  \n",
    "- mountains  \n",
    "- sea  \n",
    "- sunset  \n",
    "- trees  \n",
    "\n",
    "## Dataset\n",
    "source : https://www.dropbox.com/s/0htmeoie69q650p/miml_dataset.zip?dl=0  \n",
    "(You can follow the tutorial in this blog https://vijayabhaskar96.medium.com/multi-label-image-classification-tutorial-with-keras-imagedatagenerator-cd541f8eaf24)\n",
    "\n",
    "## Approach\n",
    "Baseline model : CNN model with 1,2 or 3 VGG block(s)  \n",
    "\n",
    "Improved model \n",
    "- dropout\n",
    "- data augmentation"
   ]
  },
  {
   "cell_type": "markdown",
   "metadata": {
    "id": "hI4siRTuzkP8"
   },
   "source": [
    "## Load dataset from file"
   ]
  },
  {
   "cell_type": "code",
   "execution_count": 2,
   "metadata": {
    "executionInfo": {
     "elapsed": 1028,
     "status": "ok",
     "timestamp": 1611577118590,
     "user": {
      "displayName": "Samantha K.",
      "photoUrl": "https://lh3.googleusercontent.com/a-/AOh14GjqOn4Eq2aGKTpdlO0FSSiTvIIbKGBzhPNGPF1Ysg=s64",
      "userId": "17154081479065187787"
     },
     "user_tz": -420
    },
    "id": "DY0pyMMyzng5"
   },
   "outputs": [],
   "source": [
    "import numpy as np"
   ]
  },
  {
   "cell_type": "code",
   "execution_count": 3,
   "metadata": {
    "colab": {
     "base_uri": "https://localhost:8080/"
    },
    "executionInfo": {
     "elapsed": 14047,
     "status": "ok",
     "timestamp": 1611577133176,
     "user": {
      "displayName": "Samantha K.",
      "photoUrl": "https://lh3.googleusercontent.com/a-/AOh14GjqOn4Eq2aGKTpdlO0FSSiTvIIbKGBzhPNGPF1Ysg=s64",
      "userId": "17154081479065187787"
     },
     "user_tz": -420
    },
    "id": "sTPYiaN0zrve",
    "outputId": "757968a5-5e10-4ce8-f5cd-c58fc86f0fca"
   },
   "outputs": [
    {
     "name": "stdout",
     "output_type": "stream",
     "text": [
      "X shape :  (2000, 128, 128, 3)\n",
      "y shape :  (2000, 5)\n"
     ]
    }
   ],
   "source": [
    "# load data\n",
    "data = np.load(dataset_path)\n",
    "X, y = data['arr_0'], data['arr_1']\n",
    "print('X shape : ', X.shape)\n",
    "print('y shape : ', y.shape)"
   ]
  },
  {
   "cell_type": "markdown",
   "metadata": {
    "id": "cdtytULs0Y7s"
   },
   "source": [
    "## Create train and test set\n",
    "(Note : validation set will be created with ImageDataGenerator)"
   ]
  },
  {
   "cell_type": "code",
   "execution_count": 4,
   "metadata": {
    "executionInfo": {
     "elapsed": 1387,
     "status": "ok",
     "timestamp": 1611577137947,
     "user": {
      "displayName": "Samantha K.",
      "photoUrl": "https://lh3.googleusercontent.com/a-/AOh14GjqOn4Eq2aGKTpdlO0FSSiTvIIbKGBzhPNGPF1Ysg=s64",
      "userId": "17154081479065187787"
     },
     "user_tz": -420
    },
    "id": "wO_FPRcW0c5t"
   },
   "outputs": [],
   "source": [
    "from sklearn.model_selection import train_test_split"
   ]
  },
  {
   "cell_type": "code",
   "execution_count": 5,
   "metadata": {
    "executionInfo": {
     "elapsed": 659,
     "status": "ok",
     "timestamp": 1611577139166,
     "user": {
      "displayName": "Samantha K.",
      "photoUrl": "https://lh3.googleusercontent.com/a-/AOh14GjqOn4Eq2aGKTpdlO0FSSiTvIIbKGBzhPNGPF1Ysg=s64",
      "userId": "17154081479065187787"
     },
     "user_tz": -420
    },
    "id": "ER5Tq-HU06Cq"
   },
   "outputs": [],
   "source": [
    "X_train, X_test, y_train, y_test = train_test_split(X, y, test_size=0.2, random_state=100)"
   ]
  },
  {
   "cell_type": "code",
   "execution_count": 6,
   "metadata": {
    "colab": {
     "base_uri": "https://localhost:8080/"
    },
    "executionInfo": {
     "elapsed": 954,
     "status": "ok",
     "timestamp": 1611577141837,
     "user": {
      "displayName": "Samantha K.",
      "photoUrl": "https://lh3.googleusercontent.com/a-/AOh14GjqOn4Eq2aGKTpdlO0FSSiTvIIbKGBzhPNGPF1Ysg=s64",
      "userId": "17154081479065187787"
     },
     "user_tz": -420
    },
    "id": "9uhCuhbq1bVu",
    "outputId": "767eceba-fad3-43b3-8465-f1431ba2d7a7"
   },
   "outputs": [
    {
     "name": "stdout",
     "output_type": "stream",
     "text": [
      "X_train shape :  (1600, 128, 128, 3)\n",
      "y_train shape :  (1600, 5)\n",
      "\n",
      "X_test shape :  (400, 128, 128, 3)\n",
      "y_test shape :  (400, 5)\n"
     ]
    }
   ],
   "source": [
    "print('X_train shape : ', X_train.shape)\n",
    "print('y_train shape : ', y_train.shape)\n",
    "print()\n",
    "print('X_test shape : ', X_test.shape)\n",
    "print('y_test shape : ', y_test.shape)"
   ]
  },
  {
   "cell_type": "markdown",
   "metadata": {
    "id": "ejRHmGDVlSP-"
   },
   "source": [
    "## Create data generator without data augmentation"
   ]
  },
  {
   "cell_type": "code",
   "execution_count": 7,
   "metadata": {
    "executionInfo": {
     "elapsed": 2276,
     "status": "ok",
     "timestamp": 1611577146788,
     "user": {
      "displayName": "Samantha K.",
      "photoUrl": "https://lh3.googleusercontent.com/a-/AOh14GjqOn4Eq2aGKTpdlO0FSSiTvIIbKGBzhPNGPF1Ysg=s64",
      "userId": "17154081479065187787"
     },
     "user_tz": -420
    },
    "id": "LWRbPRUblbIP"
   },
   "outputs": [],
   "source": [
    "from tensorflow.keras.preprocessing.image import ImageDataGenerator"
   ]
  },
  {
   "cell_type": "code",
   "execution_count": 8,
   "metadata": {
    "executionInfo": {
     "elapsed": 1198,
     "status": "ok",
     "timestamp": 1611577148873,
     "user": {
      "displayName": "Samantha K.",
      "photoUrl": "https://lh3.googleusercontent.com/a-/AOh14GjqOn4Eq2aGKTpdlO0FSSiTvIIbKGBzhPNGPF1Ysg=s64",
      "userId": "17154081479065187787"
     },
     "user_tz": -420
    },
    "id": "SIRwdlwulfCM"
   },
   "outputs": [],
   "source": [
    "train_gen = ImageDataGenerator(rescale=1./255, validation_split=0.2)\n",
    "test_gen = ImageDataGenerator(rescale=1./255)\n",
    "\n",
    "batch_size = 20\n",
    "train_iter = train_gen.flow(X_train, y_train, batch_size=batch_size, subset='training', seed=123)\n",
    "val_iter = train_gen.flow(X_train, y_train, batch_size=batch_size, subset='validation', seed=123)\n",
    "test_iter = test_gen.flow(X_test, y_test, batch_size=1, shuffle=False)"
   ]
  },
  {
   "cell_type": "markdown",
   "metadata": {
    "id": "LAytm0b02LY4"
   },
   "source": [
    "## fbeta score function for multi-label problem"
   ]
  },
  {
   "cell_type": "code",
   "execution_count": 9,
   "metadata": {
    "executionInfo": {
     "elapsed": 963,
     "status": "ok",
     "timestamp": 1611577151492,
     "user": {
      "displayName": "Samantha K.",
      "photoUrl": "https://lh3.googleusercontent.com/a-/AOh14GjqOn4Eq2aGKTpdlO0FSSiTvIIbKGBzhPNGPF1Ysg=s64",
      "userId": "17154081479065187787"
     },
     "user_tz": -420
    },
    "id": "Wn9549YT2QL0"
   },
   "outputs": [],
   "source": [
    "from tensorflow.keras import backend\n",
    "\n",
    "# optional sklearn.metrics.fbeta_score (cannot be used as training metric)\n",
    "#from sklearn.metrics import fbeta_score"
   ]
  },
  {
   "cell_type": "code",
   "execution_count": 10,
   "metadata": {
    "executionInfo": {
     "elapsed": 1063,
     "status": "ok",
     "timestamp": 1611577153102,
     "user": {
      "displayName": "Samantha K.",
      "photoUrl": "https://lh3.googleusercontent.com/a-/AOh14GjqOn4Eq2aGKTpdlO0FSSiTvIIbKGBzhPNGPF1Ysg=s64",
      "userId": "17154081479065187787"
     },
     "user_tz": -420
    },
    "id": "v6dCRxSK2T2M"
   },
   "outputs": [],
   "source": [
    "# I create F-beta score calculation in Keras to use as a metric \n",
    "# during training process instead of accuracy.\n",
    "\n",
    "def fbeta(y_true, y_pred, beta=2):\n",
    "  # clip predictions\n",
    "  y_pred = backend.clip(y_pred, 0, 1)\n",
    "  # calculate elements\n",
    "  tp = backend.sum(backend.round(backend.clip(y_true * y_pred, 0, 1)), axis=1)\n",
    "  fp = backend.sum(backend.round(backend.clip(y_pred - y_true, 0, 1)), axis=1)\n",
    "  fn = backend.sum(backend.round(backend.clip(y_true - y_pred, 0, 1)), axis=1)\n",
    "  # calculate precision\n",
    "  p = tp / (tp + fp + backend.epsilon())\n",
    "  # calculate recall\n",
    "  r = tp / (tp + fn + backend.epsilon())\n",
    "  # calculate fbeta, averaged across each class\n",
    "  bb = beta ** 2\n",
    "  fbeta_score = backend.mean((1 + bb) * (p * r) / (bb * p + r + backend.epsilon()))\n",
    "  return fbeta_score"
   ]
  },
  {
   "cell_type": "markdown",
   "metadata": {
    "id": "CD1IWrOXgXlg"
   },
   "source": [
    "## Baseline Models"
   ]
  },
  {
   "cell_type": "markdown",
   "metadata": {
    "id": "LFAW2XEMk7PJ"
   },
   "source": [
    "### Baseline model 1 : 1 vgg block"
   ]
  },
  {
   "cell_type": "code",
   "execution_count": 11,
   "metadata": {
    "executionInfo": {
     "elapsed": 989,
     "status": "ok",
     "timestamp": 1611577157380,
     "user": {
      "displayName": "Samantha K.",
      "photoUrl": "https://lh3.googleusercontent.com/a-/AOh14GjqOn4Eq2aGKTpdlO0FSSiTvIIbKGBzhPNGPF1Ysg=s64",
      "userId": "17154081479065187787"
     },
     "user_tz": -420
    },
    "id": "LL_aeZcbk-Mh"
   },
   "outputs": [],
   "source": [
    "from tensorflow.keras.models import Sequential\n",
    "from tensorflow.keras.layers import Conv2D, MaxPooling2D, Dense, Flatten, Dropout, BatchNormalization\n",
    "from tensorflow.keras.callbacks import EarlyStopping, ModelCheckpoint\n",
    "import matplotlib.pyplot as plt"
   ]
  },
  {
   "cell_type": "code",
   "execution_count": 12,
   "metadata": {
    "id": "oCvmc4o3lPEM"
   },
   "outputs": [],
   "source": [
    "# create model\n",
    "model = Sequential()\n",
    "model.add(Conv2D(32, (3,3), padding='same', activation='relu', kernel_initializer='he_uniform', input_shape=(128, 128, 3)))\n",
    "model.add(Conv2D(32, (3,3), padding='same', activation='relu', kernel_initializer='he_uniform'))\n",
    "model.add(MaxPooling2D((2,2)))\n",
    "model.add(Flatten())\n",
    "model.add(Dense(100, activation='relu', kernel_initializer='he_uniform'))\n",
    "model.add(Dense(5, activation='sigmoid'))\n",
    "\n",
    "# compile model\n",
    "model.compile(optimizer='adam', loss='binary_crossentropy', metrics=[fbeta])"
   ]
  },
  {
   "cell_type": "code",
   "execution_count": 13,
   "metadata": {
    "colab": {
     "base_uri": "https://localhost:8080/"
    },
    "executionInfo": {
     "elapsed": 2205,
     "status": "ok",
     "timestamp": 1611559059732,
     "user": {
      "displayName": "Woradee Kongthong",
      "photoUrl": "",
      "userId": "15785668817994750121"
     },
     "user_tz": -420
    },
    "id": "p1iYWekdotgI",
    "outputId": "8defe151-7895-460b-b931-88edfee6a1eb"
   },
   "outputs": [
    {
     "name": "stdout",
     "output_type": "stream",
     "text": [
      "Model: \"sequential\"\n",
      "_________________________________________________________________\n",
      "Layer (type)                 Output Shape              Param #   \n",
      "=================================================================\n",
      "conv2d (Conv2D)              (None, 128, 128, 32)      896       \n",
      "_________________________________________________________________\n",
      "conv2d_1 (Conv2D)            (None, 128, 128, 32)      9248      \n",
      "_________________________________________________________________\n",
      "max_pooling2d (MaxPooling2D) (None, 64, 64, 32)        0         \n",
      "_________________________________________________________________\n",
      "flatten (Flatten)            (None, 131072)            0         \n",
      "_________________________________________________________________\n",
      "dense (Dense)                (None, 100)               13107300  \n",
      "_________________________________________________________________\n",
      "dense_1 (Dense)              (None, 5)                 505       \n",
      "=================================================================\n",
      "Total params: 13,117,949\n",
      "Trainable params: 13,117,949\n",
      "Non-trainable params: 0\n",
      "_________________________________________________________________\n"
     ]
    }
   ],
   "source": [
    "model.summary()"
   ]
  },
  {
   "cell_type": "code",
   "execution_count": 14,
   "metadata": {
    "colab": {
     "base_uri": "https://localhost:8080/"
    },
    "executionInfo": {
     "elapsed": 32689,
     "status": "ok",
     "timestamp": 1611559122761,
     "user": {
      "displayName": "Woradee Kongthong",
      "photoUrl": "",
      "userId": "15785668817994750121"
     },
     "user_tz": -420
    },
    "id": "nJGKobxWo8uv",
    "outputId": "e41985d2-9031-43a4-9846-4e1b915bc9cd"
   },
   "outputs": [
    {
     "name": "stdout",
     "output_type": "stream",
     "text": [
      "Epoch 1/200\n",
      "64/64 [==============================] - 58s 893ms/step - loss: 1.1453 - fbeta: 0.3321 - val_loss: 0.4384 - val_fbeta: 0.4654\n",
      "Epoch 2/200\n",
      "64/64 [==============================] - 56s 876ms/step - loss: 0.3299 - fbeta: 0.5877 - val_loss: 0.4070 - val_fbeta: 0.5373\n",
      "Epoch 3/200\n",
      "64/64 [==============================] - 61s 960ms/step - loss: 0.1979 - fbeta: 0.7957 - val_loss: 0.3553 - val_fbeta: 0.6566\n",
      "Epoch 4/200\n",
      "64/64 [==============================] - 64s 997ms/step - loss: 0.1048 - fbeta: 0.9158 - val_loss: 0.4423 - val_fbeta: 0.5665\n",
      "Epoch 5/200\n",
      "64/64 [==============================] - 60s 932ms/step - loss: 0.0467 - fbeta: 0.9749 - val_loss: 0.4350 - val_fbeta: 0.6616\n",
      "Epoch 6/200\n",
      "64/64 [==============================] - 59s 926ms/step - loss: 0.0224 - fbeta: 0.9895 - val_loss: 0.5152 - val_fbeta: 0.6446\n",
      "Epoch 7/200\n",
      "64/64 [==============================] - 59s 927ms/step - loss: 0.0128 - fbeta: 0.9940 - val_loss: 0.6180 - val_fbeta: 0.6406\n",
      "Epoch 8/200\n",
      "64/64 [==============================] - 59s 925ms/step - loss: 0.0178 - fbeta: 0.9901 - val_loss: 0.4969 - val_fbeta: 0.6081\n",
      "Epoch 9/200\n",
      "45/64 [====================>.........] - ETA: 18s - loss: 0.0149 - fbeta: 0.9930"
     ]
    },
    {
     "ename": "KeyboardInterrupt",
     "evalue": "",
     "output_type": "error",
     "traceback": [
      "\u001b[0;31m---------------------------------------------------------------------------\u001b[0m",
      "\u001b[0;31mKeyboardInterrupt\u001b[0m                         Traceback (most recent call last)",
      "\u001b[0;32m<ipython-input-14-2b10c6d02097>\u001b[0m in \u001b[0;36m<module>\u001b[0;34m\u001b[0m\n\u001b[1;32m      3\u001b[0m \u001b[0;34m\u001b[0m\u001b[0m\n\u001b[1;32m      4\u001b[0m \u001b[0;31m# fit model\u001b[0m\u001b[0;34m\u001b[0m\u001b[0;34m\u001b[0m\u001b[0;34m\u001b[0m\u001b[0m\n\u001b[0;32m----> 5\u001b[0;31m history = model.fit(train_iter, \n\u001b[0m\u001b[1;32m      6\u001b[0m                     \u001b[0msteps_per_epoch\u001b[0m\u001b[0;34m=\u001b[0m\u001b[0mlen\u001b[0m\u001b[0;34m(\u001b[0m\u001b[0mtrain_iter\u001b[0m\u001b[0;34m)\u001b[0m\u001b[0;34m,\u001b[0m\u001b[0;34m\u001b[0m\u001b[0;34m\u001b[0m\u001b[0m\n\u001b[1;32m      7\u001b[0m                     \u001b[0mvalidation_data\u001b[0m\u001b[0;34m=\u001b[0m\u001b[0mval_iter\u001b[0m\u001b[0;34m,\u001b[0m\u001b[0;34m\u001b[0m\u001b[0;34m\u001b[0m\u001b[0m\n",
      "\u001b[0;32m~/anaconda3/lib/python3.8/site-packages/keras/engine/training.py\u001b[0m in \u001b[0;36mfit\u001b[0;34m(self, x, y, batch_size, epochs, verbose, callbacks, validation_split, validation_data, shuffle, class_weight, sample_weight, initial_epoch, steps_per_epoch, validation_steps, validation_batch_size, validation_freq, max_queue_size, workers, use_multiprocessing)\u001b[0m\n\u001b[1;32m   1182\u001b[0m                 _r=1):\n\u001b[1;32m   1183\u001b[0m               \u001b[0mcallbacks\u001b[0m\u001b[0;34m.\u001b[0m\u001b[0mon_train_batch_begin\u001b[0m\u001b[0;34m(\u001b[0m\u001b[0mstep\u001b[0m\u001b[0;34m)\u001b[0m\u001b[0;34m\u001b[0m\u001b[0;34m\u001b[0m\u001b[0m\n\u001b[0;32m-> 1184\u001b[0;31m               \u001b[0mtmp_logs\u001b[0m \u001b[0;34m=\u001b[0m \u001b[0mself\u001b[0m\u001b[0;34m.\u001b[0m\u001b[0mtrain_function\u001b[0m\u001b[0;34m(\u001b[0m\u001b[0miterator\u001b[0m\u001b[0;34m)\u001b[0m\u001b[0;34m\u001b[0m\u001b[0;34m\u001b[0m\u001b[0m\n\u001b[0m\u001b[1;32m   1185\u001b[0m               \u001b[0;32mif\u001b[0m \u001b[0mdata_handler\u001b[0m\u001b[0;34m.\u001b[0m\u001b[0mshould_sync\u001b[0m\u001b[0;34m:\u001b[0m\u001b[0;34m\u001b[0m\u001b[0;34m\u001b[0m\u001b[0m\n\u001b[1;32m   1186\u001b[0m                 \u001b[0mcontext\u001b[0m\u001b[0;34m.\u001b[0m\u001b[0masync_wait\u001b[0m\u001b[0;34m(\u001b[0m\u001b[0;34m)\u001b[0m\u001b[0;34m\u001b[0m\u001b[0;34m\u001b[0m\u001b[0m\n",
      "\u001b[0;32m~/anaconda3/lib/python3.8/site-packages/tensorflow/python/eager/def_function.py\u001b[0m in \u001b[0;36m__call__\u001b[0;34m(self, *args, **kwds)\u001b[0m\n\u001b[1;32m    883\u001b[0m \u001b[0;34m\u001b[0m\u001b[0m\n\u001b[1;32m    884\u001b[0m       \u001b[0;32mwith\u001b[0m \u001b[0mOptionalXlaContext\u001b[0m\u001b[0;34m(\u001b[0m\u001b[0mself\u001b[0m\u001b[0;34m.\u001b[0m\u001b[0m_jit_compile\u001b[0m\u001b[0;34m)\u001b[0m\u001b[0;34m:\u001b[0m\u001b[0;34m\u001b[0m\u001b[0;34m\u001b[0m\u001b[0m\n\u001b[0;32m--> 885\u001b[0;31m         \u001b[0mresult\u001b[0m \u001b[0;34m=\u001b[0m \u001b[0mself\u001b[0m\u001b[0;34m.\u001b[0m\u001b[0m_call\u001b[0m\u001b[0;34m(\u001b[0m\u001b[0;34m*\u001b[0m\u001b[0margs\u001b[0m\u001b[0;34m,\u001b[0m \u001b[0;34m**\u001b[0m\u001b[0mkwds\u001b[0m\u001b[0;34m)\u001b[0m\u001b[0;34m\u001b[0m\u001b[0;34m\u001b[0m\u001b[0m\n\u001b[0m\u001b[1;32m    886\u001b[0m \u001b[0;34m\u001b[0m\u001b[0m\n\u001b[1;32m    887\u001b[0m       \u001b[0mnew_tracing_count\u001b[0m \u001b[0;34m=\u001b[0m \u001b[0mself\u001b[0m\u001b[0;34m.\u001b[0m\u001b[0mexperimental_get_tracing_count\u001b[0m\u001b[0;34m(\u001b[0m\u001b[0;34m)\u001b[0m\u001b[0;34m\u001b[0m\u001b[0;34m\u001b[0m\u001b[0m\n",
      "\u001b[0;32m~/anaconda3/lib/python3.8/site-packages/tensorflow/python/eager/def_function.py\u001b[0m in \u001b[0;36m_call\u001b[0;34m(self, *args, **kwds)\u001b[0m\n\u001b[1;32m    915\u001b[0m       \u001b[0;31m# In this case we have created variables on the first call, so we run the\u001b[0m\u001b[0;34m\u001b[0m\u001b[0;34m\u001b[0m\u001b[0;34m\u001b[0m\u001b[0m\n\u001b[1;32m    916\u001b[0m       \u001b[0;31m# defunned version which is guaranteed to never create variables.\u001b[0m\u001b[0;34m\u001b[0m\u001b[0;34m\u001b[0m\u001b[0;34m\u001b[0m\u001b[0m\n\u001b[0;32m--> 917\u001b[0;31m       \u001b[0;32mreturn\u001b[0m \u001b[0mself\u001b[0m\u001b[0;34m.\u001b[0m\u001b[0m_stateless_fn\u001b[0m\u001b[0;34m(\u001b[0m\u001b[0;34m*\u001b[0m\u001b[0margs\u001b[0m\u001b[0;34m,\u001b[0m \u001b[0;34m**\u001b[0m\u001b[0mkwds\u001b[0m\u001b[0;34m)\u001b[0m  \u001b[0;31m# pylint: disable=not-callable\u001b[0m\u001b[0;34m\u001b[0m\u001b[0;34m\u001b[0m\u001b[0m\n\u001b[0m\u001b[1;32m    918\u001b[0m     \u001b[0;32melif\u001b[0m \u001b[0mself\u001b[0m\u001b[0;34m.\u001b[0m\u001b[0m_stateful_fn\u001b[0m \u001b[0;32mis\u001b[0m \u001b[0;32mnot\u001b[0m \u001b[0;32mNone\u001b[0m\u001b[0;34m:\u001b[0m\u001b[0;34m\u001b[0m\u001b[0;34m\u001b[0m\u001b[0m\n\u001b[1;32m    919\u001b[0m       \u001b[0;31m# Release the lock early so that multiple threads can perform the call\u001b[0m\u001b[0;34m\u001b[0m\u001b[0;34m\u001b[0m\u001b[0;34m\u001b[0m\u001b[0m\n",
      "\u001b[0;32m~/anaconda3/lib/python3.8/site-packages/tensorflow/python/eager/function.py\u001b[0m in \u001b[0;36m__call__\u001b[0;34m(self, *args, **kwargs)\u001b[0m\n\u001b[1;32m   3037\u001b[0m       (graph_function,\n\u001b[1;32m   3038\u001b[0m        filtered_flat_args) = self._maybe_define_function(args, kwargs)\n\u001b[0;32m-> 3039\u001b[0;31m     return graph_function._call_flat(\n\u001b[0m\u001b[1;32m   3040\u001b[0m         filtered_flat_args, captured_inputs=graph_function.captured_inputs)  # pylint: disable=protected-access\n\u001b[1;32m   3041\u001b[0m \u001b[0;34m\u001b[0m\u001b[0m\n",
      "\u001b[0;32m~/anaconda3/lib/python3.8/site-packages/tensorflow/python/eager/function.py\u001b[0m in \u001b[0;36m_call_flat\u001b[0;34m(self, args, captured_inputs, cancellation_manager)\u001b[0m\n\u001b[1;32m   1961\u001b[0m         and executing_eagerly):\n\u001b[1;32m   1962\u001b[0m       \u001b[0;31m# No tape is watching; skip to running the function.\u001b[0m\u001b[0;34m\u001b[0m\u001b[0;34m\u001b[0m\u001b[0;34m\u001b[0m\u001b[0m\n\u001b[0;32m-> 1963\u001b[0;31m       return self._build_call_outputs(self._inference_function.call(\n\u001b[0m\u001b[1;32m   1964\u001b[0m           ctx, args, cancellation_manager=cancellation_manager))\n\u001b[1;32m   1965\u001b[0m     forward_backward = self._select_forward_and_backward_functions(\n",
      "\u001b[0;32m~/anaconda3/lib/python3.8/site-packages/tensorflow/python/eager/function.py\u001b[0m in \u001b[0;36mcall\u001b[0;34m(self, ctx, args, cancellation_manager)\u001b[0m\n\u001b[1;32m    589\u001b[0m       \u001b[0;32mwith\u001b[0m \u001b[0m_InterpolateFunctionError\u001b[0m\u001b[0;34m(\u001b[0m\u001b[0mself\u001b[0m\u001b[0;34m)\u001b[0m\u001b[0;34m:\u001b[0m\u001b[0;34m\u001b[0m\u001b[0;34m\u001b[0m\u001b[0m\n\u001b[1;32m    590\u001b[0m         \u001b[0;32mif\u001b[0m \u001b[0mcancellation_manager\u001b[0m \u001b[0;32mis\u001b[0m \u001b[0;32mNone\u001b[0m\u001b[0;34m:\u001b[0m\u001b[0;34m\u001b[0m\u001b[0;34m\u001b[0m\u001b[0m\n\u001b[0;32m--> 591\u001b[0;31m           outputs = execute.execute(\n\u001b[0m\u001b[1;32m    592\u001b[0m               \u001b[0mstr\u001b[0m\u001b[0;34m(\u001b[0m\u001b[0mself\u001b[0m\u001b[0;34m.\u001b[0m\u001b[0msignature\u001b[0m\u001b[0;34m.\u001b[0m\u001b[0mname\u001b[0m\u001b[0;34m)\u001b[0m\u001b[0;34m,\u001b[0m\u001b[0;34m\u001b[0m\u001b[0;34m\u001b[0m\u001b[0m\n\u001b[1;32m    593\u001b[0m               \u001b[0mnum_outputs\u001b[0m\u001b[0;34m=\u001b[0m\u001b[0mself\u001b[0m\u001b[0;34m.\u001b[0m\u001b[0m_num_outputs\u001b[0m\u001b[0;34m,\u001b[0m\u001b[0;34m\u001b[0m\u001b[0;34m\u001b[0m\u001b[0m\n",
      "\u001b[0;32m~/anaconda3/lib/python3.8/site-packages/tensorflow/python/eager/execute.py\u001b[0m in \u001b[0;36mquick_execute\u001b[0;34m(op_name, num_outputs, inputs, attrs, ctx, name)\u001b[0m\n\u001b[1;32m     57\u001b[0m   \u001b[0;32mtry\u001b[0m\u001b[0;34m:\u001b[0m\u001b[0;34m\u001b[0m\u001b[0;34m\u001b[0m\u001b[0m\n\u001b[1;32m     58\u001b[0m     \u001b[0mctx\u001b[0m\u001b[0;34m.\u001b[0m\u001b[0mensure_initialized\u001b[0m\u001b[0;34m(\u001b[0m\u001b[0;34m)\u001b[0m\u001b[0;34m\u001b[0m\u001b[0;34m\u001b[0m\u001b[0m\n\u001b[0;32m---> 59\u001b[0;31m     tensors = pywrap_tfe.TFE_Py_Execute(ctx._handle, device_name, op_name,\n\u001b[0m\u001b[1;32m     60\u001b[0m                                         inputs, attrs, num_outputs)\n\u001b[1;32m     61\u001b[0m   \u001b[0;32mexcept\u001b[0m \u001b[0mcore\u001b[0m\u001b[0;34m.\u001b[0m\u001b[0m_NotOkStatusException\u001b[0m \u001b[0;32mas\u001b[0m \u001b[0me\u001b[0m\u001b[0;34m:\u001b[0m\u001b[0;34m\u001b[0m\u001b[0;34m\u001b[0m\u001b[0m\n",
      "\u001b[0;31mKeyboardInterrupt\u001b[0m: "
     ]
    }
   ],
   "source": [
    "# create early stopping object\n",
    "es = EarlyStopping(monitor='val_loss', mode='min', verbose=1, patience=20)\n",
    "\n",
    "# fit model\n",
    "history = model.fit(train_iter, \n",
    "                    steps_per_epoch=len(train_iter),\n",
    "                    validation_data=val_iter,\n",
    "                    validation_steps=len(val_iter), \n",
    "                    callbacks=[es],\n",
    "                    epochs=200)"
   ]
  },
  {
   "cell_type": "code",
   "execution_count": null,
   "metadata": {
    "id": "sQNEF43drCyz"
   },
   "outputs": [],
   "source": [
    "# create function for plotting\n",
    "\n",
    "def evaluate_model(history):\n",
    "    # plot training and validation loss\n",
    "    fig = plt.figure(figsize=(15,5))\n",
    "    fig.add_subplot(121)\n",
    "    plt.plot(history.history['loss'], color='blue', label='train')\n",
    "    plt.plot(history.history['val_loss'], color='orange', label='val')\n",
    "    plt.legend()\n",
    "    plt.title('Loss')\n",
    "\n",
    "    # plot training and validation accuracy\n",
    "    fig.add_subplot(122)\n",
    "    plt.plot(history.history['fbeta'], color='blue', label='train')\n",
    "    plt.plot(history.history['val_fbeta'], color='orange', label='val')\n",
    "    plt.legend()\n",
    "    plt.title('F-beta score')\n",
    "    \n",
    "    plt.show()\n",
    "    \n",
    "    # print model accuracy\n",
    "    _, fbeta = model.evaluate(test_iter, steps=len(test_iter), verbose=0)\n",
    "    print('Model F-beta score : ', fbeta)\n",
    "    return fbeta"
   ]
  },
  {
   "cell_type": "code",
   "execution_count": null,
   "metadata": {
    "colab": {
     "base_uri": "https://localhost:8080/",
     "height": 353
    },
    "executionInfo": {
     "elapsed": 2046,
     "status": "ok",
     "timestamp": 1611559197769,
     "user": {
      "displayName": "Woradee Kongthong",
      "photoUrl": "",
      "userId": "15785668817994750121"
     },
     "user_tz": -420
    },
    "id": "MUSmt3KfrsZI",
    "outputId": "2e963323-ebe6-4a6d-811a-126889f148ba"
   },
   "outputs": [],
   "source": [
    "baseline1_perf = evaluate_model(history)"
   ]
  },
  {
   "cell_type": "markdown",
   "metadata": {
    "id": "4_JvkXn90nl0"
   },
   "source": [
    "Note : overfitting"
   ]
  },
  {
   "cell_type": "markdown",
   "metadata": {
    "id": "zf3r--g8sDXr"
   },
   "source": [
    "### Baseline model 2 : 2 vgg blocks"
   ]
  },
  {
   "cell_type": "code",
   "execution_count": null,
   "metadata": {
    "colab": {
     "base_uri": "https://localhost:8080/",
     "height": 1000
    },
    "executionInfo": {
     "elapsed": 35016,
     "status": "ok",
     "timestamp": 1611559234122,
     "user": {
      "displayName": "Woradee Kongthong",
      "photoUrl": "",
      "userId": "15785668817994750121"
     },
     "user_tz": -420
    },
    "id": "Le-saFEJsGYs",
    "outputId": "c355c71e-e283-4410-dcbb-2d92b1620286"
   },
   "outputs": [],
   "source": [
    "# create image data generator\n",
    "train_gen = ImageDataGenerator(rescale=1./255, validation_split=0.2)\n",
    "test_gen = ImageDataGenerator(rescale=1./255)\n",
    "\n",
    "batch_size = 20\n",
    "train_iter = train_gen.flow(X_train, y_train, batch_size=batch_size, subset='training', seed=123)\n",
    "val_iter = train_gen.flow(X_train, y_train, batch_size=batch_size, subset='validation', seed=123)\n",
    "test_iter = test_gen.flow(X_test, y_test, batch_size=1, seed=123)\n",
    "\n",
    "# create model\n",
    "model = Sequential()\n",
    "model.add(Conv2D(32, (3,3), padding='same', activation='relu', kernel_initializer='he_uniform', input_shape=(128, 128, 3)))\n",
    "model.add(Conv2D(32, (3,3), padding='same', activation='relu', kernel_initializer='he_uniform'))\n",
    "model.add(MaxPooling2D((2,2)))\n",
    "model.add(Conv2D(64, (3,3), padding='same', activation='relu', kernel_initializer='he_uniform', input_shape=(128, 128, 3)))\n",
    "model.add(Conv2D(64, (3,3), padding='same', activation='relu', kernel_initializer='he_uniform'))\n",
    "model.add(MaxPooling2D((2,2)))\n",
    "model.add(Flatten())\n",
    "model.add(Dense(100, activation='relu', kernel_initializer='he_uniform'))\n",
    "model.add(Dense(5, activation='sigmoid'))\n",
    "\n",
    "# compile model\n",
    "model.compile(optimizer='adam', loss='binary_crossentropy', metrics=[fbeta])\n",
    "\n",
    "# create early stopping object\n",
    "es = EarlyStopping(monitor='val_loss', mode='min', verbose=1, patience=20)\n",
    "\n",
    "# fit model\n",
    "history = model.fit(train_iter, \n",
    "                    steps_per_epoch=len(train_iter),\n",
    "                    validation_data=val_iter,\n",
    "                    validation_steps=len(val_iter), \n",
    "                    callbacks=[es],\n",
    "                    epochs=200)\n",
    "# show result\n",
    "baseline2_perf = evaluate_model(history)"
   ]
  },
  {
   "cell_type": "markdown",
   "metadata": {
    "id": "Dz3lEct506FZ"
   },
   "source": [
    "Note : overfitting"
   ]
  },
  {
   "cell_type": "markdown",
   "metadata": {
    "id": "bgaCIigEsfMp"
   },
   "source": [
    "### Baseline model 3 : 3 vgg blocks"
   ]
  },
  {
   "cell_type": "code",
   "execution_count": null,
   "metadata": {
    "colab": {
     "base_uri": "https://localhost:8080/",
     "height": 1000
    },
    "executionInfo": {
     "elapsed": 43409,
     "status": "ok",
     "timestamp": 1611559282148,
     "user": {
      "displayName": "Woradee Kongthong",
      "photoUrl": "",
      "userId": "15785668817994750121"
     },
     "user_tz": -420
    },
    "id": "3M3KF8M5shaC",
    "outputId": "5646e802-3976-4d65-d29a-43d5a2d8b530"
   },
   "outputs": [],
   "source": [
    "# create model\n",
    "model = Sequential()\n",
    "model.add(Conv2D(32, (3,3), padding='same', activation='relu', kernel_initializer='he_uniform', input_shape=(128, 128, 3)))\n",
    "model.add(Conv2D(32, (3,3), padding='same', activation='relu', kernel_initializer='he_uniform'))\n",
    "model.add(MaxPooling2D((2,2)))\n",
    "model.add(Conv2D(64, (3,3), padding='same', activation='relu', kernel_initializer='he_uniform', input_shape=(128, 128, 3)))\n",
    "model.add(Conv2D(64, (3,3), padding='same', activation='relu', kernel_initializer='he_uniform'))\n",
    "model.add(MaxPooling2D((2,2)))\n",
    "model.add(Conv2D(128, (3,3), padding='same', activation='relu', kernel_initializer='he_uniform', input_shape=(128, 128, 3)))\n",
    "model.add(Conv2D(128, (3,3), padding='same', activation='relu', kernel_initializer='he_uniform'))\n",
    "model.add(MaxPooling2D((2,2)))\n",
    "model.add(Flatten())\n",
    "model.add(Dense(100, activation='relu', kernel_initializer='he_uniform'))\n",
    "model.add(Dense(5, activation='sigmoid'))\n",
    "\n",
    "# compile model\n",
    "model.compile(optimizer='adam', loss='binary_crossentropy', metrics=[fbeta])\n",
    "\n",
    "# create early stopping object\n",
    "es = EarlyStopping(monitor='val_loss', mode='min', verbose=1, patience=20)\n",
    "\n",
    "# fit model\n",
    "history = model.fit(train_iter, \n",
    "                    steps_per_epoch=len(train_iter),\n",
    "                    validation_data=val_iter,\n",
    "                    validation_steps=len(val_iter), \n",
    "                    callbacks=[es],\n",
    "                    epochs=200)\n",
    "# show result\n",
    "baseline3_perf = evaluate_model(history)"
   ]
  },
  {
   "cell_type": "markdown",
   "metadata": {
    "id": "taju6umyard-"
   },
   "source": [
    "Note : overfitting"
   ]
  },
  {
   "cell_type": "markdown",
   "metadata": {
    "id": "6Y3XV1YCs3ZE"
   },
   "source": [
    "## Baseline model performance\n"
   ]
  },
  {
   "cell_type": "code",
   "execution_count": null,
   "metadata": {
    "colab": {
     "base_uri": "https://localhost:8080/"
    },
    "executionInfo": {
     "elapsed": 546,
     "status": "ok",
     "timestamp": 1611559288346,
     "user": {
      "displayName": "Woradee Kongthong",
      "photoUrl": "",
      "userId": "15785668817994750121"
     },
     "user_tz": -420
    },
    "id": "oKIH9x9G1BPM",
    "outputId": "0da82cc3-56d8-4e58-f8d5-5f48625b26e8"
   },
   "outputs": [],
   "source": [
    "print('Baseline model 1 : ', baseline1_perf)\n",
    "print('Baseline model 2 : ', baseline2_perf)\n",
    "print('Baseline model 3 : ', baseline3_perf)"
   ]
  },
  {
   "cell_type": "markdown",
   "metadata": {
    "id": "uwh9WC9HgeKp"
   },
   "source": [
    "## Improved Models"
   ]
  },
  {
   "cell_type": "markdown",
   "metadata": {
    "id": "T4__pH0lv0ok"
   },
   "source": [
    "### model 1 : Baseline + dropout layers"
   ]
  },
  {
   "cell_type": "code",
   "execution_count": null,
   "metadata": {
    "colab": {
     "base_uri": "https://localhost:8080/",
     "height": 1000
    },
    "executionInfo": {
     "elapsed": 50336,
     "status": "ok",
     "timestamp": 1611561573268,
     "user": {
      "displayName": "Woradee Kongthong",
      "photoUrl": "",
      "userId": "15785668817994750121"
     },
     "user_tz": -420
    },
    "id": "N7Btxs5GtGAW",
    "outputId": "814cd7d6-d8c1-4ff6-92cc-71bbe349b285"
   },
   "outputs": [],
   "source": [
    "# create image data generator\n",
    "train_gen = ImageDataGenerator(rescale=1./255, validation_split=0.2)\n",
    "test_gen = ImageDataGenerator(rescale=1./255)\n",
    "\n",
    "batch_size = 20\n",
    "train_iter = train_gen.flow(X_train, y_train, batch_size=batch_size, subset='training', seed=123)\n",
    "val_iter = train_gen.flow(X_train, y_train, batch_size=batch_size, subset='validation', seed=123)\n",
    "test_iter = test_gen.flow(X_test, y_test, batch_size=1, shuffle=False)\n",
    "\n",
    "# create model\n",
    "model = Sequential()\n",
    "model.add(Conv2D(32, (3,3), padding='same', activation='relu', kernel_initializer='he_uniform', input_shape=(128, 128, 3)))\n",
    "model.add(Conv2D(32, (3,3), padding='same', activation='relu', kernel_initializer='he_uniform'))\n",
    "model.add(MaxPooling2D((2,2)))\n",
    "model.add(Dropout(0.2))\n",
    "model.add(Conv2D(64, (3,3), padding='same', activation='relu', kernel_initializer='he_uniform', input_shape=(128, 128, 3)))\n",
    "model.add(Conv2D(64, (3,3), padding='same', activation='relu', kernel_initializer='he_uniform'))\n",
    "model.add(MaxPooling2D((2,2)))\n",
    "model.add(Dropout(0.2))\n",
    "model.add(Conv2D(128, (3,3), padding='same', activation='relu', kernel_initializer='he_uniform', input_shape=(128, 128, 3)))\n",
    "model.add(Conv2D(128, (3,3), padding='same', activation='relu', kernel_initializer='he_uniform'))\n",
    "model.add(MaxPooling2D((2,2)))\n",
    "model.add(Dropout(0.2))\n",
    "model.add(Flatten())\n",
    "model.add(Dense(100, activation='relu', kernel_initializer='he_uniform'))\n",
    "model.add(Dropout(0.3))\n",
    "model.add(Dense(5, activation='sigmoid'))\n",
    "\n",
    "\n",
    "# compile model\n",
    "model.compile(optimizer='adam', loss='binary_crossentropy', metrics=[fbeta])\n",
    "\n",
    "# create early stopping object\n",
    "es = EarlyStopping(monitor='val_loss', mode='min', verbose=1, patience=20)\n",
    "\n",
    "# fit model\n",
    "history = model.fit(train_iter, \n",
    "                    steps_per_epoch=len(train_iter),\n",
    "                    validation_data=val_iter,\n",
    "                    validation_steps=len(val_iter), \n",
    "                    callbacks=[es],\n",
    "                    epochs=200)\n",
    "# show result\n",
    "model1_perf = evaluate_model(history)"
   ]
  },
  {
   "cell_type": "markdown",
   "metadata": {
    "id": "GVBOdeCMxTW9"
   },
   "source": [
    "Note : overfitting is reduced"
   ]
  },
  {
   "cell_type": "markdown",
   "metadata": {
    "id": "ATpnSuddxdBd"
   },
   "source": [
    "### model 2 : Baseline + data augmentation"
   ]
  },
  {
   "cell_type": "code",
   "execution_count": null,
   "metadata": {
    "colab": {
     "base_uri": "https://localhost:8080/",
     "height": 1000
    },
    "executionInfo": {
     "elapsed": 247209,
     "status": "ok",
     "timestamp": 1611559796113,
     "user": {
      "displayName": "Woradee Kongthong",
      "photoUrl": "",
      "userId": "15785668817994750121"
     },
     "user_tz": -420
    },
    "id": "7c6p-6Snyfmv",
    "outputId": "1ac1d576-aa98-4611-c5fe-28cf16111d65"
   },
   "outputs": [],
   "source": [
    "# create data generator with data augmentation\n",
    "train_gen = ImageDataGenerator(rescale=1./255,\n",
    "                               rotation_range=30,\n",
    "                               width_shift_range=0.2,\n",
    "                               height_shift_range=0.2,\n",
    "                               zoom_range=0.2,\n",
    "                               horizontal_flip=True,\n",
    "                               vertical_flip=True,\n",
    "                               validation_split=0.2)\n",
    "test_gen = ImageDataGenerator(rescale=1./255)\n",
    "\n",
    "batch_size = 20\n",
    "train_iter = train_gen.flow(X_train, y_train, batch_size=batch_size, subset='training', seed=123)\n",
    "val_iter = train_gen.flow(X_train, y_train, batch_size=batch_size, subset='validation', seed=123)\n",
    "test_iter = test_gen.flow(X_test, y_test, batch_size=1, shuffle=False)\n",
    "\n",
    "# create model\n",
    "model = Sequential()\n",
    "model.add(Conv2D(32, (3,3), padding='same', activation='relu', kernel_initializer='he_uniform', input_shape=(128, 128, 3)))\n",
    "model.add(Conv2D(32, (3,3), padding='same', activation='relu', kernel_initializer='he_uniform'))\n",
    "model.add(MaxPooling2D((2,2)))\n",
    "model.add(Conv2D(64, (3,3), padding='same', activation='relu', kernel_initializer='he_uniform', input_shape=(128, 128, 3)))\n",
    "model.add(Conv2D(64, (3,3), padding='same', activation='relu', kernel_initializer='he_uniform'))\n",
    "model.add(MaxPooling2D((2,2)))\n",
    "model.add(Conv2D(128, (3,3), padding='same', activation='relu', kernel_initializer='he_uniform', input_shape=(128, 128, 3)))\n",
    "model.add(Conv2D(128, (3,3), padding='same', activation='relu', kernel_initializer='he_uniform'))\n",
    "model.add(MaxPooling2D((2,2)))\n",
    "model.add(Flatten())\n",
    "model.add(Dense(100, activation='relu', kernel_initializer='he_uniform'))\n",
    "model.add(Dense(5, activation='sigmoid'))\n",
    "\n",
    "# compile model\n",
    "model.compile(optimizer='adam', loss='binary_crossentropy', metrics=[fbeta])\n",
    "\n",
    "# create early stopping object\n",
    "es = EarlyStopping(monitor='val_loss', mode='min', verbose=1, patience=20)\n",
    "\n",
    "# fit model\n",
    "history = model.fit(train_iter, \n",
    "                    steps_per_epoch=len(train_iter),\n",
    "                    validation_data=val_iter,\n",
    "                    validation_steps=len(val_iter), \n",
    "                    callbacks=[es],\n",
    "                    epochs=200)\n",
    "# show result\n",
    "model2_perf = evaluate_model(history)"
   ]
  },
  {
   "cell_type": "markdown",
   "metadata": {
    "id": "zgkmZK4vddrN"
   },
   "source": [
    "Note : overfitting is reduced"
   ]
  },
  {
   "cell_type": "markdown",
   "metadata": {
    "id": "njGE65gt3D1m"
   },
   "source": [
    "### model 3 : Baseline + data augmentation + dropout layers"
   ]
  },
  {
   "cell_type": "code",
   "execution_count": null,
   "metadata": {
    "colab": {
     "base_uri": "https://localhost:8080/",
     "height": 1000
    },
    "executionInfo": {
     "elapsed": 517847,
     "status": "ok",
     "timestamp": 1611562128080,
     "user": {
      "displayName": "Woradee Kongthong",
      "photoUrl": "",
      "userId": "15785668817994750121"
     },
     "user_tz": -420
    },
    "id": "CGXrSqAM3DV2",
    "outputId": "a7c3bace-1d40-4ca5-e030-074278d75d3a"
   },
   "outputs": [],
   "source": [
    "# create data generator with data augmentation\n",
    "train_gen = ImageDataGenerator(rescale=1./255,\n",
    "                               rotation_range=30,\n",
    "                               width_shift_range=0.2,\n",
    "                               height_shift_range=0.2,\n",
    "                               zoom_range=0.2,\n",
    "                               horizontal_flip=True,\n",
    "                               vertical_flip=True,\n",
    "                               validation_split=0.2)\n",
    "test_gen = ImageDataGenerator(rescale=1./255)\n",
    "\n",
    "batch_size = 20\n",
    "train_iter = train_gen.flow(X_train, y_train, batch_size=batch_size, subset='training', seed=123)\n",
    "val_iter = train_gen.flow(X_train, y_train, batch_size=batch_size, subset='validation', seed=123)\n",
    "test_iter = test_gen.flow(X_test, y_test, batch_size=1, seed=123)\n",
    "\n",
    "# create model : add dropout layers\n",
    "model = Sequential()\n",
    "model.add(Conv2D(32, (3,3), padding='same', activation='relu', kernel_initializer='he_uniform', input_shape=(128, 128, 3)))\n",
    "model.add(Conv2D(32, (3,3), padding='same', activation='relu', kernel_initializer='he_uniform'))\n",
    "model.add(MaxPooling2D((2,2)))\n",
    "model.add(Dropout(0.2))\n",
    "model.add(Conv2D(64, (3,3), padding='same', activation='relu', kernel_initializer='he_uniform', input_shape=(128, 128, 3)))\n",
    "model.add(Conv2D(64, (3,3), padding='same', activation='relu', kernel_initializer='he_uniform'))\n",
    "model.add(MaxPooling2D((2,2)))\n",
    "model.add(Dropout(0.2))\n",
    "model.add(Conv2D(128, (3,3), padding='same', activation='relu', kernel_initializer='he_uniform', input_shape=(128, 128, 3)))\n",
    "model.add(Conv2D(128, (3,3), padding='same', activation='relu', kernel_initializer='he_uniform'))\n",
    "model.add(MaxPooling2D((2,2)))\n",
    "model.add(Dropout(0.2))\n",
    "model.add(Flatten())\n",
    "model.add(Dense(100, activation='relu', kernel_initializer='he_uniform'))\n",
    "model.add(Dropout(0.3))\n",
    "model.add(Dense(5, activation='sigmoid'))\n",
    "\n",
    "# compile model\n",
    "model.compile(optimizer='adam', loss='binary_crossentropy', metrics=[fbeta])\n",
    "\n",
    "# create early stopping object\n",
    "es = EarlyStopping(monitor='val_loss', mode='min', verbose=1, patience=20)\n",
    "\n",
    "# fit model\n",
    "history = model.fit(train_iter, \n",
    "                    steps_per_epoch=len(train_iter),\n",
    "                    validation_data=val_iter,\n",
    "                    validation_steps=len(val_iter), \n",
    "                    callbacks=[es],\n",
    "                    epochs=200)\n",
    "# show result\n",
    "model3_perf = evaluate_model(history)"
   ]
  },
  {
   "cell_type": "markdown",
   "metadata": {
    "id": "bnWmhrNJ8Up1"
   },
   "source": [
    "Note : overfitting is reduced, the performance is lower"
   ]
  },
  {
   "cell_type": "markdown",
   "metadata": {
    "id": "6LSTHFTIiZqi"
   },
   "source": [
    "### model 4 : Baseline + data augmentation + dropout layer + more dense layers"
   ]
  },
  {
   "cell_type": "code",
   "execution_count": null,
   "metadata": {
    "colab": {
     "base_uri": "https://localhost:8080/",
     "height": 1000
    },
    "executionInfo": {
     "elapsed": 563318,
     "status": "ok",
     "timestamp": 1611562703264,
     "user": {
      "displayName": "Woradee Kongthong",
      "photoUrl": "",
      "userId": "15785668817994750121"
     },
     "user_tz": -420
    },
    "id": "8jTPaC1giqMY",
    "outputId": "ec2a07f5-7be6-4cc8-e347-6119ce24040f"
   },
   "outputs": [],
   "source": [
    "# create data generator with data augmentation\n",
    "train_gen = ImageDataGenerator(rescale=1./255,\n",
    "                               rotation_range=30,\n",
    "                               width_shift_range=0.2,\n",
    "                               height_shift_range=0.2,\n",
    "                               zoom_range=0.2,\n",
    "                               horizontal_flip=True,\n",
    "                               vertical_flip=True,\n",
    "                               validation_split=0.2)\n",
    "test_gen = ImageDataGenerator(rescale=1./255)\n",
    "\n",
    "batch_size = 20\n",
    "train_iter = train_gen.flow(X_train, y_train, batch_size=batch_size, subset='training', seed=123)\n",
    "val_iter = train_gen.flow(X_train, y_train, batch_size=batch_size, subset='validation', seed=123)\n",
    "test_iter = test_gen.flow(X_test, y_test, batch_size=1, seed=123)\n",
    "\n",
    "# create model\n",
    "model = Sequential()\n",
    "model.add(Conv2D(32, (3,3), padding='same', activation='relu', kernel_initializer='he_uniform', input_shape=(128, 128, 3)))\n",
    "model.add(Conv2D(32, (3,3), padding='same', activation='relu', kernel_initializer='he_uniform'))\n",
    "model.add(MaxPooling2D((2,2)))\n",
    "model.add(Dropout(0.2))\n",
    "model.add(Conv2D(64, (3,3), padding='same', activation='relu', kernel_initializer='he_uniform', input_shape=(128, 128, 3)))\n",
    "model.add(Conv2D(64, (3,3), padding='same', activation='relu', kernel_initializer='he_uniform'))\n",
    "model.add(MaxPooling2D((2,2)))\n",
    "model.add(Dropout(0.2))\n",
    "model.add(Conv2D(128, (3,3), padding='same', activation='relu', kernel_initializer='he_uniform', input_shape=(128, 128, 3)))\n",
    "model.add(Conv2D(128, (3,3), padding='same', activation='relu', kernel_initializer='he_uniform'))\n",
    "model.add(MaxPooling2D((2,2)))\n",
    "model.add(Dropout(0.2))\n",
    "model.add(Flatten())\n",
    "model.add(Dense(200, activation='relu', kernel_initializer='he_uniform'))\n",
    "model.add(Dropout(0.3))\n",
    "model.add(Dense(100, activation='relu', kernel_initializer='he_uniform'))\n",
    "model.add(Dropout(0.3))\n",
    "model.add(Dense(5, activation='sigmoid'))\n",
    "\n",
    "\n",
    "# compile model\n",
    "model.compile(optimizer='adam', loss='binary_crossentropy', metrics=[fbeta])\n",
    "\n",
    "# create early stopping object\n",
    "es = EarlyStopping(monitor='val_loss', mode='min', verbose=1, patience=20)\n",
    "\n",
    "# fit model\n",
    "history = model.fit(train_iter, \n",
    "                    steps_per_epoch=len(train_iter),\n",
    "                    validation_data=val_iter,\n",
    "                    validation_steps=len(val_iter), \n",
    "                    callbacks=[es],\n",
    "                    epochs=200)\n",
    "# show result\n",
    "model4_perf = evaluate_model(history)"
   ]
  },
  {
   "cell_type": "markdown",
   "metadata": {
    "id": "nwxX2_-NWONg"
   },
   "source": [
    "## Improved model performance (fbeta score)\n"
   ]
  },
  {
   "cell_type": "code",
   "execution_count": null,
   "metadata": {
    "colab": {
     "base_uri": "https://localhost:8080/"
    },
    "executionInfo": {
     "elapsed": 949,
     "status": "ok",
     "timestamp": 1611562766194,
     "user": {
      "displayName": "Woradee Kongthong",
      "photoUrl": "",
      "userId": "15785668817994750121"
     },
     "user_tz": -420
    },
    "id": "9kAP_W-EP8FU",
    "outputId": "9315ee4c-2878-49c4-8566-44abe867a561"
   },
   "outputs": [],
   "source": [
    "print('Baseline model : ', baseline3_perf)\n",
    "print('Model 1 : ', model1_perf)\n",
    "print('Model 2 : ', model2_perf)\n",
    "print('Model 3 : ', model3_perf)\n",
    "print('Model 4 : ', model4_perf)"
   ]
  },
  {
   "cell_type": "markdown",
   "metadata": {
    "id": "wcgO6zoJhdBL"
   },
   "source": [
    "## Finalize model 3\n",
    "Train the selected model again.  \n",
    "Give it more time to learn.  \n",
    "Save the highest performance with ModelCheckpoint."
   ]
  },
  {
   "cell_type": "code",
   "execution_count": null,
   "metadata": {
    "colab": {
     "base_uri": "https://localhost:8080/"
    },
    "executionInfo": {
     "elapsed": 614076,
     "status": "ok",
     "timestamp": 1611568114700,
     "user": {
      "displayName": "Samantha K.",
      "photoUrl": "https://lh3.googleusercontent.com/a-/AOh14GjqOn4Eq2aGKTpdlO0FSSiTvIIbKGBzhPNGPF1Ysg=s64",
      "userId": "17154081479065187787"
     },
     "user_tz": -420
    },
    "id": "LuKDiKmXhfPs",
    "outputId": "6f3aa149-d0af-442f-a6b0-acc5d44950a7"
   },
   "outputs": [],
   "source": [
    "# create data generator with data augmentation\n",
    "train_gen = ImageDataGenerator(rescale=1./255,\n",
    "                               rotation_range=30,\n",
    "                               width_shift_range=0.2,\n",
    "                               height_shift_range=0.2,\n",
    "                               zoom_range=0.2,\n",
    "                               horizontal_flip=True,\n",
    "                               vertical_flip=True,\n",
    "                               validation_split=0.2)\n",
    "test_gen = ImageDataGenerator(rescale=1./255)\n",
    "\n",
    "batch_size = 20\n",
    "train_iter = train_gen.flow(X_train, y_train, batch_size=batch_size, subset='training', seed=123)\n",
    "val_iter = train_gen.flow(X_train, y_train, batch_size=batch_size, subset='validation', seed=123)\n",
    "test_iter = test_gen.flow(X_test, y_test, batch_size=1, seed=123)\n",
    "\n",
    "# create model : add dropout layers\n",
    "model = Sequential()\n",
    "model.add(Conv2D(32, (3,3), padding='same', activation='relu', kernel_initializer='he_uniform', input_shape=(128, 128, 3)))\n",
    "model.add(Conv2D(32, (3,3), padding='same', activation='relu', kernel_initializer='he_uniform'))\n",
    "model.add(MaxPooling2D((2,2)))\n",
    "model.add(Dropout(0.2))\n",
    "model.add(Conv2D(64, (3,3), padding='same', activation='relu', kernel_initializer='he_uniform', input_shape=(128, 128, 3)))\n",
    "model.add(Conv2D(64, (3,3), padding='same', activation='relu', kernel_initializer='he_uniform'))\n",
    "model.add(MaxPooling2D((2,2)))\n",
    "model.add(Dropout(0.2))\n",
    "model.add(Conv2D(128, (3,3), padding='same', activation='relu', kernel_initializer='he_uniform', input_shape=(128, 128, 3)))\n",
    "model.add(Conv2D(128, (3,3), padding='same', activation='relu', kernel_initializer='he_uniform'))\n",
    "model.add(MaxPooling2D((2,2)))\n",
    "model.add(Dropout(0.2))\n",
    "model.add(Flatten())\n",
    "model.add(Dense(100, activation='relu', kernel_initializer='he_uniform'))\n",
    "model.add(Dropout(0.3))\n",
    "model.add(Dense(5, activation='sigmoid'))\n",
    "\n",
    "# compile model\n",
    "model.compile(optimizer='adam', loss='binary_crossentropy')\n",
    "\n",
    "# create early stopping object\n",
    "es = EarlyStopping(monitor='val_loss', mode='min', verbose=1, patience=30)\n",
    "\n",
    "# create model checkpoint to save the model\n",
    "mc = ModelCheckpoint(model_name, monitor='val_loss', mode='min', verbose=1, save_best_only=True)\n",
    "# fit model\n",
    "history = model.fit(train_iter, \n",
    "                    steps_per_epoch=len(train_iter),\n",
    "                    validation_data=val_iter,\n",
    "                    validation_steps=len(val_iter), \n",
    "                    callbacks=[es, mc],\n",
    "                    epochs=300)"
   ]
  },
  {
   "cell_type": "markdown",
   "metadata": {
    "id": "KdUlIS8QXWXU"
   },
   "source": [
    "## Evaluate model"
   ]
  },
  {
   "cell_type": "code",
   "execution_count": null,
   "metadata": {
    "colab": {
     "base_uri": "https://localhost:8080/"
    },
    "executionInfo": {
     "elapsed": 1023,
     "status": "ok",
     "timestamp": 1611568149193,
     "user": {
      "displayName": "Samantha K.",
      "photoUrl": "https://lh3.googleusercontent.com/a-/AOh14GjqOn4Eq2aGKTpdlO0FSSiTvIIbKGBzhPNGPF1Ysg=s64",
      "userId": "17154081479065187787"
     },
     "user_tz": -420
    },
    "id": "eXK4x8NU8j7I",
    "outputId": "1d077313-02b2-402a-8487-08df5a5aab64"
   },
   "outputs": [],
   "source": [
    "# print y_test\n",
    "y_test[:5]"
   ]
  },
  {
   "cell_type": "code",
   "execution_count": null,
   "metadata": {
    "colab": {
     "base_uri": "https://localhost:8080/"
    },
    "executionInfo": {
     "elapsed": 1362,
     "status": "ok",
     "timestamp": 1611577260515,
     "user": {
      "displayName": "Samantha K.",
      "photoUrl": "https://lh3.googleusercontent.com/a-/AOh14GjqOn4Eq2aGKTpdlO0FSSiTvIIbKGBzhPNGPF1Ysg=s64",
      "userId": "17154081479065187787"
     },
     "user_tz": -420
    },
    "id": "6GcT6BREp-6t",
    "outputId": "2ad4f690-d55d-46fd-c3ff-b976a7eb58ac"
   },
   "outputs": [],
   "source": [
    "# get y_pred\n",
    "y_pred = model.predict(test_iter)\n",
    "y_pred = y_pred.round()\n",
    "print('y_pred shape : ', y_pred.shape)\n",
    "print(y_pred[:5])"
   ]
  },
  {
   "cell_type": "code",
   "execution_count": null,
   "metadata": {
    "colab": {
     "base_uri": "https://localhost:8080/"
    },
    "executionInfo": {
     "elapsed": 1094,
     "status": "ok",
     "timestamp": 1611577266895,
     "user": {
      "displayName": "Samantha K.",
      "photoUrl": "https://lh3.googleusercontent.com/a-/AOh14GjqOn4Eq2aGKTpdlO0FSSiTvIIbKGBzhPNGPF1Ysg=s64",
      "userId": "17154081479065187787"
     },
     "user_tz": -420
    },
    "id": "PPlMnacVtMEu",
    "outputId": "c2ec28bd-949b-4608-a131-1ea5675b0dd9"
   },
   "outputs": [],
   "source": [
    "# print model score\n",
    "final_model_fbeta = fbeta(y_test, y_pred)\n",
    "print('final_model_fbeta : ', final_model_fbeta.numpy())"
   ]
  },
  {
   "cell_type": "code",
   "execution_count": null,
   "metadata": {
    "colab": {
     "base_uri": "https://localhost:8080/"
    },
    "executionInfo": {
     "elapsed": 1054,
     "status": "ok",
     "timestamp": 1611568360603,
     "user": {
      "displayName": "Samantha K.",
      "photoUrl": "https://lh3.googleusercontent.com/a-/AOh14GjqOn4Eq2aGKTpdlO0FSSiTvIIbKGBzhPNGPF1Ysg=s64",
      "userId": "17154081479065187787"
     },
     "user_tz": -420
    },
    "id": "vSez3K4ejOvo",
    "outputId": "104b2b4c-a9a0-4e03-c98a-e8174d57706d"
   },
   "outputs": [],
   "source": [
    "!ls"
   ]
  },
  {
   "cell_type": "code",
   "execution_count": null,
   "metadata": {
    "colab": {
     "base_uri": "https://localhost:8080/",
     "height": 35
    },
    "executionInfo": {
     "elapsed": 1138,
     "status": "ok",
     "timestamp": 1611568365163,
     "user": {
      "displayName": "Samantha K.",
      "photoUrl": "https://lh3.googleusercontent.com/a-/AOh14GjqOn4Eq2aGKTpdlO0FSSiTvIIbKGBzhPNGPF1Ysg=s64",
      "userId": "17154081479065187787"
     },
     "user_tz": -420
    },
    "id": "R-g3mkEsmeYt",
    "outputId": "24dc822a-e58f-4216-a75d-359272fc34b2"
   },
   "outputs": [],
   "source": [
    "# copy saved model file to the project directory\n",
    "#import shutil\n",
    "#import os\n",
    "\n",
    "#shutil.copyfile(model_name, os.path.join(project_dir,model_name))"
   ]
  }
 ],
 "metadata": {
  "accelerator": "GPU",
  "colab": {
   "authorship_tag": "ABX9TyNq6PRxLC/Q8yB3au+Gvg4x",
   "collapsed_sections": [],
   "mount_file_id": "1K1Ny3DubT7d62jCmG2CBH8mY-PF1slIC",
   "name": "02_VGG_blocks.ipynb",
   "provenance": []
  },
  "kernelspec": {
   "display_name": "Python 3",
   "language": "python",
   "name": "python3"
  },
  "language_info": {
   "codemirror_mode": {
    "name": "ipython",
    "version": 3
   },
   "file_extension": ".py",
   "mimetype": "text/x-python",
   "name": "python",
   "nbconvert_exporter": "python",
   "pygments_lexer": "ipython3",
   "version": "3.8.8"
  }
 },
 "nbformat": 4,
 "nbformat_minor": 1
}
