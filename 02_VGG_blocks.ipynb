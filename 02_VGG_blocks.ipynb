{
  "nbformat": 4,
  "nbformat_minor": 0,
  "metadata": {
    "accelerator": "GPU",
    "colab": {
      "name": "02_VGG_blocks.ipynb",
      "provenance": [],
      "collapsed_sections": [],
      "toc_visible": true,
      "include_colab_link": true
    },
    "kernelspec": {
      "display_name": "Python 3",
      "language": "python",
      "name": "python3"
    },
    "language_info": {
      "codemirror_mode": {
        "name": "ipython",
        "version": 3
      },
      "file_extension": ".py",
      "mimetype": "text/x-python",
      "name": "python",
      "nbconvert_exporter": "python",
      "pygments_lexer": "ipython3",
      "version": "3.8.8"
    }
  },
  "cells": [
    {
      "cell_type": "markdown",
      "metadata": {
        "id": "view-in-github",
        "colab_type": "text"
      },
      "source": [
        "<a href=\"https://colab.research.google.com/github/WoradeeKongthong/nature_multilabel_image_classification/blob/main/02_VGG_blocks.ipynb\" target=\"_parent\"><img src=\"https://colab.research.google.com/assets/colab-badge.svg\" alt=\"Open In Colab\"/></a>"
      ]
    },
    {
      "cell_type": "code",
      "metadata": {
        "colab": {
          "base_uri": "https://localhost:8080/"
        },
        "id": "upVvoI7Hs5K_",
        "outputId": "a8c795a0-8274-4d93-d072-f3d1905a7a6d"
      },
      "source": [
        "# CTRL + A then CTRL + / to uncomment\n",
        "# CLONE PROJECT TO TRAIN IN GOOGLE COLAB\n",
        "import os\n",
        "if os.path.isdir('/content/nature_multilabel_image_classification'):\n",
        "  !rm -rf '/content/nature_multilabel_image_classification'\n",
        "  \n",
        "!git clone https://github.com/WoradeeKongthong/nature_multilabel_image_classification.git\n",
        "\n",
        "if not os.getcwd() == '/content/nature_multilabel_image_classification' :\n",
        "  %cd /content/nature_multilabel_image_classification\n",
        "\n",
        "!pwd"
      ],
      "execution_count": null,
      "outputs": [
        {
          "output_type": "stream",
          "name": "stdout",
          "text": [
            "Cloning into 'nature_multilabel_image_classification'...\n",
            "remote: Enumerating objects: 2037, done.\u001b[K\n",
            "remote: Counting objects: 100% (2037/2037), done.\u001b[K\n",
            "remote: Compressing objects: 100% (2029/2029), done.\u001b[K\n",
            "remote: Total 2037 (delta 8), reused 2032 (delta 5), pack-reused 0\u001b[K\n",
            "Receiving objects: 100% (2037/2037), 91.63 MiB | 33.81 MiB/s, done.\n",
            "Resolving deltas: 100% (8/8), done.\n",
            "/content/nature_multilabel_image_classification\n",
            "/content/nature_multilabel_image_classification\n"
          ]
        }
      ]
    },
    {
      "cell_type": "code",
      "metadata": {
        "id": "PfnzksyNt9mQ"
      },
      "source": [
        "# prepared dataset\n",
        "dataset_path = 'data/nature_data.npz'\n",
        "\n",
        "# saved model name\n",
        "import os\n",
        "if not os.path.isdir('saved_models'):\n",
        "    os.makedirs('saved_models')\n",
        "model_name = 'saved_models/best_vggblocks.h5'"
      ],
      "execution_count": null,
      "outputs": []
    },
    {
      "cell_type": "markdown",
      "metadata": {
        "id": "abSMiFfOu3RD"
      },
      "source": [
        "# Nature Image Classification (Multi-labels)\n",
        "\n",
        "## Objective \n",
        "To learn tags given to each image.  \n",
        "There are 5 tags;  \n",
        "- desert  \n",
        "- mountains  \n",
        "- sea  \n",
        "- sunset  \n",
        "- trees  \n",
        "\n",
        "## Dataset\n",
        "source : https://www.dropbox.com/s/0htmeoie69q650p/miml_dataset.zip?dl=0  \n",
        "(You can follow the tutorial in this blog https://vijayabhaskar96.medium.com/multi-label-image-classification-tutorial-with-keras-imagedatagenerator-cd541f8eaf24)\n",
        "\n",
        "## Approach\n",
        "Baseline model : CNN model with 1,2 or 3 VGG block(s)  \n",
        "\n",
        "Improved model \n",
        "- dropout\n",
        "- data augmentation"
      ]
    },
    {
      "cell_type": "markdown",
      "metadata": {
        "id": "hI4siRTuzkP8"
      },
      "source": [
        "## Load dataset from file"
      ]
    },
    {
      "cell_type": "code",
      "metadata": {
        "id": "DY0pyMMyzng5"
      },
      "source": [
        "import numpy as np"
      ],
      "execution_count": null,
      "outputs": []
    },
    {
      "cell_type": "code",
      "metadata": {
        "colab": {
          "base_uri": "https://localhost:8080/"
        },
        "id": "sTPYiaN0zrve",
        "outputId": "e2573526-5f5c-42e1-9361-d4971325bab0"
      },
      "source": [
        "# load data\n",
        "data = np.load(dataset_path)\n",
        "X, y = data['arr_0'], data['arr_1']\n",
        "print('X shape : ', X.shape)\n",
        "print('y shape : ', y.shape)"
      ],
      "execution_count": null,
      "outputs": [
        {
          "output_type": "stream",
          "name": "stdout",
          "text": [
            "X shape :  (2000, 128, 128, 3)\n",
            "y shape :  (2000, 5)\n"
          ]
        }
      ]
    },
    {
      "cell_type": "markdown",
      "metadata": {
        "id": "cdtytULs0Y7s"
      },
      "source": [
        "## Create train and test set\n",
        "(Note : validation set will be created with ImageDataGenerator)"
      ]
    },
    {
      "cell_type": "code",
      "metadata": {
        "id": "wO_FPRcW0c5t"
      },
      "source": [
        "from sklearn.model_selection import train_test_split"
      ],
      "execution_count": null,
      "outputs": []
    },
    {
      "cell_type": "code",
      "metadata": {
        "id": "ER5Tq-HU06Cq"
      },
      "source": [
        "X_train, X_test, y_train, y_test = train_test_split(X, y, test_size=0.2, random_state=100)"
      ],
      "execution_count": null,
      "outputs": []
    },
    {
      "cell_type": "code",
      "metadata": {
        "colab": {
          "base_uri": "https://localhost:8080/"
        },
        "id": "9uhCuhbq1bVu",
        "outputId": "fb894c02-7e89-43da-c2d0-0e7d5bc99b1a"
      },
      "source": [
        "print('X_train shape : ', X_train.shape)\n",
        "print('y_train shape : ', y_train.shape)\n",
        "print()\n",
        "print('X_test shape : ', X_test.shape)\n",
        "print('y_test shape : ', y_test.shape)"
      ],
      "execution_count": null,
      "outputs": [
        {
          "output_type": "stream",
          "name": "stdout",
          "text": [
            "X_train shape :  (1600, 128, 128, 3)\n",
            "y_train shape :  (1600, 5)\n",
            "\n",
            "X_test shape :  (400, 128, 128, 3)\n",
            "y_test shape :  (400, 5)\n"
          ]
        }
      ]
    },
    {
      "cell_type": "markdown",
      "metadata": {
        "id": "ejRHmGDVlSP-"
      },
      "source": [
        "## Create data generator without data augmentation"
      ]
    },
    {
      "cell_type": "code",
      "metadata": {
        "id": "LWRbPRUblbIP"
      },
      "source": [
        "from tensorflow.keras.preprocessing.image import ImageDataGenerator"
      ],
      "execution_count": null,
      "outputs": []
    },
    {
      "cell_type": "code",
      "metadata": {
        "id": "SIRwdlwulfCM"
      },
      "source": [
        "train_gen = ImageDataGenerator(rescale=1./255, validation_split=0.2)\n",
        "test_gen = ImageDataGenerator(rescale=1./255)\n",
        "\n",
        "batch_size = 20\n",
        "train_iter = train_gen.flow(X_train, y_train, batch_size=batch_size, subset='training', seed=123)\n",
        "val_iter = train_gen.flow(X_train, y_train, batch_size=batch_size, subset='validation', seed=123)\n",
        "test_iter = test_gen.flow(X_test, y_test, batch_size=1, shuffle=False)"
      ],
      "execution_count": null,
      "outputs": []
    },
    {
      "cell_type": "markdown",
      "metadata": {
        "id": "LAytm0b02LY4"
      },
      "source": [
        "## fbeta score function for multi-label problem"
      ]
    },
    {
      "cell_type": "code",
      "metadata": {
        "id": "Wn9549YT2QL0"
      },
      "source": [
        "from tensorflow.keras import backend\n",
        "\n",
        "# optional sklearn.metrics.fbeta_score (cannot be used as training metric)\n",
        "#from sklearn.metrics import fbeta_score"
      ],
      "execution_count": null,
      "outputs": []
    },
    {
      "cell_type": "code",
      "metadata": {
        "id": "v6dCRxSK2T2M"
      },
      "source": [
        "# I create F-beta score calculation in Keras to use as a metric \n",
        "# during training process instead of accuracy.\n",
        "\n",
        "def fbeta(y_true, y_pred, beta=2):\n",
        "  # clip predictions\n",
        "  y_pred = backend.clip(y_pred, 0, 1)\n",
        "  # calculate elements\n",
        "  tp = backend.sum(backend.round(backend.clip(y_true * y_pred, 0, 1)), axis=1)\n",
        "  fp = backend.sum(backend.round(backend.clip(y_pred - y_true, 0, 1)), axis=1)\n",
        "  fn = backend.sum(backend.round(backend.clip(y_true - y_pred, 0, 1)), axis=1)\n",
        "  # calculate precision\n",
        "  p = tp / (tp + fp + backend.epsilon())\n",
        "  # calculate recall\n",
        "  r = tp / (tp + fn + backend.epsilon())\n",
        "  # calculate fbeta, averaged across each class\n",
        "  bb = beta ** 2\n",
        "  fbeta_score = backend.mean((1 + bb) * (p * r) / (bb * p + r + backend.epsilon()))\n",
        "  return fbeta_score"
      ],
      "execution_count": null,
      "outputs": []
    },
    {
      "cell_type": "markdown",
      "metadata": {
        "id": "CD1IWrOXgXlg"
      },
      "source": [
        "## Baseline Models"
      ]
    },
    {
      "cell_type": "markdown",
      "metadata": {
        "id": "LFAW2XEMk7PJ"
      },
      "source": [
        "### Baseline model 1 : 1 vgg block"
      ]
    },
    {
      "cell_type": "code",
      "metadata": {
        "id": "LL_aeZcbk-Mh"
      },
      "source": [
        "from tensorflow.keras.models import Sequential\n",
        "from tensorflow.keras.layers import Conv2D, MaxPooling2D, Dense, Flatten, Dropout, BatchNormalization\n",
        "from tensorflow.keras.callbacks import EarlyStopping, ModelCheckpoint\n",
        "import matplotlib.pyplot as plt"
      ],
      "execution_count": null,
      "outputs": []
    },
    {
      "cell_type": "code",
      "metadata": {
        "id": "oCvmc4o3lPEM"
      },
      "source": [
        "# create model\n",
        "model = Sequential()\n",
        "model.add(Conv2D(32, (3,3), padding='same', activation='relu', kernel_initializer='he_uniform', input_shape=(128, 128, 3)))\n",
        "model.add(Conv2D(32, (3,3), padding='same', activation='relu', kernel_initializer='he_uniform'))\n",
        "model.add(MaxPooling2D((2,2)))\n",
        "model.add(Flatten())\n",
        "model.add(Dense(100, activation='relu', kernel_initializer='he_uniform'))\n",
        "model.add(Dense(5, activation='sigmoid'))\n",
        "\n",
        "# compile model\n",
        "model.compile(optimizer='adam', loss='binary_crossentropy', metrics=[fbeta])"
      ],
      "execution_count": null,
      "outputs": []
    },
    {
      "cell_type": "code",
      "metadata": {
        "colab": {
          "base_uri": "https://localhost:8080/"
        },
        "id": "p1iYWekdotgI",
        "outputId": "5a0db301-a918-445a-d08b-20f9d1deb831"
      },
      "source": [
        "model.summary()"
      ],
      "execution_count": null,
      "outputs": [
        {
          "output_type": "stream",
          "name": "stdout",
          "text": [
            "Model: \"sequential\"\n",
            "_________________________________________________________________\n",
            "Layer (type)                 Output Shape              Param #   \n",
            "=================================================================\n",
            "conv2d (Conv2D)              (None, 128, 128, 32)      896       \n",
            "_________________________________________________________________\n",
            "conv2d_1 (Conv2D)            (None, 128, 128, 32)      9248      \n",
            "_________________________________________________________________\n",
            "max_pooling2d (MaxPooling2D) (None, 64, 64, 32)        0         \n",
            "_________________________________________________________________\n",
            "flatten (Flatten)            (None, 131072)            0         \n",
            "_________________________________________________________________\n",
            "dense (Dense)                (None, 100)               13107300  \n",
            "_________________________________________________________________\n",
            "dense_1 (Dense)              (None, 5)                 505       \n",
            "=================================================================\n",
            "Total params: 13,117,949\n",
            "Trainable params: 13,117,949\n",
            "Non-trainable params: 0\n",
            "_________________________________________________________________\n"
          ]
        }
      ]
    },
    {
      "cell_type": "code",
      "metadata": {
        "colab": {
          "base_uri": "https://localhost:8080/"
        },
        "id": "nJGKobxWo8uv",
        "outputId": "53970257-3fd7-4f4b-d762-07c598dbdf49"
      },
      "source": [
        "# create early stopping object\n",
        "es = EarlyStopping(monitor='val_loss', mode='min', verbose=1, patience=20)\n",
        "\n",
        "# fit model\n",
        "history = model.fit(train_iter, \n",
        "                    steps_per_epoch=len(train_iter),\n",
        "                    validation_data=val_iter,\n",
        "                    validation_steps=len(val_iter), \n",
        "                    callbacks=[es],\n",
        "                    epochs=200)"
      ],
      "execution_count": null,
      "outputs": [
        {
          "output_type": "stream",
          "name": "stdout",
          "text": [
            "Epoch 1/200\n",
            "64/64 [==============================] - 34s 43ms/step - loss: 1.0179 - fbeta: 0.3149 - val_loss: 0.4072 - val_fbeta: 0.4744\n",
            "Epoch 2/200\n",
            "64/64 [==============================] - 2s 38ms/step - loss: 0.2846 - fbeta: 0.6551 - val_loss: 0.3598 - val_fbeta: 0.6279\n",
            "Epoch 3/200\n",
            "64/64 [==============================] - 3s 40ms/step - loss: 0.1463 - fbeta: 0.8614 - val_loss: 0.3939 - val_fbeta: 0.6491\n",
            "Epoch 4/200\n",
            "64/64 [==============================] - 2s 39ms/step - loss: 0.0736 - fbeta: 0.9506 - val_loss: 0.3891 - val_fbeta: 0.5854\n",
            "Epoch 5/200\n",
            "64/64 [==============================] - 3s 39ms/step - loss: 0.0441 - fbeta: 0.9682 - val_loss: 0.4533 - val_fbeta: 0.6741\n",
            "Epoch 6/200\n",
            "64/64 [==============================] - 2s 39ms/step - loss: 0.0295 - fbeta: 0.9792 - val_loss: 0.5317 - val_fbeta: 0.6153\n",
            "Epoch 7/200\n",
            "64/64 [==============================] - 3s 40ms/step - loss: 0.0205 - fbeta: 0.9882 - val_loss: 0.5584 - val_fbeta: 0.6491\n",
            "Epoch 8/200\n",
            "64/64 [==============================] - 3s 40ms/step - loss: 0.0107 - fbeta: 0.9952 - val_loss: 0.7097 - val_fbeta: 0.6067\n",
            "Epoch 9/200\n",
            "64/64 [==============================] - 3s 40ms/step - loss: 0.0100 - fbeta: 0.9939 - val_loss: 0.6260 - val_fbeta: 0.6623\n",
            "Epoch 10/200\n",
            "64/64 [==============================] - 3s 40ms/step - loss: 0.0073 - fbeta: 0.9964 - val_loss: 0.6883 - val_fbeta: 0.6110\n",
            "Epoch 11/200\n",
            "64/64 [==============================] - 3s 39ms/step - loss: 0.0032 - fbeta: 0.9992 - val_loss: 0.7023 - val_fbeta: 0.6446\n",
            "Epoch 12/200\n",
            "64/64 [==============================] - 3s 40ms/step - loss: 0.0016 - fbeta: 1.0000 - val_loss: 0.8130 - val_fbeta: 0.6393\n",
            "Epoch 13/200\n",
            "64/64 [==============================] - 3s 39ms/step - loss: 9.7275e-04 - fbeta: 1.0000 - val_loss: 0.8091 - val_fbeta: 0.6092\n",
            "Epoch 14/200\n",
            "64/64 [==============================] - 2s 39ms/step - loss: 5.3987e-04 - fbeta: 1.0000 - val_loss: 0.8185 - val_fbeta: 0.6215\n",
            "Epoch 15/200\n",
            "64/64 [==============================] - 2s 39ms/step - loss: 3.9819e-04 - fbeta: 1.0000 - val_loss: 0.8402 - val_fbeta: 0.6234\n",
            "Epoch 16/200\n",
            "64/64 [==============================] - 3s 39ms/step - loss: 3.2670e-04 - fbeta: 1.0000 - val_loss: 0.8685 - val_fbeta: 0.6288\n",
            "Epoch 17/200\n",
            "64/64 [==============================] - 3s 39ms/step - loss: 2.5895e-04 - fbeta: 1.0000 - val_loss: 0.8731 - val_fbeta: 0.6236\n",
            "Epoch 18/200\n",
            "64/64 [==============================] - 2s 39ms/step - loss: 2.2687e-04 - fbeta: 1.0000 - val_loss: 0.8947 - val_fbeta: 0.6250\n",
            "Epoch 19/200\n",
            "64/64 [==============================] - 3s 39ms/step - loss: 1.8808e-04 - fbeta: 1.0000 - val_loss: 0.9150 - val_fbeta: 0.6248\n",
            "Epoch 20/200\n",
            "64/64 [==============================] - 3s 39ms/step - loss: 1.6314e-04 - fbeta: 1.0000 - val_loss: 0.9200 - val_fbeta: 0.6249\n",
            "Epoch 21/200\n",
            "64/64 [==============================] - 3s 40ms/step - loss: 1.3985e-04 - fbeta: 1.0000 - val_loss: 0.9474 - val_fbeta: 0.6295\n",
            "Epoch 22/200\n",
            "64/64 [==============================] - 3s 40ms/step - loss: 1.2163e-04 - fbeta: 1.0000 - val_loss: 0.9453 - val_fbeta: 0.6239\n",
            "Epoch 00022: early stopping\n"
          ]
        }
      ]
    },
    {
      "cell_type": "code",
      "metadata": {
        "id": "sQNEF43drCyz"
      },
      "source": [
        "# create function for plotting\n",
        "\n",
        "def evaluate_model(history):\n",
        "    # plot training and validation loss\n",
        "    fig = plt.figure(figsize=(15,5))\n",
        "    fig.add_subplot(121)\n",
        "    plt.plot(history.history['loss'], color='blue', label='train')\n",
        "    plt.plot(history.history['val_loss'], color='orange', label='val')\n",
        "    plt.legend()\n",
        "    plt.title('Loss')\n",
        "\n",
        "    # plot training and validation accuracy\n",
        "    fig.add_subplot(122)\n",
        "    plt.plot(history.history['fbeta'], color='blue', label='train')\n",
        "    plt.plot(history.history['val_fbeta'], color='orange', label='val')\n",
        "    plt.legend()\n",
        "    plt.title('F-beta score')\n",
        "    \n",
        "    plt.show()\n",
        "    \n",
        "    # print model accuracy\n",
        "    _, fbeta = model.evaluate(test_iter, steps=len(test_iter), verbose=0)\n",
        "    print('Model F-beta score : ', fbeta)\n",
        "    return fbeta"
      ],
      "execution_count": null,
      "outputs": []
    },
    {
      "cell_type": "code",
      "metadata": {
        "colab": {
          "base_uri": "https://localhost:8080/",
          "height": 353
        },
        "id": "MUSmt3KfrsZI",
        "outputId": "63b03a8c-fd94-40da-805c-0f01c446ed50"
      },
      "source": [
        "baseline1_perf = evaluate_model(history)"
      ],
      "execution_count": null,
      "outputs": [
        {
          "output_type": "display_data",
          "data": {
            "image/png": "[encoded data removed]",
            "text/plain": [
              "<Figure size 1080x360 with 2 Axes>"
            ]
          },
          "metadata": {
            "needs_background": "light"
          }
        },
        {
          "output_type": "stream",
          "name": "stdout",
          "text": [
            "Model F-beta score :  0.6336994767189026\n"
          ]
        }
      ]
    },
    {
      "cell_type": "markdown",
      "metadata": {
        "id": "4_JvkXn90nl0"
      },
      "source": [
        "Note : overfitting"
      ]
    },
    {
      "cell_type": "markdown",
      "metadata": {
        "id": "zf3r--g8sDXr"
      },
      "source": [
        "### Baseline model 2 : 2 vgg blocks"
      ]
    },
    {
      "cell_type": "code",
      "metadata": {
        "colab": {
          "base_uri": "https://localhost:8080/",
          "height": 1000
        },
        "id": "Le-saFEJsGYs",
        "outputId": "75297453-9ee5-4a27-9975-3b6977a05dc5"
      },
      "source": [
        "# create image data generator\n",
        "train_gen = ImageDataGenerator(rescale=1./255, validation_split=0.2)\n",
        "test_gen = ImageDataGenerator(rescale=1./255)\n",
        "\n",
        "batch_size = 20\n",
        "train_iter = train_gen.flow(X_train, y_train, batch_size=batch_size, subset='training', seed=123)\n",
        "val_iter = train_gen.flow(X_train, y_train, batch_size=batch_size, subset='validation', seed=123)\n",
        "test_iter = test_gen.flow(X_test, y_test, batch_size=1, seed=123)\n",
        "\n",
        "# create model\n",
        "model = Sequential()\n",
        "model.add(Conv2D(32, (3,3), padding='same', activation='relu', kernel_initializer='he_uniform', input_shape=(128, 128, 3)))\n",
        "model.add(Conv2D(32, (3,3), padding='same', activation='relu', kernel_initializer='he_uniform'))\n",
        "model.add(MaxPooling2D((2,2)))\n",
        "model.add(Conv2D(64, (3,3), padding='same', activation='relu', kernel_initializer='he_uniform', input_shape=(128, 128, 3)))\n",
        "model.add(Conv2D(64, (3,3), padding='same', activation='relu', kernel_initializer='he_uniform'))\n",
        "model.add(MaxPooling2D((2,2)))\n",
        "model.add(Flatten())\n",
        "model.add(Dense(100, activation='relu', kernel_initializer='he_uniform'))\n",
        "model.add(Dense(5, activation='sigmoid'))\n",
        "\n",
        "# compile model\n",
        "model.compile(optimizer='adam', loss='binary_crossentropy', metrics=[fbeta])\n",
        "\n",
        "# create early stopping object\n",
        "es = EarlyStopping(monitor='val_loss', mode='min', verbose=1, patience=20)\n",
        "\n",
        "# fit model\n",
        "history = model.fit(train_iter, \n",
        "                    steps_per_epoch=len(train_iter),\n",
        "                    validation_data=val_iter,\n",
        "                    validation_steps=len(val_iter), \n",
        "                    callbacks=[es],\n",
        "                    epochs=200)\n",
        "# show result\n",
        "baseline2_perf = evaluate_model(history)"
      ],
      "execution_count": null,
      "outputs": [
        {
          "output_type": "stream",
          "name": "stdout",
          "text": [
            "Epoch 1/200\n",
            "64/64 [==============================] - 5s 64ms/step - loss: 0.8344 - fbeta: 0.3389 - val_loss: 0.4634 - val_fbeta: 0.4210\n",
            "Epoch 2/200\n",
            "64/64 [==============================] - 4s 58ms/step - loss: 0.3702 - fbeta: 0.5296 - val_loss: 0.3686 - val_fbeta: 0.5652\n",
            "Epoch 3/200\n",
            "64/64 [==============================] - 4s 60ms/step - loss: 0.3109 - fbeta: 0.6424 - val_loss: 0.3902 - val_fbeta: 0.5777\n",
            "Epoch 4/200\n",
            "64/64 [==============================] - 4s 58ms/step - loss: 0.2377 - fbeta: 0.7630 - val_loss: 0.4264 - val_fbeta: 0.5805\n",
            "Epoch 5/200\n",
            "64/64 [==============================] - 4s 59ms/step - loss: 0.1724 - fbeta: 0.8383 - val_loss: 0.4119 - val_fbeta: 0.6221\n",
            "Epoch 6/200\n",
            "64/64 [==============================] - 4s 59ms/step - loss: 0.1129 - fbeta: 0.9087 - val_loss: 0.5181 - val_fbeta: 0.6052\n",
            "Epoch 7/200\n",
            "64/64 [==============================] - 4s 58ms/step - loss: 0.0831 - fbeta: 0.9332 - val_loss: 0.5783 - val_fbeta: 0.6450\n",
            "Epoch 8/200\n",
            "64/64 [==============================] - 4s 58ms/step - loss: 0.0569 - fbeta: 0.9555 - val_loss: 0.7190 - val_fbeta: 0.6242\n",
            "Epoch 9/200\n",
            "64/64 [==============================] - 4s 59ms/step - loss: 0.0328 - fbeta: 0.9775 - val_loss: 0.7590 - val_fbeta: 0.6582\n",
            "Epoch 10/200\n",
            "64/64 [==============================] - 4s 59ms/step - loss: 0.0231 - fbeta: 0.9872 - val_loss: 0.8291 - val_fbeta: 0.6282\n",
            "Epoch 11/200\n",
            "64/64 [==============================] - 4s 59ms/step - loss: 0.0200 - fbeta: 0.9860 - val_loss: 0.9436 - val_fbeta: 0.6349\n",
            "Epoch 12/200\n",
            "64/64 [==============================] - 4s 59ms/step - loss: 0.0084 - fbeta: 0.9956 - val_loss: 1.1020 - val_fbeta: 0.6238\n",
            "Epoch 13/200\n",
            "64/64 [==============================] - 4s 58ms/step - loss: 0.0322 - fbeta: 0.9747 - val_loss: 0.8728 - val_fbeta: 0.5670\n",
            "Epoch 14/200\n",
            "64/64 [==============================] - 4s 60ms/step - loss: 0.0310 - fbeta: 0.9781 - val_loss: 0.9091 - val_fbeta: 0.6307\n",
            "Epoch 15/200\n",
            "64/64 [==============================] - 4s 59ms/step - loss: 0.0328 - fbeta: 0.9765 - val_loss: 0.9288 - val_fbeta: 0.6330\n",
            "Epoch 16/200\n",
            "64/64 [==============================] - 4s 58ms/step - loss: 0.0081 - fbeta: 0.9963 - val_loss: 1.0284 - val_fbeta: 0.6348\n",
            "Epoch 17/200\n",
            "64/64 [==============================] - 4s 59ms/step - loss: 0.0052 - fbeta: 0.9977 - val_loss: 1.1280 - val_fbeta: 0.6220\n",
            "Epoch 18/200\n",
            "64/64 [==============================] - 4s 58ms/step - loss: 0.0014 - fbeta: 1.0000 - val_loss: 1.1971 - val_fbeta: 0.6212\n",
            "Epoch 19/200\n",
            "64/64 [==============================] - 4s 58ms/step - loss: 5.1627e-04 - fbeta: 1.0000 - val_loss: 1.2894 - val_fbeta: 0.6157\n",
            "Epoch 20/200\n",
            "64/64 [==============================] - 4s 58ms/step - loss: 3.1707e-04 - fbeta: 1.0000 - val_loss: 1.3517 - val_fbeta: 0.6168\n",
            "Epoch 21/200\n",
            "64/64 [==============================] - 4s 58ms/step - loss: 2.3964e-04 - fbeta: 1.0000 - val_loss: 1.4125 - val_fbeta: 0.6149\n",
            "Epoch 22/200\n",
            "64/64 [==============================] - 4s 59ms/step - loss: 1.7753e-04 - fbeta: 1.0000 - val_loss: 1.4490 - val_fbeta: 0.6215\n",
            "Epoch 00022: early stopping\n"
          ]
        },
        {
          "output_type": "display_data",
          "data": {
            "image/png": "[encoded data removed]",
            "text/plain": [
              "<Figure size 1080x360 with 2 Axes>"
            ]
          },
          "metadata": {
            "needs_background": "light"
          }
        },
        {
          "output_type": "stream",
          "name": "stdout",
          "text": [
            "Model F-beta score :  0.6632035970687866\n"
          ]
        }
      ]
    },
    {
      "cell_type": "markdown",
      "metadata": {
        "id": "Dz3lEct506FZ"
      },
      "source": [
        "Note : overfitting"
      ]
    },
    {
      "cell_type": "markdown",
      "metadata": {
        "id": "bgaCIigEsfMp"
      },
      "source": [
        "### Baseline model 3 : 3 vgg blocks"
      ]
    },
    {
      "cell_type": "code",
      "metadata": {
        "colab": {
          "base_uri": "https://localhost:8080/",
          "height": 1000
        },
        "id": "3M3KF8M5shaC",
        "outputId": "4731e4c6-5808-4022-9b95-e4b8819b374b"
      },
      "source": [
        "# create model\n",
        "model = Sequential()\n",
        "model.add(Conv2D(32, (3,3), padding='same', activation='relu', kernel_initializer='he_uniform', input_shape=(128, 128, 3)))\n",
        "model.add(Conv2D(32, (3,3), padding='same', activation='relu', kernel_initializer='he_uniform'))\n",
        "model.add(MaxPooling2D((2,2)))\n",
        "model.add(Conv2D(64, (3,3), padding='same', activation='relu', kernel_initializer='he_uniform', input_shape=(128, 128, 3)))\n",
        "model.add(Conv2D(64, (3,3), padding='same', activation='relu', kernel_initializer='he_uniform'))\n",
        "model.add(MaxPooling2D((2,2)))\n",
        "model.add(Conv2D(128, (3,3), padding='same', activation='relu', kernel_initializer='he_uniform', input_shape=(128, 128, 3)))\n",
        "model.add(Conv2D(128, (3,3), padding='same', activation='relu', kernel_initializer='he_uniform'))\n",
        "model.add(MaxPooling2D((2,2)))\n",
        "model.add(Flatten())\n",
        "model.add(Dense(100, activation='relu', kernel_initializer='he_uniform'))\n",
        "model.add(Dense(5, activation='sigmoid'))\n",
        "\n",
        "# compile model\n",
        "model.compile(optimizer='adam', loss='binary_crossentropy', metrics=[fbeta])\n",
        "\n",
        "# create early stopping object\n",
        "es = EarlyStopping(monitor='val_loss', mode='min', verbose=1, patience=20)\n",
        "\n",
        "# fit model\n",
        "history = model.fit(train_iter, \n",
        "                    steps_per_epoch=len(train_iter),\n",
        "                    validation_data=val_iter,\n",
        "                    validation_steps=len(val_iter), \n",
        "                    callbacks=[es],\n",
        "                    epochs=200)\n",
        "# show result\n",
        "baseline3_perf = evaluate_model(history)"
      ],
      "execution_count": null,
      "outputs": [
        {
          "output_type": "stream",
          "name": "stdout",
          "text": [
            "Epoch 1/200\n",
            "64/64 [==============================] - 6s 74ms/step - loss: 0.5403 - fbeta: 0.3632 - val_loss: 0.3736 - val_fbeta: 0.5128\n",
            "Epoch 2/200\n",
            "64/64 [==============================] - 4s 70ms/step - loss: 0.3622 - fbeta: 0.5783 - val_loss: 0.3873 - val_fbeta: 0.4890\n",
            "Epoch 3/200\n",
            "64/64 [==============================] - 4s 70ms/step - loss: 0.3306 - fbeta: 0.6394 - val_loss: 0.3571 - val_fbeta: 0.5911\n",
            "Epoch 4/200\n",
            "64/64 [==============================] - 4s 69ms/step - loss: 0.3134 - fbeta: 0.6534 - val_loss: 0.3556 - val_fbeta: 0.6021\n",
            "Epoch 5/200\n",
            "64/64 [==============================] - 4s 69ms/step - loss: 0.2817 - fbeta: 0.7050 - val_loss: 0.3306 - val_fbeta: 0.6576\n",
            "Epoch 6/200\n",
            "64/64 [==============================] - 4s 69ms/step - loss: 0.2528 - fbeta: 0.7451 - val_loss: 0.3535 - val_fbeta: 0.6510\n",
            "Epoch 7/200\n",
            "64/64 [==============================] - 4s 70ms/step - loss: 0.1926 - fbeta: 0.8107 - val_loss: 0.3934 - val_fbeta: 0.6800\n",
            "Epoch 8/200\n",
            "64/64 [==============================] - 4s 69ms/step - loss: 0.1516 - fbeta: 0.8630 - val_loss: 0.5287 - val_fbeta: 0.6616\n",
            "Epoch 9/200\n",
            "64/64 [==============================] - 4s 70ms/step - loss: 0.1484 - fbeta: 0.8630 - val_loss: 0.5460 - val_fbeta: 0.6305\n",
            "Epoch 10/200\n",
            "64/64 [==============================] - 4s 69ms/step - loss: 0.0983 - fbeta: 0.9083 - val_loss: 0.5365 - val_fbeta: 0.6798\n",
            "Epoch 11/200\n",
            "64/64 [==============================] - 4s 69ms/step - loss: 0.0850 - fbeta: 0.9363 - val_loss: 0.7145 - val_fbeta: 0.6482\n",
            "Epoch 12/200\n",
            "64/64 [==============================] - 4s 68ms/step - loss: 0.0513 - fbeta: 0.9586 - val_loss: 0.8028 - val_fbeta: 0.6752\n",
            "Epoch 13/200\n",
            "64/64 [==============================] - 4s 70ms/step - loss: 0.0408 - fbeta: 0.9674 - val_loss: 0.8577 - val_fbeta: 0.6663\n",
            "Epoch 14/200\n",
            "64/64 [==============================] - 4s 70ms/step - loss: 0.0222 - fbeta: 0.9833 - val_loss: 0.9787 - val_fbeta: 0.6871\n",
            "Epoch 15/200\n",
            "64/64 [==============================] - 4s 69ms/step - loss: 0.0674 - fbeta: 0.9490 - val_loss: 0.7786 - val_fbeta: 0.6050\n",
            "Epoch 16/200\n",
            "64/64 [==============================] - 4s 68ms/step - loss: 0.0652 - fbeta: 0.9481 - val_loss: 0.8026 - val_fbeta: 0.6437\n",
            "Epoch 17/200\n",
            "64/64 [==============================] - 4s 68ms/step - loss: 0.0292 - fbeta: 0.9820 - val_loss: 1.0561 - val_fbeta: 0.6350\n",
            "Epoch 18/200\n",
            "64/64 [==============================] - 4s 69ms/step - loss: 0.0136 - fbeta: 0.9863 - val_loss: 1.1452 - val_fbeta: 0.6641\n",
            "Epoch 19/200\n",
            "64/64 [==============================] - 4s 70ms/step - loss: 0.0164 - fbeta: 0.9907 - val_loss: 1.3929 - val_fbeta: 0.6431\n",
            "Epoch 20/200\n",
            "64/64 [==============================] - 4s 69ms/step - loss: 0.0649 - fbeta: 0.9489 - val_loss: 1.0422 - val_fbeta: 0.6524\n",
            "Epoch 21/200\n",
            "64/64 [==============================] - 4s 69ms/step - loss: 0.0135 - fbeta: 0.9892 - val_loss: 1.3682 - val_fbeta: 0.6523\n",
            "Epoch 22/200\n",
            "64/64 [==============================] - 4s 68ms/step - loss: 0.0056 - fbeta: 0.9985 - val_loss: 1.4219 - val_fbeta: 0.6585\n",
            "Epoch 23/200\n",
            "64/64 [==============================] - 4s 70ms/step - loss: 0.0116 - fbeta: 0.9936 - val_loss: 1.5376 - val_fbeta: 0.6345\n",
            "Epoch 24/200\n",
            "64/64 [==============================] - 4s 70ms/step - loss: 0.0272 - fbeta: 0.9785 - val_loss: 1.0483 - val_fbeta: 0.6472\n",
            "Epoch 25/200\n",
            "64/64 [==============================] - 4s 68ms/step - loss: 0.0066 - fbeta: 0.9984 - val_loss: 1.3960 - val_fbeta: 0.6405\n",
            "Epoch 00025: early stopping\n"
          ]
        },
        {
          "output_type": "display_data",
          "data": {
            "image/png": "[encoded data removed]",
            "text/plain": [
              "<Figure size 1080x360 with 2 Axes>"
            ]
          },
          "metadata": {
            "needs_background": "light"
          }
        },
        {
          "output_type": "stream",
          "name": "stdout",
          "text": [
            "Model F-beta score :  0.6379187107086182\n"
          ]
        }
      ]
    },
    {
      "cell_type": "markdown",
      "metadata": {
        "id": "taju6umyard-"
      },
      "source": [
        "Note : overfitting"
      ]
    },
    {
      "cell_type": "markdown",
      "metadata": {
        "id": "6Y3XV1YCs3ZE"
      },
      "source": [
        "## Baseline model performance\n"
      ]
    },
    {
      "cell_type": "code",
      "metadata": {
        "colab": {
          "base_uri": "https://localhost:8080/"
        },
        "id": "oKIH9x9G1BPM",
        "outputId": "ac6a5a29-f829-44d2-98dd-86f8ccbcd87d"
      },
      "source": [
        "print('Baseline model 1 : ', baseline1_perf)\n",
        "print('Baseline model 2 : ', baseline2_perf)\n",
        "print('Baseline model 3 : ', baseline3_perf)"
      ],
      "execution_count": null,
      "outputs": [
        {
          "output_type": "stream",
          "name": "stdout",
          "text": [
            "Baseline model 1 :  0.6336994767189026\n",
            "Baseline model 2 :  0.6632035970687866\n",
            "Baseline model 3 :  0.6379187107086182\n"
          ]
        }
      ]
    },
    {
      "cell_type": "markdown",
      "metadata": {
        "id": "uwh9WC9HgeKp"
      },
      "source": [
        "## Improved Models"
      ]
    },
    {
      "cell_type": "markdown",
      "metadata": {
        "id": "T4__pH0lv0ok"
      },
      "source": [
        "### model 1 : Baseline 2 + dropout layers"
      ]
    },
    {
      "cell_type": "code",
      "metadata": {
        "colab": {
          "base_uri": "https://localhost:8080/",
          "height": 1000
        },
        "id": "N7Btxs5GtGAW",
        "outputId": "6f8982a4-3a42-4971-a395-dd6f08191b57"
      },
      "source": [
        "# create image data generator\n",
        "train_gen = ImageDataGenerator(rescale=1./255, validation_split=0.2)\n",
        "test_gen = ImageDataGenerator(rescale=1./255)\n",
        "\n",
        "batch_size = 20\n",
        "train_iter = train_gen.flow(X_train, y_train, batch_size=batch_size, subset='training', seed=123)\n",
        "val_iter = train_gen.flow(X_train, y_train, batch_size=batch_size, subset='validation', seed=123)\n",
        "test_iter = test_gen.flow(X_test, y_test, batch_size=1, shuffle=False)\n",
        "\n",
        "# create model\n",
        "model = Sequential()\n",
        "model.add(Conv2D(32, (3,3), padding='same', activation='relu', kernel_initializer='he_uniform', input_shape=(128, 128, 3)))\n",
        "model.add(Conv2D(32, (3,3), padding='same', activation='relu', kernel_initializer='he_uniform'))\n",
        "model.add(MaxPooling2D((2,2)))\n",
        "model.add(Dropout(0.2))\n",
        "model.add(Conv2D(64, (3,3), padding='same', activation='relu', kernel_initializer='he_uniform', input_shape=(128, 128, 3)))\n",
        "model.add(Conv2D(64, (3,3), padding='same', activation='relu', kernel_initializer='he_uniform'))\n",
        "model.add(MaxPooling2D((2,2)))\n",
        "model.add(Dropout(0.2))\n",
        "model.add(Flatten())\n",
        "model.add(Dense(100, activation='relu', kernel_initializer='he_uniform'))\n",
        "model.add(Dropout(0.3))\n",
        "model.add(Dense(5, activation='sigmoid'))\n",
        "\n",
        "# compile model\n",
        "model.compile(optimizer='adam', loss='binary_crossentropy', metrics=[fbeta])\n",
        "\n",
        "# create early stopping object\n",
        "es = EarlyStopping(monitor='val_loss', mode='min', verbose=1, patience=20)\n",
        "\n",
        "# fit model\n",
        "history = model.fit(train_iter, \n",
        "                    steps_per_epoch=len(train_iter),\n",
        "                    validation_data=val_iter,\n",
        "                    validation_steps=len(val_iter), \n",
        "                    callbacks=[es],\n",
        "                    epochs=200)\n",
        "# show result\n",
        "model1_perf = evaluate_model(history)"
      ],
      "execution_count": null,
      "outputs": [
        {
          "output_type": "stream",
          "name": "stdout",
          "text": [
            "Epoch 1/200\n",
            "64/64 [==============================] - 5s 67ms/step - loss: 0.8098 - fbeta: 0.2040 - val_loss: 0.4419 - val_fbeta: 0.3571\n",
            "Epoch 2/200\n",
            "64/64 [==============================] - 4s 61ms/step - loss: 0.4310 - fbeta: 0.4469 - val_loss: 0.4002 - val_fbeta: 0.5173\n",
            "Epoch 3/200\n",
            "64/64 [==============================] - 4s 61ms/step - loss: 0.4135 - fbeta: 0.4787 - val_loss: 0.3759 - val_fbeta: 0.5427\n",
            "Epoch 4/200\n",
            "64/64 [==============================] - 4s 62ms/step - loss: 0.3669 - fbeta: 0.5918 - val_loss: 0.3482 - val_fbeta: 0.5863\n",
            "Epoch 5/200\n",
            "64/64 [==============================] - 4s 60ms/step - loss: 0.3483 - fbeta: 0.6025 - val_loss: 0.3503 - val_fbeta: 0.5807\n",
            "Epoch 6/200\n",
            "64/64 [==============================] - 4s 61ms/step - loss: 0.3103 - fbeta: 0.6449 - val_loss: 0.3386 - val_fbeta: 0.6203\n",
            "Epoch 7/200\n",
            "64/64 [==============================] - 4s 60ms/step - loss: 0.2822 - fbeta: 0.7163 - val_loss: 0.3378 - val_fbeta: 0.6036\n",
            "Epoch 8/200\n",
            "64/64 [==============================] - 4s 61ms/step - loss: 0.2267 - fbeta: 0.7837 - val_loss: 0.3600 - val_fbeta: 0.6437\n",
            "Epoch 9/200\n",
            "64/64 [==============================] - 4s 62ms/step - loss: 0.1936 - fbeta: 0.8241 - val_loss: 0.3849 - val_fbeta: 0.6670\n",
            "Epoch 10/200\n",
            "64/64 [==============================] - 4s 61ms/step - loss: 0.1808 - fbeta: 0.8600 - val_loss: 0.4162 - val_fbeta: 0.6507\n",
            "Epoch 11/200\n",
            "64/64 [==============================] - 4s 62ms/step - loss: 0.1649 - fbeta: 0.8561 - val_loss: 0.3956 - val_fbeta: 0.6302\n",
            "Epoch 12/200\n",
            "64/64 [==============================] - 4s 62ms/step - loss: 0.1409 - fbeta: 0.8769 - val_loss: 0.3962 - val_fbeta: 0.6416\n",
            "Epoch 13/200\n",
            "64/64 [==============================] - 4s 61ms/step - loss: 0.1390 - fbeta: 0.8902 - val_loss: 0.3719 - val_fbeta: 0.6776\n",
            "Epoch 14/200\n",
            "64/64 [==============================] - 4s 62ms/step - loss: 0.1214 - fbeta: 0.9101 - val_loss: 0.4977 - val_fbeta: 0.6328\n",
            "Epoch 15/200\n",
            "64/64 [==============================] - 4s 61ms/step - loss: 0.1057 - fbeta: 0.9146 - val_loss: 0.5179 - val_fbeta: 0.6354\n",
            "Epoch 16/200\n",
            "64/64 [==============================] - 4s 60ms/step - loss: 0.0996 - fbeta: 0.9261 - val_loss: 0.4866 - val_fbeta: 0.6395\n",
            "Epoch 17/200\n",
            "64/64 [==============================] - 4s 61ms/step - loss: 0.0822 - fbeta: 0.9389 - val_loss: 0.5009 - val_fbeta: 0.6409\n",
            "Epoch 18/200\n",
            "64/64 [==============================] - 4s 61ms/step - loss: 0.0861 - fbeta: 0.9334 - val_loss: 0.4763 - val_fbeta: 0.6546\n",
            "Epoch 19/200\n",
            "64/64 [==============================] - 4s 62ms/step - loss: 0.0874 - fbeta: 0.9370 - val_loss: 0.4951 - val_fbeta: 0.6597\n",
            "Epoch 20/200\n",
            "64/64 [==============================] - 4s 61ms/step - loss: 0.0672 - fbeta: 0.9414 - val_loss: 0.6237 - val_fbeta: 0.6729\n",
            "Epoch 21/200\n",
            "64/64 [==============================] - 4s 62ms/step - loss: 0.0931 - fbeta: 0.9338 - val_loss: 0.5997 - val_fbeta: 0.6724\n",
            "Epoch 22/200\n",
            "64/64 [==============================] - 4s 61ms/step - loss: 0.0878 - fbeta: 0.9351 - val_loss: 0.5710 - val_fbeta: 0.6345\n",
            "Epoch 23/200\n",
            "64/64 [==============================] - 4s 62ms/step - loss: 0.0787 - fbeta: 0.9442 - val_loss: 0.5398 - val_fbeta: 0.6710\n",
            "Epoch 24/200\n",
            "64/64 [==============================] - 4s 61ms/step - loss: 0.0728 - fbeta: 0.9474 - val_loss: 0.5341 - val_fbeta: 0.6569\n",
            "Epoch 25/200\n",
            "64/64 [==============================] - 4s 61ms/step - loss: 0.0713 - fbeta: 0.9512 - val_loss: 0.5411 - val_fbeta: 0.6648\n",
            "Epoch 26/200\n",
            "64/64 [==============================] - 4s 61ms/step - loss: 0.0624 - fbeta: 0.9569 - val_loss: 0.6274 - val_fbeta: 0.6599\n",
            "Epoch 27/200\n",
            "64/64 [==============================] - 4s 62ms/step - loss: 0.0552 - fbeta: 0.9623 - val_loss: 0.7072 - val_fbeta: 0.6422\n",
            "Epoch 00027: early stopping\n"
          ]
        },
        {
          "output_type": "display_data",
          "data": {
            "image/png": "[encoded data removed]",
            "text/plain": [
              "<Figure size 1080x360 with 2 Axes>"
            ]
          },
          "metadata": {
            "needs_background": "light"
          }
        },
        {
          "output_type": "stream",
          "name": "stdout",
          "text": [
            "Model F-beta score :  0.614126980304718\n"
          ]
        }
      ]
    },
    {
      "cell_type": "markdown",
      "metadata": {
        "id": "GVBOdeCMxTW9"
      },
      "source": [
        "Note : overfitting"
      ]
    },
    {
      "cell_type": "markdown",
      "metadata": {
        "id": "ATpnSuddxdBd"
      },
      "source": [
        "### model 2 : Baseline 2 + data augmentation"
      ]
    },
    {
      "cell_type": "code",
      "metadata": {
        "colab": {
          "base_uri": "https://localhost:8080/",
          "height": 1000
        },
        "id": "7c6p-6Snyfmv",
        "outputId": "7ae1e65b-0619-406f-d283-7b9e87641a40"
      },
      "source": [
        "# create data generator with data augmentation\n",
        "train_gen = ImageDataGenerator(rescale=1./255,\n",
        "                               rotation_range=30,\n",
        "                               width_shift_range=0.2,\n",
        "                               height_shift_range=0.2,\n",
        "                               zoom_range=0.2,\n",
        "                               horizontal_flip=True,\n",
        "                               vertical_flip=True,\n",
        "                               validation_split=0.2)\n",
        "test_gen = ImageDataGenerator(rescale=1./255)\n",
        "\n",
        "batch_size = 20\n",
        "train_iter = train_gen.flow(X_train, y_train, batch_size=batch_size, subset='training', seed=123)\n",
        "val_iter = train_gen.flow(X_train, y_train, batch_size=batch_size, subset='validation', seed=123)\n",
        "test_iter = test_gen.flow(X_test, y_test, batch_size=1, shuffle=False)\n",
        "\n",
        "# create model\n",
        "model = Sequential()\n",
        "model.add(Conv2D(32, (3,3), padding='same', activation='relu', kernel_initializer='he_uniform', input_shape=(128, 128, 3)))\n",
        "model.add(Conv2D(32, (3,3), padding='same', activation='relu', kernel_initializer='he_uniform'))\n",
        "model.add(MaxPooling2D((2,2)))\n",
        "model.add(Conv2D(64, (3,3), padding='same', activation='relu', kernel_initializer='he_uniform', input_shape=(128, 128, 3)))\n",
        "model.add(Conv2D(64, (3,3), padding='same', activation='relu', kernel_initializer='he_uniform'))\n",
        "model.add(MaxPooling2D((2,2)))\n",
        "model.add(Flatten())\n",
        "model.add(Dense(100, activation='relu', kernel_initializer='he_uniform'))\n",
        "model.add(Dense(5, activation='sigmoid'))\n",
        "\n",
        "# compile model\n",
        "model.compile(optimizer='adam', loss='binary_crossentropy', metrics=[fbeta])\n",
        "\n",
        "# create early stopping object\n",
        "es = EarlyStopping(monitor='val_loss', mode='min', verbose=1, patience=20)\n",
        "\n",
        "# fit model\n",
        "history = model.fit(train_iter, \n",
        "                    steps_per_epoch=len(train_iter),\n",
        "                    validation_data=val_iter,\n",
        "                    validation_steps=len(val_iter), \n",
        "                    callbacks=[es],\n",
        "                    epochs=200)\n",
        "# show result\n",
        "model2_perf = evaluate_model(history)"
      ],
      "execution_count": null,
      "outputs": [
        {
          "output_type": "stream",
          "name": "stdout",
          "text": [
            "Epoch 1/200\n",
            "64/64 [==============================] - 9s 135ms/step - loss: 0.7195 - fbeta: 0.2359 - val_loss: 0.4384 - val_fbeta: 0.3472\n",
            "Epoch 2/200\n",
            "64/64 [==============================] - 8s 129ms/step - loss: 0.4205 - fbeta: 0.3985 - val_loss: 0.3977 - val_fbeta: 0.4675\n",
            "Epoch 3/200\n",
            "64/64 [==============================] - 8s 129ms/step - loss: 0.3983 - fbeta: 0.4871 - val_loss: 0.4131 - val_fbeta: 0.4564\n",
            "Epoch 4/200\n",
            "64/64 [==============================] - 8s 129ms/step - loss: 0.3857 - fbeta: 0.5033 - val_loss: 0.3999 - val_fbeta: 0.5449\n",
            "Epoch 5/200\n",
            "64/64 [==============================] - 8s 128ms/step - loss: 0.3774 - fbeta: 0.5536 - val_loss: 0.3854 - val_fbeta: 0.5170\n",
            "Epoch 6/200\n",
            "64/64 [==============================] - 8s 127ms/step - loss: 0.3760 - fbeta: 0.5334 - val_loss: 0.3770 - val_fbeta: 0.5302\n",
            "Epoch 7/200\n",
            "64/64 [==============================] - 8s 126ms/step - loss: 0.3631 - fbeta: 0.5657 - val_loss: 0.3783 - val_fbeta: 0.5481\n",
            "Epoch 8/200\n",
            "64/64 [==============================] - 8s 127ms/step - loss: 0.3514 - fbeta: 0.5724 - val_loss: 0.3710 - val_fbeta: 0.5540\n",
            "Epoch 9/200\n",
            "64/64 [==============================] - 8s 128ms/step - loss: 0.3496 - fbeta: 0.6056 - val_loss: 0.3451 - val_fbeta: 0.5649\n",
            "Epoch 10/200\n",
            "64/64 [==============================] - 8s 127ms/step - loss: 0.3375 - fbeta: 0.5990 - val_loss: 0.3585 - val_fbeta: 0.6118\n",
            "Epoch 11/200\n",
            "64/64 [==============================] - 8s 127ms/step - loss: 0.3439 - fbeta: 0.6018 - val_loss: 0.3568 - val_fbeta: 0.6156\n",
            "Epoch 12/200\n",
            "64/64 [==============================] - 8s 126ms/step - loss: 0.3331 - fbeta: 0.6327 - val_loss: 0.3721 - val_fbeta: 0.5995\n",
            "Epoch 13/200\n",
            "64/64 [==============================] - 8s 128ms/step - loss: 0.3317 - fbeta: 0.6260 - val_loss: 0.3467 - val_fbeta: 0.5710\n",
            "Epoch 14/200\n",
            "64/64 [==============================] - 8s 129ms/step - loss: 0.3297 - fbeta: 0.6233 - val_loss: 0.3589 - val_fbeta: 0.5721\n",
            "Epoch 15/200\n",
            "64/64 [==============================] - 8s 128ms/step - loss: 0.3275 - fbeta: 0.6193 - val_loss: 0.3277 - val_fbeta: 0.6335\n",
            "Epoch 16/200\n",
            "64/64 [==============================] - 8s 128ms/step - loss: 0.3165 - fbeta: 0.6626 - val_loss: 0.3353 - val_fbeta: 0.5944\n",
            "Epoch 17/200\n",
            "64/64 [==============================] - 8s 130ms/step - loss: 0.3177 - fbeta: 0.6434 - val_loss: 0.3280 - val_fbeta: 0.6031\n",
            "Epoch 18/200\n",
            "64/64 [==============================] - 8s 128ms/step - loss: 0.3175 - fbeta: 0.6406 - val_loss: 0.3223 - val_fbeta: 0.6314\n",
            "Epoch 19/200\n",
            "64/64 [==============================] - 8s 128ms/step - loss: 0.3103 - fbeta: 0.6577 - val_loss: 0.3251 - val_fbeta: 0.6352\n",
            "Epoch 20/200\n",
            "64/64 [==============================] - 8s 128ms/step - loss: 0.2968 - fbeta: 0.6701 - val_loss: 0.3188 - val_fbeta: 0.6831\n",
            "Epoch 21/200\n",
            "64/64 [==============================] - 8s 128ms/step - loss: 0.3011 - fbeta: 0.6786 - val_loss: 0.3342 - val_fbeta: 0.6461\n",
            "Epoch 22/200\n",
            "64/64 [==============================] - 8s 128ms/step - loss: 0.3046 - fbeta: 0.6608 - val_loss: 0.3142 - val_fbeta: 0.6439\n",
            "Epoch 23/200\n",
            "64/64 [==============================] - 8s 129ms/step - loss: 0.3005 - fbeta: 0.6729 - val_loss: 0.3262 - val_fbeta: 0.6421\n",
            "Epoch 24/200\n",
            "64/64 [==============================] - 8s 129ms/step - loss: 0.2844 - fbeta: 0.6961 - val_loss: 0.3351 - val_fbeta: 0.6348\n",
            "Epoch 25/200\n",
            "64/64 [==============================] - 8s 128ms/step - loss: 0.2920 - fbeta: 0.6827 - val_loss: 0.3444 - val_fbeta: 0.6543\n",
            "Epoch 26/200\n",
            "64/64 [==============================] - 8s 129ms/step - loss: 0.3004 - fbeta: 0.6770 - val_loss: 0.3182 - val_fbeta: 0.6230\n",
            "Epoch 27/200\n",
            "64/64 [==============================] - 8s 129ms/step - loss: 0.2879 - fbeta: 0.6859 - val_loss: 0.3365 - val_fbeta: 0.6571\n",
            "Epoch 28/200\n",
            "64/64 [==============================] - 8s 129ms/step - loss: 0.2760 - fbeta: 0.7063 - val_loss: 0.3278 - val_fbeta: 0.6458\n",
            "Epoch 29/200\n",
            "64/64 [==============================] - 8s 129ms/step - loss: 0.2771 - fbeta: 0.7108 - val_loss: 0.3253 - val_fbeta: 0.6542\n",
            "Epoch 30/200\n",
            "64/64 [==============================] - 8s 129ms/step - loss: 0.2782 - fbeta: 0.7032 - val_loss: 0.3132 - val_fbeta: 0.6715\n",
            "Epoch 31/200\n",
            "64/64 [==============================] - 8s 128ms/step - loss: 0.2810 - fbeta: 0.7046 - val_loss: 0.3103 - val_fbeta: 0.6724\n",
            "Epoch 32/200\n",
            "64/64 [==============================] - 8s 128ms/step - loss: 0.2633 - fbeta: 0.7196 - val_loss: 0.3672 - val_fbeta: 0.6676\n",
            "Epoch 33/200\n",
            "64/64 [==============================] - 8s 128ms/step - loss: 0.2696 - fbeta: 0.7200 - val_loss: 0.3065 - val_fbeta: 0.6916\n",
            "Epoch 34/200\n",
            "64/64 [==============================] - 8s 130ms/step - loss: 0.2667 - fbeta: 0.7238 - val_loss: 0.3138 - val_fbeta: 0.7067\n",
            "Epoch 35/200\n",
            "64/64 [==============================] - 8s 128ms/step - loss: 0.2625 - fbeta: 0.7354 - val_loss: 0.2995 - val_fbeta: 0.6934\n",
            "Epoch 36/200\n",
            "64/64 [==============================] - 8s 131ms/step - loss: 0.2577 - fbeta: 0.7280 - val_loss: 0.3314 - val_fbeta: 0.6677\n",
            "Epoch 37/200\n",
            "64/64 [==============================] - 8s 131ms/step - loss: 0.2549 - fbeta: 0.7387 - val_loss: 0.3173 - val_fbeta: 0.6838\n",
            "Epoch 38/200\n",
            "64/64 [==============================] - 8s 132ms/step - loss: 0.2589 - fbeta: 0.7392 - val_loss: 0.3187 - val_fbeta: 0.7059\n",
            "Epoch 39/200\n",
            "64/64 [==============================] - 8s 132ms/step - loss: 0.2460 - fbeta: 0.7581 - val_loss: 0.3270 - val_fbeta: 0.6916\n",
            "Epoch 40/200\n",
            "64/64 [==============================] - 8s 131ms/step - loss: 0.2464 - fbeta: 0.7503 - val_loss: 0.3184 - val_fbeta: 0.6612\n",
            "Epoch 41/200\n",
            "64/64 [==============================] - 8s 130ms/step - loss: 0.2543 - fbeta: 0.7417 - val_loss: 0.2996 - val_fbeta: 0.6666\n",
            "Epoch 42/200\n",
            "64/64 [==============================] - 8s 129ms/step - loss: 0.2401 - fbeta: 0.7603 - val_loss: 0.2989 - val_fbeta: 0.6762\n",
            "Epoch 43/200\n",
            "64/64 [==============================] - 8s 130ms/step - loss: 0.2474 - fbeta: 0.7468 - val_loss: 0.3144 - val_fbeta: 0.6768\n",
            "Epoch 44/200\n",
            "64/64 [==============================] - 8s 129ms/step - loss: 0.2453 - fbeta: 0.7529 - val_loss: 0.3124 - val_fbeta: 0.6908\n",
            "Epoch 45/200\n",
            "64/64 [==============================] - 8s 130ms/step - loss: 0.2379 - fbeta: 0.7628 - val_loss: 0.3223 - val_fbeta: 0.7050\n",
            "Epoch 46/200\n",
            "64/64 [==============================] - 8s 129ms/step - loss: 0.2334 - fbeta: 0.7698 - val_loss: 0.3323 - val_fbeta: 0.6580\n",
            "Epoch 47/200\n",
            "64/64 [==============================] - 8s 127ms/step - loss: 0.2542 - fbeta: 0.7493 - val_loss: 0.2943 - val_fbeta: 0.7015\n",
            "Epoch 48/200\n",
            "64/64 [==============================] - 8s 127ms/step - loss: 0.2313 - fbeta: 0.7594 - val_loss: 0.3019 - val_fbeta: 0.7003\n",
            "Epoch 49/200\n",
            "64/64 [==============================] - 8s 128ms/step - loss: 0.2329 - fbeta: 0.7649 - val_loss: 0.3217 - val_fbeta: 0.6639\n",
            "Epoch 50/200\n",
            "64/64 [==============================] - 8s 128ms/step - loss: 0.2281 - fbeta: 0.7673 - val_loss: 0.3168 - val_fbeta: 0.6790\n",
            "Epoch 51/200\n",
            "64/64 [==============================] - 8s 127ms/step - loss: 0.2296 - fbeta: 0.7655 - val_loss: 0.2991 - val_fbeta: 0.7086\n",
            "Epoch 52/200\n",
            "64/64 [==============================] - 8s 127ms/step - loss: 0.2276 - fbeta: 0.7672 - val_loss: 0.3149 - val_fbeta: 0.6985\n",
            "Epoch 53/200\n",
            "64/64 [==============================] - 8s 127ms/step - loss: 0.2213 - fbeta: 0.7875 - val_loss: 0.3007 - val_fbeta: 0.6904\n",
            "Epoch 54/200\n",
            "64/64 [==============================] - 8s 127ms/step - loss: 0.2255 - fbeta: 0.7686 - val_loss: 0.3342 - val_fbeta: 0.7007\n",
            "Epoch 55/200\n",
            "64/64 [==============================] - 8s 128ms/step - loss: 0.2157 - fbeta: 0.7933 - val_loss: 0.3204 - val_fbeta: 0.6988\n",
            "Epoch 56/200\n",
            "64/64 [==============================] - 8s 127ms/step - loss: 0.2118 - fbeta: 0.7875 - val_loss: 0.3092 - val_fbeta: 0.7232\n",
            "Epoch 57/200\n",
            "64/64 [==============================] - 8s 128ms/step - loss: 0.2163 - fbeta: 0.7820 - val_loss: 0.3056 - val_fbeta: 0.6840\n",
            "Epoch 58/200\n",
            "64/64 [==============================] - 8s 129ms/step - loss: 0.2122 - fbeta: 0.7926 - val_loss: 0.3546 - val_fbeta: 0.6824\n",
            "Epoch 59/200\n",
            "64/64 [==============================] - 8s 130ms/step - loss: 0.2141 - fbeta: 0.7960 - val_loss: 0.2999 - val_fbeta: 0.7109\n",
            "Epoch 60/200\n",
            "64/64 [==============================] - 8s 128ms/step - loss: 0.2048 - fbeta: 0.7973 - val_loss: 0.3164 - val_fbeta: 0.7176\n",
            "Epoch 61/200\n",
            "64/64 [==============================] - 8s 129ms/step - loss: 0.2047 - fbeta: 0.7909 - val_loss: 0.3067 - val_fbeta: 0.7340\n",
            "Epoch 62/200\n",
            "64/64 [==============================] - 8s 129ms/step - loss: 0.2144 - fbeta: 0.7874 - val_loss: 0.3140 - val_fbeta: 0.7072\n",
            "Epoch 63/200\n",
            "64/64 [==============================] - 8s 128ms/step - loss: 0.2128 - fbeta: 0.7804 - val_loss: 0.3425 - val_fbeta: 0.7121\n",
            "Epoch 64/200\n",
            "64/64 [==============================] - 8s 127ms/step - loss: 0.2036 - fbeta: 0.8116 - val_loss: 0.3290 - val_fbeta: 0.7406\n",
            "Epoch 65/200\n",
            "64/64 [==============================] - 8s 127ms/step - loss: 0.2054 - fbeta: 0.8153 - val_loss: 0.3062 - val_fbeta: 0.7313\n",
            "Epoch 66/200\n",
            "64/64 [==============================] - 8s 126ms/step - loss: 0.2054 - fbeta: 0.7980 - val_loss: 0.3319 - val_fbeta: 0.7192\n",
            "Epoch 67/200\n",
            "64/64 [==============================] - 8s 127ms/step - loss: 0.2058 - fbeta: 0.7909 - val_loss: 0.3334 - val_fbeta: 0.7102\n",
            "Epoch 00067: early stopping\n"
          ]
        },
        {
          "output_type": "display_data",
          "data": {
            "image/png": "[encoded data removed]",
            "text/plain": [
              "<Figure size 1080x360 with 2 Axes>"
            ]
          },
          "metadata": {
            "needs_background": "light"
          }
        },
        {
          "output_type": "stream",
          "name": "stdout",
          "text": [
            "Model F-beta score :  0.7444949150085449\n"
          ]
        }
      ]
    },
    {
      "cell_type": "markdown",
      "metadata": {
        "id": "zgkmZK4vddrN"
      },
      "source": [
        "Note : overfitting is reduced"
      ]
    },
    {
      "cell_type": "markdown",
      "metadata": {
        "id": "njGE65gt3D1m"
      },
      "source": [
        "### model 3 : Baseline 2 + data augmentation + dropout layers"
      ]
    },
    {
      "cell_type": "code",
      "metadata": {
        "colab": {
          "base_uri": "https://localhost:8080/",
          "height": 1000
        },
        "id": "CGXrSqAM3DV2",
        "outputId": "735e5aec-9ec5-46b4-bd87-389a4c49df65"
      },
      "source": [
        "# create data generator with data augmentation\n",
        "train_gen = ImageDataGenerator(rescale=1./255,\n",
        "                               rotation_range=30,\n",
        "                               width_shift_range=0.2,\n",
        "                               height_shift_range=0.2,\n",
        "                               zoom_range=0.2,\n",
        "                               horizontal_flip=True,\n",
        "                               vertical_flip=True,\n",
        "                               validation_split=0.2)\n",
        "test_gen = ImageDataGenerator(rescale=1./255)\n",
        "\n",
        "batch_size = 20\n",
        "train_iter = train_gen.flow(X_train, y_train, batch_size=batch_size, subset='training', seed=123)\n",
        "val_iter = train_gen.flow(X_train, y_train, batch_size=batch_size, subset='validation', seed=123)\n",
        "test_iter = test_gen.flow(X_test, y_test, batch_size=1, seed=123)\n",
        "\n",
        "# create model : add dropout layers\n",
        "model = Sequential()\n",
        "model.add(Conv2D(32, (3,3), padding='same', activation='relu', kernel_initializer='he_uniform', input_shape=(128, 128, 3)))\n",
        "model.add(Conv2D(32, (3,3), padding='same', activation='relu', kernel_initializer='he_uniform'))\n",
        "model.add(MaxPooling2D((2,2)))\n",
        "model.add(Dropout(0.2))\n",
        "model.add(Conv2D(64, (3,3), padding='same', activation='relu', kernel_initializer='he_uniform', input_shape=(128, 128, 3)))\n",
        "model.add(Conv2D(64, (3,3), padding='same', activation='relu', kernel_initializer='he_uniform'))\n",
        "model.add(MaxPooling2D((2,2)))\n",
        "model.add(Dropout(0.2))\n",
        "model.add(Flatten())\n",
        "model.add(Dense(100, activation='relu', kernel_initializer='he_uniform'))\n",
        "model.add(Dropout(0.3))\n",
        "model.add(Dense(5, activation='sigmoid'))\n",
        "\n",
        "# compile model\n",
        "model.compile(optimizer='adam', loss='binary_crossentropy', metrics=[fbeta])\n",
        "\n",
        "# create early stopping object\n",
        "es = EarlyStopping(monitor='val_loss', mode='min', verbose=1, patience=20)\n",
        "\n",
        "# fit model\n",
        "history = model.fit(train_iter, \n",
        "                    steps_per_epoch=len(train_iter),\n",
        "                    validation_data=val_iter,\n",
        "                    validation_steps=len(val_iter), \n",
        "                    callbacks=[es],\n",
        "                    epochs=200)\n",
        "# show result\n",
        "model3_perf = evaluate_model(history)"
      ],
      "execution_count": null,
      "outputs": [
        {
          "output_type": "stream",
          "name": "stdout",
          "text": [
            "Epoch 1/200\n",
            "64/64 [==============================] - 10s 136ms/step - loss: 0.7466 - fbeta: 0.1084 - val_loss: 0.5217 - val_fbeta: 0.1628\n",
            "Epoch 2/200\n",
            "64/64 [==============================] - 8s 130ms/step - loss: 0.5165 - fbeta: 0.1873 - val_loss: 0.4580 - val_fbeta: 0.2753\n",
            "Epoch 3/200\n",
            "64/64 [==============================] - 8s 128ms/step - loss: 0.4691 - fbeta: 0.2956 - val_loss: 0.4216 - val_fbeta: 0.2724\n",
            "Epoch 4/200\n",
            "64/64 [==============================] - 8s 129ms/step - loss: 0.4502 - fbeta: 0.3695 - val_loss: 0.4424 - val_fbeta: 0.3885\n",
            "Epoch 5/200\n",
            "64/64 [==============================] - 8s 129ms/step - loss: 0.4369 - fbeta: 0.4095 - val_loss: 0.3988 - val_fbeta: 0.4630\n",
            "Epoch 6/200\n",
            "64/64 [==============================] - 8s 125ms/step - loss: 0.4182 - fbeta: 0.4479 - val_loss: 0.3945 - val_fbeta: 0.4642\n",
            "Epoch 7/200\n",
            "64/64 [==============================] - 8s 126ms/step - loss: 0.4051 - fbeta: 0.4772 - val_loss: 0.3829 - val_fbeta: 0.5373\n",
            "Epoch 8/200\n",
            "64/64 [==============================] - 8s 127ms/step - loss: 0.4130 - fbeta: 0.4674 - val_loss: 0.3752 - val_fbeta: 0.5019\n",
            "Epoch 9/200\n",
            "64/64 [==============================] - 8s 126ms/step - loss: 0.3954 - fbeta: 0.4770 - val_loss: 0.3900 - val_fbeta: 0.4835\n",
            "Epoch 10/200\n",
            "64/64 [==============================] - 8s 125ms/step - loss: 0.3971 - fbeta: 0.4850 - val_loss: 0.3780 - val_fbeta: 0.5521\n",
            "Epoch 11/200\n",
            "64/64 [==============================] - 8s 125ms/step - loss: 0.3922 - fbeta: 0.5156 - val_loss: 0.3772 - val_fbeta: 0.5146\n",
            "Epoch 12/200\n",
            "64/64 [==============================] - 8s 127ms/step - loss: 0.3905 - fbeta: 0.5151 - val_loss: 0.3720 - val_fbeta: 0.5093\n",
            "Epoch 13/200\n",
            "64/64 [==============================] - 8s 126ms/step - loss: 0.3766 - fbeta: 0.5338 - val_loss: 0.3472 - val_fbeta: 0.5526\n",
            "Epoch 14/200\n",
            "64/64 [==============================] - 8s 127ms/step - loss: 0.3803 - fbeta: 0.5494 - val_loss: 0.3611 - val_fbeta: 0.4941\n",
            "Epoch 15/200\n",
            "64/64 [==============================] - 8s 127ms/step - loss: 0.3671 - fbeta: 0.5555 - val_loss: 0.3697 - val_fbeta: 0.5241\n",
            "Epoch 16/200\n",
            "64/64 [==============================] - 8s 127ms/step - loss: 0.3693 - fbeta: 0.5597 - val_loss: 0.3315 - val_fbeta: 0.5785\n",
            "Epoch 17/200\n",
            "64/64 [==============================] - 8s 127ms/step - loss: 0.3500 - fbeta: 0.5956 - val_loss: 0.3552 - val_fbeta: 0.5774\n",
            "Epoch 18/200\n",
            "64/64 [==============================] - 8s 128ms/step - loss: 0.3524 - fbeta: 0.5889 - val_loss: 0.3536 - val_fbeta: 0.5503\n",
            "Epoch 19/200\n",
            "64/64 [==============================] - 8s 129ms/step - loss: 0.3476 - fbeta: 0.6045 - val_loss: 0.3427 - val_fbeta: 0.6057\n",
            "Epoch 20/200\n",
            "64/64 [==============================] - 8s 130ms/step - loss: 0.3522 - fbeta: 0.5792 - val_loss: 0.3400 - val_fbeta: 0.5701\n",
            "Epoch 21/200\n",
            "64/64 [==============================] - 8s 129ms/step - loss: 0.3536 - fbeta: 0.5849 - val_loss: 0.3517 - val_fbeta: 0.5441\n",
            "Epoch 22/200\n",
            "64/64 [==============================] - 8s 129ms/step - loss: 0.3497 - fbeta: 0.5912 - val_loss: 0.3419 - val_fbeta: 0.6185\n",
            "Epoch 23/200\n",
            "64/64 [==============================] - 8s 130ms/step - loss: 0.3570 - fbeta: 0.5933 - val_loss: 0.3451 - val_fbeta: 0.6017\n",
            "Epoch 24/200\n",
            "64/64 [==============================] - 8s 129ms/step - loss: 0.3385 - fbeta: 0.6191 - val_loss: 0.3329 - val_fbeta: 0.6303\n",
            "Epoch 25/200\n",
            "64/64 [==============================] - 8s 129ms/step - loss: 0.3345 - fbeta: 0.6196 - val_loss: 0.3328 - val_fbeta: 0.6376\n",
            "Epoch 26/200\n",
            "64/64 [==============================] - 8s 131ms/step - loss: 0.3362 - fbeta: 0.6015 - val_loss: 0.3345 - val_fbeta: 0.6057\n",
            "Epoch 27/200\n",
            "64/64 [==============================] - 8s 129ms/step - loss: 0.3336 - fbeta: 0.6253 - val_loss: 0.3501 - val_fbeta: 0.6210\n",
            "Epoch 28/200\n",
            "64/64 [==============================] - 8s 126ms/step - loss: 0.3324 - fbeta: 0.6300 - val_loss: 0.3348 - val_fbeta: 0.6185\n",
            "Epoch 29/200\n",
            "64/64 [==============================] - 8s 129ms/step - loss: 0.3280 - fbeta: 0.6420 - val_loss: 0.3305 - val_fbeta: 0.6382\n",
            "Epoch 30/200\n",
            "64/64 [==============================] - 8s 128ms/step - loss: 0.3272 - fbeta: 0.6310 - val_loss: 0.3359 - val_fbeta: 0.6203\n",
            "Epoch 31/200\n",
            "64/64 [==============================] - 8s 128ms/step - loss: 0.3328 - fbeta: 0.6228 - val_loss: 0.3314 - val_fbeta: 0.5939\n",
            "Epoch 32/200\n",
            "64/64 [==============================] - 8s 128ms/step - loss: 0.3204 - fbeta: 0.6482 - val_loss: 0.3317 - val_fbeta: 0.6343\n",
            "Epoch 33/200\n",
            "64/64 [==============================] - 8s 128ms/step - loss: 0.3201 - fbeta: 0.6441 - val_loss: 0.3341 - val_fbeta: 0.6574\n",
            "Epoch 34/200\n",
            "64/64 [==============================] - 8s 128ms/step - loss: 0.3212 - fbeta: 0.6500 - val_loss: 0.3266 - val_fbeta: 0.6215\n",
            "Epoch 35/200\n",
            "64/64 [==============================] - 8s 127ms/step - loss: 0.3242 - fbeta: 0.6425 - val_loss: 0.3229 - val_fbeta: 0.6484\n",
            "Epoch 36/200\n",
            "64/64 [==============================] - 8s 128ms/step - loss: 0.3123 - fbeta: 0.6480 - val_loss: 0.3345 - val_fbeta: 0.6177\n",
            "Epoch 37/200\n",
            "64/64 [==============================] - 8s 130ms/step - loss: 0.3148 - fbeta: 0.6615 - val_loss: 0.3367 - val_fbeta: 0.6484\n",
            "Epoch 38/200\n",
            "64/64 [==============================] - 8s 130ms/step - loss: 0.3116 - fbeta: 0.6589 - val_loss: 0.3485 - val_fbeta: 0.6434\n",
            "Epoch 39/200\n",
            "64/64 [==============================] - 8s 130ms/step - loss: 0.3128 - fbeta: 0.6457 - val_loss: 0.3185 - val_fbeta: 0.6388\n",
            "Epoch 40/200\n",
            "64/64 [==============================] - 8s 128ms/step - loss: 0.3104 - fbeta: 0.6497 - val_loss: 0.3282 - val_fbeta: 0.6673\n",
            "Epoch 41/200\n",
            "64/64 [==============================] - 8s 130ms/step - loss: 0.3110 - fbeta: 0.6592 - val_loss: 0.3225 - val_fbeta: 0.6368\n",
            "Epoch 42/200\n",
            "64/64 [==============================] - 8s 130ms/step - loss: 0.3352 - fbeta: 0.6289 - val_loss: 0.3210 - val_fbeta: 0.6067\n",
            "Epoch 43/200\n",
            "64/64 [==============================] - 8s 129ms/step - loss: 0.3095 - fbeta: 0.6546 - val_loss: 0.3272 - val_fbeta: 0.6354\n",
            "Epoch 44/200\n",
            "64/64 [==============================] - 8s 131ms/step - loss: 0.3145 - fbeta: 0.6580 - val_loss: 0.3271 - val_fbeta: 0.6479\n",
            "Epoch 45/200\n",
            "64/64 [==============================] - 8s 132ms/step - loss: 0.3086 - fbeta: 0.6557 - val_loss: 0.3269 - val_fbeta: 0.6569\n",
            "Epoch 46/200\n",
            "64/64 [==============================] - 8s 129ms/step - loss: 0.3032 - fbeta: 0.6834 - val_loss: 0.3281 - val_fbeta: 0.6323\n",
            "Epoch 47/200\n",
            "64/64 [==============================] - 8s 127ms/step - loss: 0.2960 - fbeta: 0.6615 - val_loss: 0.3127 - val_fbeta: 0.6587\n",
            "Epoch 48/200\n",
            "64/64 [==============================] - 8s 129ms/step - loss: 0.2943 - fbeta: 0.6618 - val_loss: 0.3037 - val_fbeta: 0.6830\n",
            "Epoch 49/200\n",
            "64/64 [==============================] - 8s 130ms/step - loss: 0.3031 - fbeta: 0.6721 - val_loss: 0.3100 - val_fbeta: 0.6717\n",
            "Epoch 50/200\n",
            "64/64 [==============================] - 8s 129ms/step - loss: 0.2912 - fbeta: 0.6768 - val_loss: 0.2924 - val_fbeta: 0.6828\n",
            "Epoch 51/200\n",
            "64/64 [==============================] - 8s 128ms/step - loss: 0.2940 - fbeta: 0.6805 - val_loss: 0.3101 - val_fbeta: 0.6704\n",
            "Epoch 52/200\n",
            "64/64 [==============================] - 8s 126ms/step - loss: 0.2918 - fbeta: 0.6732 - val_loss: 0.3028 - val_fbeta: 0.6732\n",
            "Epoch 53/200\n",
            "64/64 [==============================] - 8s 128ms/step - loss: 0.2859 - fbeta: 0.6765 - val_loss: 0.2958 - val_fbeta: 0.6574\n",
            "Epoch 54/200\n",
            "64/64 [==============================] - 8s 129ms/step - loss: 0.2819 - fbeta: 0.6974 - val_loss: 0.3168 - val_fbeta: 0.6755\n",
            "Epoch 55/200\n",
            "64/64 [==============================] - 8s 129ms/step - loss: 0.2921 - fbeta: 0.6958 - val_loss: 0.3239 - val_fbeta: 0.6746\n",
            "Epoch 56/200\n",
            "64/64 [==============================] - 8s 127ms/step - loss: 0.2906 - fbeta: 0.6854 - val_loss: 0.3047 - val_fbeta: 0.6765\n",
            "Epoch 57/200\n",
            "64/64 [==============================] - 8s 129ms/step - loss: 0.2803 - fbeta: 0.6942 - val_loss: 0.3203 - val_fbeta: 0.6604\n",
            "Epoch 58/200\n",
            "64/64 [==============================] - 8s 127ms/step - loss: 0.2746 - fbeta: 0.7067 - val_loss: 0.3355 - val_fbeta: 0.6411\n",
            "Epoch 59/200\n",
            "64/64 [==============================] - 8s 127ms/step - loss: 0.2885 - fbeta: 0.6937 - val_loss: 0.3092 - val_fbeta: 0.6722\n",
            "Epoch 60/200\n",
            "64/64 [==============================] - 8s 127ms/step - loss: 0.2787 - fbeta: 0.7051 - val_loss: 0.2934 - val_fbeta: 0.7014\n",
            "Epoch 61/200\n",
            "64/64 [==============================] - 8s 128ms/step - loss: 0.2885 - fbeta: 0.6923 - val_loss: 0.3080 - val_fbeta: 0.6757\n",
            "Epoch 62/200\n",
            "64/64 [==============================] - 8s 128ms/step - loss: 0.2848 - fbeta: 0.6806 - val_loss: 0.3018 - val_fbeta: 0.6649\n",
            "Epoch 63/200\n",
            "64/64 [==============================] - 8s 129ms/step - loss: 0.2874 - fbeta: 0.6790 - val_loss: 0.3039 - val_fbeta: 0.6871\n",
            "Epoch 64/200\n",
            "64/64 [==============================] - 8s 128ms/step - loss: 0.2811 - fbeta: 0.7005 - val_loss: 0.3343 - val_fbeta: 0.6816\n",
            "Epoch 65/200\n",
            "64/64 [==============================] - 8s 128ms/step - loss: 0.2756 - fbeta: 0.7056 - val_loss: 0.3063 - val_fbeta: 0.6908\n",
            "Epoch 66/200\n",
            "64/64 [==============================] - 8s 129ms/step - loss: 0.2831 - fbeta: 0.6959 - val_loss: 0.2930 - val_fbeta: 0.6949\n",
            "Epoch 67/200\n",
            "64/64 [==============================] - 8s 128ms/step - loss: 0.2693 - fbeta: 0.7106 - val_loss: 0.3014 - val_fbeta: 0.6960\n",
            "Epoch 68/200\n",
            "64/64 [==============================] - 8s 127ms/step - loss: 0.2714 - fbeta: 0.7137 - val_loss: 0.3003 - val_fbeta: 0.6821\n",
            "Epoch 69/200\n",
            "64/64 [==============================] - 8s 128ms/step - loss: 0.2755 - fbeta: 0.7087 - val_loss: 0.2875 - val_fbeta: 0.6764\n",
            "Epoch 70/200\n",
            "64/64 [==============================] - 8s 128ms/step - loss: 0.2743 - fbeta: 0.7097 - val_loss: 0.2959 - val_fbeta: 0.6821\n",
            "Epoch 71/200\n",
            "64/64 [==============================] - 8s 128ms/step - loss: 0.2612 - fbeta: 0.7246 - val_loss: 0.2981 - val_fbeta: 0.6840\n",
            "Epoch 72/200\n",
            "64/64 [==============================] - 8s 127ms/step - loss: 0.2789 - fbeta: 0.6874 - val_loss: 0.2971 - val_fbeta: 0.7029\n",
            "Epoch 73/200\n",
            "64/64 [==============================] - 8s 128ms/step - loss: 0.2634 - fbeta: 0.7324 - val_loss: 0.3105 - val_fbeta: 0.6830\n",
            "Epoch 74/200\n",
            "64/64 [==============================] - 8s 129ms/step - loss: 0.2619 - fbeta: 0.7271 - val_loss: 0.3119 - val_fbeta: 0.6829\n",
            "Epoch 75/200\n",
            "64/64 [==============================] - 8s 128ms/step - loss: 0.2650 - fbeta: 0.7163 - val_loss: 0.2998 - val_fbeta: 0.7012\n",
            "Epoch 76/200\n",
            "64/64 [==============================] - 8s 127ms/step - loss: 0.2683 - fbeta: 0.7073 - val_loss: 0.3160 - val_fbeta: 0.6840\n",
            "Epoch 77/200\n",
            "64/64 [==============================] - 8s 128ms/step - loss: 0.2656 - fbeta: 0.6944 - val_loss: 0.3118 - val_fbeta: 0.6923\n",
            "Epoch 78/200\n",
            "64/64 [==============================] - 8s 128ms/step - loss: 0.2708 - fbeta: 0.7108 - val_loss: 0.3046 - val_fbeta: 0.6823\n",
            "Epoch 79/200\n",
            "64/64 [==============================] - 8s 127ms/step - loss: 0.2580 - fbeta: 0.7327 - val_loss: 0.2990 - val_fbeta: 0.6939\n",
            "Epoch 80/200\n",
            "64/64 [==============================] - 8s 128ms/step - loss: 0.2615 - fbeta: 0.7254 - val_loss: 0.3129 - val_fbeta: 0.6972\n",
            "Epoch 81/200\n",
            "64/64 [==============================] - 8s 128ms/step - loss: 0.2703 - fbeta: 0.7117 - val_loss: 0.3131 - val_fbeta: 0.6861\n",
            "Epoch 82/200\n",
            "64/64 [==============================] - 8s 128ms/step - loss: 0.2658 - fbeta: 0.7215 - val_loss: 0.3386 - val_fbeta: 0.6934\n",
            "Epoch 83/200\n",
            "64/64 [==============================] - 8s 128ms/step - loss: 0.2583 - fbeta: 0.7277 - val_loss: 0.3039 - val_fbeta: 0.6939\n",
            "Epoch 84/200\n",
            "64/64 [==============================] - 8s 128ms/step - loss: 0.2721 - fbeta: 0.7309 - val_loss: 0.3305 - val_fbeta: 0.6569\n",
            "Epoch 85/200\n",
            "64/64 [==============================] - 8s 127ms/step - loss: 0.2663 - fbeta: 0.7072 - val_loss: 0.3144 - val_fbeta: 0.6866\n",
            "Epoch 86/200\n",
            "64/64 [==============================] - 8s 128ms/step - loss: 0.2655 - fbeta: 0.7127 - val_loss: 0.2964 - val_fbeta: 0.7019\n",
            "Epoch 87/200\n",
            "64/64 [==============================] - 8s 128ms/step - loss: 0.2555 - fbeta: 0.7154 - val_loss: 0.3163 - val_fbeta: 0.6781\n",
            "Epoch 88/200\n",
            "64/64 [==============================] - 8s 127ms/step - loss: 0.2653 - fbeta: 0.7023 - val_loss: 0.3109 - val_fbeta: 0.6991\n",
            "Epoch 89/200\n",
            "64/64 [==============================] - 8s 128ms/step - loss: 0.2602 - fbeta: 0.7430 - val_loss: 0.2950 - val_fbeta: 0.6696\n",
            "Epoch 00089: early stopping\n"
          ]
        },
        {
          "output_type": "display_data",
          "data": {
            "image/png": "[encoded data removed]",
            "text/plain": [
              "<Figure size 1080x360 with 2 Axes>"
            ]
          },
          "metadata": {
            "needs_background": "light"
          }
        },
        {
          "output_type": "stream",
          "name": "stdout",
          "text": [
            "Model F-beta score :  0.6908027529716492\n"
          ]
        }
      ]
    },
    {
      "cell_type": "markdown",
      "metadata": {
        "id": "bnWmhrNJ8Up1"
      },
      "source": [
        "Note : overfitting is reduced, the performance is lower"
      ]
    },
    {
      "cell_type": "markdown",
      "metadata": {
        "id": "6LSTHFTIiZqi"
      },
      "source": [
        "### model 4 : Baseline 2 + data augmentation + dropout layer + more dense layers"
      ]
    },
    {
      "cell_type": "code",
      "metadata": {
        "colab": {
          "base_uri": "https://localhost:8080/",
          "height": 1000
        },
        "id": "8jTPaC1giqMY",
        "outputId": "0f0fab5a-5d11-453c-ad16-38114f60f428"
      },
      "source": [
        "# create data generator with data augmentation\n",
        "train_gen = ImageDataGenerator(rescale=1./255,\n",
        "                               rotation_range=30,\n",
        "                               width_shift_range=0.2,\n",
        "                               height_shift_range=0.2,\n",
        "                               zoom_range=0.2,\n",
        "                               horizontal_flip=True,\n",
        "                               vertical_flip=True,\n",
        "                               validation_split=0.2)\n",
        "test_gen = ImageDataGenerator(rescale=1./255)\n",
        "\n",
        "batch_size = 20\n",
        "train_iter = train_gen.flow(X_train, y_train, batch_size=batch_size, subset='training', seed=123)\n",
        "val_iter = train_gen.flow(X_train, y_train, batch_size=batch_size, subset='validation', seed=123)\n",
        "test_iter = test_gen.flow(X_test, y_test, batch_size=1, seed=123)\n",
        "\n",
        "# create model\n",
        "model = Sequential()\n",
        "model.add(Conv2D(32, (3,3), padding='same', activation='relu', kernel_initializer='he_uniform', input_shape=(128, 128, 3)))\n",
        "model.add(Conv2D(32, (3,3), padding='same', activation='relu', kernel_initializer='he_uniform'))\n",
        "model.add(MaxPooling2D((2,2)))\n",
        "model.add(Dropout(0.2))\n",
        "model.add(Conv2D(64, (3,3), padding='same', activation='relu', kernel_initializer='he_uniform', input_shape=(128, 128, 3)))\n",
        "model.add(Conv2D(64, (3,3), padding='same', activation='relu', kernel_initializer='he_uniform'))\n",
        "model.add(MaxPooling2D((2,2)))\n",
        "model.add(Dropout(0.2))\n",
        "model.add(Flatten())\n",
        "model.add(Dense(200, activation='relu', kernel_initializer='he_uniform'))\n",
        "model.add(Dropout(0.3))\n",
        "model.add(Dense(100, activation='relu', kernel_initializer='he_uniform'))\n",
        "model.add(Dropout(0.3))\n",
        "model.add(Dense(5, activation='sigmoid'))\n",
        "\n",
        "\n",
        "# compile model\n",
        "model.compile(optimizer='adam', loss='binary_crossentropy', metrics=[fbeta])\n",
        "\n",
        "# create early stopping object\n",
        "es = EarlyStopping(monitor='val_loss', mode='min', verbose=1, patience=20)\n",
        "\n",
        "# fit model\n",
        "history = model.fit(train_iter, \n",
        "                    steps_per_epoch=len(train_iter),\n",
        "                    validation_data=val_iter,\n",
        "                    validation_steps=len(val_iter), \n",
        "                    callbacks=[es],\n",
        "                    epochs=200)\n",
        "# show result\n",
        "model4_perf = evaluate_model(history)"
      ],
      "execution_count": null,
      "outputs": [
        {
          "output_type": "stream",
          "name": "stdout",
          "text": [
            "Epoch 1/200\n",
            "64/64 [==============================] - 9s 132ms/step - loss: 1.1869 - fbeta: 0.1387 - val_loss: 0.5490 - val_fbeta: 0.0000e+00\n",
            "Epoch 2/200\n",
            "64/64 [==============================] - 8s 127ms/step - loss: 0.5161 - fbeta: 0.1769 - val_loss: 0.4700 - val_fbeta: 0.2331\n",
            "Epoch 3/200\n",
            "64/64 [==============================] - 8s 127ms/step - loss: 0.4891 - fbeta: 0.2870 - val_loss: 0.4799 - val_fbeta: 0.2095\n",
            "Epoch 4/200\n",
            "64/64 [==============================] - 8s 128ms/step - loss: 0.4594 - fbeta: 0.3286 - val_loss: 0.4181 - val_fbeta: 0.3866\n",
            "Epoch 5/200\n",
            "64/64 [==============================] - 8s 127ms/step - loss: 0.4441 - fbeta: 0.4035 - val_loss: 0.4181 - val_fbeta: 0.4510\n",
            "Epoch 6/200\n",
            "64/64 [==============================] - 8s 127ms/step - loss: 0.4311 - fbeta: 0.3988 - val_loss: 0.4079 - val_fbeta: 0.4699\n",
            "Epoch 7/200\n",
            "64/64 [==============================] - 8s 127ms/step - loss: 0.4197 - fbeta: 0.4522 - val_loss: 0.4064 - val_fbeta: 0.4666\n",
            "Epoch 8/200\n",
            "64/64 [==============================] - 8s 128ms/step - loss: 0.4091 - fbeta: 0.4552 - val_loss: 0.3957 - val_fbeta: 0.4555\n",
            "Epoch 9/200\n",
            "64/64 [==============================] - 8s 128ms/step - loss: 0.4036 - fbeta: 0.4465 - val_loss: 0.3605 - val_fbeta: 0.5303\n",
            "Epoch 10/200\n",
            "64/64 [==============================] - 8s 127ms/step - loss: 0.3951 - fbeta: 0.4912 - val_loss: 0.3609 - val_fbeta: 0.5625\n",
            "Epoch 11/200\n",
            "64/64 [==============================] - 8s 128ms/step - loss: 0.3912 - fbeta: 0.4970 - val_loss: 0.3885 - val_fbeta: 0.5215\n",
            "Epoch 12/200\n",
            "64/64 [==============================] - 8s 128ms/step - loss: 0.3884 - fbeta: 0.5059 - val_loss: 0.3706 - val_fbeta: 0.5576\n",
            "Epoch 13/200\n",
            "64/64 [==============================] - 8s 129ms/step - loss: 0.3693 - fbeta: 0.5561 - val_loss: 0.3515 - val_fbeta: 0.5814\n",
            "Epoch 14/200\n",
            "64/64 [==============================] - 8s 128ms/step - loss: 0.3845 - fbeta: 0.5214 - val_loss: 0.3786 - val_fbeta: 0.5342\n",
            "Epoch 15/200\n",
            "64/64 [==============================] - 8s 128ms/step - loss: 0.3805 - fbeta: 0.5268 - val_loss: 0.3764 - val_fbeta: 0.5123\n",
            "Epoch 16/200\n",
            "64/64 [==============================] - 8s 128ms/step - loss: 0.3655 - fbeta: 0.5439 - val_loss: 0.3513 - val_fbeta: 0.5651\n",
            "Epoch 17/200\n",
            "64/64 [==============================] - 8s 128ms/step - loss: 0.3630 - fbeta: 0.5640 - val_loss: 0.3550 - val_fbeta: 0.5646\n",
            "Epoch 18/200\n",
            "64/64 [==============================] - 8s 130ms/step - loss: 0.3610 - fbeta: 0.5718 - val_loss: 0.3502 - val_fbeta: 0.6109\n",
            "Epoch 19/200\n",
            "64/64 [==============================] - 8s 128ms/step - loss: 0.3591 - fbeta: 0.5653 - val_loss: 0.3396 - val_fbeta: 0.6189\n",
            "Epoch 20/200\n",
            "64/64 [==============================] - 8s 129ms/step - loss: 0.3557 - fbeta: 0.5762 - val_loss: 0.3596 - val_fbeta: 0.5635\n",
            "Epoch 21/200\n",
            "64/64 [==============================] - 8s 130ms/step - loss: 0.3449 - fbeta: 0.5968 - val_loss: 0.3465 - val_fbeta: 0.6421\n",
            "Epoch 22/200\n",
            "64/64 [==============================] - 8s 129ms/step - loss: 0.3582 - fbeta: 0.5771 - val_loss: 0.3335 - val_fbeta: 0.6418\n",
            "Epoch 23/200\n",
            "64/64 [==============================] - 8s 133ms/step - loss: 0.3584 - fbeta: 0.5750 - val_loss: 0.3461 - val_fbeta: 0.6007\n",
            "Epoch 24/200\n",
            "64/64 [==============================] - 8s 132ms/step - loss: 0.3434 - fbeta: 0.5891 - val_loss: 0.3293 - val_fbeta: 0.6317\n",
            "Epoch 25/200\n",
            "64/64 [==============================] - 8s 131ms/step - loss: 0.3392 - fbeta: 0.6245 - val_loss: 0.3499 - val_fbeta: 0.6083\n",
            "Epoch 26/200\n",
            "64/64 [==============================] - 8s 132ms/step - loss: 0.3475 - fbeta: 0.5993 - val_loss: 0.3367 - val_fbeta: 0.6052\n",
            "Epoch 27/200\n",
            "64/64 [==============================] - 8s 132ms/step - loss: 0.3385 - fbeta: 0.5997 - val_loss: 0.3239 - val_fbeta: 0.6300\n",
            "Epoch 28/200\n",
            "64/64 [==============================] - 8s 132ms/step - loss: 0.3372 - fbeta: 0.6221 - val_loss: 0.3288 - val_fbeta: 0.6656\n",
            "Epoch 29/200\n",
            "64/64 [==============================] - 8s 130ms/step - loss: 0.3300 - fbeta: 0.6229 - val_loss: 0.3295 - val_fbeta: 0.6394\n",
            "Epoch 30/200\n",
            "64/64 [==============================] - 8s 131ms/step - loss: 0.3338 - fbeta: 0.6270 - val_loss: 0.3492 - val_fbeta: 0.6022\n",
            "Epoch 31/200\n",
            "64/64 [==============================] - 8s 128ms/step - loss: 0.3198 - fbeta: 0.6495 - val_loss: 0.3266 - val_fbeta: 0.6269\n",
            "Epoch 32/200\n",
            "64/64 [==============================] - 8s 128ms/step - loss: 0.3212 - fbeta: 0.6411 - val_loss: 0.3332 - val_fbeta: 0.6161\n",
            "Epoch 33/200\n",
            "64/64 [==============================] - 8s 127ms/step - loss: 0.3199 - fbeta: 0.6472 - val_loss: 0.3168 - val_fbeta: 0.6547\n",
            "Epoch 34/200\n",
            "64/64 [==============================] - 8s 127ms/step - loss: 0.3192 - fbeta: 0.6514 - val_loss: 0.3284 - val_fbeta: 0.6298\n",
            "Epoch 35/200\n",
            "64/64 [==============================] - 8s 128ms/step - loss: 0.3110 - fbeta: 0.6618 - val_loss: 0.3023 - val_fbeta: 0.6746\n",
            "Epoch 36/200\n",
            "64/64 [==============================] - 8s 127ms/step - loss: 0.3204 - fbeta: 0.6538 - val_loss: 0.3127 - val_fbeta: 0.6567\n",
            "Epoch 37/200\n",
            "64/64 [==============================] - 8s 127ms/step - loss: 0.3107 - fbeta: 0.6639 - val_loss: 0.3369 - val_fbeta: 0.6022\n",
            "Epoch 38/200\n",
            "64/64 [==============================] - 8s 128ms/step - loss: 0.3204 - fbeta: 0.6325 - val_loss: 0.3092 - val_fbeta: 0.6450\n",
            "Epoch 39/200\n",
            "64/64 [==============================] - 8s 128ms/step - loss: 0.3135 - fbeta: 0.6643 - val_loss: 0.3390 - val_fbeta: 0.6269\n",
            "Epoch 40/200\n",
            "64/64 [==============================] - 8s 129ms/step - loss: 0.3095 - fbeta: 0.6678 - val_loss: 0.3098 - val_fbeta: 0.6524\n",
            "Epoch 41/200\n",
            "64/64 [==============================] - 8s 130ms/step - loss: 0.3144 - fbeta: 0.6548 - val_loss: 0.3154 - val_fbeta: 0.6462\n",
            "Epoch 42/200\n",
            "64/64 [==============================] - 8s 130ms/step - loss: 0.2992 - fbeta: 0.6774 - val_loss: 0.3220 - val_fbeta: 0.6682\n",
            "Epoch 43/200\n",
            "64/64 [==============================] - 8s 131ms/step - loss: 0.2957 - fbeta: 0.6812 - val_loss: 0.3045 - val_fbeta: 0.6649\n",
            "Epoch 44/200\n",
            "64/64 [==============================] - 8s 131ms/step - loss: 0.3094 - fbeta: 0.6588 - val_loss: 0.3493 - val_fbeta: 0.6397\n",
            "Epoch 45/200\n",
            "64/64 [==============================] - 8s 129ms/step - loss: 0.3065 - fbeta: 0.6818 - val_loss: 0.3156 - val_fbeta: 0.6817\n",
            "Epoch 46/200\n",
            "64/64 [==============================] - 8s 131ms/step - loss: 0.3124 - fbeta: 0.6596 - val_loss: 0.3196 - val_fbeta: 0.6545\n",
            "Epoch 47/200\n",
            "64/64 [==============================] - 8s 132ms/step - loss: 0.2982 - fbeta: 0.6753 - val_loss: 0.3169 - val_fbeta: 0.6180\n",
            "Epoch 48/200\n",
            "64/64 [==============================] - 8s 131ms/step - loss: 0.2861 - fbeta: 0.7006 - val_loss: 0.3011 - val_fbeta: 0.6651\n",
            "Epoch 49/200\n",
            "64/64 [==============================] - 8s 132ms/step - loss: 0.2925 - fbeta: 0.6773 - val_loss: 0.3113 - val_fbeta: 0.6861\n",
            "Epoch 50/200\n",
            "64/64 [==============================] - 8s 130ms/step - loss: 0.2928 - fbeta: 0.7006 - val_loss: 0.3043 - val_fbeta: 0.6642\n",
            "Epoch 51/200\n",
            "64/64 [==============================] - 8s 130ms/step - loss: 0.2908 - fbeta: 0.6867 - val_loss: 0.3173 - val_fbeta: 0.6804\n",
            "Epoch 52/200\n",
            "64/64 [==============================] - 8s 129ms/step - loss: 0.2928 - fbeta: 0.6798 - val_loss: 0.3159 - val_fbeta: 0.6553\n",
            "Epoch 53/200\n",
            "64/64 [==============================] - 8s 130ms/step - loss: 0.2777 - fbeta: 0.7033 - val_loss: 0.2923 - val_fbeta: 0.7003\n",
            "Epoch 54/200\n",
            "64/64 [==============================] - 8s 128ms/step - loss: 0.2946 - fbeta: 0.6837 - val_loss: 0.3216 - val_fbeta: 0.6390\n",
            "Epoch 55/200\n",
            "64/64 [==============================] - 8s 129ms/step - loss: 0.2898 - fbeta: 0.7006 - val_loss: 0.3081 - val_fbeta: 0.6802\n",
            "Epoch 56/200\n",
            "64/64 [==============================] - 8s 129ms/step - loss: 0.2873 - fbeta: 0.6970 - val_loss: 0.3171 - val_fbeta: 0.6800\n",
            "Epoch 57/200\n",
            "64/64 [==============================] - 8s 128ms/step - loss: 0.2916 - fbeta: 0.7011 - val_loss: 0.2938 - val_fbeta: 0.6797\n",
            "Epoch 58/200\n",
            "64/64 [==============================] - 8s 129ms/step - loss: 0.2849 - fbeta: 0.6897 - val_loss: 0.2930 - val_fbeta: 0.6954\n",
            "Epoch 59/200\n",
            "64/64 [==============================] - 8s 129ms/step - loss: 0.2758 - fbeta: 0.7091 - val_loss: 0.2971 - val_fbeta: 0.6935\n",
            "Epoch 60/200\n",
            "64/64 [==============================] - 8s 129ms/step - loss: 0.2668 - fbeta: 0.7271 - val_loss: 0.2976 - val_fbeta: 0.6953\n",
            "Epoch 61/200\n",
            "64/64 [==============================] - 8s 129ms/step - loss: 0.2867 - fbeta: 0.6936 - val_loss: 0.3080 - val_fbeta: 0.6731\n",
            "Epoch 62/200\n",
            "64/64 [==============================] - 8s 130ms/step - loss: 0.2872 - fbeta: 0.6968 - val_loss: 0.2960 - val_fbeta: 0.6713\n",
            "Epoch 63/200\n",
            "64/64 [==============================] - 8s 129ms/step - loss: 0.2817 - fbeta: 0.7092 - val_loss: 0.3109 - val_fbeta: 0.6474\n",
            "Epoch 64/200\n",
            "64/64 [==============================] - 8s 129ms/step - loss: 0.2652 - fbeta: 0.7241 - val_loss: 0.3069 - val_fbeta: 0.7112\n",
            "Epoch 65/200\n",
            "64/64 [==============================] - 8s 129ms/step - loss: 0.2631 - fbeta: 0.7278 - val_loss: 0.3133 - val_fbeta: 0.6713\n",
            "Epoch 66/200\n",
            "64/64 [==============================] - 8s 129ms/step - loss: 0.2679 - fbeta: 0.7173 - val_loss: 0.3324 - val_fbeta: 0.6718\n",
            "Epoch 67/200\n",
            "64/64 [==============================] - 8s 129ms/step - loss: 0.2803 - fbeta: 0.7054 - val_loss: 0.2948 - val_fbeta: 0.7090\n",
            "Epoch 68/200\n",
            "64/64 [==============================] - 8s 129ms/step - loss: 0.2786 - fbeta: 0.7070 - val_loss: 0.3018 - val_fbeta: 0.6732\n",
            "Epoch 69/200\n",
            "64/64 [==============================] - 8s 129ms/step - loss: 0.2670 - fbeta: 0.7129 - val_loss: 0.2971 - val_fbeta: 0.6916\n",
            "Epoch 70/200\n",
            "64/64 [==============================] - 8s 130ms/step - loss: 0.2741 - fbeta: 0.7011 - val_loss: 0.3011 - val_fbeta: 0.6831\n",
            "Epoch 71/200\n",
            "64/64 [==============================] - 8s 130ms/step - loss: 0.2646 - fbeta: 0.7231 - val_loss: 0.3290 - val_fbeta: 0.6566\n",
            "Epoch 72/200\n",
            "64/64 [==============================] - 8s 132ms/step - loss: 0.2665 - fbeta: 0.7131 - val_loss: 0.3038 - val_fbeta: 0.7036\n",
            "Epoch 73/200\n",
            "64/64 [==============================] - 8s 129ms/step - loss: 0.2573 - fbeta: 0.7288 - val_loss: 0.2963 - val_fbeta: 0.7106\n",
            "Epoch 00073: early stopping\n"
          ]
        },
        {
          "output_type": "display_data",
          "data": {
            "image/png": "[encoded data removed]",
            "text/plain": [
              "<Figure size 1080x360 with 2 Axes>"
            ]
          },
          "metadata": {
            "needs_background": "light"
          }
        },
        {
          "output_type": "stream",
          "name": "stdout",
          "text": [
            "Model F-beta score :  0.6777470111846924\n"
          ]
        }
      ]
    },
    {
      "cell_type": "markdown",
      "metadata": {
        "id": "DmlKri857B5m"
      },
      "source": [
        "### model 5 : Baseline 2 + data augmentation + dropout layer + more dense layers"
      ]
    },
    {
      "cell_type": "code",
      "metadata": {
        "colab": {
          "base_uri": "https://localhost:8080/",
          "height": 1000
        },
        "id": "Ta3_l5106_fU",
        "outputId": "7a875b5c-ad85-4f41-ac29-b9eacca6c7e4"
      },
      "source": [
        "# create data generator with data augmentation\n",
        "train_gen = ImageDataGenerator(rescale=1./255,\n",
        "                               rotation_range=30,\n",
        "                               width_shift_range=0.2,\n",
        "                               height_shift_range=0.2,\n",
        "                               zoom_range=0.2,\n",
        "                               horizontal_flip=True,\n",
        "                               vertical_flip=True,\n",
        "                               validation_split=0.2)\n",
        "test_gen = ImageDataGenerator(rescale=1./255)\n",
        "\n",
        "batch_size = 20\n",
        "train_iter = train_gen.flow(X_train, y_train, batch_size=batch_size, subset='training', seed=123)\n",
        "val_iter = train_gen.flow(X_train, y_train, batch_size=batch_size, subset='validation', seed=123)\n",
        "test_iter = test_gen.flow(X_test, y_test, batch_size=1, seed=123)\n",
        "\n",
        "# create model\n",
        "model = Sequential()\n",
        "model.add(Conv2D(32, (3,3), padding='same', activation='relu', kernel_initializer='he_uniform', input_shape=(128, 128, 3)))\n",
        "model.add(Conv2D(32, (3,3), padding='same', activation='relu', kernel_initializer='he_uniform'))\n",
        "model.add(MaxPooling2D((2,2)))\n",
        "model.add(Dropout(0.2))\n",
        "model.add(Conv2D(64, (3,3), padding='same', activation='relu', kernel_initializer='he_uniform', input_shape=(128, 128, 3)))\n",
        "model.add(Conv2D(64, (3,3), padding='same', activation='relu', kernel_initializer='he_uniform'))\n",
        "model.add(MaxPooling2D((2,2)))\n",
        "model.add(Dropout(0.2))\n",
        "model.add(Flatten())\n",
        "model.add(Dense(200, activation='relu', kernel_initializer='he_uniform'))\n",
        "model.add(Dropout(0.2))\n",
        "model.add(Dense(100, activation='relu', kernel_initializer='he_uniform'))\n",
        "model.add(Dropout(0.2))\n",
        "model.add(Dense(5, activation='sigmoid'))\n",
        "\n",
        "\n",
        "# compile model\n",
        "model.compile(optimizer='adam', loss='binary_crossentropy', metrics=[fbeta])\n",
        "\n",
        "# create early stopping object\n",
        "es = EarlyStopping(monitor='val_loss', mode='min', verbose=1, patience=20)\n",
        "\n",
        "# fit model\n",
        "history = model.fit(train_iter, \n",
        "                    steps_per_epoch=len(train_iter),\n",
        "                    validation_data=val_iter,\n",
        "                    validation_steps=len(val_iter), \n",
        "                    callbacks=[es],\n",
        "                    epochs=200)\n",
        "# show result\n",
        "model5_perf = evaluate_model(history)"
      ],
      "execution_count": null,
      "outputs": [
        {
          "output_type": "stream",
          "name": "stdout",
          "text": [
            "Epoch 1/200\n",
            "64/64 [==============================] - 10s 136ms/step - loss: 0.6708 - fbeta: 0.1698 - val_loss: 0.4813 - val_fbeta: 0.2854\n",
            "Epoch 2/200\n",
            "64/64 [==============================] - 8s 131ms/step - loss: 0.4830 - fbeta: 0.3071 - val_loss: 0.4436 - val_fbeta: 0.2741\n",
            "Epoch 3/200\n",
            "64/64 [==============================] - 8s 131ms/step - loss: 0.4437 - fbeta: 0.3453 - val_loss: 0.4212 - val_fbeta: 0.3300\n",
            "Epoch 4/200\n",
            "64/64 [==============================] - 8s 131ms/step - loss: 0.4272 - fbeta: 0.3970 - val_loss: 0.4019 - val_fbeta: 0.4102\n",
            "Epoch 5/200\n",
            "64/64 [==============================] - 8s 130ms/step - loss: 0.4105 - fbeta: 0.4424 - val_loss: 0.3884 - val_fbeta: 0.4555\n",
            "Epoch 6/200\n",
            "64/64 [==============================] - 8s 130ms/step - loss: 0.3998 - fbeta: 0.4526 - val_loss: 0.3796 - val_fbeta: 0.4451\n",
            "Epoch 7/200\n",
            "64/64 [==============================] - 8s 130ms/step - loss: 0.3840 - fbeta: 0.4829 - val_loss: 0.4006 - val_fbeta: 0.4878\n",
            "Epoch 8/200\n",
            "64/64 [==============================] - 8s 129ms/step - loss: 0.3867 - fbeta: 0.5109 - val_loss: 0.3670 - val_fbeta: 0.5059\n",
            "Epoch 9/200\n",
            "64/64 [==============================] - 8s 127ms/step - loss: 0.3767 - fbeta: 0.5417 - val_loss: 0.3457 - val_fbeta: 0.5845\n",
            "Epoch 10/200\n",
            "64/64 [==============================] - 8s 128ms/step - loss: 0.3670 - fbeta: 0.5479 - val_loss: 0.3612 - val_fbeta: 0.5750\n",
            "Epoch 11/200\n",
            "64/64 [==============================] - 8s 128ms/step - loss: 0.3716 - fbeta: 0.5744 - val_loss: 0.3478 - val_fbeta: 0.5951\n",
            "Epoch 12/200\n",
            "64/64 [==============================] - 8s 126ms/step - loss: 0.3532 - fbeta: 0.5815 - val_loss: 0.3460 - val_fbeta: 0.6015\n",
            "Epoch 13/200\n",
            "64/64 [==============================] - 8s 127ms/step - loss: 0.3484 - fbeta: 0.5937 - val_loss: 0.3597 - val_fbeta: 0.6033\n",
            "Epoch 14/200\n",
            "64/64 [==============================] - 8s 130ms/step - loss: 0.3468 - fbeta: 0.6106 - val_loss: 0.3410 - val_fbeta: 0.6333\n",
            "Epoch 15/200\n",
            "64/64 [==============================] - 8s 130ms/step - loss: 0.3357 - fbeta: 0.6289 - val_loss: 0.3761 - val_fbeta: 0.6021\n",
            "Epoch 16/200\n",
            "64/64 [==============================] - 8s 129ms/step - loss: 0.3434 - fbeta: 0.6261 - val_loss: 0.3258 - val_fbeta: 0.6250\n",
            "Epoch 17/200\n",
            "64/64 [==============================] - 8s 129ms/step - loss: 0.3437 - fbeta: 0.6107 - val_loss: 0.3410 - val_fbeta: 0.5698\n",
            "Epoch 18/200\n",
            "64/64 [==============================] - 8s 131ms/step - loss: 0.3338 - fbeta: 0.6201 - val_loss: 0.3399 - val_fbeta: 0.5944\n",
            "Epoch 19/200\n",
            "64/64 [==============================] - 9s 137ms/step - loss: 0.3293 - fbeta: 0.6458 - val_loss: 0.3295 - val_fbeta: 0.6211\n",
            "Epoch 20/200\n",
            "64/64 [==============================] - 9s 136ms/step - loss: 0.3295 - fbeta: 0.6243 - val_loss: 0.3381 - val_fbeta: 0.6444\n",
            "Epoch 21/200\n",
            "64/64 [==============================] - 8s 132ms/step - loss: 0.3187 - fbeta: 0.6459 - val_loss: 0.3471 - val_fbeta: 0.5840\n",
            "Epoch 22/200\n",
            "64/64 [==============================] - 8s 132ms/step - loss: 0.3177 - fbeta: 0.6575 - val_loss: 0.3270 - val_fbeta: 0.6479\n",
            "Epoch 23/200\n",
            "64/64 [==============================] - 8s 132ms/step - loss: 0.3218 - fbeta: 0.6418 - val_loss: 0.3342 - val_fbeta: 0.6128\n",
            "Epoch 24/200\n",
            "64/64 [==============================] - 9s 135ms/step - loss: 0.3156 - fbeta: 0.6619 - val_loss: 0.3267 - val_fbeta: 0.6512\n",
            "Epoch 25/200\n",
            "64/64 [==============================] - 9s 137ms/step - loss: 0.3236 - fbeta: 0.6525 - val_loss: 0.3336 - val_fbeta: 0.6371\n",
            "Epoch 26/200\n",
            "64/64 [==============================] - 9s 136ms/step - loss: 0.3105 - fbeta: 0.6693 - val_loss: 0.3277 - val_fbeta: 0.6272\n",
            "Epoch 27/200\n",
            "64/64 [==============================] - 9s 136ms/step - loss: 0.3136 - fbeta: 0.6661 - val_loss: 0.3441 - val_fbeta: 0.6496\n",
            "Epoch 28/200\n",
            "64/64 [==============================] - 9s 138ms/step - loss: 0.2991 - fbeta: 0.6826 - val_loss: 0.3098 - val_fbeta: 0.6724\n",
            "Epoch 29/200\n",
            "64/64 [==============================] - 9s 138ms/step - loss: 0.2925 - fbeta: 0.6924 - val_loss: 0.3287 - val_fbeta: 0.6567\n",
            "Epoch 30/200\n",
            "64/64 [==============================] - 9s 137ms/step - loss: 0.3076 - fbeta: 0.6830 - val_loss: 0.3204 - val_fbeta: 0.6696\n",
            "Epoch 31/200\n",
            "64/64 [==============================] - 9s 139ms/step - loss: 0.2891 - fbeta: 0.7083 - val_loss: 0.3187 - val_fbeta: 0.6597\n",
            "Epoch 32/200\n",
            "64/64 [==============================] - 9s 135ms/step - loss: 0.2948 - fbeta: 0.6834 - val_loss: 0.3421 - val_fbeta: 0.6487\n",
            "Epoch 33/200\n",
            "64/64 [==============================] - 8s 131ms/step - loss: 0.2910 - fbeta: 0.6953 - val_loss: 0.3074 - val_fbeta: 0.6817\n",
            "Epoch 34/200\n",
            "64/64 [==============================] - 9s 136ms/step - loss: 0.2913 - fbeta: 0.6970 - val_loss: 0.3243 - val_fbeta: 0.6621\n",
            "Epoch 35/200\n",
            "64/64 [==============================] - 8s 131ms/step - loss: 0.2900 - fbeta: 0.6956 - val_loss: 0.3458 - val_fbeta: 0.6378\n",
            "Epoch 36/200\n",
            "64/64 [==============================] - 9s 137ms/step - loss: 0.2875 - fbeta: 0.7033 - val_loss: 0.3242 - val_fbeta: 0.6562\n",
            "Epoch 37/200\n",
            "64/64 [==============================] - 9s 138ms/step - loss: 0.2873 - fbeta: 0.7096 - val_loss: 0.3255 - val_fbeta: 0.6652\n",
            "Epoch 38/200\n",
            "64/64 [==============================] - 9s 139ms/step - loss: 0.2784 - fbeta: 0.7134 - val_loss: 0.3105 - val_fbeta: 0.6665\n",
            "Epoch 39/200\n",
            "64/64 [==============================] - 9s 138ms/step - loss: 0.2882 - fbeta: 0.6877 - val_loss: 0.3120 - val_fbeta: 0.6630\n",
            "Epoch 40/200\n",
            "64/64 [==============================] - 9s 139ms/step - loss: 0.2901 - fbeta: 0.7132 - val_loss: 0.3285 - val_fbeta: 0.6423\n",
            "Epoch 41/200\n",
            "64/64 [==============================] - 9s 137ms/step - loss: 0.2952 - fbeta: 0.6981 - val_loss: 0.3383 - val_fbeta: 0.6330\n",
            "Epoch 42/200\n",
            "64/64 [==============================] - 9s 138ms/step - loss: 0.2842 - fbeta: 0.7023 - val_loss: 0.3302 - val_fbeta: 0.6514\n",
            "Epoch 43/200\n",
            "64/64 [==============================] - 9s 139ms/step - loss: 0.2736 - fbeta: 0.7220 - val_loss: 0.3155 - val_fbeta: 0.6847\n",
            "Epoch 44/200\n",
            "64/64 [==============================] - 9s 138ms/step - loss: 0.2822 - fbeta: 0.7190 - val_loss: 0.3362 - val_fbeta: 0.6644\n",
            "Epoch 45/200\n",
            "64/64 [==============================] - 9s 136ms/step - loss: 0.2777 - fbeta: 0.7131 - val_loss: 0.3170 - val_fbeta: 0.6962\n",
            "Epoch 46/200\n",
            "64/64 [==============================] - 9s 136ms/step - loss: 0.2786 - fbeta: 0.7050 - val_loss: 0.3144 - val_fbeta: 0.6722\n",
            "Epoch 47/200\n",
            "64/64 [==============================] - 8s 130ms/step - loss: 0.2684 - fbeta: 0.7325 - val_loss: 0.3100 - val_fbeta: 0.6771\n",
            "Epoch 48/200\n",
            "64/64 [==============================] - 8s 130ms/step - loss: 0.2606 - fbeta: 0.7452 - val_loss: 0.3197 - val_fbeta: 0.6771\n",
            "Epoch 49/200\n",
            "64/64 [==============================] - 8s 132ms/step - loss: 0.2643 - fbeta: 0.7334 - val_loss: 0.3103 - val_fbeta: 0.7001\n",
            "Epoch 50/200\n",
            "64/64 [==============================] - 9s 138ms/step - loss: 0.2600 - fbeta: 0.7342 - val_loss: 0.3298 - val_fbeta: 0.6923\n",
            "Epoch 51/200\n",
            "64/64 [==============================] - 9s 139ms/step - loss: 0.2708 - fbeta: 0.7207 - val_loss: 0.3020 - val_fbeta: 0.7198\n",
            "Epoch 52/200\n",
            "64/64 [==============================] - 9s 138ms/step - loss: 0.2661 - fbeta: 0.7383 - val_loss: 0.3064 - val_fbeta: 0.6876\n",
            "Epoch 53/200\n",
            "64/64 [==============================] - 9s 138ms/step - loss: 0.2590 - fbeta: 0.7266 - val_loss: 0.3312 - val_fbeta: 0.7014\n",
            "Epoch 54/200\n",
            "64/64 [==============================] - 9s 137ms/step - loss: 0.2524 - fbeta: 0.7471 - val_loss: 0.3187 - val_fbeta: 0.6935\n",
            "Epoch 55/200\n",
            "64/64 [==============================] - 9s 137ms/step - loss: 0.2492 - fbeta: 0.7579 - val_loss: 0.3270 - val_fbeta: 0.6942\n",
            "Epoch 56/200\n",
            "64/64 [==============================] - 9s 138ms/step - loss: 0.2495 - fbeta: 0.7550 - val_loss: 0.3352 - val_fbeta: 0.7107\n",
            "Epoch 57/200\n",
            "64/64 [==============================] - 9s 139ms/step - loss: 0.2423 - fbeta: 0.7636 - val_loss: 0.3052 - val_fbeta: 0.6883\n",
            "Epoch 58/200\n",
            "64/64 [==============================] - 9s 137ms/step - loss: 0.2628 - fbeta: 0.7356 - val_loss: 0.3073 - val_fbeta: 0.6727\n",
            "Epoch 59/200\n",
            "64/64 [==============================] - 9s 137ms/step - loss: 0.2549 - fbeta: 0.7397 - val_loss: 0.3034 - val_fbeta: 0.7120\n",
            "Epoch 60/200\n",
            "64/64 [==============================] - 9s 138ms/step - loss: 0.2459 - fbeta: 0.7567 - val_loss: 0.3031 - val_fbeta: 0.7210\n",
            "Epoch 61/200\n",
            "64/64 [==============================] - 9s 137ms/step - loss: 0.2462 - fbeta: 0.7534 - val_loss: 0.3068 - val_fbeta: 0.7010\n",
            "Epoch 62/200\n",
            "64/64 [==============================] - 9s 137ms/step - loss: 0.2397 - fbeta: 0.7655 - val_loss: 0.2992 - val_fbeta: 0.7060\n",
            "Epoch 63/200\n",
            "64/64 [==============================] - 8s 132ms/step - loss: 0.2448 - fbeta: 0.7627 - val_loss: 0.2991 - val_fbeta: 0.6850\n",
            "Epoch 64/200\n",
            "64/64 [==============================] - 9s 135ms/step - loss: 0.2417 - fbeta: 0.7620 - val_loss: 0.3152 - val_fbeta: 0.7014\n",
            "Epoch 65/200\n",
            "64/64 [==============================] - 9s 136ms/step - loss: 0.2555 - fbeta: 0.7453 - val_loss: 0.3328 - val_fbeta: 0.6805\n",
            "Epoch 66/200\n",
            "64/64 [==============================] - 9s 136ms/step - loss: 0.2335 - fbeta: 0.7582 - val_loss: 0.3009 - val_fbeta: 0.7217\n",
            "Epoch 67/200\n",
            "64/64 [==============================] - 9s 139ms/step - loss: 0.2439 - fbeta: 0.7682 - val_loss: 0.3197 - val_fbeta: 0.6908\n",
            "Epoch 68/200\n",
            "64/64 [==============================] - 9s 137ms/step - loss: 0.2494 - fbeta: 0.7708 - val_loss: 0.3181 - val_fbeta: 0.7008\n",
            "Epoch 69/200\n",
            "64/64 [==============================] - 9s 137ms/step - loss: 0.2334 - fbeta: 0.7701 - val_loss: 0.3015 - val_fbeta: 0.7170\n",
            "Epoch 70/200\n",
            "64/64 [==============================] - 9s 136ms/step - loss: 0.2281 - fbeta: 0.7852 - val_loss: 0.3035 - val_fbeta: 0.7206\n",
            "Epoch 71/200\n",
            "64/64 [==============================] - 9s 137ms/step - loss: 0.2325 - fbeta: 0.7830 - val_loss: 0.3310 - val_fbeta: 0.7111\n",
            "Epoch 72/200\n",
            "64/64 [==============================] - 9s 137ms/step - loss: 0.2395 - fbeta: 0.7665 - val_loss: 0.3006 - val_fbeta: 0.7093\n",
            "Epoch 73/200\n",
            "64/64 [==============================] - 9s 137ms/step - loss: 0.2312 - fbeta: 0.7660 - val_loss: 0.2938 - val_fbeta: 0.7149\n",
            "Epoch 74/200\n",
            "64/64 [==============================] - 9s 134ms/step - loss: 0.2312 - fbeta: 0.7747 - val_loss: 0.3037 - val_fbeta: 0.6878\n",
            "Epoch 75/200\n",
            "64/64 [==============================] - 8s 131ms/step - loss: 0.2388 - fbeta: 0.7728 - val_loss: 0.2979 - val_fbeta: 0.7054\n",
            "Epoch 76/200\n",
            "64/64 [==============================] - 8s 129ms/step - loss: 0.2297 - fbeta: 0.7624 - val_loss: 0.3250 - val_fbeta: 0.6904\n",
            "Epoch 77/200\n",
            "64/64 [==============================] - 8s 131ms/step - loss: 0.2271 - fbeta: 0.7867 - val_loss: 0.3259 - val_fbeta: 0.7034\n",
            "Epoch 78/200\n",
            "64/64 [==============================] - 8s 131ms/step - loss: 0.2210 - fbeta: 0.7918 - val_loss: 0.3365 - val_fbeta: 0.6847\n",
            "Epoch 79/200\n",
            "64/64 [==============================] - 8s 132ms/step - loss: 0.2290 - fbeta: 0.7796 - val_loss: 0.3142 - val_fbeta: 0.6864\n",
            "Epoch 80/200\n",
            "64/64 [==============================] - 8s 131ms/step - loss: 0.2339 - fbeta: 0.7746 - val_loss: 0.3315 - val_fbeta: 0.6864\n",
            "Epoch 81/200\n",
            "64/64 [==============================] - 8s 133ms/step - loss: 0.2214 - fbeta: 0.7949 - val_loss: 0.3322 - val_fbeta: 0.7015\n",
            "Epoch 82/200\n",
            "64/64 [==============================] - 8s 132ms/step - loss: 0.2205 - fbeta: 0.7914 - val_loss: 0.3306 - val_fbeta: 0.6849\n",
            "Epoch 83/200\n",
            "64/64 [==============================] - 8s 131ms/step - loss: 0.2247 - fbeta: 0.7892 - val_loss: 0.3110 - val_fbeta: 0.6967\n",
            "Epoch 84/200\n",
            "64/64 [==============================] - 8s 132ms/step - loss: 0.2215 - fbeta: 0.7869 - val_loss: 0.3253 - val_fbeta: 0.6564\n",
            "Epoch 85/200\n",
            "64/64 [==============================] - 8s 132ms/step - loss: 0.2223 - fbeta: 0.7713 - val_loss: 0.3225 - val_fbeta: 0.7170\n",
            "Epoch 86/200\n",
            "64/64 [==============================] - 8s 132ms/step - loss: 0.2132 - fbeta: 0.7964 - val_loss: 0.3097 - val_fbeta: 0.7243\n",
            "Epoch 87/200\n",
            "64/64 [==============================] - 8s 132ms/step - loss: 0.2059 - fbeta: 0.8059 - val_loss: 0.2996 - val_fbeta: 0.7135\n",
            "Epoch 88/200\n",
            "64/64 [==============================] - 8s 132ms/step - loss: 0.2066 - fbeta: 0.7999 - val_loss: 0.3299 - val_fbeta: 0.7017\n",
            "Epoch 89/200\n",
            "64/64 [==============================] - 8s 131ms/step - loss: 0.2113 - fbeta: 0.8003 - val_loss: 0.3225 - val_fbeta: 0.7022\n",
            "Epoch 90/200\n",
            "64/64 [==============================] - 8s 132ms/step - loss: 0.2197 - fbeta: 0.7819 - val_loss: 0.3408 - val_fbeta: 0.7000\n",
            "Epoch 91/200\n",
            "64/64 [==============================] - 8s 132ms/step - loss: 0.2164 - fbeta: 0.7894 - val_loss: 0.2963 - val_fbeta: 0.7111\n",
            "Epoch 92/200\n",
            "64/64 [==============================] - 8s 128ms/step - loss: 0.2175 - fbeta: 0.7909 - val_loss: 0.3087 - val_fbeta: 0.7064\n",
            "Epoch 93/200\n",
            "64/64 [==============================] - 8s 128ms/step - loss: 0.2157 - fbeta: 0.7930 - val_loss: 0.3007 - val_fbeta: 0.7262\n",
            "Epoch 00093: early stopping\n"
          ]
        },
        {
          "output_type": "display_data",
          "data": {
            "image/png": "[encoded data removed]",
            "text/plain": [
              "<Figure size 1080x360 with 2 Axes>"
            ]
          },
          "metadata": {
            "needs_background": "light"
          }
        },
        {
          "output_type": "stream",
          "name": "stdout",
          "text": [
            "Model F-beta score :  0.7391161322593689\n"
          ]
        }
      ]
    },
    {
      "cell_type": "markdown",
      "metadata": {
        "id": "nwxX2_-NWONg"
      },
      "source": [
        "## Improved model performance (fbeta score)\n"
      ]
    },
    {
      "cell_type": "code",
      "metadata": {
        "colab": {
          "base_uri": "https://localhost:8080/"
        },
        "id": "9kAP_W-EP8FU",
        "outputId": "26ddd65b-8634-4cf2-8873-4643da6eca87"
      },
      "source": [
        "print('Baseline model : ', baseline2_perf)\n",
        "print('Model 1 : ', model1_perf)\n",
        "print('Model 2 : ', model2_perf)\n",
        "print('Model 3 : ', model3_perf)\n",
        "print('Model 4 : ', model4_perf)\n",
        "print('Model 5 : ', model5_perf)"
      ],
      "execution_count": null,
      "outputs": [
        {
          "output_type": "stream",
          "name": "stdout",
          "text": [
            "Baseline model :  0.6632035970687866\n",
            "Model 1 :  0.614126980304718\n",
            "Model 2 :  0.7444949150085449\n",
            "Model 3 :  0.6908027529716492\n",
            "Model 4 :  0.6777470111846924\n",
            "Model 5 :  0.7391161322593689\n"
          ]
        }
      ]
    },
    {
      "cell_type": "markdown",
      "metadata": {
        "id": "wcgO6zoJhdBL"
      },
      "source": [
        "## Finalize model 2\n",
        "Train the selected model again.  \n",
        "Give it more time to learn.  \n",
        "Save the highest performance with ModelCheckpoint."
      ]
    },
    {
      "cell_type": "code",
      "metadata": {
        "colab": {
          "base_uri": "https://localhost:8080/",
          "height": 1000
        },
        "id": "LuKDiKmXhfPs",
        "outputId": "76af2d65-616b-44c9-8699-232b9c65a126"
      },
      "source": [
        "# create data generator with data augmentation\n",
        "train_gen = ImageDataGenerator(rescale=1./255,\n",
        "                               rotation_range=30,\n",
        "                               width_shift_range=0.2,\n",
        "                               height_shift_range=0.2,\n",
        "                               zoom_range=0.2,\n",
        "                               horizontal_flip=True,\n",
        "                               vertical_flip=True,\n",
        "                               validation_split=0.2)\n",
        "test_gen = ImageDataGenerator(rescale=1./255)\n",
        "\n",
        "batch_size = 20\n",
        "train_iter = train_gen.flow(X_train, y_train, batch_size=batch_size, subset='training', seed=123)\n",
        "val_iter = train_gen.flow(X_train, y_train, batch_size=batch_size, subset='validation', seed=123)\n",
        "test_iter = test_gen.flow(X_test, y_test, batch_size=1, seed=123)\n",
        "\n",
        "# create model : add dropout layers\n",
        "model = Sequential()\n",
        "model.add(Conv2D(32, (3,3), padding='same', activation='relu', kernel_initializer='he_uniform', input_shape=(128, 128, 3)))\n",
        "model.add(Conv2D(32, (3,3), padding='same', activation='relu', kernel_initializer='he_uniform'))\n",
        "model.add(MaxPooling2D((2,2)))\n",
        "model.add(Conv2D(64, (3,3), padding='same', activation='relu', kernel_initializer='he_uniform', input_shape=(128, 128, 3)))\n",
        "model.add(Conv2D(64, (3,3), padding='same', activation='relu', kernel_initializer='he_uniform'))\n",
        "model.add(MaxPooling2D((2,2)))\n",
        "model.add(Flatten())\n",
        "model.add(Dense(100, activation='relu', kernel_initializer='he_uniform'))\n",
        "model.add(Dense(5, activation='sigmoid'))\n",
        "\n",
        "# compile model\n",
        "model.compile(optimizer='adam', loss='binary_crossentropy', metrics=[fbeta])\n",
        "\n",
        "# create early stopping object\n",
        "es = EarlyStopping(monitor='val_loss', mode='min', verbose=1, patience=30)\n",
        "\n",
        "# create model checkpoint to save the model\n",
        "mc = ModelCheckpoint(model_name, monitor='val_loss', mode='min', verbose=1, save_best_only=True)\n",
        "# fit model\n",
        "history = model.fit(train_iter, \n",
        "                    steps_per_epoch=len(train_iter),\n",
        "                    validation_data=val_iter,\n",
        "                    validation_steps=len(val_iter), \n",
        "                    callbacks=[es, mc],\n",
        "                    epochs=300)\n",
        "\n",
        "# show result\n",
        "fin_model_perf = evaluate_model(history)"
      ],
      "execution_count": null,
      "outputs": [
        {
          "output_type": "stream",
          "name": "stdout",
          "text": [
            "Epoch 1/300\n",
            "64/64 [==============================] - 10s 137ms/step - loss: 0.6870 - fbeta: 0.2431 - val_loss: 0.4555 - val_fbeta: 0.2788\n",
            "\n",
            "Epoch 00001: val_loss improved from inf to 0.45548, saving model to saved_models/best_vggblocks.h5\n",
            "Epoch 2/300\n",
            "64/64 [==============================] - 8s 130ms/step - loss: 0.4295 - fbeta: 0.3625 - val_loss: 0.4090 - val_fbeta: 0.3937\n",
            "\n",
            "Epoch 00002: val_loss improved from 0.45548 to 0.40897, saving model to saved_models/best_vggblocks.h5\n",
            "Epoch 3/300\n",
            "64/64 [==============================] - 8s 129ms/step - loss: 0.3907 - fbeta: 0.4882 - val_loss: 0.3815 - val_fbeta: 0.5970\n",
            "\n",
            "Epoch 00003: val_loss improved from 0.40897 to 0.38145, saving model to saved_models/best_vggblocks.h5\n",
            "Epoch 4/300\n",
            "64/64 [==============================] - 8s 129ms/step - loss: 0.3648 - fbeta: 0.5654 - val_loss: 0.3998 - val_fbeta: 0.4800\n",
            "\n",
            "Epoch 00004: val_loss did not improve from 0.38145\n",
            "Epoch 5/300\n",
            "64/64 [==============================] - 8s 128ms/step - loss: 0.3495 - fbeta: 0.5971 - val_loss: 0.3619 - val_fbeta: 0.5545\n",
            "\n",
            "Epoch 00005: val_loss improved from 0.38145 to 0.36193, saving model to saved_models/best_vggblocks.h5\n",
            "Epoch 6/300\n",
            "64/64 [==============================] - 8s 130ms/step - loss: 0.3429 - fbeta: 0.5953 - val_loss: 0.3947 - val_fbeta: 0.5778\n",
            "\n",
            "Epoch 00006: val_loss did not improve from 0.36193\n",
            "Epoch 7/300\n",
            "64/64 [==============================] - 8s 129ms/step - loss: 0.3443 - fbeta: 0.5925 - val_loss: 0.3648 - val_fbeta: 0.5451\n",
            "\n",
            "Epoch 00007: val_loss did not improve from 0.36193\n",
            "Epoch 8/300\n",
            "64/64 [==============================] - 8s 129ms/step - loss: 0.3319 - fbeta: 0.6164 - val_loss: 0.3408 - val_fbeta: 0.6087\n",
            "\n",
            "Epoch 00008: val_loss improved from 0.36193 to 0.34077, saving model to saved_models/best_vggblocks.h5\n",
            "Epoch 9/300\n",
            "64/64 [==============================] - 8s 129ms/step - loss: 0.3273 - fbeta: 0.6356 - val_loss: 0.3820 - val_fbeta: 0.5736\n",
            "\n",
            "Epoch 00009: val_loss did not improve from 0.34077\n",
            "Epoch 10/300\n",
            "64/64 [==============================] - 8s 128ms/step - loss: 0.3280 - fbeta: 0.6242 - val_loss: 0.3568 - val_fbeta: 0.5944\n",
            "\n",
            "Epoch 00010: val_loss did not improve from 0.34077\n",
            "Epoch 11/300\n",
            "64/64 [==============================] - 8s 129ms/step - loss: 0.3165 - fbeta: 0.6417 - val_loss: 0.3465 - val_fbeta: 0.6389\n",
            "\n",
            "Epoch 00011: val_loss did not improve from 0.34077\n",
            "Epoch 12/300\n",
            "64/64 [==============================] - 8s 128ms/step - loss: 0.3148 - fbeta: 0.6503 - val_loss: 0.3418 - val_fbeta: 0.6245\n",
            "\n",
            "Epoch 00012: val_loss did not improve from 0.34077\n",
            "Epoch 13/300\n",
            "64/64 [==============================] - 8s 127ms/step - loss: 0.3124 - fbeta: 0.6573 - val_loss: 0.3813 - val_fbeta: 0.5701\n",
            "\n",
            "Epoch 00013: val_loss did not improve from 0.34077\n",
            "Epoch 14/300\n",
            "64/64 [==============================] - 8s 129ms/step - loss: 0.3157 - fbeta: 0.6444 - val_loss: 0.3288 - val_fbeta: 0.6621\n",
            "\n",
            "Epoch 00014: val_loss improved from 0.34077 to 0.32877, saving model to saved_models/best_vggblocks.h5\n",
            "Epoch 15/300\n",
            "64/64 [==============================] - 8s 129ms/step - loss: 0.2941 - fbeta: 0.6796 - val_loss: 0.3463 - val_fbeta: 0.6644\n",
            "\n",
            "Epoch 00015: val_loss did not improve from 0.32877\n",
            "Epoch 16/300\n",
            "64/64 [==============================] - 8s 128ms/step - loss: 0.3007 - fbeta: 0.6823 - val_loss: 0.3226 - val_fbeta: 0.6635\n",
            "\n",
            "Epoch 00016: val_loss improved from 0.32877 to 0.32263, saving model to saved_models/best_vggblocks.h5\n",
            "Epoch 17/300\n",
            "64/64 [==============================] - 8s 128ms/step - loss: 0.2906 - fbeta: 0.6897 - val_loss: 0.3312 - val_fbeta: 0.6399\n",
            "\n",
            "Epoch 00017: val_loss did not improve from 0.32263\n",
            "Epoch 18/300\n",
            "64/64 [==============================] - 8s 129ms/step - loss: 0.2925 - fbeta: 0.6885 - val_loss: 0.3255 - val_fbeta: 0.6540\n",
            "\n",
            "Epoch 00018: val_loss did not improve from 0.32263\n",
            "Epoch 19/300\n",
            "64/64 [==============================] - 8s 128ms/step - loss: 0.2755 - fbeta: 0.7218 - val_loss: 0.3630 - val_fbeta: 0.6198\n",
            "\n",
            "Epoch 00019: val_loss did not improve from 0.32263\n",
            "Epoch 20/300\n",
            "64/64 [==============================] - 8s 129ms/step - loss: 0.2956 - fbeta: 0.6844 - val_loss: 0.3320 - val_fbeta: 0.6626\n",
            "\n",
            "Epoch 00020: val_loss did not improve from 0.32263\n",
            "Epoch 21/300\n",
            "64/64 [==============================] - 8s 127ms/step - loss: 0.2792 - fbeta: 0.6924 - val_loss: 0.3167 - val_fbeta: 0.6463\n",
            "\n",
            "Epoch 00021: val_loss improved from 0.32263 to 0.31671, saving model to saved_models/best_vggblocks.h5\n",
            "Epoch 22/300\n",
            "64/64 [==============================] - 8s 130ms/step - loss: 0.2764 - fbeta: 0.6977 - val_loss: 0.3611 - val_fbeta: 0.6545\n",
            "\n",
            "Epoch 00022: val_loss did not improve from 0.31671\n",
            "Epoch 23/300\n",
            "64/64 [==============================] - 8s 129ms/step - loss: 0.2717 - fbeta: 0.7178 - val_loss: 0.3105 - val_fbeta: 0.6579\n",
            "\n",
            "Epoch 00023: val_loss improved from 0.31671 to 0.31047, saving model to saved_models/best_vggblocks.h5\n",
            "Epoch 24/300\n",
            "64/64 [==============================] - 8s 129ms/step - loss: 0.2906 - fbeta: 0.7069 - val_loss: 0.3198 - val_fbeta: 0.6954\n",
            "\n",
            "Epoch 00024: val_loss did not improve from 0.31047\n",
            "Epoch 25/300\n",
            "64/64 [==============================] - 8s 128ms/step - loss: 0.2724 - fbeta: 0.7189 - val_loss: 0.3214 - val_fbeta: 0.6826\n",
            "\n",
            "Epoch 00025: val_loss did not improve from 0.31047\n",
            "Epoch 26/300\n",
            "64/64 [==============================] - 8s 128ms/step - loss: 0.2673 - fbeta: 0.7254 - val_loss: 0.3198 - val_fbeta: 0.6612\n",
            "\n",
            "Epoch 00026: val_loss did not improve from 0.31047\n",
            "Epoch 27/300\n",
            "64/64 [==============================] - 8s 128ms/step - loss: 0.2625 - fbeta: 0.7389 - val_loss: 0.3365 - val_fbeta: 0.6387\n",
            "\n",
            "Epoch 00027: val_loss did not improve from 0.31047\n",
            "Epoch 28/300\n",
            "64/64 [==============================] - 8s 129ms/step - loss: 0.2658 - fbeta: 0.7174 - val_loss: 0.3338 - val_fbeta: 0.6809\n",
            "\n",
            "Epoch 00028: val_loss did not improve from 0.31047\n",
            "Epoch 29/300\n",
            "64/64 [==============================] - 8s 128ms/step - loss: 0.2520 - fbeta: 0.7361 - val_loss: 0.3101 - val_fbeta: 0.6691\n",
            "\n",
            "Epoch 00029: val_loss improved from 0.31047 to 0.31014, saving model to saved_models/best_vggblocks.h5\n",
            "Epoch 30/300\n",
            "64/64 [==============================] - 8s 130ms/step - loss: 0.2556 - fbeta: 0.7375 - val_loss: 0.2951 - val_fbeta: 0.6923\n",
            "\n",
            "Epoch 00030: val_loss improved from 0.31014 to 0.29511, saving model to saved_models/best_vggblocks.h5\n",
            "Epoch 31/300\n",
            "64/64 [==============================] - 8s 130ms/step - loss: 0.2519 - fbeta: 0.7532 - val_loss: 0.3004 - val_fbeta: 0.7069\n",
            "\n",
            "Epoch 00031: val_loss did not improve from 0.29511\n",
            "Epoch 32/300\n",
            "64/64 [==============================] - 8s 129ms/step - loss: 0.2525 - fbeta: 0.7450 - val_loss: 0.3148 - val_fbeta: 0.6658\n",
            "\n",
            "Epoch 00032: val_loss did not improve from 0.29511\n",
            "Epoch 33/300\n",
            "64/64 [==============================] - 8s 129ms/step - loss: 0.2443 - fbeta: 0.7469 - val_loss: 0.3014 - val_fbeta: 0.6960\n",
            "\n",
            "Epoch 00033: val_loss did not improve from 0.29511\n",
            "Epoch 34/300\n",
            "64/64 [==============================] - 8s 129ms/step - loss: 0.2425 - fbeta: 0.7654 - val_loss: 0.3215 - val_fbeta: 0.6890\n",
            "\n",
            "Epoch 00034: val_loss did not improve from 0.29511\n",
            "Epoch 35/300\n",
            "64/64 [==============================] - 8s 130ms/step - loss: 0.2487 - fbeta: 0.7543 - val_loss: 0.3355 - val_fbeta: 0.6668\n",
            "\n",
            "Epoch 00035: val_loss did not improve from 0.29511\n",
            "Epoch 36/300\n",
            "64/64 [==============================] - 8s 131ms/step - loss: 0.2263 - fbeta: 0.7818 - val_loss: 0.3161 - val_fbeta: 0.7206\n",
            "\n",
            "Epoch 00036: val_loss did not improve from 0.29511\n",
            "Epoch 37/300\n",
            "64/64 [==============================] - 8s 130ms/step - loss: 0.2442 - fbeta: 0.7666 - val_loss: 0.3173 - val_fbeta: 0.6924\n",
            "\n",
            "Epoch 00037: val_loss did not improve from 0.29511\n",
            "Epoch 38/300\n",
            "64/64 [==============================] - 8s 131ms/step - loss: 0.2273 - fbeta: 0.7764 - val_loss: 0.3065 - val_fbeta: 0.6968\n",
            "\n",
            "Epoch 00038: val_loss did not improve from 0.29511\n",
            "Epoch 39/300\n",
            "64/64 [==============================] - 8s 130ms/step - loss: 0.2188 - fbeta: 0.7832 - val_loss: 0.3122 - val_fbeta: 0.7180\n",
            "\n",
            "Epoch 00039: val_loss did not improve from 0.29511\n",
            "Epoch 40/300\n",
            "64/64 [==============================] - 8s 129ms/step - loss: 0.2387 - fbeta: 0.7540 - val_loss: 0.3102 - val_fbeta: 0.6797\n",
            "\n",
            "Epoch 00040: val_loss did not improve from 0.29511\n",
            "Epoch 41/300\n",
            "64/64 [==============================] - 8s 130ms/step - loss: 0.2186 - fbeta: 0.7919 - val_loss: 0.3148 - val_fbeta: 0.6862\n",
            "\n",
            "Epoch 00041: val_loss did not improve from 0.29511\n",
            "Epoch 42/300\n",
            "64/64 [==============================] - 8s 131ms/step - loss: 0.2143 - fbeta: 0.7799 - val_loss: 0.3284 - val_fbeta: 0.7038\n",
            "\n",
            "Epoch 00042: val_loss did not improve from 0.29511\n",
            "Epoch 43/300\n",
            "64/64 [==============================] - 8s 130ms/step - loss: 0.2314 - fbeta: 0.7649 - val_loss: 0.3054 - val_fbeta: 0.7068\n",
            "\n",
            "Epoch 00043: val_loss did not improve from 0.29511\n",
            "Epoch 44/300\n",
            "64/64 [==============================] - 8s 130ms/step - loss: 0.2155 - fbeta: 0.7853 - val_loss: 0.3273 - val_fbeta: 0.7027\n",
            "\n",
            "Epoch 00044: val_loss did not improve from 0.29511\n",
            "Epoch 45/300\n",
            "64/64 [==============================] - 8s 130ms/step - loss: 0.2257 - fbeta: 0.7838 - val_loss: 0.3223 - val_fbeta: 0.6800\n",
            "\n",
            "Epoch 00045: val_loss did not improve from 0.29511\n",
            "Epoch 46/300\n",
            "64/64 [==============================] - 8s 130ms/step - loss: 0.2137 - fbeta: 0.7943 - val_loss: 0.4041 - val_fbeta: 0.6951\n",
            "\n",
            "Epoch 00046: val_loss did not improve from 0.29511\n",
            "Epoch 47/300\n",
            "64/64 [==============================] - 8s 129ms/step - loss: 0.2188 - fbeta: 0.7847 - val_loss: 0.3254 - val_fbeta: 0.6975\n",
            "\n",
            "Epoch 00047: val_loss did not improve from 0.29511\n",
            "Epoch 48/300\n",
            "64/64 [==============================] - 8s 130ms/step - loss: 0.2136 - fbeta: 0.7929 - val_loss: 0.3100 - val_fbeta: 0.7105\n",
            "\n",
            "Epoch 00048: val_loss did not improve from 0.29511\n",
            "Epoch 49/300\n",
            "64/64 [==============================] - 8s 129ms/step - loss: 0.2172 - fbeta: 0.7729 - val_loss: 0.3066 - val_fbeta: 0.7136\n",
            "\n",
            "Epoch 00049: val_loss did not improve from 0.29511\n",
            "Epoch 50/300\n",
            "64/64 [==============================] - 8s 129ms/step - loss: 0.2133 - fbeta: 0.8030 - val_loss: 0.3152 - val_fbeta: 0.6956\n",
            "\n",
            "Epoch 00050: val_loss did not improve from 0.29511\n",
            "Epoch 51/300\n",
            "64/64 [==============================] - 8s 129ms/step - loss: 0.2000 - fbeta: 0.8109 - val_loss: 0.3203 - val_fbeta: 0.7086\n",
            "\n",
            "Epoch 00051: val_loss did not improve from 0.29511\n",
            "Epoch 52/300\n",
            "64/64 [==============================] - 8s 131ms/step - loss: 0.2040 - fbeta: 0.7938 - val_loss: 0.3245 - val_fbeta: 0.6952\n",
            "\n",
            "Epoch 00052: val_loss did not improve from 0.29511\n",
            "Epoch 53/300\n",
            "64/64 [==============================] - 8s 130ms/step - loss: 0.2151 - fbeta: 0.7890 - val_loss: 0.3131 - val_fbeta: 0.7253\n",
            "\n",
            "Epoch 00053: val_loss did not improve from 0.29511\n",
            "Epoch 54/300\n",
            "64/64 [==============================] - 8s 130ms/step - loss: 0.2013 - fbeta: 0.8077 - val_loss: 0.2991 - val_fbeta: 0.7059\n",
            "\n",
            "Epoch 00054: val_loss did not improve from 0.29511\n",
            "Epoch 55/300\n",
            "64/64 [==============================] - 8s 129ms/step - loss: 0.2008 - fbeta: 0.8107 - val_loss: 0.3282 - val_fbeta: 0.7316\n",
            "\n",
            "Epoch 00055: val_loss did not improve from 0.29511\n",
            "Epoch 56/300\n",
            "64/64 [==============================] - 8s 129ms/step - loss: 0.2031 - fbeta: 0.8095 - val_loss: 0.3507 - val_fbeta: 0.6810\n",
            "\n",
            "Epoch 00056: val_loss did not improve from 0.29511\n",
            "Epoch 57/300\n",
            "64/64 [==============================] - 8s 129ms/step - loss: 0.2020 - fbeta: 0.8047 - val_loss: 0.3397 - val_fbeta: 0.7090\n",
            "\n",
            "Epoch 00057: val_loss did not improve from 0.29511\n",
            "Epoch 58/300\n",
            "64/64 [==============================] - 8s 129ms/step - loss: 0.1835 - fbeta: 0.8250 - val_loss: 0.3321 - val_fbeta: 0.7288\n",
            "\n",
            "Epoch 00058: val_loss did not improve from 0.29511\n",
            "Epoch 59/300\n",
            "64/64 [==============================] - 8s 129ms/step - loss: 0.1991 - fbeta: 0.8041 - val_loss: 0.3085 - val_fbeta: 0.7588\n",
            "\n",
            "Epoch 00059: val_loss did not improve from 0.29511\n",
            "Epoch 60/300\n",
            "64/64 [==============================] - 8s 130ms/step - loss: 0.1888 - fbeta: 0.8202 - val_loss: 0.3177 - val_fbeta: 0.7286\n",
            "\n",
            "Epoch 00060: val_loss did not improve from 0.29511\n",
            "Epoch 00060: early stopping\n"
          ]
        },
        {
          "output_type": "display_data",
          "data": {
            "image/png": "[encoded data removed]",
            "text/plain": [
              "<Figure size 1080x360 with 2 Axes>"
            ]
          },
          "metadata": {
            "needs_background": "light"
          }
        },
        {
          "output_type": "stream",
          "name": "stdout",
          "text": [
            "Model F-beta score :  0.7039773464202881\n"
          ]
        }
      ]
    },
    {
      "cell_type": "markdown",
      "metadata": {
        "id": "KdUlIS8QXWXU"
      },
      "source": [
        "## Evaluate model"
      ]
    },
    {
      "cell_type": "code",
      "metadata": {
        "colab": {
          "base_uri": "https://localhost:8080/"
        },
        "id": "PPlMnacVtMEu",
        "outputId": "39c8e89a-5088-4209-f937-9224219f80d1"
      },
      "source": [
        "# print model score\n",
        "final_model_fbeta = model.evaluate(test_iter)[1]\n",
        "print('final_model_fbeta : ', final_model_fbeta)"
      ],
      "execution_count": null,
      "outputs": [
        {
          "output_type": "stream",
          "name": "stdout",
          "text": [
            "400/400 [==============================] - 2s 5ms/step - loss: 0.4010 - fbeta: 0.7040\n",
            "final_model_fbeta :  0.7039772272109985\n"
          ]
        }
      ]
    },
    {
      "cell_type": "markdown",
      "metadata": {
        "id": "0Y2wCmtus5LS"
      },
      "source": [
        "## Save model to local machine"
      ]
    },
    {
      "cell_type": "code",
      "metadata": {
        "colab": {
          "base_uri": "https://localhost:8080/",
          "height": 17
        },
        "id": "POBJhAMzs5LS",
        "outputId": "ec4ecc3d-4d15-4558-a805-45bbff32b64b"
      },
      "source": [
        "# load saved model file to local machine\n",
        "from google.colab import files\n",
        "files.download(model_name)"
      ],
      "execution_count": null,
      "outputs": [
        {
          "output_type": "display_data",
          "data": {
            "application/javascript": [
              "\n",
              "    async function download(id, filename, size) {\n",
              "      if (!google.colab.kernel.accessAllowed) {\n",
              "        return;\n",
              "      }\n",
              "      const div = document.createElement('div');\n",
              "      const label = document.createElement('label');\n",
              "      label.textContent = `Downloading \"${filename}\": `;\n",
              "      div.appendChild(label);\n",
              "      const progress = document.createElement('progress');\n",
              "      progress.max = size;\n",
              "      div.appendChild(progress);\n",
              "      document.body.appendChild(div);\n",
              "\n",
              "      const buffers = [];\n",
              "      let downloaded = 0;\n",
              "\n",
              "      const channel = await google.colab.kernel.comms.open(id);\n",
              "      // Send a message to notify the kernel that we're ready.\n",
              "      channel.send({})\n",
              "\n",
              "      for await (const message of channel.messages) {\n",
              "        // Send a message to notify the kernel that we're ready.\n",
              "        channel.send({})\n",
              "        if (message.buffers) {\n",
              "          for (const buffer of message.buffers) {\n",
              "            buffers.push(buffer);\n",
              "            downloaded += buffer.byteLength;\n",
              "            progress.value = downloaded;\n",
              "          }\n",
              "        }\n",
              "      }\n",
              "      const blob = new Blob(buffers, {type: 'application/binary'});\n",
              "      const a = document.createElement('a');\n",
              "      a.href = window.URL.createObjectURL(blob);\n",
              "      a.download = filename;\n",
              "      div.appendChild(a);\n",
              "      a.click();\n",
              "      div.remove();\n",
              "    }\n",
              "  "
            ],
            "text/plain": [
              "<IPython.core.display.Javascript object>"
            ]
          },
          "metadata": {}
        },
        {
          "output_type": "display_data",
          "data": {
            "application/javascript": [
              "download(\"download_c6910609-d999-46b8-a707-c331378fb037\", \"best_vggblocks.h5\", 79497200)"
            ],
            "text/plain": [
              "<IPython.core.display.Javascript object>"
            ]
          },
          "metadata": {}
        }
      ]
    }
  ]
}