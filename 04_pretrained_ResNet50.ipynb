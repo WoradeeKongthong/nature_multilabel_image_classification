{
 "cells": [
  {
   "cell_type": "code",
   "execution_count": 1,
   "metadata": {
    "executionInfo": {
     "elapsed": 1304,
     "status": "ok",
     "timestamp": 1611575307348,
     "user": {
      "displayName": "Samantha K.",
      "photoUrl": "https://lh3.googleusercontent.com/a-/AOh14GjqOn4Eq2aGKTpdlO0FSSiTvIIbKGBzhPNGPF1Ysg=s64",
      "userId": "17154081479065187787"
     },
     "user_tz": -420
    },
    "id": "PfnzksyNt9mQ"
   },
   "outputs": [],
   "source": [
    "# prepared dataset\n",
    "dataset_path = 'data/nature_data.npz'\n",
    "\n",
    "# saved model name\n",
    "model_name = 'best_pretrained_ResNet50.h5'"
   ]
  },
  {
   "cell_type": "markdown",
   "metadata": {
    "id": "abSMiFfOu3RD"
   },
   "source": [
    "# Nature Image Classification (Multi-labels)\n",
    "\n",
    "## Objective \n",
    "To learn tags given to each image.  \n",
    "There are 5 tags;  \n",
    "- desert  \n",
    "- mountains  \n",
    "- sea  \n",
    "- sunset  \n",
    "- trees  \n",
    "\n",
    "## Dataset\n",
    "source : https://www.dropbox.com/s/0htmeoie69q650p/miml_dataset.zip?dl=0  \n",
    "(You can follow the tutorial in this blog https://vijayabhaskar96.medium.com/multi-label-image-classification-tutorial-with-keras-imagedatagenerator-cd541f8eaf24)\n",
    "\n",
    "## Approach\n",
    "Baseline model : CNN model with 1,2 or 3 VGG block(s)  \n",
    "\n",
    "Improved model \n",
    "- dropout\n",
    "- data augmentation"
   ]
  },
  {
   "cell_type": "markdown",
   "metadata": {
    "id": "hI4siRTuzkP8"
   },
   "source": [
    "## Load dataset from file"
   ]
  },
  {
   "cell_type": "code",
   "execution_count": 2,
   "metadata": {
    "executionInfo": {
     "elapsed": 1149,
     "status": "ok",
     "timestamp": 1611575312263,
     "user": {
      "displayName": "Samantha K.",
      "photoUrl": "https://lh3.googleusercontent.com/a-/AOh14GjqOn4Eq2aGKTpdlO0FSSiTvIIbKGBzhPNGPF1Ysg=s64",
      "userId": "17154081479065187787"
     },
     "user_tz": -420
    },
    "id": "DY0pyMMyzng5"
   },
   "outputs": [],
   "source": [
    "import numpy as np"
   ]
  },
  {
   "cell_type": "code",
   "execution_count": 3,
   "metadata": {
    "colab": {
     "base_uri": "https://localhost:8080/"
    },
    "executionInfo": {
     "elapsed": 15933,
     "status": "ok",
     "timestamp": 1611575328752,
     "user": {
      "displayName": "Samantha K.",
      "photoUrl": "https://lh3.googleusercontent.com/a-/AOh14GjqOn4Eq2aGKTpdlO0FSSiTvIIbKGBzhPNGPF1Ysg=s64",
      "userId": "17154081479065187787"
     },
     "user_tz": -420
    },
    "id": "sTPYiaN0zrve",
    "outputId": "1565eb47-7ace-4daa-f156-a74fe0bf9072"
   },
   "outputs": [
    {
     "name": "stdout",
     "output_type": "stream",
     "text": [
      "X shape :  (2000, 128, 128, 3)\n",
      "y shape :  (2000, 5)\n"
     ]
    }
   ],
   "source": [
    "# load data\n",
    "data = np.load(dataset_path)\n",
    "X, y = data['arr_0'], data['arr_1']\n",
    "print('X shape : ', X.shape)\n",
    "print('y shape : ', y.shape)"
   ]
  },
  {
   "cell_type": "markdown",
   "metadata": {
    "id": "cdtytULs0Y7s"
   },
   "source": [
    "## Create train and test set\n",
    "(Note : validation set will be created with ImageDataGenerator)"
   ]
  },
  {
   "cell_type": "code",
   "execution_count": 4,
   "metadata": {
    "executionInfo": {
     "elapsed": 1656,
     "status": "ok",
     "timestamp": 1611575331816,
     "user": {
      "displayName": "Samantha K.",
      "photoUrl": "https://lh3.googleusercontent.com/a-/AOh14GjqOn4Eq2aGKTpdlO0FSSiTvIIbKGBzhPNGPF1Ysg=s64",
      "userId": "17154081479065187787"
     },
     "user_tz": -420
    },
    "id": "wO_FPRcW0c5t"
   },
   "outputs": [],
   "source": [
    "from sklearn.model_selection import train_test_split"
   ]
  },
  {
   "cell_type": "code",
   "execution_count": 5,
   "metadata": {
    "executionInfo": {
     "elapsed": 1152,
     "status": "ok",
     "timestamp": 1611575332582,
     "user": {
      "displayName": "Samantha K.",
      "photoUrl": "https://lh3.googleusercontent.com/a-/AOh14GjqOn4Eq2aGKTpdlO0FSSiTvIIbKGBzhPNGPF1Ysg=s64",
      "userId": "17154081479065187787"
     },
     "user_tz": -420
    },
    "id": "ER5Tq-HU06Cq"
   },
   "outputs": [],
   "source": [
    "X_train, X_test, y_train, y_test = train_test_split(X, y, test_size=0.2, random_state=100)"
   ]
  },
  {
   "cell_type": "code",
   "execution_count": 6,
   "metadata": {
    "colab": {
     "base_uri": "https://localhost:8080/"
    },
    "executionInfo": {
     "elapsed": 1241,
     "status": "ok",
     "timestamp": 1611575338066,
     "user": {
      "displayName": "Samantha K.",
      "photoUrl": "https://lh3.googleusercontent.com/a-/AOh14GjqOn4Eq2aGKTpdlO0FSSiTvIIbKGBzhPNGPF1Ysg=s64",
      "userId": "17154081479065187787"
     },
     "user_tz": -420
    },
    "id": "9uhCuhbq1bVu",
    "outputId": "aeb996fa-2db3-43d3-88ba-6e0710ecf90b"
   },
   "outputs": [
    {
     "name": "stdout",
     "output_type": "stream",
     "text": [
      "X_train shape :  (1600, 128, 128, 3)\n",
      "y_train shape :  (1600, 5)\n",
      "\n",
      "X_test shape :  (400, 128, 128, 3)\n",
      "y_test shape :  (400, 5)\n"
     ]
    }
   ],
   "source": [
    "print('X_train shape : ', X_train.shape)\n",
    "print('y_train shape : ', y_train.shape)\n",
    "print()\n",
    "print('X_test shape : ', X_test.shape)\n",
    "print('y_test shape : ', y_test.shape)"
   ]
  },
  {
   "cell_type": "markdown",
   "metadata": {
    "id": "ejRHmGDVlSP-"
   },
   "source": [
    "## Create data generator without data augmentation"
   ]
  },
  {
   "cell_type": "code",
   "execution_count": 8,
   "metadata": {
    "executionInfo": {
     "elapsed": 613,
     "status": "ok",
     "timestamp": 1611575347696,
     "user": {
      "displayName": "Samantha K.",
      "photoUrl": "https://lh3.googleusercontent.com/a-/AOh14GjqOn4Eq2aGKTpdlO0FSSiTvIIbKGBzhPNGPF1Ysg=s64",
      "userId": "17154081479065187787"
     },
     "user_tz": -420
    },
    "id": "LWRbPRUblbIP"
   },
   "outputs": [],
   "source": [
    "from tensorflow.keras.preprocessing.image import ImageDataGenerator\n",
    "from tensorflow.keras.applications.resnet import preprocess_input"
   ]
  },
  {
   "cell_type": "code",
   "execution_count": 9,
   "metadata": {
    "executionInfo": {
     "elapsed": 1299,
     "status": "ok",
     "timestamp": 1611575351069,
     "user": {
      "displayName": "Samantha K.",
      "photoUrl": "https://lh3.googleusercontent.com/a-/AOh14GjqOn4Eq2aGKTpdlO0FSSiTvIIbKGBzhPNGPF1Ysg=s64",
      "userId": "17154081479065187787"
     },
     "user_tz": -420
    },
    "id": "SIRwdlwulfCM"
   },
   "outputs": [],
   "source": [
    "train_gen = ImageDataGenerator(preprocessing_function=preprocess_input, validation_split=0.2)\n",
    "test_gen = ImageDataGenerator(preprocessing_function=preprocess_input)\n",
    "\n",
    "batch_size = 20\n",
    "train_iter = train_gen.flow(X_train, y_train, batch_size=batch_size, subset='training', seed=123)\n",
    "val_iter = train_gen.flow(X_train, y_train, batch_size=batch_size, subset='validation', seed=123)\n",
    "test_iter = test_gen.flow(X_test, y_test, batch_size=1, shuffle=False)"
   ]
  },
  {
   "cell_type": "markdown",
   "metadata": {
    "id": "LAytm0b02LY4"
   },
   "source": [
    "## fbeta score function for multi-label problem"
   ]
  },
  {
   "cell_type": "code",
   "execution_count": 10,
   "metadata": {
    "executionInfo": {
     "elapsed": 1137,
     "status": "ok",
     "timestamp": 1611575355984,
     "user": {
      "displayName": "Samantha K.",
      "photoUrl": "https://lh3.googleusercontent.com/a-/AOh14GjqOn4Eq2aGKTpdlO0FSSiTvIIbKGBzhPNGPF1Ysg=s64",
      "userId": "17154081479065187787"
     },
     "user_tz": -420
    },
    "id": "Wn9549YT2QL0"
   },
   "outputs": [],
   "source": [
    "from tensorflow.keras import backend\n",
    "\n",
    "# optional sklearn.metrics.fbeta_score (cannot be used as training metric)\n",
    "#from sklearn.metrics import fbeta_score"
   ]
  },
  {
   "cell_type": "code",
   "execution_count": 11,
   "metadata": {
    "executionInfo": {
     "elapsed": 1200,
     "status": "ok",
     "timestamp": 1611575357728,
     "user": {
      "displayName": "Samantha K.",
      "photoUrl": "https://lh3.googleusercontent.com/a-/AOh14GjqOn4Eq2aGKTpdlO0FSSiTvIIbKGBzhPNGPF1Ysg=s64",
      "userId": "17154081479065187787"
     },
     "user_tz": -420
    },
    "id": "v6dCRxSK2T2M"
   },
   "outputs": [],
   "source": [
    "# I create F-beta score calculation in Keras to use as a metric \n",
    "# during training process instead of accuracy.\n",
    "\n",
    "def fbeta(y_true, y_pred, beta=2):\n",
    "  # clip predictions\n",
    "  y_pred = backend.clip(y_pred, 0, 1)\n",
    "  # calculate elements\n",
    "  tp = backend.sum(backend.round(backend.clip(y_true * y_pred, 0, 1)), axis=1)\n",
    "  fp = backend.sum(backend.round(backend.clip(y_pred - y_true, 0, 1)), axis=1)\n",
    "  fn = backend.sum(backend.round(backend.clip(y_true - y_pred, 0, 1)), axis=1)\n",
    "  # calculate precision\n",
    "  p = tp / (tp + fp + backend.epsilon())\n",
    "  # calculate recall\n",
    "  r = tp / (tp + fn + backend.epsilon())\n",
    "  # calculate fbeta, averaged across each class\n",
    "  bb = beta ** 2\n",
    "  fbeta_score = backend.mean((1 + bb) * (p * r) / (bb * p + r + backend.epsilon()))\n",
    "  return fbeta_score"
   ]
  },
  {
   "cell_type": "markdown",
   "metadata": {
    "id": "CD1IWrOXgXlg"
   },
   "source": [
    "## Baseline Model"
   ]
  },
  {
   "cell_type": "code",
   "execution_count": 12,
   "metadata": {
    "executionInfo": {
     "elapsed": 705,
     "status": "ok",
     "timestamp": 1611575392369,
     "user": {
      "displayName": "Samantha K.",
      "photoUrl": "https://lh3.googleusercontent.com/a-/AOh14GjqOn4Eq2aGKTpdlO0FSSiTvIIbKGBzhPNGPF1Ysg=s64",
      "userId": "17154081479065187787"
     },
     "user_tz": -420
    },
    "id": "lQ1jwo4sAjgi"
   },
   "outputs": [],
   "source": [
    "from tensorflow.keras.applications import ResNet50\n",
    "from tensorflow.keras.models import Model\n",
    "from tensorflow.keras.layers import Dense, Flatten, Dropout\n",
    "from tensorflow.keras.callbacks import EarlyStopping, ModelCheckpoint\n",
    "import matplotlib.pyplot as plt"
   ]
  },
  {
   "cell_type": "code",
   "execution_count": 13,
   "metadata": {
    "colab": {
     "base_uri": "https://localhost:8080/"
    },
    "executionInfo": {
     "elapsed": 10282,
     "status": "ok",
     "timestamp": 1611575415993,
     "user": {
      "displayName": "Samantha K.",
      "photoUrl": "https://lh3.googleusercontent.com/a-/AOh14GjqOn4Eq2aGKTpdlO0FSSiTvIIbKGBzhPNGPF1Ysg=s64",
      "userId": "17154081479065187787"
     },
     "user_tz": -420
    },
    "id": "SSU7wg4TAl5G",
    "outputId": "1f430f98-50f3-45a1-bcc8-8301bfc5c71a"
   },
   "outputs": [
    {
     "name": "stdout",
     "output_type": "stream",
     "text": [
      "Downloading data from https://storage.googleapis.com/tensorflow/keras-applications/resnet/resnet50_weights_tf_dim_ordering_tf_kernels_notop.h5\n",
      "94773248/94765736 [==============================] - 2s 0us/step\n"
     ]
    }
   ],
   "source": [
    "# create model\n",
    "\n",
    "# load ResNet50 model\n",
    "model = ResNet50(include_top=False, input_shape=(128,128,3))\n",
    "# mark loaded layers as not trainable\n",
    "for layer in model.layers:\n",
    "    layer.trainable = False\n",
    "# add new classifier layers\n",
    "flat1 = Flatten()(model.layers[-1].output)\n",
    "class1 = Dense(100, activation='relu', kernel_initializer='he_uniform')(flat1)\n",
    "output = Dense(5, activation='sigmoid')(class1)\n",
    "# define model\n",
    "model = Model(inputs=model.inputs, outputs=output)\n",
    "\n",
    "# compile model\n",
    "model.compile(optimizer='adam', loss='binary_crossentropy', metrics=[fbeta])"
   ]
  },
  {
   "cell_type": "code",
   "execution_count": 14,
   "metadata": {
    "colab": {
     "base_uri": "https://localhost:8080/"
    },
    "executionInfo": {
     "elapsed": 1157,
     "status": "ok",
     "timestamp": 1611575418347,
     "user": {
      "displayName": "Samantha K.",
      "photoUrl": "https://lh3.googleusercontent.com/a-/AOh14GjqOn4Eq2aGKTpdlO0FSSiTvIIbKGBzhPNGPF1Ysg=s64",
      "userId": "17154081479065187787"
     },
     "user_tz": -420
    },
    "id": "p1iYWekdotgI",
    "outputId": "77f85444-ca5a-42e5-b9ea-e897b1621327"
   },
   "outputs": [
    {
     "name": "stdout",
     "output_type": "stream",
     "text": [
      "Model: \"model\"\n",
      "__________________________________________________________________________________________________\n",
      "Layer (type)                    Output Shape         Param #     Connected to                     \n",
      "==================================================================================================\n",
      "input_1 (InputLayer)            [(None, 128, 128, 3) 0                                            \n",
      "__________________________________________________________________________________________________\n",
      "conv1_pad (ZeroPadding2D)       (None, 134, 134, 3)  0           input_1[0][0]                    \n",
      "__________________________________________________________________________________________________\n",
      "conv1_conv (Conv2D)             (None, 64, 64, 64)   9472        conv1_pad[0][0]                  \n",
      "__________________________________________________________________________________________________\n",
      "conv1_bn (BatchNormalization)   (None, 64, 64, 64)   256         conv1_conv[0][0]                 \n",
      "__________________________________________________________________________________________________\n",
      "conv1_relu (Activation)         (None, 64, 64, 64)   0           conv1_bn[0][0]                   \n",
      "__________________________________________________________________________________________________\n",
      "pool1_pad (ZeroPadding2D)       (None, 66, 66, 64)   0           conv1_relu[0][0]                 \n",
      "__________________________________________________________________________________________________\n",
      "pool1_pool (MaxPooling2D)       (None, 32, 32, 64)   0           pool1_pad[0][0]                  \n",
      "__________________________________________________________________________________________________\n",
      "conv2_block1_1_conv (Conv2D)    (None, 32, 32, 64)   4160        pool1_pool[0][0]                 \n",
      "__________________________________________________________________________________________________\n",
      "conv2_block1_1_bn (BatchNormali (None, 32, 32, 64)   256         conv2_block1_1_conv[0][0]        \n",
      "__________________________________________________________________________________________________\n",
      "conv2_block1_1_relu (Activation (None, 32, 32, 64)   0           conv2_block1_1_bn[0][0]          \n",
      "__________________________________________________________________________________________________\n",
      "conv2_block1_2_conv (Conv2D)    (None, 32, 32, 64)   36928       conv2_block1_1_relu[0][0]        \n",
      "__________________________________________________________________________________________________\n",
      "conv2_block1_2_bn (BatchNormali (None, 32, 32, 64)   256         conv2_block1_2_conv[0][0]        \n",
      "__________________________________________________________________________________________________\n",
      "conv2_block1_2_relu (Activation (None, 32, 32, 64)   0           conv2_block1_2_bn[0][0]          \n",
      "__________________________________________________________________________________________________\n",
      "conv2_block1_0_conv (Conv2D)    (None, 32, 32, 256)  16640       pool1_pool[0][0]                 \n",
      "__________________________________________________________________________________________________\n",
      "conv2_block1_3_conv (Conv2D)    (None, 32, 32, 256)  16640       conv2_block1_2_relu[0][0]        \n",
      "__________________________________________________________________________________________________\n",
      "conv2_block1_0_bn (BatchNormali (None, 32, 32, 256)  1024        conv2_block1_0_conv[0][0]        \n",
      "__________________________________________________________________________________________________\n",
      "conv2_block1_3_bn (BatchNormali (None, 32, 32, 256)  1024        conv2_block1_3_conv[0][0]        \n",
      "__________________________________________________________________________________________________\n",
      "conv2_block1_add (Add)          (None, 32, 32, 256)  0           conv2_block1_0_bn[0][0]          \n",
      "                                                                 conv2_block1_3_bn[0][0]          \n",
      "__________________________________________________________________________________________________\n",
      "conv2_block1_out (Activation)   (None, 32, 32, 256)  0           conv2_block1_add[0][0]           \n",
      "__________________________________________________________________________________________________\n",
      "conv2_block2_1_conv (Conv2D)    (None, 32, 32, 64)   16448       conv2_block1_out[0][0]           \n",
      "__________________________________________________________________________________________________\n",
      "conv2_block2_1_bn (BatchNormali (None, 32, 32, 64)   256         conv2_block2_1_conv[0][0]        \n",
      "__________________________________________________________________________________________________\n",
      "conv2_block2_1_relu (Activation (None, 32, 32, 64)   0           conv2_block2_1_bn[0][0]          \n",
      "__________________________________________________________________________________________________\n",
      "conv2_block2_2_conv (Conv2D)    (None, 32, 32, 64)   36928       conv2_block2_1_relu[0][0]        \n",
      "__________________________________________________________________________________________________\n",
      "conv2_block2_2_bn (BatchNormali (None, 32, 32, 64)   256         conv2_block2_2_conv[0][0]        \n",
      "__________________________________________________________________________________________________\n",
      "conv2_block2_2_relu (Activation (None, 32, 32, 64)   0           conv2_block2_2_bn[0][0]          \n",
      "__________________________________________________________________________________________________\n",
      "conv2_block2_3_conv (Conv2D)    (None, 32, 32, 256)  16640       conv2_block2_2_relu[0][0]        \n",
      "__________________________________________________________________________________________________\n",
      "conv2_block2_3_bn (BatchNormali (None, 32, 32, 256)  1024        conv2_block2_3_conv[0][0]        \n",
      "__________________________________________________________________________________________________\n",
      "conv2_block2_add (Add)          (None, 32, 32, 256)  0           conv2_block1_out[0][0]           \n",
      "                                                                 conv2_block2_3_bn[0][0]          \n",
      "__________________________________________________________________________________________________\n",
      "conv2_block2_out (Activation)   (None, 32, 32, 256)  0           conv2_block2_add[0][0]           \n",
      "__________________________________________________________________________________________________\n",
      "conv2_block3_1_conv (Conv2D)    (None, 32, 32, 64)   16448       conv2_block2_out[0][0]           \n",
      "__________________________________________________________________________________________________\n",
      "conv2_block3_1_bn (BatchNormali (None, 32, 32, 64)   256         conv2_block3_1_conv[0][0]        \n",
      "__________________________________________________________________________________________________\n",
      "conv2_block3_1_relu (Activation (None, 32, 32, 64)   0           conv2_block3_1_bn[0][0]          \n",
      "__________________________________________________________________________________________________\n",
      "conv2_block3_2_conv (Conv2D)    (None, 32, 32, 64)   36928       conv2_block3_1_relu[0][0]        \n",
      "__________________________________________________________________________________________________\n",
      "conv2_block3_2_bn (BatchNormali (None, 32, 32, 64)   256         conv2_block3_2_conv[0][0]        \n",
      "__________________________________________________________________________________________________\n",
      "conv2_block3_2_relu (Activation (None, 32, 32, 64)   0           conv2_block3_2_bn[0][0]          \n",
      "__________________________________________________________________________________________________\n",
      "conv2_block3_3_conv (Conv2D)    (None, 32, 32, 256)  16640       conv2_block3_2_relu[0][0]        \n",
      "__________________________________________________________________________________________________\n",
      "conv2_block3_3_bn (BatchNormali (None, 32, 32, 256)  1024        conv2_block3_3_conv[0][0]        \n",
      "__________________________________________________________________________________________________\n",
      "conv2_block3_add (Add)          (None, 32, 32, 256)  0           conv2_block2_out[0][0]           \n",
      "                                                                 conv2_block3_3_bn[0][0]          \n",
      "__________________________________________________________________________________________________\n",
      "conv2_block3_out (Activation)   (None, 32, 32, 256)  0           conv2_block3_add[0][0]           \n",
      "__________________________________________________________________________________________________\n",
      "conv3_block1_1_conv (Conv2D)    (None, 16, 16, 128)  32896       conv2_block3_out[0][0]           \n",
      "__________________________________________________________________________________________________\n",
      "conv3_block1_1_bn (BatchNormali (None, 16, 16, 128)  512         conv3_block1_1_conv[0][0]        \n",
      "__________________________________________________________________________________________________\n",
      "conv3_block1_1_relu (Activation (None, 16, 16, 128)  0           conv3_block1_1_bn[0][0]          \n",
      "__________________________________________________________________________________________________\n",
      "conv3_block1_2_conv (Conv2D)    (None, 16, 16, 128)  147584      conv3_block1_1_relu[0][0]        \n",
      "__________________________________________________________________________________________________\n",
      "conv3_block1_2_bn (BatchNormali (None, 16, 16, 128)  512         conv3_block1_2_conv[0][0]        \n",
      "__________________________________________________________________________________________________\n",
      "conv3_block1_2_relu (Activation (None, 16, 16, 128)  0           conv3_block1_2_bn[0][0]          \n",
      "__________________________________________________________________________________________________\n",
      "conv3_block1_0_conv (Conv2D)    (None, 16, 16, 512)  131584      conv2_block3_out[0][0]           \n",
      "__________________________________________________________________________________________________\n",
      "conv3_block1_3_conv (Conv2D)    (None, 16, 16, 512)  66048       conv3_block1_2_relu[0][0]        \n",
      "__________________________________________________________________________________________________\n",
      "conv3_block1_0_bn (BatchNormali (None, 16, 16, 512)  2048        conv3_block1_0_conv[0][0]        \n",
      "__________________________________________________________________________________________________\n",
      "conv3_block1_3_bn (BatchNormali (None, 16, 16, 512)  2048        conv3_block1_3_conv[0][0]        \n",
      "__________________________________________________________________________________________________\n",
      "conv3_block1_add (Add)          (None, 16, 16, 512)  0           conv3_block1_0_bn[0][0]          \n",
      "                                                                 conv3_block1_3_bn[0][0]          \n",
      "__________________________________________________________________________________________________\n",
      "conv3_block1_out (Activation)   (None, 16, 16, 512)  0           conv3_block1_add[0][0]           \n",
      "__________________________________________________________________________________________________\n",
      "conv3_block2_1_conv (Conv2D)    (None, 16, 16, 128)  65664       conv3_block1_out[0][0]           \n",
      "__________________________________________________________________________________________________\n",
      "conv3_block2_1_bn (BatchNormali (None, 16, 16, 128)  512         conv3_block2_1_conv[0][0]        \n",
      "__________________________________________________________________________________________________\n",
      "conv3_block2_1_relu (Activation (None, 16, 16, 128)  0           conv3_block2_1_bn[0][0]          \n",
      "__________________________________________________________________________________________________\n",
      "conv3_block2_2_conv (Conv2D)    (None, 16, 16, 128)  147584      conv3_block2_1_relu[0][0]        \n",
      "__________________________________________________________________________________________________\n",
      "conv3_block2_2_bn (BatchNormali (None, 16, 16, 128)  512         conv3_block2_2_conv[0][0]        \n",
      "__________________________________________________________________________________________________\n",
      "conv3_block2_2_relu (Activation (None, 16, 16, 128)  0           conv3_block2_2_bn[0][0]          \n",
      "__________________________________________________________________________________________________\n",
      "conv3_block2_3_conv (Conv2D)    (None, 16, 16, 512)  66048       conv3_block2_2_relu[0][0]        \n",
      "__________________________________________________________________________________________________\n",
      "conv3_block2_3_bn (BatchNormali (None, 16, 16, 512)  2048        conv3_block2_3_conv[0][0]        \n",
      "__________________________________________________________________________________________________\n",
      "conv3_block2_add (Add)          (None, 16, 16, 512)  0           conv3_block1_out[0][0]           \n",
      "                                                                 conv3_block2_3_bn[0][0]          \n",
      "__________________________________________________________________________________________________\n",
      "conv3_block2_out (Activation)   (None, 16, 16, 512)  0           conv3_block2_add[0][0]           \n",
      "__________________________________________________________________________________________________\n",
      "conv3_block3_1_conv (Conv2D)    (None, 16, 16, 128)  65664       conv3_block2_out[0][0]           \n",
      "__________________________________________________________________________________________________\n",
      "conv3_block3_1_bn (BatchNormali (None, 16, 16, 128)  512         conv3_block3_1_conv[0][0]        \n",
      "__________________________________________________________________________________________________\n",
      "conv3_block3_1_relu (Activation (None, 16, 16, 128)  0           conv3_block3_1_bn[0][0]          \n",
      "__________________________________________________________________________________________________\n",
      "conv3_block3_2_conv (Conv2D)    (None, 16, 16, 128)  147584      conv3_block3_1_relu[0][0]        \n",
      "__________________________________________________________________________________________________\n",
      "conv3_block3_2_bn (BatchNormali (None, 16, 16, 128)  512         conv3_block3_2_conv[0][0]        \n",
      "__________________________________________________________________________________________________\n",
      "conv3_block3_2_relu (Activation (None, 16, 16, 128)  0           conv3_block3_2_bn[0][0]          \n",
      "__________________________________________________________________________________________________\n",
      "conv3_block3_3_conv (Conv2D)    (None, 16, 16, 512)  66048       conv3_block3_2_relu[0][0]        \n",
      "__________________________________________________________________________________________________\n",
      "conv3_block3_3_bn (BatchNormali (None, 16, 16, 512)  2048        conv3_block3_3_conv[0][0]        \n",
      "__________________________________________________________________________________________________\n",
      "conv3_block3_add (Add)          (None, 16, 16, 512)  0           conv3_block2_out[0][0]           \n",
      "                                                                 conv3_block3_3_bn[0][0]          \n",
      "__________________________________________________________________________________________________\n",
      "conv3_block3_out (Activation)   (None, 16, 16, 512)  0           conv3_block3_add[0][0]           \n",
      "__________________________________________________________________________________________________\n",
      "conv3_block4_1_conv (Conv2D)    (None, 16, 16, 128)  65664       conv3_block3_out[0][0]           \n",
      "__________________________________________________________________________________________________\n",
      "conv3_block4_1_bn (BatchNormali (None, 16, 16, 128)  512         conv3_block4_1_conv[0][0]        \n",
      "__________________________________________________________________________________________________\n",
      "conv3_block4_1_relu (Activation (None, 16, 16, 128)  0           conv3_block4_1_bn[0][0]          \n",
      "__________________________________________________________________________________________________\n",
      "conv3_block4_2_conv (Conv2D)    (None, 16, 16, 128)  147584      conv3_block4_1_relu[0][0]        \n",
      "__________________________________________________________________________________________________\n",
      "conv3_block4_2_bn (BatchNormali (None, 16, 16, 128)  512         conv3_block4_2_conv[0][0]        \n",
      "__________________________________________________________________________________________________\n",
      "conv3_block4_2_relu (Activation (None, 16, 16, 128)  0           conv3_block4_2_bn[0][0]          \n",
      "__________________________________________________________________________________________________\n",
      "conv3_block4_3_conv (Conv2D)    (None, 16, 16, 512)  66048       conv3_block4_2_relu[0][0]        \n",
      "__________________________________________________________________________________________________\n",
      "conv3_block4_3_bn (BatchNormali (None, 16, 16, 512)  2048        conv3_block4_3_conv[0][0]        \n",
      "__________________________________________________________________________________________________\n",
      "conv3_block4_add (Add)          (None, 16, 16, 512)  0           conv3_block3_out[0][0]           \n",
      "                                                                 conv3_block4_3_bn[0][0]          \n",
      "__________________________________________________________________________________________________\n",
      "conv3_block4_out (Activation)   (None, 16, 16, 512)  0           conv3_block4_add[0][0]           \n",
      "__________________________________________________________________________________________________\n",
      "conv4_block1_1_conv (Conv2D)    (None, 8, 8, 256)    131328      conv3_block4_out[0][0]           \n",
      "__________________________________________________________________________________________________\n",
      "conv4_block1_1_bn (BatchNormali (None, 8, 8, 256)    1024        conv4_block1_1_conv[0][0]        \n",
      "__________________________________________________________________________________________________\n",
      "conv4_block1_1_relu (Activation (None, 8, 8, 256)    0           conv4_block1_1_bn[0][0]          \n",
      "__________________________________________________________________________________________________\n",
      "conv4_block1_2_conv (Conv2D)    (None, 8, 8, 256)    590080      conv4_block1_1_relu[0][0]        \n",
      "__________________________________________________________________________________________________\n",
      "conv4_block1_2_bn (BatchNormali (None, 8, 8, 256)    1024        conv4_block1_2_conv[0][0]        \n",
      "__________________________________________________________________________________________________\n",
      "conv4_block1_2_relu (Activation (None, 8, 8, 256)    0           conv4_block1_2_bn[0][0]          \n",
      "__________________________________________________________________________________________________\n",
      "conv4_block1_0_conv (Conv2D)    (None, 8, 8, 1024)   525312      conv3_block4_out[0][0]           \n",
      "__________________________________________________________________________________________________\n",
      "conv4_block1_3_conv (Conv2D)    (None, 8, 8, 1024)   263168      conv4_block1_2_relu[0][0]        \n",
      "__________________________________________________________________________________________________\n",
      "conv4_block1_0_bn (BatchNormali (None, 8, 8, 1024)   4096        conv4_block1_0_conv[0][0]        \n",
      "__________________________________________________________________________________________________\n",
      "conv4_block1_3_bn (BatchNormali (None, 8, 8, 1024)   4096        conv4_block1_3_conv[0][0]        \n",
      "__________________________________________________________________________________________________\n",
      "conv4_block1_add (Add)          (None, 8, 8, 1024)   0           conv4_block1_0_bn[0][0]          \n",
      "                                                                 conv4_block1_3_bn[0][0]          \n",
      "__________________________________________________________________________________________________\n",
      "conv4_block1_out (Activation)   (None, 8, 8, 1024)   0           conv4_block1_add[0][0]           \n",
      "__________________________________________________________________________________________________\n",
      "conv4_block2_1_conv (Conv2D)    (None, 8, 8, 256)    262400      conv4_block1_out[0][0]           \n",
      "__________________________________________________________________________________________________\n",
      "conv4_block2_1_bn (BatchNormali (None, 8, 8, 256)    1024        conv4_block2_1_conv[0][0]        \n",
      "__________________________________________________________________________________________________\n",
      "conv4_block2_1_relu (Activation (None, 8, 8, 256)    0           conv4_block2_1_bn[0][0]          \n",
      "__________________________________________________________________________________________________\n",
      "conv4_block2_2_conv (Conv2D)    (None, 8, 8, 256)    590080      conv4_block2_1_relu[0][0]        \n",
      "__________________________________________________________________________________________________\n",
      "conv4_block2_2_bn (BatchNormali (None, 8, 8, 256)    1024        conv4_block2_2_conv[0][0]        \n",
      "__________________________________________________________________________________________________\n",
      "conv4_block2_2_relu (Activation (None, 8, 8, 256)    0           conv4_block2_2_bn[0][0]          \n",
      "__________________________________________________________________________________________________\n",
      "conv4_block2_3_conv (Conv2D)    (None, 8, 8, 1024)   263168      conv4_block2_2_relu[0][0]        \n",
      "__________________________________________________________________________________________________\n",
      "conv4_block2_3_bn (BatchNormali (None, 8, 8, 1024)   4096        conv4_block2_3_conv[0][0]        \n",
      "__________________________________________________________________________________________________\n",
      "conv4_block2_add (Add)          (None, 8, 8, 1024)   0           conv4_block1_out[0][0]           \n",
      "                                                                 conv4_block2_3_bn[0][0]          \n",
      "__________________________________________________________________________________________________\n",
      "conv4_block2_out (Activation)   (None, 8, 8, 1024)   0           conv4_block2_add[0][0]           \n",
      "__________________________________________________________________________________________________\n",
      "conv4_block3_1_conv (Conv2D)    (None, 8, 8, 256)    262400      conv4_block2_out[0][0]           \n",
      "__________________________________________________________________________________________________\n",
      "conv4_block3_1_bn (BatchNormali (None, 8, 8, 256)    1024        conv4_block3_1_conv[0][0]        \n",
      "__________________________________________________________________________________________________\n",
      "conv4_block3_1_relu (Activation (None, 8, 8, 256)    0           conv4_block3_1_bn[0][0]          \n",
      "__________________________________________________________________________________________________\n",
      "conv4_block3_2_conv (Conv2D)    (None, 8, 8, 256)    590080      conv4_block3_1_relu[0][0]        \n",
      "__________________________________________________________________________________________________\n",
      "conv4_block3_2_bn (BatchNormali (None, 8, 8, 256)    1024        conv4_block3_2_conv[0][0]        \n",
      "__________________________________________________________________________________________________\n",
      "conv4_block3_2_relu (Activation (None, 8, 8, 256)    0           conv4_block3_2_bn[0][0]          \n",
      "__________________________________________________________________________________________________\n",
      "conv4_block3_3_conv (Conv2D)    (None, 8, 8, 1024)   263168      conv4_block3_2_relu[0][0]        \n",
      "__________________________________________________________________________________________________\n",
      "conv4_block3_3_bn (BatchNormali (None, 8, 8, 1024)   4096        conv4_block3_3_conv[0][0]        \n",
      "__________________________________________________________________________________________________\n",
      "conv4_block3_add (Add)          (None, 8, 8, 1024)   0           conv4_block2_out[0][0]           \n",
      "                                                                 conv4_block3_3_bn[0][0]          \n",
      "__________________________________________________________________________________________________\n",
      "conv4_block3_out (Activation)   (None, 8, 8, 1024)   0           conv4_block3_add[0][0]           \n",
      "__________________________________________________________________________________________________\n",
      "conv4_block4_1_conv (Conv2D)    (None, 8, 8, 256)    262400      conv4_block3_out[0][0]           \n",
      "__________________________________________________________________________________________________\n",
      "conv4_block4_1_bn (BatchNormali (None, 8, 8, 256)    1024        conv4_block4_1_conv[0][0]        \n",
      "__________________________________________________________________________________________________\n",
      "conv4_block4_1_relu (Activation (None, 8, 8, 256)    0           conv4_block4_1_bn[0][0]          \n",
      "__________________________________________________________________________________________________\n",
      "conv4_block4_2_conv (Conv2D)    (None, 8, 8, 256)    590080      conv4_block4_1_relu[0][0]        \n",
      "__________________________________________________________________________________________________\n",
      "conv4_block4_2_bn (BatchNormali (None, 8, 8, 256)    1024        conv4_block4_2_conv[0][0]        \n",
      "__________________________________________________________________________________________________\n",
      "conv4_block4_2_relu (Activation (None, 8, 8, 256)    0           conv4_block4_2_bn[0][0]          \n",
      "__________________________________________________________________________________________________\n",
      "conv4_block4_3_conv (Conv2D)    (None, 8, 8, 1024)   263168      conv4_block4_2_relu[0][0]        \n",
      "__________________________________________________________________________________________________\n",
      "conv4_block4_3_bn (BatchNormali (None, 8, 8, 1024)   4096        conv4_block4_3_conv[0][0]        \n",
      "__________________________________________________________________________________________________\n",
      "conv4_block4_add (Add)          (None, 8, 8, 1024)   0           conv4_block3_out[0][0]           \n",
      "                                                                 conv4_block4_3_bn[0][0]          \n",
      "__________________________________________________________________________________________________\n",
      "conv4_block4_out (Activation)   (None, 8, 8, 1024)   0           conv4_block4_add[0][0]           \n",
      "__________________________________________________________________________________________________\n",
      "conv4_block5_1_conv (Conv2D)    (None, 8, 8, 256)    262400      conv4_block4_out[0][0]           \n",
      "__________________________________________________________________________________________________\n",
      "conv4_block5_1_bn (BatchNormali (None, 8, 8, 256)    1024        conv4_block5_1_conv[0][0]        \n",
      "__________________________________________________________________________________________________\n",
      "conv4_block5_1_relu (Activation (None, 8, 8, 256)    0           conv4_block5_1_bn[0][0]          \n",
      "__________________________________________________________________________________________________\n",
      "conv4_block5_2_conv (Conv2D)    (None, 8, 8, 256)    590080      conv4_block5_1_relu[0][0]        \n",
      "__________________________________________________________________________________________________\n",
      "conv4_block5_2_bn (BatchNormali (None, 8, 8, 256)    1024        conv4_block5_2_conv[0][0]        \n",
      "__________________________________________________________________________________________________\n",
      "conv4_block5_2_relu (Activation (None, 8, 8, 256)    0           conv4_block5_2_bn[0][0]          \n",
      "__________________________________________________________________________________________________\n",
      "conv4_block5_3_conv (Conv2D)    (None, 8, 8, 1024)   263168      conv4_block5_2_relu[0][0]        \n",
      "__________________________________________________________________________________________________\n",
      "conv4_block5_3_bn (BatchNormali (None, 8, 8, 1024)   4096        conv4_block5_3_conv[0][0]        \n",
      "__________________________________________________________________________________________________\n",
      "conv4_block5_add (Add)          (None, 8, 8, 1024)   0           conv4_block4_out[0][0]           \n",
      "                                                                 conv4_block5_3_bn[0][0]          \n",
      "__________________________________________________________________________________________________\n",
      "conv4_block5_out (Activation)   (None, 8, 8, 1024)   0           conv4_block5_add[0][0]           \n",
      "__________________________________________________________________________________________________\n",
      "conv4_block6_1_conv (Conv2D)    (None, 8, 8, 256)    262400      conv4_block5_out[0][0]           \n",
      "__________________________________________________________________________________________________\n",
      "conv4_block6_1_bn (BatchNormali (None, 8, 8, 256)    1024        conv4_block6_1_conv[0][0]        \n",
      "__________________________________________________________________________________________________\n",
      "conv4_block6_1_relu (Activation (None, 8, 8, 256)    0           conv4_block6_1_bn[0][0]          \n",
      "__________________________________________________________________________________________________\n",
      "conv4_block6_2_conv (Conv2D)    (None, 8, 8, 256)    590080      conv4_block6_1_relu[0][0]        \n",
      "__________________________________________________________________________________________________\n",
      "conv4_block6_2_bn (BatchNormali (None, 8, 8, 256)    1024        conv4_block6_2_conv[0][0]        \n",
      "__________________________________________________________________________________________________\n",
      "conv4_block6_2_relu (Activation (None, 8, 8, 256)    0           conv4_block6_2_bn[0][0]          \n",
      "__________________________________________________________________________________________________\n",
      "conv4_block6_3_conv (Conv2D)    (None, 8, 8, 1024)   263168      conv4_block6_2_relu[0][0]        \n",
      "__________________________________________________________________________________________________\n",
      "conv4_block6_3_bn (BatchNormali (None, 8, 8, 1024)   4096        conv4_block6_3_conv[0][0]        \n",
      "__________________________________________________________________________________________________\n",
      "conv4_block6_add (Add)          (None, 8, 8, 1024)   0           conv4_block5_out[0][0]           \n",
      "                                                                 conv4_block6_3_bn[0][0]          \n",
      "__________________________________________________________________________________________________\n",
      "conv4_block6_out (Activation)   (None, 8, 8, 1024)   0           conv4_block6_add[0][0]           \n",
      "__________________________________________________________________________________________________\n",
      "conv5_block1_1_conv (Conv2D)    (None, 4, 4, 512)    524800      conv4_block6_out[0][0]           \n",
      "__________________________________________________________________________________________________\n",
      "conv5_block1_1_bn (BatchNormali (None, 4, 4, 512)    2048        conv5_block1_1_conv[0][0]        \n",
      "__________________________________________________________________________________________________\n",
      "conv5_block1_1_relu (Activation (None, 4, 4, 512)    0           conv5_block1_1_bn[0][0]          \n",
      "__________________________________________________________________________________________________\n",
      "conv5_block1_2_conv (Conv2D)    (None, 4, 4, 512)    2359808     conv5_block1_1_relu[0][0]        \n",
      "__________________________________________________________________________________________________\n",
      "conv5_block1_2_bn (BatchNormali (None, 4, 4, 512)    2048        conv5_block1_2_conv[0][0]        \n",
      "__________________________________________________________________________________________________\n",
      "conv5_block1_2_relu (Activation (None, 4, 4, 512)    0           conv5_block1_2_bn[0][0]          \n",
      "__________________________________________________________________________________________________\n",
      "conv5_block1_0_conv (Conv2D)    (None, 4, 4, 2048)   2099200     conv4_block6_out[0][0]           \n",
      "__________________________________________________________________________________________________\n",
      "conv5_block1_3_conv (Conv2D)    (None, 4, 4, 2048)   1050624     conv5_block1_2_relu[0][0]        \n",
      "__________________________________________________________________________________________________\n",
      "conv5_block1_0_bn (BatchNormali (None, 4, 4, 2048)   8192        conv5_block1_0_conv[0][0]        \n",
      "__________________________________________________________________________________________________\n",
      "conv5_block1_3_bn (BatchNormali (None, 4, 4, 2048)   8192        conv5_block1_3_conv[0][0]        \n",
      "__________________________________________________________________________________________________\n",
      "conv5_block1_add (Add)          (None, 4, 4, 2048)   0           conv5_block1_0_bn[0][0]          \n",
      "                                                                 conv5_block1_3_bn[0][0]          \n",
      "__________________________________________________________________________________________________\n",
      "conv5_block1_out (Activation)   (None, 4, 4, 2048)   0           conv5_block1_add[0][0]           \n",
      "__________________________________________________________________________________________________\n",
      "conv5_block2_1_conv (Conv2D)    (None, 4, 4, 512)    1049088     conv5_block1_out[0][0]           \n",
      "__________________________________________________________________________________________________\n",
      "conv5_block2_1_bn (BatchNormali (None, 4, 4, 512)    2048        conv5_block2_1_conv[0][0]        \n",
      "__________________________________________________________________________________________________\n",
      "conv5_block2_1_relu (Activation (None, 4, 4, 512)    0           conv5_block2_1_bn[0][0]          \n",
      "__________________________________________________________________________________________________\n",
      "conv5_block2_2_conv (Conv2D)    (None, 4, 4, 512)    2359808     conv5_block2_1_relu[0][0]        \n",
      "__________________________________________________________________________________________________\n",
      "conv5_block2_2_bn (BatchNormali (None, 4, 4, 512)    2048        conv5_block2_2_conv[0][0]        \n",
      "__________________________________________________________________________________________________\n",
      "conv5_block2_2_relu (Activation (None, 4, 4, 512)    0           conv5_block2_2_bn[0][0]          \n",
      "__________________________________________________________________________________________________\n",
      "conv5_block2_3_conv (Conv2D)    (None, 4, 4, 2048)   1050624     conv5_block2_2_relu[0][0]        \n",
      "__________________________________________________________________________________________________\n",
      "conv5_block2_3_bn (BatchNormali (None, 4, 4, 2048)   8192        conv5_block2_3_conv[0][0]        \n",
      "__________________________________________________________________________________________________\n",
      "conv5_block2_add (Add)          (None, 4, 4, 2048)   0           conv5_block1_out[0][0]           \n",
      "                                                                 conv5_block2_3_bn[0][0]          \n",
      "__________________________________________________________________________________________________\n",
      "conv5_block2_out (Activation)   (None, 4, 4, 2048)   0           conv5_block2_add[0][0]           \n",
      "__________________________________________________________________________________________________\n",
      "conv5_block3_1_conv (Conv2D)    (None, 4, 4, 512)    1049088     conv5_block2_out[0][0]           \n",
      "__________________________________________________________________________________________________\n",
      "conv5_block3_1_bn (BatchNormali (None, 4, 4, 512)    2048        conv5_block3_1_conv[0][0]        \n",
      "__________________________________________________________________________________________________\n",
      "conv5_block3_1_relu (Activation (None, 4, 4, 512)    0           conv5_block3_1_bn[0][0]          \n",
      "__________________________________________________________________________________________________\n",
      "conv5_block3_2_conv (Conv2D)    (None, 4, 4, 512)    2359808     conv5_block3_1_relu[0][0]        \n",
      "__________________________________________________________________________________________________\n",
      "conv5_block3_2_bn (BatchNormali (None, 4, 4, 512)    2048        conv5_block3_2_conv[0][0]        \n",
      "__________________________________________________________________________________________________\n",
      "conv5_block3_2_relu (Activation (None, 4, 4, 512)    0           conv5_block3_2_bn[0][0]          \n",
      "__________________________________________________________________________________________________\n",
      "conv5_block3_3_conv (Conv2D)    (None, 4, 4, 2048)   1050624     conv5_block3_2_relu[0][0]        \n",
      "__________________________________________________________________________________________________\n",
      "conv5_block3_3_bn (BatchNormali (None, 4, 4, 2048)   8192        conv5_block3_3_conv[0][0]        \n",
      "__________________________________________________________________________________________________\n",
      "conv5_block3_add (Add)          (None, 4, 4, 2048)   0           conv5_block2_out[0][0]           \n",
      "                                                                 conv5_block3_3_bn[0][0]          \n",
      "__________________________________________________________________________________________________\n",
      "conv5_block3_out (Activation)   (None, 4, 4, 2048)   0           conv5_block3_add[0][0]           \n",
      "__________________________________________________________________________________________________\n",
      "flatten (Flatten)               (None, 32768)        0           conv5_block3_out[0][0]           \n",
      "__________________________________________________________________________________________________\n",
      "dense (Dense)                   (None, 100)          3276900     flatten[0][0]                    \n",
      "__________________________________________________________________________________________________\n",
      "dense_1 (Dense)                 (None, 5)            505         dense[0][0]                      \n",
      "==================================================================================================\n",
      "Total params: 26,865,117\n",
      "Trainable params: 3,277,405\n",
      "Non-trainable params: 23,587,712\n",
      "__________________________________________________________________________________________________\n"
     ]
    }
   ],
   "source": [
    "model.summary()"
   ]
  },
  {
   "cell_type": "code",
   "execution_count": 15,
   "metadata": {
    "colab": {
     "base_uri": "https://localhost:8080/"
    },
    "executionInfo": {
     "elapsed": 162249,
     "status": "ok",
     "timestamp": 1611575589062,
     "user": {
      "displayName": "Samantha K.",
      "photoUrl": "https://lh3.googleusercontent.com/a-/AOh14GjqOn4Eq2aGKTpdlO0FSSiTvIIbKGBzhPNGPF1Ysg=s64",
      "userId": "17154081479065187787"
     },
     "user_tz": -420
    },
    "id": "nJGKobxWo8uv",
    "outputId": "d0f91601-4586-4e97-8da8-7bd2083e3d86"
   },
   "outputs": [
    {
     "name": "stdout",
     "output_type": "stream",
     "text": [
      "Epoch 1/200\n",
      "64/64 [==============================] - 18s 133ms/step - loss: 1.3618 - fbeta: 0.6349 - val_loss: 0.3073 - val_fbeta: 0.8025\n",
      "Epoch 2/200\n",
      "64/64 [==============================] - 7s 110ms/step - loss: 0.1054 - fbeta: 0.9263 - val_loss: 0.3399 - val_fbeta: 0.8060\n",
      "Epoch 3/200\n",
      "64/64 [==============================] - 7s 110ms/step - loss: 0.0450 - fbeta: 0.9710 - val_loss: 0.3181 - val_fbeta: 0.8384\n",
      "Epoch 4/200\n",
      "64/64 [==============================] - 7s 111ms/step - loss: 0.0180 - fbeta: 0.9904 - val_loss: 0.3551 - val_fbeta: 0.8304\n",
      "Epoch 5/200\n",
      "64/64 [==============================] - 7s 110ms/step - loss: 0.0115 - fbeta: 0.9943 - val_loss: 0.3605 - val_fbeta: 0.8119\n",
      "Epoch 6/200\n",
      "64/64 [==============================] - 7s 111ms/step - loss: 0.0059 - fbeta: 0.9973 - val_loss: 0.4110 - val_fbeta: 0.8167\n",
      "Epoch 7/200\n",
      "64/64 [==============================] - 7s 111ms/step - loss: 0.0058 - fbeta: 0.9982 - val_loss: 0.4210 - val_fbeta: 0.8030\n",
      "Epoch 8/200\n",
      "64/64 [==============================] - 7s 111ms/step - loss: 0.0070 - fbeta: 0.9972 - val_loss: 0.4105 - val_fbeta: 0.8129\n",
      "Epoch 9/200\n",
      "64/64 [==============================] - 7s 113ms/step - loss: 0.0031 - fbeta: 0.9996 - val_loss: 0.4178 - val_fbeta: 0.8136\n",
      "Epoch 10/200\n",
      "64/64 [==============================] - 7s 111ms/step - loss: 0.0012 - fbeta: 0.9995 - val_loss: 0.4380 - val_fbeta: 0.8075\n",
      "Epoch 11/200\n",
      "64/64 [==============================] - 7s 111ms/step - loss: 0.0012 - fbeta: 0.9992 - val_loss: 0.4421 - val_fbeta: 0.8075\n",
      "Epoch 12/200\n",
      "64/64 [==============================] - 7s 111ms/step - loss: 0.0011 - fbeta: 0.9995 - val_loss: 0.4489 - val_fbeta: 0.8094\n",
      "Epoch 13/200\n",
      "64/64 [==============================] - 7s 111ms/step - loss: 0.0015 - fbeta: 0.9996 - val_loss: 0.4561 - val_fbeta: 0.8072\n",
      "Epoch 14/200\n",
      "64/64 [==============================] - 7s 111ms/step - loss: 6.7655e-04 - fbeta: 0.9996 - val_loss: 0.4611 - val_fbeta: 0.8023\n",
      "Epoch 15/200\n",
      "64/64 [==============================] - 7s 111ms/step - loss: 9.6241e-04 - fbeta: 0.9995 - val_loss: 0.4707 - val_fbeta: 0.7961\n",
      "Epoch 16/200\n",
      "64/64 [==============================] - 7s 112ms/step - loss: 0.0011 - fbeta: 0.9999 - val_loss: 0.4566 - val_fbeta: 0.8068\n",
      "Epoch 17/200\n",
      "64/64 [==============================] - 7s 111ms/step - loss: 0.0018 - fbeta: 0.9996 - val_loss: 0.4620 - val_fbeta: 0.8075\n",
      "Epoch 18/200\n",
      "64/64 [==============================] - 7s 111ms/step - loss: 6.6753e-04 - fbeta: 0.9999 - val_loss: 0.4624 - val_fbeta: 0.8101\n",
      "Epoch 19/200\n",
      "64/64 [==============================] - 7s 112ms/step - loss: 4.9743e-04 - fbeta: 1.0000 - val_loss: 0.4680 - val_fbeta: 0.8061\n",
      "Epoch 20/200\n",
      "64/64 [==============================] - 7s 112ms/step - loss: 0.0011 - fbeta: 1.0000 - val_loss: 0.4719 - val_fbeta: 0.8046\n",
      "Epoch 21/200\n",
      "64/64 [==============================] - 7s 111ms/step - loss: 4.4178e-04 - fbeta: 1.0000 - val_loss: 0.4762 - val_fbeta: 0.8058\n",
      "Epoch 00021: early stopping\n"
     ]
    }
   ],
   "source": [
    "# create early stopping object\n",
    "es = EarlyStopping(monitor='val_loss', mode='min', verbose=1, patience=20)\n",
    "\n",
    "# fit model\n",
    "history = model.fit(train_iter, \n",
    "                    steps_per_epoch=len(train_iter),\n",
    "                    validation_data=val_iter,\n",
    "                    validation_steps=len(val_iter), \n",
    "                    callbacks=[es],\n",
    "                    epochs=200)"
   ]
  },
  {
   "cell_type": "code",
   "execution_count": 18,
   "metadata": {
    "executionInfo": {
     "elapsed": 1313,
     "status": "ok",
     "timestamp": 1611575688430,
     "user": {
      "displayName": "Samantha K.",
      "photoUrl": "https://lh3.googleusercontent.com/a-/AOh14GjqOn4Eq2aGKTpdlO0FSSiTvIIbKGBzhPNGPF1Ysg=s64",
      "userId": "17154081479065187787"
     },
     "user_tz": -420
    },
    "id": "sQNEF43drCyz"
   },
   "outputs": [],
   "source": [
    "# create function for plotting\n",
    "\n",
    "def evaluate_model(history):\n",
    "    # plot training and validation loss\n",
    "    fig = plt.figure(figsize=(15,5))\n",
    "    fig.add_subplot(121)\n",
    "    plt.plot(history.history['loss'], color='blue', label='train')\n",
    "    plt.plot(history.history['val_loss'], color='orange', label='val')\n",
    "    plt.legend()\n",
    "    plt.title('Loss')\n",
    "\n",
    "    # plot training and validation accuracy\n",
    "    fig.add_subplot(122)\n",
    "    plt.plot(history.history['fbeta'], color='blue', label='train')\n",
    "    plt.plot(history.history['val_fbeta'], color='orange', label='val')\n",
    "    plt.legend()\n",
    "    plt.title('F-beta score')\n",
    "    \n",
    "    plt.show()\n",
    "    \n",
    "    # print model accuracy\n",
    "    _, fbeta = model.evaluate(test_iter, steps=len(test_iter), verbose=0)\n",
    "    print('Model F-beta score : ', fbeta)\n",
    "    return fbeta"
   ]
  },
  {
   "cell_type": "code",
   "execution_count": 17,
   "metadata": {
    "colab": {
     "base_uri": "https://localhost:8080/",
     "height": 353
    },
    "executionInfo": {
     "elapsed": 163037,
     "status": "ok",
     "timestamp": 1611575598571,
     "user": {
      "displayName": "Samantha K.",
      "photoUrl": "https://lh3.googleusercontent.com/a-/AOh14GjqOn4Eq2aGKTpdlO0FSSiTvIIbKGBzhPNGPF1Ysg=s64",
      "userId": "17154081479065187787"
     },
     "user_tz": -420
    },
    "id": "MUSmt3KfrsZI",
    "outputId": "76858bb8-d0d7-4fb4-c95f-780d6f6c1b02"
   },
   "outputs": [
    {
     "data": {
      "image/png": "[encoded data removed]",
      "text/plain": [
       "<Figure size 1080x360 with 2 Axes>"
      ]
     },
     "metadata": {
      "needs_background": "light",
      "tags": []
     },
     "output_type": "display_data"
    },
    {
     "name": "stdout",
     "output_type": "stream",
     "text": [
      "Model F-beta score :  0.8290965557098389\n"
     ]
    }
   ],
   "source": [
    "baseline_perf = evaluate_model(history)"
   ]
  },
  {
   "cell_type": "markdown",
   "metadata": {
    "id": "cfjiGFryBexB"
   },
   "source": [
    "Note : overfitting"
   ]
  },
  {
   "cell_type": "markdown",
   "metadata": {
    "id": "ccaNy9GUBX8s"
   },
   "source": [
    "## Improved Models"
   ]
  },
  {
   "cell_type": "markdown",
   "metadata": {
    "id": "7zDu2tBTZZiW"
   },
   "source": [
    "### model 1 : set last block as trainable"
   ]
  },
  {
   "cell_type": "code",
   "execution_count": 19,
   "metadata": {
    "colab": {
     "base_uri": "https://localhost:8080/",
     "height": 1000
    },
    "executionInfo": {
     "elapsed": 183876,
     "status": "ok",
     "timestamp": 1611576108426,
     "user": {
      "displayName": "Samantha K.",
      "photoUrl": "https://lh3.googleusercontent.com/a-/AOh14GjqOn4Eq2aGKTpdlO0FSSiTvIIbKGBzhPNGPF1Ysg=s64",
      "userId": "17154081479065187787"
     },
     "user_tz": -420
    },
    "id": "HMfZZJ1pZkIa",
    "outputId": "10170fdb-180b-4dc4-aa7b-28f33a5059c7"
   },
   "outputs": [
    {
     "name": "stdout",
     "output_type": "stream",
     "text": [
      "Epoch 1/200\n",
      "64/64 [==============================] - 12s 131ms/step - loss: 0.9702 - fbeta: 0.6768 - val_loss: 0.3071 - val_fbeta: 0.8120\n",
      "Epoch 2/200\n",
      "64/64 [==============================] - 7s 114ms/step - loss: 0.0787 - fbeta: 0.9496 - val_loss: 0.3289 - val_fbeta: 0.8047\n",
      "Epoch 3/200\n",
      "64/64 [==============================] - 7s 114ms/step - loss: 0.0312 - fbeta: 0.9834 - val_loss: 0.2977 - val_fbeta: 0.8298\n",
      "Epoch 4/200\n",
      "64/64 [==============================] - 7s 114ms/step - loss: 0.0164 - fbeta: 0.9932 - val_loss: 0.3511 - val_fbeta: 0.8315\n",
      "Epoch 5/200\n",
      "64/64 [==============================] - 7s 113ms/step - loss: 0.0075 - fbeta: 0.9978 - val_loss: 0.3885 - val_fbeta: 0.8318\n",
      "Epoch 6/200\n",
      "64/64 [==============================] - 7s 113ms/step - loss: 0.0077 - fbeta: 0.9988 - val_loss: 0.3428 - val_fbeta: 0.8197\n",
      "Epoch 7/200\n",
      "64/64 [==============================] - 7s 114ms/step - loss: 0.0012 - fbeta: 0.9998 - val_loss: 0.3482 - val_fbeta: 0.8258\n",
      "Epoch 8/200\n",
      "64/64 [==============================] - 7s 114ms/step - loss: 0.0011 - fbeta: 0.9994 - val_loss: 0.3583 - val_fbeta: 0.8264\n",
      "Epoch 9/200\n",
      "64/64 [==============================] - 7s 114ms/step - loss: 5.1083e-04 - fbeta: 1.0000 - val_loss: 0.3667 - val_fbeta: 0.8264\n",
      "Epoch 10/200\n",
      "64/64 [==============================] - 7s 113ms/step - loss: 4.0402e-04 - fbeta: 1.0000 - val_loss: 0.3728 - val_fbeta: 0.8264\n",
      "Epoch 11/200\n",
      "64/64 [==============================] - 7s 113ms/step - loss: 3.1436e-04 - fbeta: 1.0000 - val_loss: 0.3783 - val_fbeta: 0.8251\n",
      "Epoch 12/200\n",
      "64/64 [==============================] - 7s 114ms/step - loss: 2.6798e-04 - fbeta: 1.0000 - val_loss: 0.3817 - val_fbeta: 0.8264\n",
      "Epoch 13/200\n",
      "64/64 [==============================] - 7s 114ms/step - loss: 2.3838e-04 - fbeta: 1.0000 - val_loss: 0.3848 - val_fbeta: 0.8233\n",
      "Epoch 14/200\n",
      "64/64 [==============================] - 7s 113ms/step - loss: 2.0875e-04 - fbeta: 1.0000 - val_loss: 0.3926 - val_fbeta: 0.8202\n",
      "Epoch 15/200\n",
      "64/64 [==============================] - 7s 113ms/step - loss: 1.6610e-04 - fbeta: 1.0000 - val_loss: 0.3979 - val_fbeta: 0.8188\n",
      "Epoch 16/200\n",
      "64/64 [==============================] - 7s 114ms/step - loss: 1.4452e-04 - fbeta: 1.0000 - val_loss: 0.4006 - val_fbeta: 0.8188\n",
      "Epoch 17/200\n",
      "64/64 [==============================] - 7s 113ms/step - loss: 1.4434e-04 - fbeta: 1.0000 - val_loss: 0.4049 - val_fbeta: 0.8205\n",
      "Epoch 18/200\n",
      "64/64 [==============================] - 7s 114ms/step - loss: 1.1557e-04 - fbeta: 1.0000 - val_loss: 0.4068 - val_fbeta: 0.8205\n",
      "Epoch 19/200\n",
      "64/64 [==============================] - 7s 113ms/step - loss: 1.1878e-04 - fbeta: 1.0000 - val_loss: 0.4104 - val_fbeta: 0.8205\n",
      "Epoch 20/200\n",
      "64/64 [==============================] - 7s 114ms/step - loss: 1.1320e-04 - fbeta: 1.0000 - val_loss: 0.4156 - val_fbeta: 0.8205\n",
      "Epoch 21/200\n",
      "64/64 [==============================] - 7s 113ms/step - loss: 9.3241e-05 - fbeta: 1.0000 - val_loss: 0.4175 - val_fbeta: 0.8205\n",
      "Epoch 22/200\n",
      "64/64 [==============================] - 7s 113ms/step - loss: 8.2451e-05 - fbeta: 1.0000 - val_loss: 0.4234 - val_fbeta: 0.8205\n",
      "Epoch 23/200\n",
      "64/64 [==============================] - 7s 114ms/step - loss: 7.4128e-05 - fbeta: 1.0000 - val_loss: 0.4228 - val_fbeta: 0.8205\n",
      "Epoch 00023: early stopping\n"
     ]
    },
    {
     "data": {
      "image/png": "[encoded data removed]",
      "text/plain": [
       "<Figure size 1080x360 with 2 Axes>"
      ]
     },
     "metadata": {
      "needs_background": "light",
      "tags": []
     },
     "output_type": "display_data"
    },
    {
     "name": "stdout",
     "output_type": "stream",
     "text": [
      "Model F-beta score :  0.8488188982009888\n"
     ]
    }
   ],
   "source": [
    "# create model\n",
    "\n",
    "# load ResNet50 model\n",
    "model = ResNet50(include_top=False, input_shape=(128,128,3))\n",
    "# mark loaded layers as not trainable\n",
    "for layer in model.layers:\n",
    "    layer.trainable = False\n",
    "# mark last block as trainable\n",
    "model.get_layer('conv5_block3_3_conv').trainable = True\n",
    "model.get_layer('conv5_block3_3_bn').trainable = True\n",
    "# add new classifier layers\n",
    "flat1 = Flatten()(model.layers[-1].output)\n",
    "class1 = Dense(100, activation='relu', kernel_initializer='he_uniform')(flat1)\n",
    "output = Dense(5, activation='sigmoid')(class1)\n",
    "# define model\n",
    "model = Model(inputs=model.inputs, outputs=output)\n",
    "\n",
    "# compile model\n",
    "model.compile(optimizer='adam', loss='binary_crossentropy', metrics=[fbeta])\n",
    "\n",
    "# create early stopping object\n",
    "es = EarlyStopping(monitor='val_loss', mode='min', verbose=1, patience=20)\n",
    "\n",
    "# fit model\n",
    "history = model.fit(train_iter, \n",
    "                    steps_per_epoch=len(train_iter),\n",
    "                    validation_data=val_iter,\n",
    "                    validation_steps=len(val_iter), \n",
    "                    callbacks=[es],\n",
    "                    epochs=200)\n",
    "\n",
    "model1_perf = evaluate_model(history)"
   ]
  },
  {
   "cell_type": "markdown",
   "metadata": {
    "id": "l9Bk3O59bepx"
   },
   "source": [
    "Note : overfitting, the performance is little higher than baseline model"
   ]
  },
  {
   "cell_type": "markdown",
   "metadata": {
    "id": "ybJFIEVmbiEM"
   },
   "source": [
    "### model 2 : Baseline + dropout layer"
   ]
  },
  {
   "cell_type": "code",
   "execution_count": 20,
   "metadata": {
    "colab": {
     "base_uri": "https://localhost:8080/",
     "height": 1000
    },
    "executionInfo": {
     "elapsed": 166117,
     "status": "ok",
     "timestamp": 1611576529796,
     "user": {
      "displayName": "Samantha K.",
      "photoUrl": "https://lh3.googleusercontent.com/a-/AOh14GjqOn4Eq2aGKTpdlO0FSSiTvIIbKGBzhPNGPF1Ysg=s64",
      "userId": "17154081479065187787"
     },
     "user_tz": -420
    },
    "id": "_hGHFAt9bfq6",
    "outputId": "f66ad309-e745-4a21-b0c4-115a0c7ed5cc"
   },
   "outputs": [
    {
     "name": "stdout",
     "output_type": "stream",
     "text": [
      "Epoch 1/200\n",
      "64/64 [==============================] - 12s 129ms/step - loss: 1.1926 - fbeta: 0.6493 - val_loss: 0.2516 - val_fbeta: 0.8140\n",
      "Epoch 2/200\n",
      "64/64 [==============================] - 7s 112ms/step - loss: 0.2233 - fbeta: 0.8800 - val_loss: 0.2931 - val_fbeta: 0.8285\n",
      "Epoch 3/200\n",
      "64/64 [==============================] - 7s 111ms/step - loss: 0.1474 - fbeta: 0.9117 - val_loss: 0.2816 - val_fbeta: 0.8040\n",
      "Epoch 4/200\n",
      "64/64 [==============================] - 7s 112ms/step - loss: 0.1109 - fbeta: 0.9167 - val_loss: 0.3658 - val_fbeta: 0.7908\n",
      "Epoch 5/200\n",
      "64/64 [==============================] - 7s 110ms/step - loss: 0.0921 - fbeta: 0.9430 - val_loss: 0.2900 - val_fbeta: 0.8166\n",
      "Epoch 6/200\n",
      "64/64 [==============================] - 7s 111ms/step - loss: 0.0716 - fbeta: 0.9542 - val_loss: 0.3045 - val_fbeta: 0.8028\n",
      "Epoch 7/200\n",
      "64/64 [==============================] - 7s 111ms/step - loss: 0.0732 - fbeta: 0.9541 - val_loss: 0.3357 - val_fbeta: 0.8097\n",
      "Epoch 8/200\n",
      "64/64 [==============================] - 7s 112ms/step - loss: 0.0695 - fbeta: 0.9488 - val_loss: 0.3464 - val_fbeta: 0.8100\n",
      "Epoch 9/200\n",
      "64/64 [==============================] - 7s 111ms/step - loss: 0.0643 - fbeta: 0.9596 - val_loss: 0.4096 - val_fbeta: 0.7807\n",
      "Epoch 10/200\n",
      "64/64 [==============================] - 7s 111ms/step - loss: 0.0572 - fbeta: 0.9630 - val_loss: 0.3716 - val_fbeta: 0.8157\n",
      "Epoch 11/200\n",
      "64/64 [==============================] - 7s 112ms/step - loss: 0.0474 - fbeta: 0.9699 - val_loss: 0.3807 - val_fbeta: 0.8230\n",
      "Epoch 12/200\n",
      "64/64 [==============================] - 7s 111ms/step - loss: 0.0495 - fbeta: 0.9691 - val_loss: 0.3791 - val_fbeta: 0.8095\n",
      "Epoch 13/200\n",
      "64/64 [==============================] - 7s 111ms/step - loss: 0.0588 - fbeta: 0.9717 - val_loss: 0.4200 - val_fbeta: 0.8175\n",
      "Epoch 14/200\n",
      "64/64 [==============================] - 7s 111ms/step - loss: 0.0441 - fbeta: 0.9716 - val_loss: 0.4206 - val_fbeta: 0.8025\n",
      "Epoch 15/200\n",
      "64/64 [==============================] - 7s 110ms/step - loss: 0.0452 - fbeta: 0.9726 - val_loss: 0.4191 - val_fbeta: 0.8277\n",
      "Epoch 16/200\n",
      "64/64 [==============================] - 7s 111ms/step - loss: 0.0458 - fbeta: 0.9729 - val_loss: 0.4186 - val_fbeta: 0.8265\n",
      "Epoch 17/200\n",
      "64/64 [==============================] - 7s 111ms/step - loss: 0.0484 - fbeta: 0.9778 - val_loss: 0.4291 - val_fbeta: 0.8308\n",
      "Epoch 18/200\n",
      "64/64 [==============================] - 7s 111ms/step - loss: 0.0452 - fbeta: 0.9732 - val_loss: 0.3843 - val_fbeta: 0.8232\n",
      "Epoch 19/200\n",
      "64/64 [==============================] - 7s 111ms/step - loss: 0.0328 - fbeta: 0.9815 - val_loss: 0.4366 - val_fbeta: 0.8024\n",
      "Epoch 20/200\n",
      "64/64 [==============================] - 7s 111ms/step - loss: 0.0414 - fbeta: 0.9725 - val_loss: 0.4536 - val_fbeta: 0.8087\n",
      "Epoch 21/200\n",
      "64/64 [==============================] - 7s 111ms/step - loss: 0.0393 - fbeta: 0.9774 - val_loss: 0.3768 - val_fbeta: 0.8286\n",
      "Epoch 00021: early stopping\n"
     ]
    },
    {
     "data": {
      "image/png": "[encoded data removed]",
      "text/plain": [
       "<Figure size 1080x360 with 2 Axes>"
      ]
     },
     "metadata": {
      "needs_background": "light",
      "tags": []
     },
     "output_type": "display_data"
    },
    {
     "name": "stdout",
     "output_type": "stream",
     "text": [
      "Model F-beta score :  0.853878378868103\n"
     ]
    }
   ],
   "source": [
    "# create image data generator\n",
    "train_gen = ImageDataGenerator(preprocessing_function=preprocess_input, validation_split=0.2)\n",
    "test_gen = ImageDataGenerator(preprocessing_function=preprocess_input)\n",
    "\n",
    "batch_size = 20\n",
    "train_iter = train_gen.flow(X_train, y_train, batch_size=batch_size, subset='training', seed=123)\n",
    "val_iter = train_gen.flow(X_train, y_train, batch_size=batch_size, subset='validation', seed=123)\n",
    "test_iter = test_gen.flow(X_test, y_test, batch_size=1, shuffle=False)\n",
    "\n",
    "# create model\n",
    "\n",
    "# load ResNet50 model\n",
    "model = ResNet50(include_top=False, input_shape=(128,128,3))\n",
    "# mark loaded layers as not trainable\n",
    "for layer in model.layers:\n",
    "    layer.trainable = False\n",
    "# add new classifier layers\n",
    "dropout1 = Dropout(0.2)(model.layers[-1].output)\n",
    "flat1 = Flatten()(dropout1)\n",
    "class1 = Dense(100, activation='relu', kernel_initializer='he_uniform')(flat1)\n",
    "dropout2 = Dropout(0.2)(class1)\n",
    "output = Dense(5, activation='sigmoid')(dropout2)\n",
    "\n",
    "# define model\n",
    "model = Model(inputs=model.inputs, outputs=output)\n",
    "\n",
    "# compile model\n",
    "model.compile(optimizer='adam', loss='binary_crossentropy', metrics=[fbeta])\n",
    "\n",
    "# create early stopping object\n",
    "es = EarlyStopping(monitor='val_loss', mode='min', verbose=1, patience=20)\n",
    "\n",
    "# fit model\n",
    "history = model.fit(train_iter, \n",
    "                    steps_per_epoch=len(train_iter),\n",
    "                    validation_data=val_iter,\n",
    "                    validation_steps=len(val_iter), \n",
    "                    callbacks=[es],\n",
    "                    epochs=200)\n",
    "\n",
    "model2_perf = evaluate_model(history)"
   ]
  },
  {
   "cell_type": "markdown",
   "metadata": {
    "id": "pbDQ3DKrb9H4"
   },
   "source": [
    "Note : over fitting still occurs, the performance is higher than baseline model"
   ]
  },
  {
   "cell_type": "markdown",
   "metadata": {
    "id": "vI0CwgAvb-eH"
   },
   "source": [
    "### model 3 : Baseline model + data augmentation"
   ]
  },
  {
   "cell_type": "code",
   "execution_count": 21,
   "metadata": {
    "colab": {
     "base_uri": "https://localhost:8080/",
     "height": 1000
    },
    "executionInfo": {
     "elapsed": 322668,
     "status": "ok",
     "timestamp": 1611576852471,
     "user": {
      "displayName": "Samantha K.",
      "photoUrl": "https://lh3.googleusercontent.com/a-/AOh14GjqOn4Eq2aGKTpdlO0FSSiTvIIbKGBzhPNGPF1Ysg=s64",
      "userId": "17154081479065187787"
     },
     "user_tz": -420
    },
    "id": "1WniKqb9cDcQ",
    "outputId": "d98e5b37-7e00-4f2c-d9b9-0d0a8ce4517a"
   },
   "outputs": [
    {
     "name": "stdout",
     "output_type": "stream",
     "text": [
      "Epoch 1/200\n",
      "64/64 [==============================] - 13s 153ms/step - loss: 1.7947 - fbeta: 0.5383 - val_loss: 0.3764 - val_fbeta: 0.6722\n",
      "Epoch 2/200\n",
      "64/64 [==============================] - 9s 136ms/step - loss: 0.3628 - fbeta: 0.6938 - val_loss: 0.3416 - val_fbeta: 0.7151\n",
      "Epoch 3/200\n",
      "64/64 [==============================] - 9s 136ms/step - loss: 0.3210 - fbeta: 0.7427 - val_loss: 0.2999 - val_fbeta: 0.7425\n",
      "Epoch 4/200\n",
      "64/64 [==============================] - 9s 135ms/step - loss: 0.2464 - fbeta: 0.7916 - val_loss: 0.3513 - val_fbeta: 0.6981\n",
      "Epoch 5/200\n",
      "64/64 [==============================] - 9s 135ms/step - loss: 0.2344 - fbeta: 0.8040 - val_loss: 0.3271 - val_fbeta: 0.7291\n",
      "Epoch 6/200\n",
      "64/64 [==============================] - 9s 135ms/step - loss: 0.2090 - fbeta: 0.8240 - val_loss: 0.3425 - val_fbeta: 0.7260\n",
      "Epoch 7/200\n",
      "64/64 [==============================] - 9s 135ms/step - loss: 0.2214 - fbeta: 0.8216 - val_loss: 0.2963 - val_fbeta: 0.7636\n",
      "Epoch 8/200\n",
      "64/64 [==============================] - 9s 135ms/step - loss: 0.1923 - fbeta: 0.8393 - val_loss: 0.2959 - val_fbeta: 0.7714\n",
      "Epoch 9/200\n",
      "64/64 [==============================] - 9s 136ms/step - loss: 0.1827 - fbeta: 0.8522 - val_loss: 0.3276 - val_fbeta: 0.7683\n",
      "Epoch 10/200\n",
      "64/64 [==============================] - 9s 137ms/step - loss: 0.1850 - fbeta: 0.8470 - val_loss: 0.3228 - val_fbeta: 0.7340\n",
      "Epoch 11/200\n",
      "64/64 [==============================] - 9s 136ms/step - loss: 0.1675 - fbeta: 0.8678 - val_loss: 0.2916 - val_fbeta: 0.7514\n",
      "Epoch 12/200\n",
      "64/64 [==============================] - 9s 137ms/step - loss: 0.1600 - fbeta: 0.8716 - val_loss: 0.2720 - val_fbeta: 0.7707\n",
      "Epoch 13/200\n",
      "64/64 [==============================] - 9s 137ms/step - loss: 0.1529 - fbeta: 0.8640 - val_loss: 0.3272 - val_fbeta: 0.7820\n",
      "Epoch 14/200\n",
      "64/64 [==============================] - 9s 136ms/step - loss: 0.1615 - fbeta: 0.8651 - val_loss: 0.2681 - val_fbeta: 0.8029\n",
      "Epoch 15/200\n",
      "64/64 [==============================] - 9s 135ms/step - loss: 0.1521 - fbeta: 0.8628 - val_loss: 0.2579 - val_fbeta: 0.8161\n",
      "Epoch 16/200\n",
      "64/64 [==============================] - 9s 140ms/step - loss: 0.1364 - fbeta: 0.8842 - val_loss: 0.2748 - val_fbeta: 0.7991\n",
      "Epoch 17/200\n",
      "64/64 [==============================] - 9s 136ms/step - loss: 0.1461 - fbeta: 0.8809 - val_loss: 0.2882 - val_fbeta: 0.7754\n",
      "Epoch 18/200\n",
      "64/64 [==============================] - 9s 136ms/step - loss: 0.1219 - fbeta: 0.8961 - val_loss: 0.3093 - val_fbeta: 0.7910\n",
      "Epoch 19/200\n",
      "64/64 [==============================] - 9s 135ms/step - loss: 0.1446 - fbeta: 0.8829 - val_loss: 0.3096 - val_fbeta: 0.8015\n",
      "Epoch 20/200\n",
      "64/64 [==============================] - 9s 135ms/step - loss: 0.1371 - fbeta: 0.8871 - val_loss: 0.2859 - val_fbeta: 0.8003\n",
      "Epoch 21/200\n",
      "64/64 [==============================] - 9s 136ms/step - loss: 0.1333 - fbeta: 0.8968 - val_loss: 0.2998 - val_fbeta: 0.7893\n",
      "Epoch 22/200\n",
      "64/64 [==============================] - 9s 137ms/step - loss: 0.1305 - fbeta: 0.8989 - val_loss: 0.2822 - val_fbeta: 0.7930\n",
      "Epoch 23/200\n",
      "64/64 [==============================] - 9s 137ms/step - loss: 0.1187 - fbeta: 0.9002 - val_loss: 0.2778 - val_fbeta: 0.8126\n",
      "Epoch 24/200\n",
      "64/64 [==============================] - 9s 139ms/step - loss: 0.1163 - fbeta: 0.9066 - val_loss: 0.2837 - val_fbeta: 0.8002\n",
      "Epoch 25/200\n",
      "64/64 [==============================] - 9s 137ms/step - loss: 0.1278 - fbeta: 0.8943 - val_loss: 0.3135 - val_fbeta: 0.7747\n",
      "Epoch 26/200\n",
      "64/64 [==============================] - 9s 136ms/step - loss: 0.1296 - fbeta: 0.9001 - val_loss: 0.2807 - val_fbeta: 0.8081\n",
      "Epoch 27/200\n",
      "64/64 [==============================] - 9s 136ms/step - loss: 0.1256 - fbeta: 0.8914 - val_loss: 0.3043 - val_fbeta: 0.7945\n",
      "Epoch 28/200\n",
      "64/64 [==============================] - 9s 136ms/step - loss: 0.1203 - fbeta: 0.8959 - val_loss: 0.2659 - val_fbeta: 0.8105\n",
      "Epoch 29/200\n",
      "64/64 [==============================] - 9s 134ms/step - loss: 0.1194 - fbeta: 0.9022 - val_loss: 0.2997 - val_fbeta: 0.7768\n",
      "Epoch 30/200\n",
      "64/64 [==============================] - 9s 134ms/step - loss: 0.0988 - fbeta: 0.9181 - val_loss: 0.2892 - val_fbeta: 0.7707\n",
      "Epoch 31/200\n",
      "64/64 [==============================] - 9s 135ms/step - loss: 0.1068 - fbeta: 0.9188 - val_loss: 0.3065 - val_fbeta: 0.7730\n",
      "Epoch 32/200\n",
      "64/64 [==============================] - 9s 133ms/step - loss: 0.0985 - fbeta: 0.9181 - val_loss: 0.2838 - val_fbeta: 0.8023\n",
      "Epoch 33/200\n",
      "64/64 [==============================] - 9s 136ms/step - loss: 0.0956 - fbeta: 0.9234 - val_loss: 0.3222 - val_fbeta: 0.7831\n",
      "Epoch 34/200\n",
      "64/64 [==============================] - 9s 135ms/step - loss: 0.1044 - fbeta: 0.9110 - val_loss: 0.2852 - val_fbeta: 0.8073\n",
      "Epoch 35/200\n",
      "64/64 [==============================] - 9s 134ms/step - loss: 0.0969 - fbeta: 0.9327 - val_loss: 0.3299 - val_fbeta: 0.7811\n",
      "Epoch 00035: early stopping\n"
     ]
    },
    {
     "data": {
      "image/png": "[encoded data removed]",
      "text/plain": [
       "<Figure size 1080x360 with 2 Axes>"
      ]
     },
     "metadata": {
      "needs_background": "light",
      "tags": []
     },
     "output_type": "display_data"
    },
    {
     "name": "stdout",
     "output_type": "stream",
     "text": [
      "Model F-beta score :  0.8561891317367554\n"
     ]
    }
   ],
   "source": [
    "# create data generator with data augmentation\n",
    "train_gen = ImageDataGenerator(preprocessing_function=preprocess_input,\n",
    "                               rotation_range=30,\n",
    "                               width_shift_range=0.2,\n",
    "                               height_shift_range=0.2,\n",
    "                               zoom_range=0.2,\n",
    "                               horizontal_flip=True,\n",
    "                               vertical_flip=True,\n",
    "                               validation_split=0.2)\n",
    "test_gen = ImageDataGenerator(preprocessing_function=preprocess_input)\n",
    "\n",
    "batch_size = 20\n",
    "train_iter = train_gen.flow(X_train, y_train, batch_size=batch_size, subset='training', seed=123)\n",
    "val_iter = train_gen.flow(X_train, y_train, batch_size=batch_size, subset='validation', seed=123)\n",
    "test_iter = test_gen.flow(X_test, y_test, batch_size=1, shuffle=False)\n",
    "\n",
    "# create model\n",
    "\n",
    "# load ResNet50 model\n",
    "model = ResNet50(include_top=False, input_shape=(128,128,3))\n",
    "# mark loaded layers as not trainable\n",
    "for layer in model.layers:\n",
    "    layer.trainable = False\n",
    "# add new classifier layers\n",
    "flat1 = Flatten()(model.layers[-1].output)\n",
    "class1 = Dense(100, activation='relu', kernel_initializer='he_uniform')(flat1)\n",
    "output = Dense(5, activation='sigmoid')(class1)\n",
    "# define model\n",
    "model = Model(inputs=model.inputs, outputs=output)\n",
    "\n",
    "# compile model\n",
    "model.compile(optimizer='adam', loss='binary_crossentropy', metrics=[fbeta])\n",
    "\n",
    "# create early stopping object\n",
    "es = EarlyStopping(monitor='val_loss', mode='min', verbose=1, patience=20)\n",
    "\n",
    "# fit model\n",
    "history = model.fit(train_iter, \n",
    "                    steps_per_epoch=len(train_iter),\n",
    "                    validation_data=val_iter,\n",
    "                    validation_steps=len(val_iter), \n",
    "                    callbacks=[es],\n",
    "                    epochs=200)\n",
    "\n",
    "model3_perf = evaluate_model(history)"
   ]
  },
  {
   "cell_type": "markdown",
   "metadata": {
    "id": "dlO5XOv9cYSG"
   },
   "source": [
    "Note : "
   ]
  },
  {
   "cell_type": "markdown",
   "metadata": {
    "id": "ANhpf0XhcZKm"
   },
   "source": [
    "### model 4 : Baseline model + data augmentation + dropout layers"
   ]
  },
  {
   "cell_type": "code",
   "execution_count": 22,
   "metadata": {
    "colab": {
     "base_uri": "https://localhost:8080/",
     "height": 1000
    },
    "executionInfo": {
     "elapsed": 333999,
     "status": "ok",
     "timestamp": 1611577186488,
     "user": {
      "displayName": "Samantha K.",
      "photoUrl": "https://lh3.googleusercontent.com/a-/AOh14GjqOn4Eq2aGKTpdlO0FSSiTvIIbKGBzhPNGPF1Ysg=s64",
      "userId": "17154081479065187787"
     },
     "user_tz": -420
    },
    "id": "_FHKWc1vciMc",
    "outputId": "6a25530e-6000-47c1-be2c-fc45124e9bae"
   },
   "outputs": [
    {
     "name": "stdout",
     "output_type": "stream",
     "text": [
      "Epoch 1/200\n",
      "64/64 [==============================] - 13s 157ms/step - loss: 1.2887 - fbeta: 0.4284 - val_loss: 0.4057 - val_fbeta: 0.6408\n",
      "Epoch 2/200\n",
      "64/64 [==============================] - 9s 134ms/step - loss: 0.4226 - fbeta: 0.6065 - val_loss: 0.3598 - val_fbeta: 0.6803\n",
      "Epoch 3/200\n",
      "64/64 [==============================] - 9s 134ms/step - loss: 0.3822 - fbeta: 0.6514 - val_loss: 0.3204 - val_fbeta: 0.6839\n",
      "Epoch 4/200\n",
      "64/64 [==============================] - 9s 136ms/step - loss: 0.3431 - fbeta: 0.6510 - val_loss: 0.3129 - val_fbeta: 0.7131\n",
      "Epoch 5/200\n",
      "64/64 [==============================] - 9s 136ms/step - loss: 0.3020 - fbeta: 0.7041 - val_loss: 0.3418 - val_fbeta: 0.7018\n",
      "Epoch 6/200\n",
      "64/64 [==============================] - 9s 133ms/step - loss: 0.3278 - fbeta: 0.6674 - val_loss: 0.2978 - val_fbeta: 0.7338\n",
      "Epoch 7/200\n",
      "64/64 [==============================] - 9s 135ms/step - loss: 0.3058 - fbeta: 0.7110 - val_loss: 0.2972 - val_fbeta: 0.7515\n",
      "Epoch 8/200\n",
      "64/64 [==============================] - 9s 135ms/step - loss: 0.2672 - fbeta: 0.7271 - val_loss: 0.2941 - val_fbeta: 0.7275\n",
      "Epoch 9/200\n",
      "64/64 [==============================] - 9s 135ms/step - loss: 0.2905 - fbeta: 0.7161 - val_loss: 0.2609 - val_fbeta: 0.7480\n",
      "Epoch 10/200\n",
      "64/64 [==============================] - 9s 135ms/step - loss: 0.2754 - fbeta: 0.7166 - val_loss: 0.2998 - val_fbeta: 0.7414\n",
      "Epoch 11/200\n",
      "64/64 [==============================] - 9s 134ms/step - loss: 0.2460 - fbeta: 0.7673 - val_loss: 0.2611 - val_fbeta: 0.7593\n",
      "Epoch 12/200\n",
      "64/64 [==============================] - 9s 132ms/step - loss: 0.2547 - fbeta: 0.7448 - val_loss: 0.2716 - val_fbeta: 0.7569\n",
      "Epoch 13/200\n",
      "64/64 [==============================] - 9s 132ms/step - loss: 0.2386 - fbeta: 0.7724 - val_loss: 0.2918 - val_fbeta: 0.7494\n",
      "Epoch 14/200\n",
      "64/64 [==============================] - 8s 130ms/step - loss: 0.2272 - fbeta: 0.7854 - val_loss: 0.2904 - val_fbeta: 0.7543\n",
      "Epoch 15/200\n",
      "64/64 [==============================] - 8s 130ms/step - loss: 0.2274 - fbeta: 0.7661 - val_loss: 0.2495 - val_fbeta: 0.8019\n",
      "Epoch 16/200\n",
      "64/64 [==============================] - 8s 132ms/step - loss: 0.2201 - fbeta: 0.7871 - val_loss: 0.2744 - val_fbeta: 0.7848\n",
      "Epoch 17/200\n",
      "64/64 [==============================] - 8s 129ms/step - loss: 0.2169 - fbeta: 0.7812 - val_loss: 0.2372 - val_fbeta: 0.7973\n",
      "Epoch 18/200\n",
      "64/64 [==============================] - 8s 130ms/step - loss: 0.2110 - fbeta: 0.7977 - val_loss: 0.2811 - val_fbeta: 0.7793\n",
      "Epoch 19/200\n",
      "64/64 [==============================] - 8s 131ms/step - loss: 0.1977 - fbeta: 0.7977 - val_loss: 0.2569 - val_fbeta: 0.7865\n",
      "Epoch 20/200\n",
      "64/64 [==============================] - 8s 132ms/step - loss: 0.2212 - fbeta: 0.8066 - val_loss: 0.2925 - val_fbeta: 0.7454\n",
      "Epoch 21/200\n",
      "64/64 [==============================] - 8s 132ms/step - loss: 0.2165 - fbeta: 0.7907 - val_loss: 0.2529 - val_fbeta: 0.7689\n",
      "Epoch 22/200\n",
      "64/64 [==============================] - 8s 132ms/step - loss: 0.1917 - fbeta: 0.8243 - val_loss: 0.2931 - val_fbeta: 0.7489\n",
      "Epoch 23/200\n",
      "64/64 [==============================] - 9s 135ms/step - loss: 0.2023 - fbeta: 0.7945 - val_loss: 0.2564 - val_fbeta: 0.7900\n",
      "Epoch 24/200\n",
      "64/64 [==============================] - 9s 134ms/step - loss: 0.2013 - fbeta: 0.8192 - val_loss: 0.2589 - val_fbeta: 0.7973\n",
      "Epoch 25/200\n",
      "64/64 [==============================] - 9s 133ms/step - loss: 0.1983 - fbeta: 0.7944 - val_loss: 0.2594 - val_fbeta: 0.7444\n",
      "Epoch 26/200\n",
      "64/64 [==============================] - 9s 134ms/step - loss: 0.2020 - fbeta: 0.8052 - val_loss: 0.2919 - val_fbeta: 0.7633\n",
      "Epoch 27/200\n",
      "64/64 [==============================] - 9s 135ms/step - loss: 0.1972 - fbeta: 0.8041 - val_loss: 0.2710 - val_fbeta: 0.7728\n",
      "Epoch 28/200\n",
      "64/64 [==============================] - 9s 135ms/step - loss: 0.1956 - fbeta: 0.7926 - val_loss: 0.2521 - val_fbeta: 0.7748\n",
      "Epoch 29/200\n",
      "64/64 [==============================] - 9s 133ms/step - loss: 0.1858 - fbeta: 0.8190 - val_loss: 0.2767 - val_fbeta: 0.7844\n",
      "Epoch 30/200\n",
      "64/64 [==============================] - 9s 135ms/step - loss: 0.1901 - fbeta: 0.8148 - val_loss: 0.2576 - val_fbeta: 0.7725\n",
      "Epoch 31/200\n",
      "64/64 [==============================] - 9s 137ms/step - loss: 0.1832 - fbeta: 0.8167 - val_loss: 0.2863 - val_fbeta: 0.7411\n",
      "Epoch 32/200\n",
      "64/64 [==============================] - 9s 135ms/step - loss: 0.1965 - fbeta: 0.8028 - val_loss: 0.2724 - val_fbeta: 0.7781\n",
      "Epoch 33/200\n",
      "64/64 [==============================] - 9s 135ms/step - loss: 0.1963 - fbeta: 0.7979 - val_loss: 0.2515 - val_fbeta: 0.7550\n",
      "Epoch 34/200\n",
      "64/64 [==============================] - 8s 131ms/step - loss: 0.1712 - fbeta: 0.8332 - val_loss: 0.2509 - val_fbeta: 0.7826\n",
      "Epoch 35/200\n",
      "64/64 [==============================] - 9s 134ms/step - loss: 0.1939 - fbeta: 0.8090 - val_loss: 0.2607 - val_fbeta: 0.7852\n",
      "Epoch 36/200\n",
      "64/64 [==============================] - 9s 133ms/step - loss: 0.1920 - fbeta: 0.7974 - val_loss: 0.2585 - val_fbeta: 0.7526\n",
      "Epoch 37/200\n",
      "64/64 [==============================] - 8s 131ms/step - loss: 0.1684 - fbeta: 0.8364 - val_loss: 0.2620 - val_fbeta: 0.7829\n",
      "Epoch 00037: early stopping\n"
     ]
    },
    {
     "data": {
      "image/png": "[encoded data removed]",
      "text/plain": [
       "<Figure size 1080x360 with 2 Axes>"
      ]
     },
     "metadata": {
      "needs_background": "light",
      "tags": []
     },
     "output_type": "display_data"
    },
    {
     "name": "stdout",
     "output_type": "stream",
     "text": [
      "Model F-beta score :  0.8352077603340149\n"
     ]
    }
   ],
   "source": [
    "# create data generator with data augmentation\n",
    "train_gen = ImageDataGenerator(preprocessing_function=preprocess_input,\n",
    "                               rotation_range=30,\n",
    "                               width_shift_range=0.2,\n",
    "                               height_shift_range=0.2,\n",
    "                               zoom_range=0.2,\n",
    "                               horizontal_flip=True,\n",
    "                               vertical_flip=True,\n",
    "                               validation_split=0.2)\n",
    "test_gen = ImageDataGenerator(preprocessing_function=preprocess_input)\n",
    "\n",
    "batch_size = 20\n",
    "train_iter = train_gen.flow(X_train, y_train, batch_size=batch_size, subset='training', seed=123)\n",
    "val_iter = train_gen.flow(X_train, y_train, batch_size=batch_size, subset='validation', seed=123)\n",
    "test_iter = test_gen.flow(X_test, y_test, batch_size=1, shuffle=False)\n",
    "\n",
    "# create model\n",
    "\n",
    "# load ResNet50 model\n",
    "model = ResNet50(include_top=False, input_shape=(128,128,3))\n",
    "# mark loaded layers as not trainable\n",
    "for layer in model.layers:\n",
    "    layer.trainable = False\n",
    "# add new classifier layers\n",
    "dropout1 = Dropout(0.2)(model.layers[-1].output)\n",
    "flat1 = Flatten()(dropout1)\n",
    "class1 = Dense(100, activation='relu', kernel_initializer='he_uniform')(flat1)\n",
    "dropout2 = Dropout(0.2)(class1)\n",
    "output = Dense(5, activation='sigmoid')(dropout2)\n",
    "# define model\n",
    "model = Model(inputs=model.inputs, outputs=output)\n",
    "\n",
    "# compile model\n",
    "model.compile(optimizer='adam', loss='binary_crossentropy', metrics=[fbeta])\n",
    "\n",
    "# create early stopping object\n",
    "es = EarlyStopping(monitor='val_loss', mode='min', verbose=1, patience=20)\n",
    "\n",
    "# fit model\n",
    "history = model.fit(train_iter, \n",
    "                    steps_per_epoch=len(train_iter),\n",
    "                    validation_data=val_iter,\n",
    "                    validation_steps=len(val_iter), \n",
    "                    callbacks=[es],\n",
    "                    epochs=200)\n",
    "\n",
    "model4_perf = evaluate_model(history)"
   ]
  },
  {
   "cell_type": "markdown",
   "metadata": {
    "id": "Zion_CBmcpJ0"
   },
   "source": [
    "Note : overfitting is reduced"
   ]
  },
  {
   "cell_type": "markdown",
   "metadata": {
    "id": "nqztKidAfjvQ"
   },
   "source": [
    "### model 5 : set last block trainable + data augmentation + dropout layer"
   ]
  },
  {
   "cell_type": "code",
   "execution_count": 23,
   "metadata": {
    "colab": {
     "base_uri": "https://localhost:8080/",
     "height": 1000
    },
    "executionInfo": {
     "elapsed": 288220,
     "status": "ok",
     "timestamp": 1611577662144,
     "user": {
      "displayName": "Samantha K.",
      "photoUrl": "https://lh3.googleusercontent.com/a-/AOh14GjqOn4Eq2aGKTpdlO0FSSiTvIIbKGBzhPNGPF1Ysg=s64",
      "userId": "17154081479065187787"
     },
     "user_tz": -420
    },
    "id": "uK1p-JnifsXu",
    "outputId": "6d2dd1fd-c035-4b94-a558-67ac353e0fff"
   },
   "outputs": [
    {
     "name": "stdout",
     "output_type": "stream",
     "text": [
      "Epoch 1/200\n",
      "64/64 [==============================] - 14s 159ms/step - loss: 1.0794 - fbeta: 0.5444 - val_loss: 0.3679 - val_fbeta: 0.6874\n",
      "Epoch 2/200\n",
      "64/64 [==============================] - 9s 140ms/step - loss: 0.3279 - fbeta: 0.6903 - val_loss: 0.3161 - val_fbeta: 0.7010\n",
      "Epoch 3/200\n",
      "64/64 [==============================] - 9s 140ms/step - loss: 0.2949 - fbeta: 0.7094 - val_loss: 0.3023 - val_fbeta: 0.7319\n",
      "Epoch 4/200\n",
      "64/64 [==============================] - 9s 136ms/step - loss: 0.2338 - fbeta: 0.7958 - val_loss: 0.3114 - val_fbeta: 0.7062\n",
      "Epoch 5/200\n",
      "64/64 [==============================] - 9s 135ms/step - loss: 0.2449 - fbeta: 0.7970 - val_loss: 0.2707 - val_fbeta: 0.7350\n",
      "Epoch 6/200\n",
      "64/64 [==============================] - 9s 135ms/step - loss: 0.2106 - fbeta: 0.8224 - val_loss: 0.3004 - val_fbeta: 0.7403\n",
      "Epoch 7/200\n",
      "64/64 [==============================] - 9s 135ms/step - loss: 0.2019 - fbeta: 0.8248 - val_loss: 0.2953 - val_fbeta: 0.7456\n",
      "Epoch 8/200\n",
      "64/64 [==============================] - 9s 133ms/step - loss: 0.1903 - fbeta: 0.8457 - val_loss: 0.2881 - val_fbeta: 0.7496\n",
      "Epoch 9/200\n",
      "64/64 [==============================] - 9s 135ms/step - loss: 0.2030 - fbeta: 0.8384 - val_loss: 0.2800 - val_fbeta: 0.8044\n",
      "Epoch 10/200\n",
      "64/64 [==============================] - 9s 138ms/step - loss: 0.1748 - fbeta: 0.8453 - val_loss: 0.2914 - val_fbeta: 0.7709\n",
      "Epoch 11/200\n",
      "64/64 [==============================] - 9s 135ms/step - loss: 0.1669 - fbeta: 0.8729 - val_loss: 0.2440 - val_fbeta: 0.7870\n",
      "Epoch 12/200\n",
      "64/64 [==============================] - 9s 135ms/step - loss: 0.1714 - fbeta: 0.8498 - val_loss: 0.3136 - val_fbeta: 0.7822\n",
      "Epoch 13/200\n",
      "64/64 [==============================] - 9s 136ms/step - loss: 0.1699 - fbeta: 0.8597 - val_loss: 0.2648 - val_fbeta: 0.8008\n",
      "Epoch 14/200\n",
      "64/64 [==============================] - 9s 135ms/step - loss: 0.1639 - fbeta: 0.8591 - val_loss: 0.2577 - val_fbeta: 0.7827\n",
      "Epoch 15/200\n",
      "64/64 [==============================] - 9s 133ms/step - loss: 0.1760 - fbeta: 0.8582 - val_loss: 0.2931 - val_fbeta: 0.7884\n",
      "Epoch 16/200\n",
      "64/64 [==============================] - 9s 133ms/step - loss: 0.1639 - fbeta: 0.8583 - val_loss: 0.2533 - val_fbeta: 0.8014\n",
      "Epoch 17/200\n",
      "64/64 [==============================] - 9s 135ms/step - loss: 0.1465 - fbeta: 0.8860 - val_loss: 0.2665 - val_fbeta: 0.8060\n",
      "Epoch 18/200\n",
      "64/64 [==============================] - 9s 136ms/step - loss: 0.1256 - fbeta: 0.9047 - val_loss: 0.2841 - val_fbeta: 0.7972\n",
      "Epoch 19/200\n",
      "64/64 [==============================] - 9s 136ms/step - loss: 0.1319 - fbeta: 0.9067 - val_loss: 0.2892 - val_fbeta: 0.7831\n",
      "Epoch 20/200\n",
      "64/64 [==============================] - 9s 136ms/step - loss: 0.1399 - fbeta: 0.8853 - val_loss: 0.2805 - val_fbeta: 0.7836\n",
      "Epoch 21/200\n",
      "64/64 [==============================] - 9s 135ms/step - loss: 0.1245 - fbeta: 0.9017 - val_loss: 0.2919 - val_fbeta: 0.7899\n",
      "Epoch 22/200\n",
      "64/64 [==============================] - 9s 133ms/step - loss: 0.1350 - fbeta: 0.8987 - val_loss: 0.2956 - val_fbeta: 0.7880\n",
      "Epoch 23/200\n",
      "64/64 [==============================] - 9s 136ms/step - loss: 0.1265 - fbeta: 0.9065 - val_loss: 0.2860 - val_fbeta: 0.8083\n",
      "Epoch 24/200\n",
      "64/64 [==============================] - 9s 137ms/step - loss: 0.1187 - fbeta: 0.9041 - val_loss: 0.3004 - val_fbeta: 0.8159\n",
      "Epoch 25/200\n",
      "64/64 [==============================] - 9s 135ms/step - loss: 0.1167 - fbeta: 0.9118 - val_loss: 0.3132 - val_fbeta: 0.7808\n",
      "Epoch 26/200\n",
      "64/64 [==============================] - 9s 136ms/step - loss: 0.1139 - fbeta: 0.9149 - val_loss: 0.3027 - val_fbeta: 0.7781\n",
      "Epoch 27/200\n",
      "64/64 [==============================] - 9s 134ms/step - loss: 0.1206 - fbeta: 0.9181 - val_loss: 0.2756 - val_fbeta: 0.8236\n",
      "Epoch 28/200\n",
      "64/64 [==============================] - 9s 139ms/step - loss: 0.0990 - fbeta: 0.9260 - val_loss: 0.3067 - val_fbeta: 0.8188\n",
      "Epoch 29/200\n",
      "64/64 [==============================] - 9s 136ms/step - loss: 0.1228 - fbeta: 0.8992 - val_loss: 0.2716 - val_fbeta: 0.8004\n",
      "Epoch 30/200\n",
      "64/64 [==============================] - 9s 137ms/step - loss: 0.1118 - fbeta: 0.9192 - val_loss: 0.3290 - val_fbeta: 0.7709\n",
      "Epoch 31/200\n",
      "64/64 [==============================] - 9s 135ms/step - loss: 0.1113 - fbeta: 0.9152 - val_loss: 0.3197 - val_fbeta: 0.8117\n",
      "Epoch 00031: early stopping\n"
     ]
    },
    {
     "data": {
      "image/png": "[encoded data removed]",
      "text/plain": [
       "<Figure size 1080x360 with 2 Axes>"
      ]
     },
     "metadata": {
      "needs_background": "light",
      "tags": []
     },
     "output_type": "display_data"
    },
    {
     "name": "stdout",
     "output_type": "stream",
     "text": [
      "Model F-beta score :  0.8534020185470581\n"
     ]
    }
   ],
   "source": [
    "# create data generator with data augmentation\n",
    "train_gen = ImageDataGenerator(preprocessing_function=preprocess_input,\n",
    "                               rotation_range=30,\n",
    "                               width_shift_range=0.2,\n",
    "                               height_shift_range=0.2,\n",
    "                               zoom_range=0.2,\n",
    "                               horizontal_flip=True,\n",
    "                               vertical_flip=True,\n",
    "                               validation_split=0.2)\n",
    "test_gen = ImageDataGenerator(preprocessing_function=preprocess_input)\n",
    "\n",
    "batch_size = 20\n",
    "train_iter = train_gen.flow(X_train, y_train, batch_size=batch_size, subset='training', seed=123)\n",
    "val_iter = train_gen.flow(X_train, y_train, batch_size=batch_size, subset='validation', seed=123)\n",
    "test_iter = test_gen.flow(X_test, y_test, batch_size=1, shuffle=False)\n",
    "\n",
    "# create model\n",
    "\n",
    "# load ResNet50 model\n",
    "model = ResNet50(include_top=False, input_shape=(128,128,3))\n",
    "# mark loaded layers as not trainable\n",
    "for layer in model.layers:\n",
    "    layer.trainable = False\n",
    "# mark last block as trainable\n",
    "model.get_layer('conv5_block3_3_conv').trainable = True\n",
    "model.get_layer('conv5_block3_3_bn').trainable = True\n",
    "# add new classifier layers\n",
    "dropout1 = Dropout(0.2)(model.layers[-1].output)\n",
    "flat1 = Flatten()(dropout1)\n",
    "class1 = Dense(100, activation='relu', kernel_initializer='he_uniform')(flat1)\n",
    "dropout2 = Dropout(0.2)(class1)\n",
    "output = Dense(5, activation='sigmoid')(dropout2)\n",
    "# define model\n",
    "model = Model(inputs=model.inputs, outputs=output)\n",
    "\n",
    "# compile model\n",
    "model.compile(optimizer='adam', loss='binary_crossentropy', metrics=[fbeta])\n",
    "\n",
    "# create early stopping object\n",
    "es = EarlyStopping(monitor='val_loss', mode='min', verbose=1, patience=20)\n",
    "\n",
    "# fit model\n",
    "history = model.fit(train_iter, \n",
    "                    steps_per_epoch=len(train_iter),\n",
    "                    validation_data=val_iter,\n",
    "                    validation_steps=len(val_iter), \n",
    "                    callbacks=[es],\n",
    "                    epochs=200)\n",
    "\n",
    "model5_perf = evaluate_model(history)"
   ]
  },
  {
   "cell_type": "markdown",
   "metadata": {
    "id": "kFINWMv4f-ep"
   },
   "source": [
    "Note : overfitting, but the performance (fbeta score) is high"
   ]
  },
  {
   "cell_type": "markdown",
   "metadata": {
    "id": "Ub8SeGv0hZxz"
   },
   "source": [
    "## Model performance"
   ]
  },
  {
   "cell_type": "code",
   "execution_count": 24,
   "metadata": {
    "colab": {
     "base_uri": "https://localhost:8080/"
    },
    "executionInfo": {
     "elapsed": 1436,
     "status": "ok",
     "timestamp": 1611577865928,
     "user": {
      "displayName": "Samantha K.",
      "photoUrl": "https://lh3.googleusercontent.com/a-/AOh14GjqOn4Eq2aGKTpdlO0FSSiTvIIbKGBzhPNGPF1Ysg=s64",
      "userId": "17154081479065187787"
     },
     "user_tz": -420
    },
    "id": "S4GGOmyzheG7",
    "outputId": "15a40620-0f8b-403d-a09d-429f9c364b1d"
   },
   "outputs": [
    {
     "name": "stdout",
     "output_type": "stream",
     "text": [
      "Baseline model :  0.8290965557098389\n",
      "model 1 :  0.8488188982009888\n",
      "model 2 :  0.853878378868103\n",
      "model 3 :  0.8561891317367554\n",
      "model 4 :  0.8352077603340149\n",
      "model 5 :  0.8534020185470581\n"
     ]
    }
   ],
   "source": [
    "print('Baseline model : ', baseline_perf)\n",
    "print('model 1 : ', model1_perf)\n",
    "print('model 2 : ', model2_perf)\n",
    "print('model 3 : ', model3_perf)\n",
    "print('model 4 : ', model4_perf)\n",
    "print('model 5 : ', model5_perf)"
   ]
  },
  {
   "cell_type": "markdown",
   "metadata": {
    "id": "H6RiCLwUh0Mv"
   },
   "source": [
    "Note : only model 4 is not high overfitting"
   ]
  },
  {
   "cell_type": "markdown",
   "metadata": {
    "id": "4X98pMo8hEWb"
   },
   "source": [
    "## Finalize model 4\n",
    "Train the selected model again.  \n",
    "Give it more time to learn.  \n",
    "Save the highest performance with ModelCheckpoint."
   ]
  },
  {
   "cell_type": "code",
   "execution_count": 25,
   "metadata": {
    "colab": {
     "base_uri": "https://localhost:8080/"
    },
    "executionInfo": {
     "elapsed": 566015,
     "status": "ok",
     "timestamp": 1611578528905,
     "user": {
      "displayName": "Samantha K.",
      "photoUrl": "https://lh3.googleusercontent.com/a-/AOh14GjqOn4Eq2aGKTpdlO0FSSiTvIIbKGBzhPNGPF1Ysg=s64",
      "userId": "17154081479065187787"
     },
     "user_tz": -420
    },
    "id": "00l737WuhPkd",
    "outputId": "af503f12-0560-49e0-9445-28a90cb6d7fd"
   },
   "outputs": [
    {
     "name": "stdout",
     "output_type": "stream",
     "text": [
      "Epoch 1/300\n",
      "64/64 [==============================] - 13s 154ms/step - loss: 1.6461 - val_loss: 0.3651\n",
      "\n",
      "Epoch 00001: val_loss improved from inf to 0.36505, saving model to best_pretrained_ResNet50.h5\n",
      "Epoch 2/300\n",
      "64/64 [==============================] - 9s 136ms/step - loss: 0.4041 - val_loss: 0.3200\n",
      "\n",
      "Epoch 00002: val_loss improved from 0.36505 to 0.32003, saving model to best_pretrained_ResNet50.h5\n",
      "Epoch 3/300\n",
      "64/64 [==============================] - 9s 135ms/step - loss: 0.3343 - val_loss: 0.2962\n",
      "\n",
      "Epoch 00003: val_loss improved from 0.32003 to 0.29620, saving model to best_pretrained_ResNet50.h5\n",
      "Epoch 4/300\n",
      "64/64 [==============================] - 9s 135ms/step - loss: 0.3527 - val_loss: 0.2969\n",
      "\n",
      "Epoch 00004: val_loss did not improve from 0.29620\n",
      "Epoch 5/300\n",
      "64/64 [==============================] - 9s 135ms/step - loss: 0.2949 - val_loss: 0.3315\n",
      "\n",
      "Epoch 00005: val_loss did not improve from 0.29620\n",
      "Epoch 6/300\n",
      "64/64 [==============================] - 9s 135ms/step - loss: 0.2848 - val_loss: 0.3051\n",
      "\n",
      "Epoch 00006: val_loss did not improve from 0.29620\n",
      "Epoch 7/300\n",
      "64/64 [==============================] - 9s 135ms/step - loss: 0.3024 - val_loss: 0.2919\n",
      "\n",
      "Epoch 00007: val_loss improved from 0.29620 to 0.29190, saving model to best_pretrained_ResNet50.h5\n",
      "Epoch 8/300\n",
      "64/64 [==============================] - 9s 136ms/step - loss: 0.2748 - val_loss: 0.3444\n",
      "\n",
      "Epoch 00008: val_loss did not improve from 0.29190\n",
      "Epoch 9/300\n",
      "64/64 [==============================] - 9s 135ms/step - loss: 0.2717 - val_loss: 0.2884\n",
      "\n",
      "Epoch 00009: val_loss improved from 0.29190 to 0.28838, saving model to best_pretrained_ResNet50.h5\n",
      "Epoch 10/300\n",
      "64/64 [==============================] - 9s 137ms/step - loss: 0.2499 - val_loss: 0.3240\n",
      "\n",
      "Epoch 00010: val_loss did not improve from 0.28838\n",
      "Epoch 11/300\n",
      "64/64 [==============================] - 9s 136ms/step - loss: 0.2448 - val_loss: 0.2670\n",
      "\n",
      "Epoch 00011: val_loss improved from 0.28838 to 0.26704, saving model to best_pretrained_ResNet50.h5\n",
      "Epoch 12/300\n",
      "64/64 [==============================] - 9s 136ms/step - loss: 0.2478 - val_loss: 0.2869\n",
      "\n",
      "Epoch 00012: val_loss did not improve from 0.26704\n",
      "Epoch 13/300\n",
      "64/64 [==============================] - 9s 135ms/step - loss: 0.2275 - val_loss: 0.2758\n",
      "\n",
      "Epoch 00013: val_loss did not improve from 0.26704\n",
      "Epoch 14/300\n",
      "64/64 [==============================] - 9s 135ms/step - loss: 0.2302 - val_loss: 0.2752\n",
      "\n",
      "Epoch 00014: val_loss did not improve from 0.26704\n",
      "Epoch 15/300\n",
      "64/64 [==============================] - 9s 136ms/step - loss: 0.2133 - val_loss: 0.2519\n",
      "\n",
      "Epoch 00015: val_loss improved from 0.26704 to 0.25194, saving model to best_pretrained_ResNet50.h5\n",
      "Epoch 16/300\n",
      "64/64 [==============================] - 9s 135ms/step - loss: 0.2231 - val_loss: 0.2601\n",
      "\n",
      "Epoch 00016: val_loss did not improve from 0.25194\n",
      "Epoch 17/300\n",
      "64/64 [==============================] - 9s 135ms/step - loss: 0.2143 - val_loss: 0.2785\n",
      "\n",
      "Epoch 00017: val_loss did not improve from 0.25194\n",
      "Epoch 18/300\n",
      "64/64 [==============================] - 9s 135ms/step - loss: 0.2273 - val_loss: 0.2489\n",
      "\n",
      "Epoch 00018: val_loss improved from 0.25194 to 0.24894, saving model to best_pretrained_ResNet50.h5\n",
      "Epoch 19/300\n",
      "64/64 [==============================] - 9s 136ms/step - loss: 0.2272 - val_loss: 0.2827\n",
      "\n",
      "Epoch 00019: val_loss did not improve from 0.24894\n",
      "Epoch 20/300\n",
      "64/64 [==============================] - 9s 136ms/step - loss: 0.1914 - val_loss: 0.2593\n",
      "\n",
      "Epoch 00020: val_loss did not improve from 0.24894\n",
      "Epoch 21/300\n",
      "64/64 [==============================] - 9s 135ms/step - loss: 0.2214 - val_loss: 0.2496\n",
      "\n",
      "Epoch 00021: val_loss did not improve from 0.24894\n",
      "Epoch 22/300\n",
      "64/64 [==============================] - 9s 135ms/step - loss: 0.2016 - val_loss: 0.2805\n",
      "\n",
      "Epoch 00022: val_loss did not improve from 0.24894\n",
      "Epoch 23/300\n",
      "64/64 [==============================] - 9s 134ms/step - loss: 0.2144 - val_loss: 0.2648\n",
      "\n",
      "Epoch 00023: val_loss did not improve from 0.24894\n",
      "Epoch 24/300\n",
      "64/64 [==============================] - 9s 134ms/step - loss: 0.1937 - val_loss: 0.2698\n",
      "\n",
      "Epoch 00024: val_loss did not improve from 0.24894\n",
      "Epoch 25/300\n",
      "64/64 [==============================] - 9s 135ms/step - loss: 0.2165 - val_loss: 0.2563\n",
      "\n",
      "Epoch 00025: val_loss did not improve from 0.24894\n",
      "Epoch 26/300\n",
      "64/64 [==============================] - 9s 134ms/step - loss: 0.1882 - val_loss: 0.2717\n",
      "\n",
      "Epoch 00026: val_loss did not improve from 0.24894\n",
      "Epoch 27/300\n",
      "64/64 [==============================] - 9s 134ms/step - loss: 0.1996 - val_loss: 0.2578\n",
      "\n",
      "Epoch 00027: val_loss did not improve from 0.24894\n",
      "Epoch 28/300\n",
      "64/64 [==============================] - 9s 133ms/step - loss: 0.1967 - val_loss: 0.2534\n",
      "\n",
      "Epoch 00028: val_loss did not improve from 0.24894\n",
      "Epoch 29/300\n",
      "64/64 [==============================] - 9s 133ms/step - loss: 0.1767 - val_loss: 0.2683\n",
      "\n",
      "Epoch 00029: val_loss did not improve from 0.24894\n",
      "Epoch 30/300\n",
      "64/64 [==============================] - 9s 134ms/step - loss: 0.1761 - val_loss: 0.2801\n",
      "\n",
      "Epoch 00030: val_loss did not improve from 0.24894\n",
      "Epoch 31/300\n",
      "64/64 [==============================] - 9s 135ms/step - loss: 0.1958 - val_loss: 0.2751\n",
      "\n",
      "Epoch 00031: val_loss did not improve from 0.24894\n",
      "Epoch 32/300\n",
      "64/64 [==============================] - 9s 134ms/step - loss: 0.1696 - val_loss: 0.2724\n",
      "\n",
      "Epoch 00032: val_loss did not improve from 0.24894\n",
      "Epoch 33/300\n",
      "64/64 [==============================] - 9s 134ms/step - loss: 0.1926 - val_loss: 0.2762\n",
      "\n",
      "Epoch 00033: val_loss did not improve from 0.24894\n",
      "Epoch 34/300\n",
      "64/64 [==============================] - 9s 135ms/step - loss: 0.1934 - val_loss: 0.2466\n",
      "\n",
      "Epoch 00034: val_loss improved from 0.24894 to 0.24663, saving model to best_pretrained_ResNet50.h5\n",
      "Epoch 35/300\n",
      "64/64 [==============================] - 8s 131ms/step - loss: 0.1745 - val_loss: 0.2677\n",
      "\n",
      "Epoch 00035: val_loss did not improve from 0.24663\n",
      "Epoch 36/300\n",
      "64/64 [==============================] - 8s 131ms/step - loss: 0.1813 - val_loss: 0.2674\n",
      "\n",
      "Epoch 00036: val_loss did not improve from 0.24663\n",
      "Epoch 37/300\n",
      "64/64 [==============================] - 9s 133ms/step - loss: 0.1725 - val_loss: 0.2478\n",
      "\n",
      "Epoch 00037: val_loss did not improve from 0.24663\n",
      "Epoch 38/300\n",
      "64/64 [==============================] - 9s 134ms/step - loss: 0.1873 - val_loss: 0.2699\n",
      "\n",
      "Epoch 00038: val_loss did not improve from 0.24663\n",
      "Epoch 39/300\n",
      "64/64 [==============================] - 9s 133ms/step - loss: 0.1739 - val_loss: 0.2795\n",
      "\n",
      "Epoch 00039: val_loss did not improve from 0.24663\n",
      "Epoch 40/300\n",
      "64/64 [==============================] - 8s 130ms/step - loss: 0.1578 - val_loss: 0.2897\n",
      "\n",
      "Epoch 00040: val_loss did not improve from 0.24663\n",
      "Epoch 41/300\n",
      "64/64 [==============================] - 8s 131ms/step - loss: 0.1813 - val_loss: 0.2879\n",
      "\n",
      "Epoch 00041: val_loss did not improve from 0.24663\n",
      "Epoch 42/300\n",
      "64/64 [==============================] - 8s 131ms/step - loss: 0.1683 - val_loss: 0.2727\n",
      "\n",
      "Epoch 00042: val_loss did not improve from 0.24663\n",
      "Epoch 43/300\n",
      "64/64 [==============================] - 8s 132ms/step - loss: 0.1652 - val_loss: 0.2640\n",
      "\n",
      "Epoch 00043: val_loss did not improve from 0.24663\n",
      "Epoch 44/300\n",
      "64/64 [==============================] - 8s 131ms/step - loss: 0.1506 - val_loss: 0.2996\n",
      "\n",
      "Epoch 00044: val_loss did not improve from 0.24663\n",
      "Epoch 45/300\n",
      "64/64 [==============================] - 9s 135ms/step - loss: 0.2001 - val_loss: 0.2694\n",
      "\n",
      "Epoch 00045: val_loss did not improve from 0.24663\n",
      "Epoch 46/300\n",
      "64/64 [==============================] - 9s 135ms/step - loss: 0.1489 - val_loss: 0.2598\n",
      "\n",
      "Epoch 00046: val_loss did not improve from 0.24663\n",
      "Epoch 47/300\n",
      "64/64 [==============================] - 9s 135ms/step - loss: 0.1674 - val_loss: 0.2544\n",
      "\n",
      "Epoch 00047: val_loss did not improve from 0.24663\n",
      "Epoch 48/300\n",
      "64/64 [==============================] - 8s 132ms/step - loss: 0.1794 - val_loss: 0.2846\n",
      "\n",
      "Epoch 00048: val_loss did not improve from 0.24663\n",
      "Epoch 49/300\n",
      "64/64 [==============================] - 9s 133ms/step - loss: 0.1707 - val_loss: 0.2983\n",
      "\n",
      "Epoch 00049: val_loss did not improve from 0.24663\n",
      "Epoch 50/300\n",
      "64/64 [==============================] - 9s 133ms/step - loss: 0.1623 - val_loss: 0.2681\n",
      "\n",
      "Epoch 00050: val_loss did not improve from 0.24663\n",
      "Epoch 51/300\n",
      "64/64 [==============================] - 9s 133ms/step - loss: 0.1557 - val_loss: 0.2609\n",
      "\n",
      "Epoch 00051: val_loss did not improve from 0.24663\n",
      "Epoch 52/300\n",
      "64/64 [==============================] - 9s 134ms/step - loss: 0.1549 - val_loss: 0.2681\n",
      "\n",
      "Epoch 00052: val_loss did not improve from 0.24663\n",
      "Epoch 53/300\n",
      "64/64 [==============================] - 9s 135ms/step - loss: 0.1820 - val_loss: 0.2704\n",
      "\n",
      "Epoch 00053: val_loss did not improve from 0.24663\n",
      "Epoch 54/300\n",
      "64/64 [==============================] - 9s 135ms/step - loss: 0.1467 - val_loss: 0.2772\n",
      "\n",
      "Epoch 00054: val_loss did not improve from 0.24663\n",
      "Epoch 55/300\n",
      "64/64 [==============================] - 9s 135ms/step - loss: 0.1657 - val_loss: 0.2877\n",
      "\n",
      "Epoch 00055: val_loss did not improve from 0.24663\n",
      "Epoch 56/300\n",
      "64/64 [==============================] - 9s 133ms/step - loss: 0.1432 - val_loss: 0.2660\n",
      "\n",
      "Epoch 00056: val_loss did not improve from 0.24663\n",
      "Epoch 57/300\n",
      "64/64 [==============================] - 9s 134ms/step - loss: 0.1389 - val_loss: 0.2503\n",
      "\n",
      "Epoch 00057: val_loss did not improve from 0.24663\n",
      "Epoch 58/300\n",
      "64/64 [==============================] - 9s 137ms/step - loss: 0.1571 - val_loss: 0.2543\n",
      "\n",
      "Epoch 00058: val_loss did not improve from 0.24663\n",
      "Epoch 59/300\n",
      "64/64 [==============================] - 8s 132ms/step - loss: 0.1484 - val_loss: 0.2670\n",
      "\n",
      "Epoch 00059: val_loss did not improve from 0.24663\n",
      "Epoch 60/300\n",
      "64/64 [==============================] - 9s 133ms/step - loss: 0.1502 - val_loss: 0.2843\n",
      "\n",
      "Epoch 00060: val_loss did not improve from 0.24663\n",
      "Epoch 61/300\n",
      "64/64 [==============================] - 9s 133ms/step - loss: 0.1597 - val_loss: 0.2654\n",
      "\n",
      "Epoch 00061: val_loss did not improve from 0.24663\n",
      "Epoch 62/300\n",
      "64/64 [==============================] - 9s 136ms/step - loss: 0.1566 - val_loss: 0.2810\n",
      "\n",
      "Epoch 00062: val_loss did not improve from 0.24663\n",
      "Epoch 63/300\n",
      "64/64 [==============================] - 9s 133ms/step - loss: 0.1552 - val_loss: 0.3013\n",
      "\n",
      "Epoch 00063: val_loss did not improve from 0.24663\n",
      "Epoch 64/300\n",
      "64/64 [==============================] - 8s 129ms/step - loss: 0.1398 - val_loss: 0.2924\n",
      "\n",
      "Epoch 00064: val_loss did not improve from 0.24663\n",
      "Epoch 00064: early stopping\n"
     ]
    }
   ],
   "source": [
    "# create data generator with data augmentation\n",
    "train_gen = ImageDataGenerator(preprocessing_function=preprocess_input,\n",
    "                               rotation_range=30,\n",
    "                               width_shift_range=0.2,\n",
    "                               height_shift_range=0.2,\n",
    "                               zoom_range=0.2,\n",
    "                               horizontal_flip=True,\n",
    "                               vertical_flip=True,\n",
    "                               validation_split=0.2)\n",
    "test_gen = ImageDataGenerator(preprocessing_function=preprocess_input)\n",
    "\n",
    "batch_size = 20\n",
    "train_iter = train_gen.flow(X_train, y_train, batch_size=batch_size, subset='training', seed=123)\n",
    "val_iter = train_gen.flow(X_train, y_train, batch_size=batch_size, subset='validation', seed=123)\n",
    "test_iter = test_gen.flow(X_test, y_test, batch_size=1, shuffle=False)\n",
    "\n",
    "# create model\n",
    "\n",
    "# load ResNet50 model\n",
    "model = ResNet50(include_top=False, input_shape=(128,128,3))\n",
    "# mark loaded layers as not trainable\n",
    "for layer in model.layers:\n",
    "    layer.trainable = False\n",
    "# add new classifier layers\n",
    "dropout1 = Dropout(0.2)(model.layers[-1].output)\n",
    "flat1 = Flatten()(dropout1)\n",
    "class1 = Dense(100, activation='relu', kernel_initializer='he_uniform')(flat1)\n",
    "dropout2 = Dropout(0.2)(class1)\n",
    "output = Dense(5, activation='sigmoid')(dropout2)\n",
    "# define model\n",
    "model = Model(inputs=model.inputs, outputs=output)\n",
    "\n",
    "# compile model\n",
    "model.compile(optimizer='adam', loss='binary_crossentropy')\n",
    "\n",
    "# create early stopping object\n",
    "es = EarlyStopping(monitor='val_loss', mode='min', verbose=1, patience=30)\n",
    "\n",
    "# create model checkpoint\n",
    "mc = ModelCheckpoint(model_name, monitor='val_loss', mode='min', verbose=1, save_best_only=True)\n",
    "\n",
    "# create model checkpoint to save the model\n",
    "mc = ModelCheckpoint(model_name, monitor='val_loss', mode='min', verbose=1, save_best_only=True)\n",
    "# fit model\n",
    "history = model.fit(train_iter, \n",
    "                    steps_per_epoch=len(train_iter),\n",
    "                    validation_data=val_iter,\n",
    "                    validation_steps=len(val_iter), \n",
    "                    callbacks=[es, mc],\n",
    "                    epochs=300)"
   ]
  },
  {
   "cell_type": "markdown",
   "metadata": {
    "id": "ISc5EB_jXT-r"
   },
   "source": [
    "## Evaluate model"
   ]
  },
  {
   "cell_type": "code",
   "execution_count": 26,
   "metadata": {
    "colab": {
     "base_uri": "https://localhost:8080/"
    },
    "executionInfo": {
     "elapsed": 1059,
     "status": "ok",
     "timestamp": 1611578545917,
     "user": {
      "displayName": "Samantha K.",
      "photoUrl": "https://lh3.googleusercontent.com/a-/AOh14GjqOn4Eq2aGKTpdlO0FSSiTvIIbKGBzhPNGPF1Ysg=s64",
      "userId": "17154081479065187787"
     },
     "user_tz": -420
    },
    "id": "eXK4x8NU8j7I",
    "outputId": "c8f884bb-5b93-4eb5-b820-d142ac9e9c09"
   },
   "outputs": [
    {
     "data": {
      "text/plain": [
       "array([[0, 0, 0, 0, 1],\n",
       "       [0, 0, 1, 1, 0],\n",
       "       [1, 0, 0, 0, 0],\n",
       "       [0, 0, 0, 0, 1],\n",
       "       [0, 0, 1, 0, 0]], dtype=uint8)"
      ]
     },
     "execution_count": 26,
     "metadata": {
      "tags": []
     },
     "output_type": "execute_result"
    }
   ],
   "source": [
    "# print y_test\n",
    "y_test[:5]"
   ]
  },
  {
   "cell_type": "code",
   "execution_count": 27,
   "metadata": {
    "colab": {
     "base_uri": "https://localhost:8080/"
    },
    "executionInfo": {
     "elapsed": 9917,
     "status": "ok",
     "timestamp": 1611578557939,
     "user": {
      "displayName": "Samantha K.",
      "photoUrl": "https://lh3.googleusercontent.com/a-/AOh14GjqOn4Eq2aGKTpdlO0FSSiTvIIbKGBzhPNGPF1Ysg=s64",
      "userId": "17154081479065187787"
     },
     "user_tz": -420
    },
    "id": "6GcT6BREp-6t",
    "outputId": "bd7d5183-ddb6-4bd5-b1a0-be6665128b11"
   },
   "outputs": [
    {
     "name": "stdout",
     "output_type": "stream",
     "text": [
      "y_pred shape :  (400, 5)\n",
      "[[0. 0. 0. 0. 1.]\n",
      " [0. 0. 0. 1. 0.]\n",
      " [1. 0. 0. 0. 0.]\n",
      " [0. 0. 0. 0. 1.]\n",
      " [0. 0. 1. 0. 0.]]\n"
     ]
    }
   ],
   "source": [
    "# get y_pred\n",
    "y_pred = model.predict(test_iter)\n",
    "y_pred = y_pred.round()\n",
    "print('y_pred shape : ', y_pred.shape)\n",
    "print(y_pred[:5])"
   ]
  },
  {
   "cell_type": "code",
   "execution_count": 28,
   "metadata": {
    "colab": {
     "base_uri": "https://localhost:8080/"
    },
    "executionInfo": {
     "elapsed": 1190,
     "status": "ok",
     "timestamp": 1611578580983,
     "user": {
      "displayName": "Samantha K.",
      "photoUrl": "https://lh3.googleusercontent.com/a-/AOh14GjqOn4Eq2aGKTpdlO0FSSiTvIIbKGBzhPNGPF1Ysg=s64",
      "userId": "17154081479065187787"
     },
     "user_tz": -420
    },
    "id": "PPlMnacVtMEu",
    "outputId": "7019f48e-477c-468f-811d-a6e09ed33f8e"
   },
   "outputs": [
    {
     "name": "stdout",
     "output_type": "stream",
     "text": [
      "final_model_fbeta :  0.84483045\n"
     ]
    }
   ],
   "source": [
    "# print model score\n",
    "final_model_fbeta = fbeta(y_test, y_pred)\n",
    "print('final_model_fbeta : ', final_model_fbeta.numpy())"
   ]
  },
  {
   "cell_type": "code",
   "execution_count": 29,
   "metadata": {
    "colab": {
     "base_uri": "https://localhost:8080/"
    },
    "executionInfo": {
     "elapsed": 1196,
     "status": "ok",
     "timestamp": 1611578620510,
     "user": {
      "displayName": "Samantha K.",
      "photoUrl": "https://lh3.googleusercontent.com/a-/AOh14GjqOn4Eq2aGKTpdlO0FSSiTvIIbKGBzhPNGPF1Ysg=s64",
      "userId": "17154081479065187787"
     },
     "user_tz": -420
    },
    "id": "vSez3K4ejOvo",
    "outputId": "a1e3ce20-9706-459a-8136-f5abd9b067fe"
   },
   "outputs": [
    {
     "name": "stdout",
     "output_type": "stream",
     "text": [
      "best_pretrained_ResNet50.h5  drive  sample_data\n"
     ]
    }
   ],
   "source": [
    "!ls"
   ]
  },
  {
   "cell_type": "code",
   "execution_count": 30,
   "metadata": {
    "colab": {
     "base_uri": "https://localhost:8080/",
     "height": 35
    },
    "executionInfo": {
     "elapsed": 1696,
     "status": "ok",
     "timestamp": 1611578625502,
     "user": {
      "displayName": "Samantha K.",
      "photoUrl": "https://lh3.googleusercontent.com/a-/AOh14GjqOn4Eq2aGKTpdlO0FSSiTvIIbKGBzhPNGPF1Ysg=s64",
      "userId": "17154081479065187787"
     },
     "user_tz": -420
    },
    "id": "R-g3mkEsmeYt",
    "outputId": "251b2196-7715-4b17-ea64-f5591f7c13d4"
   },
   "outputs": [
    {
     "data": {
      "application/vnd.google.colaboratory.intrinsic+json": {
       "type": "string"
      },
      "text/plain": [
       "'/content/drive/MyDrive/MyProjects/nature_multilabel_image_classification/best_pretrained_ResNet50.h5'"
      ]
     },
     "execution_count": 30,
     "metadata": {
      "tags": []
     },
     "output_type": "execute_result"
    }
   ],
   "source": [
    "# copy saved model file to the project directory\n",
    "#import shutil\n",
    "#import os\n",
    "\n",
    "#shutil.copyfile(model_name, os.path.join(project_dir,model_name))"
   ]
  }
 ],
 "metadata": {
  "accelerator": "GPU",
  "colab": {
   "authorship_tag": "ABX9TyPsDXigH05dAM1CGwMjz6Sg",
   "mount_file_id": "1XXuwaRaXfrOVLx-smUjw9BsjOsiu37Ro",
   "name": "04_pretrained_ResNet50.ipynb",
   "provenance": []
  },
  "kernelspec": {
   "display_name": "Python 3",
   "language": "python",
   "name": "python3"
  },
  "language_info": {
   "codemirror_mode": {
    "name": "ipython",
    "version": 3
   },
   "file_extension": ".py",
   "mimetype": "text/x-python",
   "name": "python",
   "nbconvert_exporter": "python",
   "pygments_lexer": "ipython3",
   "version": "3.8.8"
  }
 },
 "nbformat": 4,
 "nbformat_minor": 1
}
