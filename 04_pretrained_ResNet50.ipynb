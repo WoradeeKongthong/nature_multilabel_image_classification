{
  "nbformat": 4,
  "nbformat_minor": 0,
  "metadata": {
    "accelerator": "GPU",
    "colab": {
      "name": "04_pretrained_ResNet50.ipynb",
      "provenance": [],
      "toc_visible": true,
      "include_colab_link": true
    },
    "kernelspec": {
      "display_name": "Python 3",
      "language": "python",
      "name": "python3"
    },
    "language_info": {
      "codemirror_mode": {
        "name": "ipython",
        "version": 3
      },
      "file_extension": ".py",
      "mimetype": "text/x-python",
      "name": "python",
      "nbconvert_exporter": "python",
      "pygments_lexer": "ipython3",
      "version": "3.8.8"
    }
  },
  "cells": [
    {
      "cell_type": "markdown",
      "metadata": {
        "id": "view-in-github",
        "colab_type": "text"
      },
      "source": [
        "<a href=\"https://colab.research.google.com/github/WoradeeKongthong/nature_multilabel_image_classification/blob/main/04_pretrained_ResNet50.ipynb\" target=\"_parent\"><img src=\"https://colab.research.google.com/assets/colab-badge.svg\" alt=\"Open In Colab\"/></a>"
      ]
    },
    {
      "cell_type": "code",
      "metadata": {
        "id": "WpvHMlA1sFTq",
        "colab": {
          "base_uri": "https://localhost:8080/"
        },
        "outputId": "d0c14630-98f2-484c-c276-5218b791a37a"
      },
      "source": [
        "# CTRL + A then CTRL + / to uncomment\n",
        "# CLONE PROJECT TO TRAIN IN GOOGLE COLAB\n",
        "import os\n",
        "if os.path.isdir('/content/nature_multilabel_image_classification'):\n",
        "  !rm -rf '/content/nature_multilabel_image_classification'\n",
        "  \n",
        "!git clone https://github.com/WoradeeKongthong/nature_multilabel_image_classification.git\n",
        "\n",
        "if not os.getcwd() == '/content/nature_multilabel_image_classification' :\n",
        "  %cd /content/nature_multilabel_image_classification\n",
        "\n",
        "!pwd"
      ],
      "execution_count": 1,
      "outputs": [
        {
          "output_type": "stream",
          "name": "stdout",
          "text": [
            "Cloning into 'nature_multilabel_image_classification'...\n",
            "remote: Enumerating objects: 2066, done.\u001b[K\n",
            "remote: Counting objects: 100% (2066/2066), done.\u001b[K\n",
            "remote: Compressing objects: 100% (2053/2053), done.\u001b[K\n",
            "remote: Total 2066 (delta 21), reused 2041 (delta 8), pack-reused 0\u001b[K\n",
            "Receiving objects: 100% (2066/2066), 218.29 MiB | 24.33 MiB/s, done.\n",
            "Resolving deltas: 100% (21/21), done.\n",
            "/content/nature_multilabel_image_classification\n",
            "/content/nature_multilabel_image_classification\n"
          ]
        }
      ]
    },
    {
      "cell_type": "code",
      "metadata": {
        "id": "PfnzksyNt9mQ"
      },
      "source": [
        "# prepared dataset\n",
        "dataset_path = 'data/nature_data.npz'\n",
        "\n",
        "# saved model name\n",
        "model_name = 'best_pretrained_ResNet50.h5'"
      ],
      "execution_count": 2,
      "outputs": []
    },
    {
      "cell_type": "markdown",
      "metadata": {
        "id": "abSMiFfOu3RD"
      },
      "source": [
        "# Nature Image Classification (Multi-labels)\n",
        "\n",
        "## Objective \n",
        "To learn tags given to each image.  \n",
        "There are 5 tags;  \n",
        "- desert  \n",
        "- mountains  \n",
        "- sea  \n",
        "- sunset  \n",
        "- trees  \n",
        "\n",
        "## Dataset\n",
        "source : https://www.dropbox.com/s/0htmeoie69q650p/miml_dataset.zip?dl=0  \n",
        "(You can follow the tutorial in this blog https://vijayabhaskar96.medium.com/multi-label-image-classification-tutorial-with-keras-imagedatagenerator-cd541f8eaf24)\n",
        "\n",
        "## Approach\n",
        "Baseline model : CNN model with 1,2 or 3 VGG block(s)  \n",
        "\n",
        "Improved model \n",
        "- dropout\n",
        "- data augmentation"
      ]
    },
    {
      "cell_type": "markdown",
      "metadata": {
        "id": "hI4siRTuzkP8"
      },
      "source": [
        "## Load dataset from file"
      ]
    },
    {
      "cell_type": "code",
      "metadata": {
        "id": "DY0pyMMyzng5"
      },
      "source": [
        "import numpy as np"
      ],
      "execution_count": 3,
      "outputs": []
    },
    {
      "cell_type": "code",
      "metadata": {
        "colab": {
          "base_uri": "https://localhost:8080/"
        },
        "id": "sTPYiaN0zrve",
        "outputId": "8a045ceb-669a-4cf3-e190-b540edabf509"
      },
      "source": [
        "# load data\n",
        "data = np.load(dataset_path)\n",
        "X, y = data['arr_0'], data['arr_1']\n",
        "print('X shape : ', X.shape)\n",
        "print('y shape : ', y.shape)"
      ],
      "execution_count": 4,
      "outputs": [
        {
          "output_type": "stream",
          "name": "stdout",
          "text": [
            "X shape :  (2000, 128, 128, 3)\n",
            "y shape :  (2000, 5)\n"
          ]
        }
      ]
    },
    {
      "cell_type": "markdown",
      "metadata": {
        "id": "cdtytULs0Y7s"
      },
      "source": [
        "## Create train and test set\n",
        "(Note : validation set will be created with ImageDataGenerator)"
      ]
    },
    {
      "cell_type": "code",
      "metadata": {
        "id": "wO_FPRcW0c5t"
      },
      "source": [
        "from sklearn.model_selection import train_test_split"
      ],
      "execution_count": 5,
      "outputs": []
    },
    {
      "cell_type": "code",
      "metadata": {
        "id": "ER5Tq-HU06Cq"
      },
      "source": [
        "X_train, X_test, y_train, y_test = train_test_split(X, y, test_size=0.2, random_state=100)"
      ],
      "execution_count": 6,
      "outputs": []
    },
    {
      "cell_type": "code",
      "metadata": {
        "colab": {
          "base_uri": "https://localhost:8080/"
        },
        "id": "9uhCuhbq1bVu",
        "outputId": "09f6fe35-79a7-4d6f-b779-20833e3e9d93"
      },
      "source": [
        "print('X_train shape : ', X_train.shape)\n",
        "print('y_train shape : ', y_train.shape)\n",
        "print()\n",
        "print('X_test shape : ', X_test.shape)\n",
        "print('y_test shape : ', y_test.shape)"
      ],
      "execution_count": 7,
      "outputs": [
        {
          "output_type": "stream",
          "name": "stdout",
          "text": [
            "X_train shape :  (1600, 128, 128, 3)\n",
            "y_train shape :  (1600, 5)\n",
            "\n",
            "X_test shape :  (400, 128, 128, 3)\n",
            "y_test shape :  (400, 5)\n"
          ]
        }
      ]
    },
    {
      "cell_type": "markdown",
      "metadata": {
        "id": "ejRHmGDVlSP-"
      },
      "source": [
        "## Create data generator without data augmentation"
      ]
    },
    {
      "cell_type": "code",
      "metadata": {
        "id": "LWRbPRUblbIP"
      },
      "source": [
        "from tensorflow.keras.preprocessing.image import ImageDataGenerator\n",
        "from tensorflow.keras.applications.resnet import preprocess_input"
      ],
      "execution_count": 8,
      "outputs": []
    },
    {
      "cell_type": "code",
      "metadata": {
        "id": "SIRwdlwulfCM"
      },
      "source": [
        "train_gen = ImageDataGenerator(preprocessing_function=preprocess_input, validation_split=0.2)\n",
        "test_gen = ImageDataGenerator(preprocessing_function=preprocess_input)\n",
        "\n",
        "batch_size = 20\n",
        "train_iter = train_gen.flow(X_train, y_train, batch_size=batch_size, subset='training', seed=123)\n",
        "val_iter = train_gen.flow(X_train, y_train, batch_size=batch_size, subset='validation', seed=123)\n",
        "test_iter = test_gen.flow(X_test, y_test, batch_size=1, shuffle=False)"
      ],
      "execution_count": 9,
      "outputs": []
    },
    {
      "cell_type": "markdown",
      "metadata": {
        "id": "LAytm0b02LY4"
      },
      "source": [
        "## fbeta score function for multi-label problem"
      ]
    },
    {
      "cell_type": "code",
      "metadata": {
        "id": "Wn9549YT2QL0"
      },
      "source": [
        "from tensorflow.keras import backend\n",
        "\n",
        "# optional sklearn.metrics.fbeta_score (cannot be used as training metric)\n",
        "#from sklearn.metrics import fbeta_score"
      ],
      "execution_count": 10,
      "outputs": []
    },
    {
      "cell_type": "code",
      "metadata": {
        "id": "v6dCRxSK2T2M"
      },
      "source": [
        "# I create F-beta score calculation in Keras to use as a metric \n",
        "# during training process instead of accuracy.\n",
        "\n",
        "def fbeta(y_true, y_pred, beta=2):\n",
        "  # clip predictions\n",
        "  y_pred = backend.clip(y_pred, 0, 1)\n",
        "  # calculate elements\n",
        "  tp = backend.sum(backend.round(backend.clip(y_true * y_pred, 0, 1)), axis=1)\n",
        "  fp = backend.sum(backend.round(backend.clip(y_pred - y_true, 0, 1)), axis=1)\n",
        "  fn = backend.sum(backend.round(backend.clip(y_true - y_pred, 0, 1)), axis=1)\n",
        "  # calculate precision\n",
        "  p = tp / (tp + fp + backend.epsilon())\n",
        "  # calculate recall\n",
        "  r = tp / (tp + fn + backend.epsilon())\n",
        "  # calculate fbeta, averaged across each class\n",
        "  bb = beta ** 2\n",
        "  fbeta_score = backend.mean((1 + bb) * (p * r) / (bb * p + r + backend.epsilon()))\n",
        "  return fbeta_score"
      ],
      "execution_count": 11,
      "outputs": []
    },
    {
      "cell_type": "markdown",
      "metadata": {
        "id": "CD1IWrOXgXlg"
      },
      "source": [
        "## Baseline Model"
      ]
    },
    {
      "cell_type": "code",
      "metadata": {
        "id": "lQ1jwo4sAjgi"
      },
      "source": [
        "from tensorflow.keras.applications import ResNet50\n",
        "from tensorflow.keras.models import Model\n",
        "from tensorflow.keras.layers import Dense, Flatten, Dropout\n",
        "from tensorflow.keras.callbacks import EarlyStopping, ModelCheckpoint\n",
        "import matplotlib.pyplot as plt"
      ],
      "execution_count": 12,
      "outputs": []
    },
    {
      "cell_type": "code",
      "metadata": {
        "colab": {
          "base_uri": "https://localhost:8080/"
        },
        "id": "SSU7wg4TAl5G",
        "outputId": "cbd9715b-0ef3-49d2-acfa-1d0e863b8802"
      },
      "source": [
        "# create model\n",
        "\n",
        "# load ResNet50 model\n",
        "model = ResNet50(include_top=False, input_shape=(128,128,3))\n",
        "# mark loaded layers as not trainable\n",
        "for layer in model.layers:\n",
        "    layer.trainable = False\n",
        "# add new classifier layers\n",
        "flat1 = Flatten()(model.layers[-1].output)\n",
        "class1 = Dense(100, activation='relu', kernel_initializer='he_uniform')(flat1)\n",
        "output = Dense(5, activation='sigmoid')(class1)\n",
        "# define model\n",
        "model = Model(inputs=model.inputs, outputs=output)\n",
        "\n",
        "# compile model\n",
        "model.compile(optimizer='adam', loss='binary_crossentropy', metrics=[fbeta])"
      ],
      "execution_count": 13,
      "outputs": [
        {
          "output_type": "stream",
          "name": "stdout",
          "text": [
            "Downloading data from https://storage.googleapis.com/tensorflow/keras-applications/resnet/resnet50_weights_tf_dim_ordering_tf_kernels_notop.h5\n",
            "94773248/94765736 [==============================] - 1s 0us/step\n",
            "94781440/94765736 [==============================] - 1s 0us/step\n"
          ]
        }
      ]
    },
    {
      "cell_type": "code",
      "metadata": {
        "colab": {
          "base_uri": "https://localhost:8080/"
        },
        "id": "p1iYWekdotgI",
        "outputId": "687a5b80-7a4d-4b98-ffb6-7cc4eb2e0e47"
      },
      "source": [
        "model.summary()"
      ],
      "execution_count": 14,
      "outputs": [
        {
          "output_type": "stream",
          "name": "stdout",
          "text": [
            "Model: \"model\"\n",
            "__________________________________________________________________________________________________\n",
            "Layer (type)                    Output Shape         Param #     Connected to                     \n",
            "==================================================================================================\n",
            "input_1 (InputLayer)            [(None, 128, 128, 3) 0                                            \n",
            "__________________________________________________________________________________________________\n",
            "conv1_pad (ZeroPadding2D)       (None, 134, 134, 3)  0           input_1[0][0]                    \n",
            "__________________________________________________________________________________________________\n",
            "conv1_conv (Conv2D)             (None, 64, 64, 64)   9472        conv1_pad[0][0]                  \n",
            "__________________________________________________________________________________________________\n",
            "conv1_bn (BatchNormalization)   (None, 64, 64, 64)   256         conv1_conv[0][0]                 \n",
            "__________________________________________________________________________________________________\n",
            "conv1_relu (Activation)         (None, 64, 64, 64)   0           conv1_bn[0][0]                   \n",
            "__________________________________________________________________________________________________\n",
            "pool1_pad (ZeroPadding2D)       (None, 66, 66, 64)   0           conv1_relu[0][0]                 \n",
            "__________________________________________________________________________________________________\n",
            "pool1_pool (MaxPooling2D)       (None, 32, 32, 64)   0           pool1_pad[0][0]                  \n",
            "__________________________________________________________________________________________________\n",
            "conv2_block1_1_conv (Conv2D)    (None, 32, 32, 64)   4160        pool1_pool[0][0]                 \n",
            "__________________________________________________________________________________________________\n",
            "conv2_block1_1_bn (BatchNormali (None, 32, 32, 64)   256         conv2_block1_1_conv[0][0]        \n",
            "__________________________________________________________________________________________________\n",
            "conv2_block1_1_relu (Activation (None, 32, 32, 64)   0           conv2_block1_1_bn[0][0]          \n",
            "__________________________________________________________________________________________________\n",
            "conv2_block1_2_conv (Conv2D)    (None, 32, 32, 64)   36928       conv2_block1_1_relu[0][0]        \n",
            "__________________________________________________________________________________________________\n",
            "conv2_block1_2_bn (BatchNormali (None, 32, 32, 64)   256         conv2_block1_2_conv[0][0]        \n",
            "__________________________________________________________________________________________________\n",
            "conv2_block1_2_relu (Activation (None, 32, 32, 64)   0           conv2_block1_2_bn[0][0]          \n",
            "__________________________________________________________________________________________________\n",
            "conv2_block1_0_conv (Conv2D)    (None, 32, 32, 256)  16640       pool1_pool[0][0]                 \n",
            "__________________________________________________________________________________________________\n",
            "conv2_block1_3_conv (Conv2D)    (None, 32, 32, 256)  16640       conv2_block1_2_relu[0][0]        \n",
            "__________________________________________________________________________________________________\n",
            "conv2_block1_0_bn (BatchNormali (None, 32, 32, 256)  1024        conv2_block1_0_conv[0][0]        \n",
            "__________________________________________________________________________________________________\n",
            "conv2_block1_3_bn (BatchNormali (None, 32, 32, 256)  1024        conv2_block1_3_conv[0][0]        \n",
            "__________________________________________________________________________________________________\n",
            "conv2_block1_add (Add)          (None, 32, 32, 256)  0           conv2_block1_0_bn[0][0]          \n",
            "                                                                 conv2_block1_3_bn[0][0]          \n",
            "__________________________________________________________________________________________________\n",
            "conv2_block1_out (Activation)   (None, 32, 32, 256)  0           conv2_block1_add[0][0]           \n",
            "__________________________________________________________________________________________________\n",
            "conv2_block2_1_conv (Conv2D)    (None, 32, 32, 64)   16448       conv2_block1_out[0][0]           \n",
            "__________________________________________________________________________________________________\n",
            "conv2_block2_1_bn (BatchNormali (None, 32, 32, 64)   256         conv2_block2_1_conv[0][0]        \n",
            "__________________________________________________________________________________________________\n",
            "conv2_block2_1_relu (Activation (None, 32, 32, 64)   0           conv2_block2_1_bn[0][0]          \n",
            "__________________________________________________________________________________________________\n",
            "conv2_block2_2_conv (Conv2D)    (None, 32, 32, 64)   36928       conv2_block2_1_relu[0][0]        \n",
            "__________________________________________________________________________________________________\n",
            "conv2_block2_2_bn (BatchNormali (None, 32, 32, 64)   256         conv2_block2_2_conv[0][0]        \n",
            "__________________________________________________________________________________________________\n",
            "conv2_block2_2_relu (Activation (None, 32, 32, 64)   0           conv2_block2_2_bn[0][0]          \n",
            "__________________________________________________________________________________________________\n",
            "conv2_block2_3_conv (Conv2D)    (None, 32, 32, 256)  16640       conv2_block2_2_relu[0][0]        \n",
            "__________________________________________________________________________________________________\n",
            "conv2_block2_3_bn (BatchNormali (None, 32, 32, 256)  1024        conv2_block2_3_conv[0][0]        \n",
            "__________________________________________________________________________________________________\n",
            "conv2_block2_add (Add)          (None, 32, 32, 256)  0           conv2_block1_out[0][0]           \n",
            "                                                                 conv2_block2_3_bn[0][0]          \n",
            "__________________________________________________________________________________________________\n",
            "conv2_block2_out (Activation)   (None, 32, 32, 256)  0           conv2_block2_add[0][0]           \n",
            "__________________________________________________________________________________________________\n",
            "conv2_block3_1_conv (Conv2D)    (None, 32, 32, 64)   16448       conv2_block2_out[0][0]           \n",
            "__________________________________________________________________________________________________\n",
            "conv2_block3_1_bn (BatchNormali (None, 32, 32, 64)   256         conv2_block3_1_conv[0][0]        \n",
            "__________________________________________________________________________________________________\n",
            "conv2_block3_1_relu (Activation (None, 32, 32, 64)   0           conv2_block3_1_bn[0][0]          \n",
            "__________________________________________________________________________________________________\n",
            "conv2_block3_2_conv (Conv2D)    (None, 32, 32, 64)   36928       conv2_block3_1_relu[0][0]        \n",
            "__________________________________________________________________________________________________\n",
            "conv2_block3_2_bn (BatchNormali (None, 32, 32, 64)   256         conv2_block3_2_conv[0][0]        \n",
            "__________________________________________________________________________________________________\n",
            "conv2_block3_2_relu (Activation (None, 32, 32, 64)   0           conv2_block3_2_bn[0][0]          \n",
            "__________________________________________________________________________________________________\n",
            "conv2_block3_3_conv (Conv2D)    (None, 32, 32, 256)  16640       conv2_block3_2_relu[0][0]        \n",
            "__________________________________________________________________________________________________\n",
            "conv2_block3_3_bn (BatchNormali (None, 32, 32, 256)  1024        conv2_block3_3_conv[0][0]        \n",
            "__________________________________________________________________________________________________\n",
            "conv2_block3_add (Add)          (None, 32, 32, 256)  0           conv2_block2_out[0][0]           \n",
            "                                                                 conv2_block3_3_bn[0][0]          \n",
            "__________________________________________________________________________________________________\n",
            "conv2_block3_out (Activation)   (None, 32, 32, 256)  0           conv2_block3_add[0][0]           \n",
            "__________________________________________________________________________________________________\n",
            "conv3_block1_1_conv (Conv2D)    (None, 16, 16, 128)  32896       conv2_block3_out[0][0]           \n",
            "__________________________________________________________________________________________________\n",
            "conv3_block1_1_bn (BatchNormali (None, 16, 16, 128)  512         conv3_block1_1_conv[0][0]        \n",
            "__________________________________________________________________________________________________\n",
            "conv3_block1_1_relu (Activation (None, 16, 16, 128)  0           conv3_block1_1_bn[0][0]          \n",
            "__________________________________________________________________________________________________\n",
            "conv3_block1_2_conv (Conv2D)    (None, 16, 16, 128)  147584      conv3_block1_1_relu[0][0]        \n",
            "__________________________________________________________________________________________________\n",
            "conv3_block1_2_bn (BatchNormali (None, 16, 16, 128)  512         conv3_block1_2_conv[0][0]        \n",
            "__________________________________________________________________________________________________\n",
            "conv3_block1_2_relu (Activation (None, 16, 16, 128)  0           conv3_block1_2_bn[0][0]          \n",
            "__________________________________________________________________________________________________\n",
            "conv3_block1_0_conv (Conv2D)    (None, 16, 16, 512)  131584      conv2_block3_out[0][0]           \n",
            "__________________________________________________________________________________________________\n",
            "conv3_block1_3_conv (Conv2D)    (None, 16, 16, 512)  66048       conv3_block1_2_relu[0][0]        \n",
            "__________________________________________________________________________________________________\n",
            "conv3_block1_0_bn (BatchNormali (None, 16, 16, 512)  2048        conv3_block1_0_conv[0][0]        \n",
            "__________________________________________________________________________________________________\n",
            "conv3_block1_3_bn (BatchNormali (None, 16, 16, 512)  2048        conv3_block1_3_conv[0][0]        \n",
            "__________________________________________________________________________________________________\n",
            "conv3_block1_add (Add)          (None, 16, 16, 512)  0           conv3_block1_0_bn[0][0]          \n",
            "                                                                 conv3_block1_3_bn[0][0]          \n",
            "__________________________________________________________________________________________________\n",
            "conv3_block1_out (Activation)   (None, 16, 16, 512)  0           conv3_block1_add[0][0]           \n",
            "__________________________________________________________________________________________________\n",
            "conv3_block2_1_conv (Conv2D)    (None, 16, 16, 128)  65664       conv3_block1_out[0][0]           \n",
            "__________________________________________________________________________________________________\n",
            "conv3_block2_1_bn (BatchNormali (None, 16, 16, 128)  512         conv3_block2_1_conv[0][0]        \n",
            "__________________________________________________________________________________________________\n",
            "conv3_block2_1_relu (Activation (None, 16, 16, 128)  0           conv3_block2_1_bn[0][0]          \n",
            "__________________________________________________________________________________________________\n",
            "conv3_block2_2_conv (Conv2D)    (None, 16, 16, 128)  147584      conv3_block2_1_relu[0][0]        \n",
            "__________________________________________________________________________________________________\n",
            "conv3_block2_2_bn (BatchNormali (None, 16, 16, 128)  512         conv3_block2_2_conv[0][0]        \n",
            "__________________________________________________________________________________________________\n",
            "conv3_block2_2_relu (Activation (None, 16, 16, 128)  0           conv3_block2_2_bn[0][0]          \n",
            "__________________________________________________________________________________________________\n",
            "conv3_block2_3_conv (Conv2D)    (None, 16, 16, 512)  66048       conv3_block2_2_relu[0][0]        \n",
            "__________________________________________________________________________________________________\n",
            "conv3_block2_3_bn (BatchNormali (None, 16, 16, 512)  2048        conv3_block2_3_conv[0][0]        \n",
            "__________________________________________________________________________________________________\n",
            "conv3_block2_add (Add)          (None, 16, 16, 512)  0           conv3_block1_out[0][0]           \n",
            "                                                                 conv3_block2_3_bn[0][0]          \n",
            "__________________________________________________________________________________________________\n",
            "conv3_block2_out (Activation)   (None, 16, 16, 512)  0           conv3_block2_add[0][0]           \n",
            "__________________________________________________________________________________________________\n",
            "conv3_block3_1_conv (Conv2D)    (None, 16, 16, 128)  65664       conv3_block2_out[0][0]           \n",
            "__________________________________________________________________________________________________\n",
            "conv3_block3_1_bn (BatchNormali (None, 16, 16, 128)  512         conv3_block3_1_conv[0][0]        \n",
            "__________________________________________________________________________________________________\n",
            "conv3_block3_1_relu (Activation (None, 16, 16, 128)  0           conv3_block3_1_bn[0][0]          \n",
            "__________________________________________________________________________________________________\n",
            "conv3_block3_2_conv (Conv2D)    (None, 16, 16, 128)  147584      conv3_block3_1_relu[0][0]        \n",
            "__________________________________________________________________________________________________\n",
            "conv3_block3_2_bn (BatchNormali (None, 16, 16, 128)  512         conv3_block3_2_conv[0][0]        \n",
            "__________________________________________________________________________________________________\n",
            "conv3_block3_2_relu (Activation (None, 16, 16, 128)  0           conv3_block3_2_bn[0][0]          \n",
            "__________________________________________________________________________________________________\n",
            "conv3_block3_3_conv (Conv2D)    (None, 16, 16, 512)  66048       conv3_block3_2_relu[0][0]        \n",
            "__________________________________________________________________________________________________\n",
            "conv3_block3_3_bn (BatchNormali (None, 16, 16, 512)  2048        conv3_block3_3_conv[0][0]        \n",
            "__________________________________________________________________________________________________\n",
            "conv3_block3_add (Add)          (None, 16, 16, 512)  0           conv3_block2_out[0][0]           \n",
            "                                                                 conv3_block3_3_bn[0][0]          \n",
            "__________________________________________________________________________________________________\n",
            "conv3_block3_out (Activation)   (None, 16, 16, 512)  0           conv3_block3_add[0][0]           \n",
            "__________________________________________________________________________________________________\n",
            "conv3_block4_1_conv (Conv2D)    (None, 16, 16, 128)  65664       conv3_block3_out[0][0]           \n",
            "__________________________________________________________________________________________________\n",
            "conv3_block4_1_bn (BatchNormali (None, 16, 16, 128)  512         conv3_block4_1_conv[0][0]        \n",
            "__________________________________________________________________________________________________\n",
            "conv3_block4_1_relu (Activation (None, 16, 16, 128)  0           conv3_block4_1_bn[0][0]          \n",
            "__________________________________________________________________________________________________\n",
            "conv3_block4_2_conv (Conv2D)    (None, 16, 16, 128)  147584      conv3_block4_1_relu[0][0]        \n",
            "__________________________________________________________________________________________________\n",
            "conv3_block4_2_bn (BatchNormali (None, 16, 16, 128)  512         conv3_block4_2_conv[0][0]        \n",
            "__________________________________________________________________________________________________\n",
            "conv3_block4_2_relu (Activation (None, 16, 16, 128)  0           conv3_block4_2_bn[0][0]          \n",
            "__________________________________________________________________________________________________\n",
            "conv3_block4_3_conv (Conv2D)    (None, 16, 16, 512)  66048       conv3_block4_2_relu[0][0]        \n",
            "__________________________________________________________________________________________________\n",
            "conv3_block4_3_bn (BatchNormali (None, 16, 16, 512)  2048        conv3_block4_3_conv[0][0]        \n",
            "__________________________________________________________________________________________________\n",
            "conv3_block4_add (Add)          (None, 16, 16, 512)  0           conv3_block3_out[0][0]           \n",
            "                                                                 conv3_block4_3_bn[0][0]          \n",
            "__________________________________________________________________________________________________\n",
            "conv3_block4_out (Activation)   (None, 16, 16, 512)  0           conv3_block4_add[0][0]           \n",
            "__________________________________________________________________________________________________\n",
            "conv4_block1_1_conv (Conv2D)    (None, 8, 8, 256)    131328      conv3_block4_out[0][0]           \n",
            "__________________________________________________________________________________________________\n",
            "conv4_block1_1_bn (BatchNormali (None, 8, 8, 256)    1024        conv4_block1_1_conv[0][0]        \n",
            "__________________________________________________________________________________________________\n",
            "conv4_block1_1_relu (Activation (None, 8, 8, 256)    0           conv4_block1_1_bn[0][0]          \n",
            "__________________________________________________________________________________________________\n",
            "conv4_block1_2_conv (Conv2D)    (None, 8, 8, 256)    590080      conv4_block1_1_relu[0][0]        \n",
            "__________________________________________________________________________________________________\n",
            "conv4_block1_2_bn (BatchNormali (None, 8, 8, 256)    1024        conv4_block1_2_conv[0][0]        \n",
            "__________________________________________________________________________________________________\n",
            "conv4_block1_2_relu (Activation (None, 8, 8, 256)    0           conv4_block1_2_bn[0][0]          \n",
            "__________________________________________________________________________________________________\n",
            "conv4_block1_0_conv (Conv2D)    (None, 8, 8, 1024)   525312      conv3_block4_out[0][0]           \n",
            "__________________________________________________________________________________________________\n",
            "conv4_block1_3_conv (Conv2D)    (None, 8, 8, 1024)   263168      conv4_block1_2_relu[0][0]        \n",
            "__________________________________________________________________________________________________\n",
            "conv4_block1_0_bn (BatchNormali (None, 8, 8, 1024)   4096        conv4_block1_0_conv[0][0]        \n",
            "__________________________________________________________________________________________________\n",
            "conv4_block1_3_bn (BatchNormali (None, 8, 8, 1024)   4096        conv4_block1_3_conv[0][0]        \n",
            "__________________________________________________________________________________________________\n",
            "conv4_block1_add (Add)          (None, 8, 8, 1024)   0           conv4_block1_0_bn[0][0]          \n",
            "                                                                 conv4_block1_3_bn[0][0]          \n",
            "__________________________________________________________________________________________________\n",
            "conv4_block1_out (Activation)   (None, 8, 8, 1024)   0           conv4_block1_add[0][0]           \n",
            "__________________________________________________________________________________________________\n",
            "conv4_block2_1_conv (Conv2D)    (None, 8, 8, 256)    262400      conv4_block1_out[0][0]           \n",
            "__________________________________________________________________________________________________\n",
            "conv4_block2_1_bn (BatchNormali (None, 8, 8, 256)    1024        conv4_block2_1_conv[0][0]        \n",
            "__________________________________________________________________________________________________\n",
            "conv4_block2_1_relu (Activation (None, 8, 8, 256)    0           conv4_block2_1_bn[0][0]          \n",
            "__________________________________________________________________________________________________\n",
            "conv4_block2_2_conv (Conv2D)    (None, 8, 8, 256)    590080      conv4_block2_1_relu[0][0]        \n",
            "__________________________________________________________________________________________________\n",
            "conv4_block2_2_bn (BatchNormali (None, 8, 8, 256)    1024        conv4_block2_2_conv[0][0]        \n",
            "__________________________________________________________________________________________________\n",
            "conv4_block2_2_relu (Activation (None, 8, 8, 256)    0           conv4_block2_2_bn[0][0]          \n",
            "__________________________________________________________________________________________________\n",
            "conv4_block2_3_conv (Conv2D)    (None, 8, 8, 1024)   263168      conv4_block2_2_relu[0][0]        \n",
            "__________________________________________________________________________________________________\n",
            "conv4_block2_3_bn (BatchNormali (None, 8, 8, 1024)   4096        conv4_block2_3_conv[0][0]        \n",
            "__________________________________________________________________________________________________\n",
            "conv4_block2_add (Add)          (None, 8, 8, 1024)   0           conv4_block1_out[0][0]           \n",
            "                                                                 conv4_block2_3_bn[0][0]          \n",
            "__________________________________________________________________________________________________\n",
            "conv4_block2_out (Activation)   (None, 8, 8, 1024)   0           conv4_block2_add[0][0]           \n",
            "__________________________________________________________________________________________________\n",
            "conv4_block3_1_conv (Conv2D)    (None, 8, 8, 256)    262400      conv4_block2_out[0][0]           \n",
            "__________________________________________________________________________________________________\n",
            "conv4_block3_1_bn (BatchNormali (None, 8, 8, 256)    1024        conv4_block3_1_conv[0][0]        \n",
            "__________________________________________________________________________________________________\n",
            "conv4_block3_1_relu (Activation (None, 8, 8, 256)    0           conv4_block3_1_bn[0][0]          \n",
            "__________________________________________________________________________________________________\n",
            "conv4_block3_2_conv (Conv2D)    (None, 8, 8, 256)    590080      conv4_block3_1_relu[0][0]        \n",
            "__________________________________________________________________________________________________\n",
            "conv4_block3_2_bn (BatchNormali (None, 8, 8, 256)    1024        conv4_block3_2_conv[0][0]        \n",
            "__________________________________________________________________________________________________\n",
            "conv4_block3_2_relu (Activation (None, 8, 8, 256)    0           conv4_block3_2_bn[0][0]          \n",
            "__________________________________________________________________________________________________\n",
            "conv4_block3_3_conv (Conv2D)    (None, 8, 8, 1024)   263168      conv4_block3_2_relu[0][0]        \n",
            "__________________________________________________________________________________________________\n",
            "conv4_block3_3_bn (BatchNormali (None, 8, 8, 1024)   4096        conv4_block3_3_conv[0][0]        \n",
            "__________________________________________________________________________________________________\n",
            "conv4_block3_add (Add)          (None, 8, 8, 1024)   0           conv4_block2_out[0][0]           \n",
            "                                                                 conv4_block3_3_bn[0][0]          \n",
            "__________________________________________________________________________________________________\n",
            "conv4_block3_out (Activation)   (None, 8, 8, 1024)   0           conv4_block3_add[0][0]           \n",
            "__________________________________________________________________________________________________\n",
            "conv4_block4_1_conv (Conv2D)    (None, 8, 8, 256)    262400      conv4_block3_out[0][0]           \n",
            "__________________________________________________________________________________________________\n",
            "conv4_block4_1_bn (BatchNormali (None, 8, 8, 256)    1024        conv4_block4_1_conv[0][0]        \n",
            "__________________________________________________________________________________________________\n",
            "conv4_block4_1_relu (Activation (None, 8, 8, 256)    0           conv4_block4_1_bn[0][0]          \n",
            "__________________________________________________________________________________________________\n",
            "conv4_block4_2_conv (Conv2D)    (None, 8, 8, 256)    590080      conv4_block4_1_relu[0][0]        \n",
            "__________________________________________________________________________________________________\n",
            "conv4_block4_2_bn (BatchNormali (None, 8, 8, 256)    1024        conv4_block4_2_conv[0][0]        \n",
            "__________________________________________________________________________________________________\n",
            "conv4_block4_2_relu (Activation (None, 8, 8, 256)    0           conv4_block4_2_bn[0][0]          \n",
            "__________________________________________________________________________________________________\n",
            "conv4_block4_3_conv (Conv2D)    (None, 8, 8, 1024)   263168      conv4_block4_2_relu[0][0]        \n",
            "__________________________________________________________________________________________________\n",
            "conv4_block4_3_bn (BatchNormali (None, 8, 8, 1024)   4096        conv4_block4_3_conv[0][0]        \n",
            "__________________________________________________________________________________________________\n",
            "conv4_block4_add (Add)          (None, 8, 8, 1024)   0           conv4_block3_out[0][0]           \n",
            "                                                                 conv4_block4_3_bn[0][0]          \n",
            "__________________________________________________________________________________________________\n",
            "conv4_block4_out (Activation)   (None, 8, 8, 1024)   0           conv4_block4_add[0][0]           \n",
            "__________________________________________________________________________________________________\n",
            "conv4_block5_1_conv (Conv2D)    (None, 8, 8, 256)    262400      conv4_block4_out[0][0]           \n",
            "__________________________________________________________________________________________________\n",
            "conv4_block5_1_bn (BatchNormali (None, 8, 8, 256)    1024        conv4_block5_1_conv[0][0]        \n",
            "__________________________________________________________________________________________________\n",
            "conv4_block5_1_relu (Activation (None, 8, 8, 256)    0           conv4_block5_1_bn[0][0]          \n",
            "__________________________________________________________________________________________________\n",
            "conv4_block5_2_conv (Conv2D)    (None, 8, 8, 256)    590080      conv4_block5_1_relu[0][0]        \n",
            "__________________________________________________________________________________________________\n",
            "conv4_block5_2_bn (BatchNormali (None, 8, 8, 256)    1024        conv4_block5_2_conv[0][0]        \n",
            "__________________________________________________________________________________________________\n",
            "conv4_block5_2_relu (Activation (None, 8, 8, 256)    0           conv4_block5_2_bn[0][0]          \n",
            "__________________________________________________________________________________________________\n",
            "conv4_block5_3_conv (Conv2D)    (None, 8, 8, 1024)   263168      conv4_block5_2_relu[0][0]        \n",
            "__________________________________________________________________________________________________\n",
            "conv4_block5_3_bn (BatchNormali (None, 8, 8, 1024)   4096        conv4_block5_3_conv[0][0]        \n",
            "__________________________________________________________________________________________________\n",
            "conv4_block5_add (Add)          (None, 8, 8, 1024)   0           conv4_block4_out[0][0]           \n",
            "                                                                 conv4_block5_3_bn[0][0]          \n",
            "__________________________________________________________________________________________________\n",
            "conv4_block5_out (Activation)   (None, 8, 8, 1024)   0           conv4_block5_add[0][0]           \n",
            "__________________________________________________________________________________________________\n",
            "conv4_block6_1_conv (Conv2D)    (None, 8, 8, 256)    262400      conv4_block5_out[0][0]           \n",
            "__________________________________________________________________________________________________\n",
            "conv4_block6_1_bn (BatchNormali (None, 8, 8, 256)    1024        conv4_block6_1_conv[0][0]        \n",
            "__________________________________________________________________________________________________\n",
            "conv4_block6_1_relu (Activation (None, 8, 8, 256)    0           conv4_block6_1_bn[0][0]          \n",
            "__________________________________________________________________________________________________\n",
            "conv4_block6_2_conv (Conv2D)    (None, 8, 8, 256)    590080      conv4_block6_1_relu[0][0]        \n",
            "__________________________________________________________________________________________________\n",
            "conv4_block6_2_bn (BatchNormali (None, 8, 8, 256)    1024        conv4_block6_2_conv[0][0]        \n",
            "__________________________________________________________________________________________________\n",
            "conv4_block6_2_relu (Activation (None, 8, 8, 256)    0           conv4_block6_2_bn[0][0]          \n",
            "__________________________________________________________________________________________________\n",
            "conv4_block6_3_conv (Conv2D)    (None, 8, 8, 1024)   263168      conv4_block6_2_relu[0][0]        \n",
            "__________________________________________________________________________________________________\n",
            "conv4_block6_3_bn (BatchNormali (None, 8, 8, 1024)   4096        conv4_block6_3_conv[0][0]        \n",
            "__________________________________________________________________________________________________\n",
            "conv4_block6_add (Add)          (None, 8, 8, 1024)   0           conv4_block5_out[0][0]           \n",
            "                                                                 conv4_block6_3_bn[0][0]          \n",
            "__________________________________________________________________________________________________\n",
            "conv4_block6_out (Activation)   (None, 8, 8, 1024)   0           conv4_block6_add[0][0]           \n",
            "__________________________________________________________________________________________________\n",
            "conv5_block1_1_conv (Conv2D)    (None, 4, 4, 512)    524800      conv4_block6_out[0][0]           \n",
            "__________________________________________________________________________________________________\n",
            "conv5_block1_1_bn (BatchNormali (None, 4, 4, 512)    2048        conv5_block1_1_conv[0][0]        \n",
            "__________________________________________________________________________________________________\n",
            "conv5_block1_1_relu (Activation (None, 4, 4, 512)    0           conv5_block1_1_bn[0][0]          \n",
            "__________________________________________________________________________________________________\n",
            "conv5_block1_2_conv (Conv2D)    (None, 4, 4, 512)    2359808     conv5_block1_1_relu[0][0]        \n",
            "__________________________________________________________________________________________________\n",
            "conv5_block1_2_bn (BatchNormali (None, 4, 4, 512)    2048        conv5_block1_2_conv[0][0]        \n",
            "__________________________________________________________________________________________________\n",
            "conv5_block1_2_relu (Activation (None, 4, 4, 512)    0           conv5_block1_2_bn[0][0]          \n",
            "__________________________________________________________________________________________________\n",
            "conv5_block1_0_conv (Conv2D)    (None, 4, 4, 2048)   2099200     conv4_block6_out[0][0]           \n",
            "__________________________________________________________________________________________________\n",
            "conv5_block1_3_conv (Conv2D)    (None, 4, 4, 2048)   1050624     conv5_block1_2_relu[0][0]        \n",
            "__________________________________________________________________________________________________\n",
            "conv5_block1_0_bn (BatchNormali (None, 4, 4, 2048)   8192        conv5_block1_0_conv[0][0]        \n",
            "__________________________________________________________________________________________________\n",
            "conv5_block1_3_bn (BatchNormali (None, 4, 4, 2048)   8192        conv5_block1_3_conv[0][0]        \n",
            "__________________________________________________________________________________________________\n",
            "conv5_block1_add (Add)          (None, 4, 4, 2048)   0           conv5_block1_0_bn[0][0]          \n",
            "                                                                 conv5_block1_3_bn[0][0]          \n",
            "__________________________________________________________________________________________________\n",
            "conv5_block1_out (Activation)   (None, 4, 4, 2048)   0           conv5_block1_add[0][0]           \n",
            "__________________________________________________________________________________________________\n",
            "conv5_block2_1_conv (Conv2D)    (None, 4, 4, 512)    1049088     conv5_block1_out[0][0]           \n",
            "__________________________________________________________________________________________________\n",
            "conv5_block2_1_bn (BatchNormali (None, 4, 4, 512)    2048        conv5_block2_1_conv[0][0]        \n",
            "__________________________________________________________________________________________________\n",
            "conv5_block2_1_relu (Activation (None, 4, 4, 512)    0           conv5_block2_1_bn[0][0]          \n",
            "__________________________________________________________________________________________________\n",
            "conv5_block2_2_conv (Conv2D)    (None, 4, 4, 512)    2359808     conv5_block2_1_relu[0][0]        \n",
            "__________________________________________________________________________________________________\n",
            "conv5_block2_2_bn (BatchNormali (None, 4, 4, 512)    2048        conv5_block2_2_conv[0][0]        \n",
            "__________________________________________________________________________________________________\n",
            "conv5_block2_2_relu (Activation (None, 4, 4, 512)    0           conv5_block2_2_bn[0][0]          \n",
            "__________________________________________________________________________________________________\n",
            "conv5_block2_3_conv (Conv2D)    (None, 4, 4, 2048)   1050624     conv5_block2_2_relu[0][0]        \n",
            "__________________________________________________________________________________________________\n",
            "conv5_block2_3_bn (BatchNormali (None, 4, 4, 2048)   8192        conv5_block2_3_conv[0][0]        \n",
            "__________________________________________________________________________________________________\n",
            "conv5_block2_add (Add)          (None, 4, 4, 2048)   0           conv5_block1_out[0][0]           \n",
            "                                                                 conv5_block2_3_bn[0][0]          \n",
            "__________________________________________________________________________________________________\n",
            "conv5_block2_out (Activation)   (None, 4, 4, 2048)   0           conv5_block2_add[0][0]           \n",
            "__________________________________________________________________________________________________\n",
            "conv5_block3_1_conv (Conv2D)    (None, 4, 4, 512)    1049088     conv5_block2_out[0][0]           \n",
            "__________________________________________________________________________________________________\n",
            "conv5_block3_1_bn (BatchNormali (None, 4, 4, 512)    2048        conv5_block3_1_conv[0][0]        \n",
            "__________________________________________________________________________________________________\n",
            "conv5_block3_1_relu (Activation (None, 4, 4, 512)    0           conv5_block3_1_bn[0][0]          \n",
            "__________________________________________________________________________________________________\n",
            "conv5_block3_2_conv (Conv2D)    (None, 4, 4, 512)    2359808     conv5_block3_1_relu[0][0]        \n",
            "__________________________________________________________________________________________________\n",
            "conv5_block3_2_bn (BatchNormali (None, 4, 4, 512)    2048        conv5_block3_2_conv[0][0]        \n",
            "__________________________________________________________________________________________________\n",
            "conv5_block3_2_relu (Activation (None, 4, 4, 512)    0           conv5_block3_2_bn[0][0]          \n",
            "__________________________________________________________________________________________________\n",
            "conv5_block3_3_conv (Conv2D)    (None, 4, 4, 2048)   1050624     conv5_block3_2_relu[0][0]        \n",
            "__________________________________________________________________________________________________\n",
            "conv5_block3_3_bn (BatchNormali (None, 4, 4, 2048)   8192        conv5_block3_3_conv[0][0]        \n",
            "__________________________________________________________________________________________________\n",
            "conv5_block3_add (Add)          (None, 4, 4, 2048)   0           conv5_block2_out[0][0]           \n",
            "                                                                 conv5_block3_3_bn[0][0]          \n",
            "__________________________________________________________________________________________________\n",
            "conv5_block3_out (Activation)   (None, 4, 4, 2048)   0           conv5_block3_add[0][0]           \n",
            "__________________________________________________________________________________________________\n",
            "flatten (Flatten)               (None, 32768)        0           conv5_block3_out[0][0]           \n",
            "__________________________________________________________________________________________________\n",
            "dense (Dense)                   (None, 100)          3276900     flatten[0][0]                    \n",
            "__________________________________________________________________________________________________\n",
            "dense_1 (Dense)                 (None, 5)            505         dense[0][0]                      \n",
            "==================================================================================================\n",
            "Total params: 26,865,117\n",
            "Trainable params: 3,277,405\n",
            "Non-trainable params: 23,587,712\n",
            "__________________________________________________________________________________________________\n"
          ]
        }
      ]
    },
    {
      "cell_type": "code",
      "metadata": {
        "colab": {
          "base_uri": "https://localhost:8080/"
        },
        "id": "nJGKobxWo8uv",
        "outputId": "1daba546-bdf3-43bd-8e66-a533e7a16856"
      },
      "source": [
        "# create early stopping object\n",
        "es = EarlyStopping(monitor='val_loss', mode='min', verbose=1, patience=20)\n",
        "\n",
        "# fit model\n",
        "history = model.fit(train_iter, \n",
        "                    steps_per_epoch=len(train_iter),\n",
        "                    validation_data=val_iter,\n",
        "                    validation_steps=len(val_iter), \n",
        "                    callbacks=[es],\n",
        "                    epochs=200)"
      ],
      "execution_count": 15,
      "outputs": [
        {
          "output_type": "stream",
          "name": "stdout",
          "text": [
            "Epoch 1/200\n",
            "64/64 [==============================] - 40s 109ms/step - loss: 0.7183 - fbeta: 0.7339 - val_loss: 0.2464 - val_fbeta: 0.7729\n",
            "Epoch 2/200\n",
            "64/64 [==============================] - 6s 88ms/step - loss: 0.1186 - fbeta: 0.9110 - val_loss: 0.2436 - val_fbeta: 0.8093\n",
            "Epoch 3/200\n",
            "64/64 [==============================] - 6s 88ms/step - loss: 0.0583 - fbeta: 0.9581 - val_loss: 0.2809 - val_fbeta: 0.8124\n",
            "Epoch 4/200\n",
            "64/64 [==============================] - 6s 89ms/step - loss: 0.0361 - fbeta: 0.9741 - val_loss: 0.2948 - val_fbeta: 0.8261\n",
            "Epoch 5/200\n",
            "64/64 [==============================] - 6s 88ms/step - loss: 0.0259 - fbeta: 0.9862 - val_loss: 0.3142 - val_fbeta: 0.8140\n",
            "Epoch 6/200\n",
            "64/64 [==============================] - 6s 89ms/step - loss: 0.0151 - fbeta: 0.9909 - val_loss: 0.3090 - val_fbeta: 0.8375\n",
            "Epoch 7/200\n",
            "64/64 [==============================] - 6s 90ms/step - loss: 0.0120 - fbeta: 0.9959 - val_loss: 0.2903 - val_fbeta: 0.8457\n",
            "Epoch 8/200\n",
            "64/64 [==============================] - 6s 89ms/step - loss: 0.0089 - fbeta: 0.9956 - val_loss: 0.3158 - val_fbeta: 0.8383\n",
            "Epoch 9/200\n",
            "64/64 [==============================] - 6s 89ms/step - loss: 0.0075 - fbeta: 0.9965 - val_loss: 0.3061 - val_fbeta: 0.8244\n",
            "Epoch 10/200\n",
            "64/64 [==============================] - 6s 89ms/step - loss: 0.0053 - fbeta: 0.9979 - val_loss: 0.3176 - val_fbeta: 0.8276\n",
            "Epoch 11/200\n",
            "64/64 [==============================] - 6s 88ms/step - loss: 0.0047 - fbeta: 0.9985 - val_loss: 0.3217 - val_fbeta: 0.8368\n",
            "Epoch 12/200\n",
            "64/64 [==============================] - 6s 89ms/step - loss: 0.0033 - fbeta: 0.9982 - val_loss: 0.3298 - val_fbeta: 0.8305\n",
            "Epoch 13/200\n",
            "64/64 [==============================] - 6s 89ms/step - loss: 0.0069 - fbeta: 0.9979 - val_loss: 0.3411 - val_fbeta: 0.8310\n",
            "Epoch 14/200\n",
            "64/64 [==============================] - 6s 89ms/step - loss: 0.0043 - fbeta: 0.9985 - val_loss: 0.3490 - val_fbeta: 0.8296\n",
            "Epoch 15/200\n",
            "64/64 [==============================] - 6s 88ms/step - loss: 0.0025 - fbeta: 0.9997 - val_loss: 0.3313 - val_fbeta: 0.8421\n",
            "Epoch 16/200\n",
            "64/64 [==============================] - 6s 89ms/step - loss: 0.0012 - fbeta: 0.9997 - val_loss: 0.3382 - val_fbeta: 0.8392\n",
            "Epoch 17/200\n",
            "64/64 [==============================] - 6s 88ms/step - loss: 7.4508e-04 - fbeta: 0.9997 - val_loss: 0.3420 - val_fbeta: 0.8402\n",
            "Epoch 18/200\n",
            "64/64 [==============================] - 6s 89ms/step - loss: 5.5205e-04 - fbeta: 0.9997 - val_loss: 0.3449 - val_fbeta: 0.8402\n",
            "Epoch 19/200\n",
            "64/64 [==============================] - 6s 89ms/step - loss: 4.5785e-04 - fbeta: 1.0000 - val_loss: 0.3499 - val_fbeta: 0.8402\n",
            "Epoch 20/200\n",
            "64/64 [==============================] - 6s 90ms/step - loss: 3.6915e-04 - fbeta: 1.0000 - val_loss: 0.3517 - val_fbeta: 0.8402\n",
            "Epoch 21/200\n",
            "64/64 [==============================] - 6s 88ms/step - loss: 3.1111e-04 - fbeta: 1.0000 - val_loss: 0.3565 - val_fbeta: 0.8397\n",
            "Epoch 22/200\n",
            "64/64 [==============================] - 6s 89ms/step - loss: 2.6789e-04 - fbeta: 1.0000 - val_loss: 0.3573 - val_fbeta: 0.8411\n",
            "Epoch 00022: early stopping\n"
          ]
        }
      ]
    },
    {
      "cell_type": "code",
      "metadata": {
        "id": "sQNEF43drCyz"
      },
      "source": [
        "# create function for plotting\n",
        "\n",
        "def evaluate_model(history):\n",
        "    # plot training and validation loss\n",
        "    fig = plt.figure(figsize=(15,5))\n",
        "    fig.add_subplot(121)\n",
        "    plt.plot(history.history['loss'], color='blue', label='train')\n",
        "    plt.plot(history.history['val_loss'], color='orange', label='val')\n",
        "    plt.legend()\n",
        "    plt.title('Loss')\n",
        "\n",
        "    # plot training and validation accuracy\n",
        "    fig.add_subplot(122)\n",
        "    plt.plot(history.history['fbeta'], color='blue', label='train')\n",
        "    plt.plot(history.history['val_fbeta'], color='orange', label='val')\n",
        "    plt.legend()\n",
        "    plt.title('F-beta score')\n",
        "    \n",
        "    plt.show()\n",
        "    \n",
        "    # print model accuracy\n",
        "    _, fbeta = model.evaluate(test_iter, steps=len(test_iter), verbose=0)\n",
        "    print('Model F-beta score : ', fbeta)\n",
        "    return fbeta"
      ],
      "execution_count": 16,
      "outputs": []
    },
    {
      "cell_type": "code",
      "metadata": {
        "colab": {
          "base_uri": "https://localhost:8080/",
          "height": 353
        },
        "id": "MUSmt3KfrsZI",
        "outputId": "c6eba4f2-110f-40a5-9d6c-14171e925c97"
      },
      "source": [
        "baseline_perf = evaluate_model(history)"
      ],
      "execution_count": 17,
      "outputs": [
        {
          "output_type": "display_data",
          "data": {
            "image/png": "[encoded data removed]",
            "text/plain": [
              "<Figure size 1080x360 with 2 Axes>"
            ]
          },
          "metadata": {
            "needs_background": "light"
          }
        },
        {
          "output_type": "stream",
          "name": "stdout",
          "text": [
            "Model F-beta score :  0.8384124636650085\n"
          ]
        }
      ]
    },
    {
      "cell_type": "markdown",
      "metadata": {
        "id": "cfjiGFryBexB"
      },
      "source": [
        "Note : overfitting"
      ]
    },
    {
      "cell_type": "markdown",
      "metadata": {
        "id": "ccaNy9GUBX8s"
      },
      "source": [
        "## Improved Models"
      ]
    },
    {
      "cell_type": "markdown",
      "metadata": {
        "id": "7zDu2tBTZZiW"
      },
      "source": [
        "### model 1 : set last block as trainable"
      ]
    },
    {
      "cell_type": "code",
      "metadata": {
        "colab": {
          "base_uri": "https://localhost:8080/",
          "height": 1000
        },
        "id": "HMfZZJ1pZkIa",
        "outputId": "30df9ebf-5f06-482a-ff48-bdfcad73e5c5"
      },
      "source": [
        "# create model\n",
        "\n",
        "# load ResNet50 model\n",
        "model = ResNet50(include_top=False, input_shape=(128,128,3))\n",
        "# mark loaded layers as not trainable\n",
        "for layer in model.layers:\n",
        "    layer.trainable = False\n",
        "# mark last block as trainable\n",
        "model.get_layer('conv5_block3_3_conv').trainable = True\n",
        "model.get_layer('conv5_block3_3_bn').trainable = True\n",
        "# add new classifier layers\n",
        "flat1 = Flatten()(model.layers[-1].output)\n",
        "class1 = Dense(100, activation='relu', kernel_initializer='he_uniform')(flat1)\n",
        "output = Dense(5, activation='sigmoid')(class1)\n",
        "# define model\n",
        "model = Model(inputs=model.inputs, outputs=output)\n",
        "\n",
        "# compile model\n",
        "model.compile(optimizer='adam', loss='binary_crossentropy', metrics=[fbeta])\n",
        "\n",
        "# create early stopping object\n",
        "es = EarlyStopping(monitor='val_loss', mode='min', verbose=1, patience=20)\n",
        "\n",
        "# fit model\n",
        "history = model.fit(train_iter, \n",
        "                    steps_per_epoch=len(train_iter),\n",
        "                    validation_data=val_iter,\n",
        "                    validation_steps=len(val_iter), \n",
        "                    callbacks=[es],\n",
        "                    epochs=200)\n",
        "\n",
        "model1_perf = evaluate_model(history)"
      ],
      "execution_count": 18,
      "outputs": [
        {
          "output_type": "stream",
          "name": "stdout",
          "text": [
            "Epoch 1/200\n",
            "64/64 [==============================] - 12s 108ms/step - loss: 0.5537 - fbeta: 0.7588 - val_loss: 0.3914 - val_fbeta: 0.7670\n",
            "Epoch 2/200\n",
            "64/64 [==============================] - 6s 90ms/step - loss: 0.0755 - fbeta: 0.9511 - val_loss: 0.2827 - val_fbeta: 0.8647\n",
            "Epoch 3/200\n",
            "64/64 [==============================] - 6s 90ms/step - loss: 0.0221 - fbeta: 0.9886 - val_loss: 0.3197 - val_fbeta: 0.8424\n",
            "Epoch 4/200\n",
            "64/64 [==============================] - 6s 90ms/step - loss: 0.0079 - fbeta: 0.9969 - val_loss: 0.3183 - val_fbeta: 0.8435\n",
            "Epoch 5/200\n",
            "64/64 [==============================] - 6s 90ms/step - loss: 0.0032 - fbeta: 0.9996 - val_loss: 0.3244 - val_fbeta: 0.8441\n",
            "Epoch 6/200\n",
            "64/64 [==============================] - 6s 90ms/step - loss: 0.0016 - fbeta: 0.9998 - val_loss: 0.3167 - val_fbeta: 0.8442\n",
            "Epoch 7/200\n",
            "64/64 [==============================] - 6s 90ms/step - loss: 0.0013 - fbeta: 0.9998 - val_loss: 0.3307 - val_fbeta: 0.8395\n",
            "Epoch 8/200\n",
            "64/64 [==============================] - 6s 90ms/step - loss: 5.9493e-04 - fbeta: 1.0000 - val_loss: 0.3282 - val_fbeta: 0.8408\n",
            "Epoch 9/200\n",
            "64/64 [==============================] - 6s 90ms/step - loss: 4.6433e-04 - fbeta: 1.0000 - val_loss: 0.3337 - val_fbeta: 0.8413\n",
            "Epoch 10/200\n",
            "64/64 [==============================] - 6s 90ms/step - loss: 3.7518e-04 - fbeta: 1.0000 - val_loss: 0.3361 - val_fbeta: 0.8399\n",
            "Epoch 11/200\n",
            "64/64 [==============================] - 6s 90ms/step - loss: 3.1129e-04 - fbeta: 1.0000 - val_loss: 0.3378 - val_fbeta: 0.8362\n",
            "Epoch 12/200\n",
            "64/64 [==============================] - 6s 90ms/step - loss: 2.6127e-04 - fbeta: 1.0000 - val_loss: 0.3421 - val_fbeta: 0.8399\n",
            "Epoch 13/200\n",
            "64/64 [==============================] - 6s 91ms/step - loss: 2.3951e-04 - fbeta: 1.0000 - val_loss: 0.3453 - val_fbeta: 0.8399\n",
            "Epoch 14/200\n",
            "64/64 [==============================] - 6s 90ms/step - loss: 2.0360e-04 - fbeta: 1.0000 - val_loss: 0.3480 - val_fbeta: 0.8382\n",
            "Epoch 15/200\n",
            "64/64 [==============================] - 6s 92ms/step - loss: 1.7950e-04 - fbeta: 1.0000 - val_loss: 0.3508 - val_fbeta: 0.8382\n",
            "Epoch 16/200\n",
            "64/64 [==============================] - 6s 89ms/step - loss: 1.6175e-04 - fbeta: 1.0000 - val_loss: 0.3527 - val_fbeta: 0.8368\n",
            "Epoch 17/200\n",
            "64/64 [==============================] - 6s 90ms/step - loss: 1.4600e-04 - fbeta: 1.0000 - val_loss: 0.3532 - val_fbeta: 0.8373\n",
            "Epoch 18/200\n",
            "64/64 [==============================] - 6s 90ms/step - loss: 1.3781e-04 - fbeta: 1.0000 - val_loss: 0.3558 - val_fbeta: 0.8409\n",
            "Epoch 19/200\n",
            "64/64 [==============================] - 6s 90ms/step - loss: 1.2450e-04 - fbeta: 1.0000 - val_loss: 0.3569 - val_fbeta: 0.8423\n",
            "Epoch 20/200\n",
            "64/64 [==============================] - 6s 90ms/step - loss: 1.0949e-04 - fbeta: 1.0000 - val_loss: 0.3581 - val_fbeta: 0.8397\n",
            "Epoch 21/200\n",
            "64/64 [==============================] - 6s 90ms/step - loss: 1.0087e-04 - fbeta: 1.0000 - val_loss: 0.3595 - val_fbeta: 0.8428\n",
            "Epoch 22/200\n",
            "64/64 [==============================] - 6s 91ms/step - loss: 9.5788e-05 - fbeta: 1.0000 - val_loss: 0.3616 - val_fbeta: 0.8423\n",
            "Epoch 00022: early stopping\n"
          ]
        },
        {
          "output_type": "display_data",
          "data": {
            "image/png": "[encoded data removed]",
            "text/plain": [
              "<Figure size 1080x360 with 2 Axes>"
            ]
          },
          "metadata": {
            "needs_background": "light"
          }
        },
        {
          "output_type": "stream",
          "name": "stdout",
          "text": [
            "Model F-beta score :  0.8508242964744568\n"
          ]
        }
      ]
    },
    {
      "cell_type": "markdown",
      "metadata": {
        "id": "l9Bk3O59bepx"
      },
      "source": [
        "Note : overfitting, the performance is little higher than baseline model"
      ]
    },
    {
      "cell_type": "markdown",
      "metadata": {
        "id": "ybJFIEVmbiEM"
      },
      "source": [
        "### model 2 : Baseline + dropout layer"
      ]
    },
    {
      "cell_type": "code",
      "metadata": {
        "colab": {
          "base_uri": "https://localhost:8080/",
          "height": 1000
        },
        "id": "_hGHFAt9bfq6",
        "outputId": "921fb1e5-c762-43db-dc9e-cb6dcd0a39a9"
      },
      "source": [
        "# create image data generator\n",
        "train_gen = ImageDataGenerator(preprocessing_function=preprocess_input, validation_split=0.2)\n",
        "test_gen = ImageDataGenerator(preprocessing_function=preprocess_input)\n",
        "\n",
        "batch_size = 20\n",
        "train_iter = train_gen.flow(X_train, y_train, batch_size=batch_size, subset='training', seed=123)\n",
        "val_iter = train_gen.flow(X_train, y_train, batch_size=batch_size, subset='validation', seed=123)\n",
        "test_iter = test_gen.flow(X_test, y_test, batch_size=1, shuffle=False)\n",
        "\n",
        "# create model\n",
        "\n",
        "# load ResNet50 model\n",
        "model = ResNet50(include_top=False, input_shape=(128,128,3))\n",
        "# mark loaded layers as not trainable\n",
        "for layer in model.layers:\n",
        "    layer.trainable = False\n",
        "# add new classifier layers\n",
        "dropout1 = Dropout(0.2)(model.layers[-1].output)\n",
        "flat1 = Flatten()(dropout1)\n",
        "class1 = Dense(100, activation='relu', kernel_initializer='he_uniform')(flat1)\n",
        "dropout2 = Dropout(0.2)(class1)\n",
        "output = Dense(5, activation='sigmoid')(dropout2)\n",
        "\n",
        "# define model\n",
        "model = Model(inputs=model.inputs, outputs=output)\n",
        "\n",
        "# compile model\n",
        "model.compile(optimizer='adam', loss='binary_crossentropy', metrics=[fbeta])\n",
        "\n",
        "# create early stopping object\n",
        "es = EarlyStopping(monitor='val_loss', mode='min', verbose=1, patience=20)\n",
        "\n",
        "# fit model\n",
        "history = model.fit(train_iter, \n",
        "                    steps_per_epoch=len(train_iter),\n",
        "                    validation_data=val_iter,\n",
        "                    validation_steps=len(val_iter), \n",
        "                    callbacks=[es],\n",
        "                    epochs=200)\n",
        "\n",
        "model2_perf = evaluate_model(history)"
      ],
      "execution_count": 24,
      "outputs": [
        {
          "output_type": "stream",
          "name": "stdout",
          "text": [
            "Epoch 1/200\n",
            "64/64 [==============================] - 11s 108ms/step - loss: 0.5859 - fbeta: 0.7080 - val_loss: 0.2526 - val_fbeta: 0.8054\n",
            "Epoch 2/200\n",
            "64/64 [==============================] - 6s 88ms/step - loss: 0.2140 - fbeta: 0.8654 - val_loss: 0.2446 - val_fbeta: 0.8416\n",
            "Epoch 3/200\n",
            "64/64 [==============================] - 6s 88ms/step - loss: 0.1563 - fbeta: 0.9030 - val_loss: 0.2580 - val_fbeta: 0.8307\n",
            "Epoch 4/200\n",
            "64/64 [==============================] - 6s 88ms/step - loss: 0.1134 - fbeta: 0.9125 - val_loss: 0.2525 - val_fbeta: 0.8159\n",
            "Epoch 5/200\n",
            "64/64 [==============================] - 6s 88ms/step - loss: 0.1104 - fbeta: 0.9256 - val_loss: 0.2318 - val_fbeta: 0.8444\n",
            "Epoch 6/200\n",
            "64/64 [==============================] - 6s 87ms/step - loss: 0.0786 - fbeta: 0.9403 - val_loss: 0.2202 - val_fbeta: 0.8275\n",
            "Epoch 7/200\n",
            "64/64 [==============================] - 6s 88ms/step - loss: 0.0696 - fbeta: 0.9537 - val_loss: 0.2425 - val_fbeta: 0.8326\n",
            "Epoch 8/200\n",
            "64/64 [==============================] - 6s 88ms/step - loss: 0.0715 - fbeta: 0.9514 - val_loss: 0.2803 - val_fbeta: 0.8293\n",
            "Epoch 9/200\n",
            "64/64 [==============================] - 6s 88ms/step - loss: 0.0737 - fbeta: 0.9488 - val_loss: 0.2753 - val_fbeta: 0.8409\n",
            "Epoch 10/200\n",
            "64/64 [==============================] - 6s 88ms/step - loss: 0.0494 - fbeta: 0.9671 - val_loss: 0.3283 - val_fbeta: 0.8288\n",
            "Epoch 11/200\n",
            "64/64 [==============================] - 6s 88ms/step - loss: 0.0539 - fbeta: 0.9649 - val_loss: 0.3139 - val_fbeta: 0.8407\n",
            "Epoch 12/200\n",
            "64/64 [==============================] - 6s 88ms/step - loss: 0.0641 - fbeta: 0.9631 - val_loss: 0.2758 - val_fbeta: 0.8450\n",
            "Epoch 13/200\n",
            "64/64 [==============================] - 6s 88ms/step - loss: 0.0541 - fbeta: 0.9645 - val_loss: 0.3344 - val_fbeta: 0.8637\n",
            "Epoch 14/200\n",
            "64/64 [==============================] - 6s 88ms/step - loss: 0.0598 - fbeta: 0.9643 - val_loss: 0.3138 - val_fbeta: 0.8444\n",
            "Epoch 15/200\n",
            "64/64 [==============================] - 6s 88ms/step - loss: 0.0503 - fbeta: 0.9679 - val_loss: 0.3003 - val_fbeta: 0.8548\n",
            "Epoch 16/200\n",
            "64/64 [==============================] - 6s 87ms/step - loss: 0.0436 - fbeta: 0.9690 - val_loss: 0.3421 - val_fbeta: 0.8489\n",
            "Epoch 17/200\n",
            "64/64 [==============================] - 6s 88ms/step - loss: 0.0482 - fbeta: 0.9684 - val_loss: 0.3325 - val_fbeta: 0.8423\n",
            "Epoch 18/200\n",
            "64/64 [==============================] - 6s 88ms/step - loss: 0.0364 - fbeta: 0.9771 - val_loss: 0.3533 - val_fbeta: 0.8565\n",
            "Epoch 19/200\n",
            "64/64 [==============================] - 6s 88ms/step - loss: 0.0425 - fbeta: 0.9743 - val_loss: 0.3262 - val_fbeta: 0.8381\n",
            "Epoch 20/200\n",
            "64/64 [==============================] - 6s 91ms/step - loss: 0.0413 - fbeta: 0.9769 - val_loss: 0.3362 - val_fbeta: 0.8490\n",
            "Epoch 21/200\n",
            "64/64 [==============================] - 6s 90ms/step - loss: 0.0475 - fbeta: 0.9687 - val_loss: 0.3496 - val_fbeta: 0.8575\n",
            "Epoch 22/200\n",
            "64/64 [==============================] - 6s 88ms/step - loss: 0.0536 - fbeta: 0.9738 - val_loss: 0.3619 - val_fbeta: 0.8449\n",
            "Epoch 23/200\n",
            "64/64 [==============================] - 6s 88ms/step - loss: 0.0470 - fbeta: 0.9733 - val_loss: 0.3602 - val_fbeta: 0.8494\n",
            "Epoch 24/200\n",
            "64/64 [==============================] - 6s 88ms/step - loss: 0.0462 - fbeta: 0.9723 - val_loss: 0.3786 - val_fbeta: 0.8232\n",
            "Epoch 25/200\n",
            "64/64 [==============================] - 6s 88ms/step - loss: 0.0374 - fbeta: 0.9736 - val_loss: 0.3599 - val_fbeta: 0.8449\n",
            "Epoch 26/200\n",
            "64/64 [==============================] - 6s 88ms/step - loss: 0.0329 - fbeta: 0.9810 - val_loss: 0.3618 - val_fbeta: 0.8393\n",
            "Epoch 00026: early stopping\n"
          ]
        },
        {
          "output_type": "display_data",
          "data": {
            "image/png": "[encoded data removed]",
            "text/plain": [
              "<Figure size 1080x360 with 2 Axes>"
            ]
          },
          "metadata": {
            "needs_background": "light"
          }
        },
        {
          "output_type": "stream",
          "name": "stdout",
          "text": [
            "Model F-beta score :  0.8456944823265076\n"
          ]
        }
      ]
    },
    {
      "cell_type": "markdown",
      "metadata": {
        "id": "pbDQ3DKrb9H4"
      },
      "source": [
        "Note : over fitting still occurs, the performance is higher than baseline model"
      ]
    },
    {
      "cell_type": "markdown",
      "metadata": {
        "id": "vI0CwgAvb-eH"
      },
      "source": [
        "### model 3 : Baseline model + data augmentation"
      ]
    },
    {
      "cell_type": "code",
      "metadata": {
        "colab": {
          "base_uri": "https://localhost:8080/",
          "height": 1000
        },
        "id": "1WniKqb9cDcQ",
        "outputId": "12f4345d-0917-496f-ff1e-83a20cca1fe2"
      },
      "source": [
        "# create data generator with data augmentation\n",
        "train_gen = ImageDataGenerator(preprocessing_function=preprocess_input,\n",
        "                               rotation_range=30,\n",
        "                               width_shift_range=0.2,\n",
        "                               height_shift_range=0.2,\n",
        "                               zoom_range=0.2,\n",
        "                               horizontal_flip=True,\n",
        "                               vertical_flip=True,\n",
        "                               validation_split=0.2)\n",
        "test_gen = ImageDataGenerator(preprocessing_function=preprocess_input)\n",
        "\n",
        "batch_size = 20\n",
        "train_iter = train_gen.flow(X_train, y_train, batch_size=batch_size, subset='training', seed=123)\n",
        "val_iter = train_gen.flow(X_train, y_train, batch_size=batch_size, subset='validation', seed=123)\n",
        "test_iter = test_gen.flow(X_test, y_test, batch_size=1, shuffle=False)\n",
        "\n",
        "# create model\n",
        "\n",
        "# load ResNet50 model\n",
        "model = ResNet50(include_top=False, input_shape=(128,128,3))\n",
        "# mark loaded layers as not trainable\n",
        "for layer in model.layers:\n",
        "    layer.trainable = False\n",
        "# add new classifier layers\n",
        "flat1 = Flatten()(model.layers[-1].output)\n",
        "class1 = Dense(100, activation='relu', kernel_initializer='he_uniform')(flat1)\n",
        "output = Dense(5, activation='sigmoid')(class1)\n",
        "# define model\n",
        "model = Model(inputs=model.inputs, outputs=output)\n",
        "\n",
        "# compile model\n",
        "model.compile(optimizer='adam', loss='binary_crossentropy', metrics=[fbeta])\n",
        "\n",
        "# create early stopping object\n",
        "es = EarlyStopping(monitor='val_loss', mode='min', verbose=1, patience=20)\n",
        "\n",
        "# fit model\n",
        "history = model.fit(train_iter, \n",
        "                    steps_per_epoch=len(train_iter),\n",
        "                    validation_data=val_iter,\n",
        "                    validation_steps=len(val_iter), \n",
        "                    callbacks=[es],\n",
        "                    epochs=200)\n",
        "\n",
        "model3_perf = evaluate_model(history)"
      ],
      "execution_count": 20,
      "outputs": [
        {
          "output_type": "stream",
          "name": "stdout",
          "text": [
            "Epoch 1/200\n",
            "64/64 [==============================] - 13s 155ms/step - loss: 0.9146 - fbeta: 0.5910 - val_loss: 0.4711 - val_fbeta: 0.6686\n",
            "Epoch 2/200\n",
            "64/64 [==============================] - 9s 136ms/step - loss: 0.3432 - fbeta: 0.7417 - val_loss: 0.3468 - val_fbeta: 0.7844\n",
            "Epoch 3/200\n",
            "64/64 [==============================] - 9s 135ms/step - loss: 0.2901 - fbeta: 0.7792 - val_loss: 0.3593 - val_fbeta: 0.7926\n",
            "Epoch 4/200\n",
            "64/64 [==============================] - 9s 135ms/step - loss: 0.2601 - fbeta: 0.7989 - val_loss: 0.4204 - val_fbeta: 0.6901\n",
            "Epoch 5/200\n",
            "64/64 [==============================] - 9s 136ms/step - loss: 0.2649 - fbeta: 0.8112 - val_loss: 0.3499 - val_fbeta: 0.7560\n",
            "Epoch 6/200\n",
            "64/64 [==============================] - 9s 136ms/step - loss: 0.2234 - fbeta: 0.8372 - val_loss: 0.3260 - val_fbeta: 0.7586\n",
            "Epoch 7/200\n",
            "64/64 [==============================] - 9s 138ms/step - loss: 0.2045 - fbeta: 0.8499 - val_loss: 0.3399 - val_fbeta: 0.7494\n",
            "Epoch 8/200\n",
            "64/64 [==============================] - 9s 137ms/step - loss: 0.1966 - fbeta: 0.8480 - val_loss: 0.3432 - val_fbeta: 0.7950\n",
            "Epoch 9/200\n",
            "64/64 [==============================] - 9s 139ms/step - loss: 0.1858 - fbeta: 0.8516 - val_loss: 0.3725 - val_fbeta: 0.7737\n",
            "Epoch 10/200\n",
            "64/64 [==============================] - 9s 139ms/step - loss: 0.1809 - fbeta: 0.8575 - val_loss: 0.3171 - val_fbeta: 0.7494\n",
            "Epoch 11/200\n",
            "64/64 [==============================] - 9s 137ms/step - loss: 0.1652 - fbeta: 0.8774 - val_loss: 0.2904 - val_fbeta: 0.8060\n",
            "Epoch 12/200\n",
            "64/64 [==============================] - 9s 138ms/step - loss: 0.1568 - fbeta: 0.8743 - val_loss: 0.3207 - val_fbeta: 0.7727\n",
            "Epoch 13/200\n",
            "64/64 [==============================] - 9s 138ms/step - loss: 0.1596 - fbeta: 0.8712 - val_loss: 0.3092 - val_fbeta: 0.7828\n",
            "Epoch 14/200\n",
            "64/64 [==============================] - 9s 139ms/step - loss: 0.1549 - fbeta: 0.8754 - val_loss: 0.2961 - val_fbeta: 0.7881\n",
            "Epoch 15/200\n",
            "64/64 [==============================] - 9s 140ms/step - loss: 0.1495 - fbeta: 0.8841 - val_loss: 0.3156 - val_fbeta: 0.7990\n",
            "Epoch 16/200\n",
            "64/64 [==============================] - 9s 140ms/step - loss: 0.1567 - fbeta: 0.8641 - val_loss: 0.2849 - val_fbeta: 0.7703\n",
            "Epoch 17/200\n",
            "64/64 [==============================] - 9s 139ms/step - loss: 0.1380 - fbeta: 0.8919 - val_loss: 0.3236 - val_fbeta: 0.7867\n",
            "Epoch 18/200\n",
            "64/64 [==============================] - 9s 138ms/step - loss: 0.1380 - fbeta: 0.8886 - val_loss: 0.2890 - val_fbeta: 0.7995\n",
            "Epoch 19/200\n",
            "64/64 [==============================] - 9s 138ms/step - loss: 0.1288 - fbeta: 0.9076 - val_loss: 0.2639 - val_fbeta: 0.8032\n",
            "Epoch 20/200\n",
            "64/64 [==============================] - 9s 138ms/step - loss: 0.1209 - fbeta: 0.9077 - val_loss: 0.2904 - val_fbeta: 0.8034\n",
            "Epoch 21/200\n",
            "64/64 [==============================] - 9s 137ms/step - loss: 0.1149 - fbeta: 0.9070 - val_loss: 0.3096 - val_fbeta: 0.7893\n",
            "Epoch 22/200\n",
            "64/64 [==============================] - 9s 138ms/step - loss: 0.1227 - fbeta: 0.9037 - val_loss: 0.3113 - val_fbeta: 0.7727\n",
            "Epoch 23/200\n",
            "64/64 [==============================] - 9s 138ms/step - loss: 0.1271 - fbeta: 0.8973 - val_loss: 0.3232 - val_fbeta: 0.7674\n",
            "Epoch 24/200\n",
            "64/64 [==============================] - 9s 137ms/step - loss: 0.1297 - fbeta: 0.8980 - val_loss: 0.2939 - val_fbeta: 0.7946\n",
            "Epoch 25/200\n",
            "64/64 [==============================] - 9s 137ms/step - loss: 0.1190 - fbeta: 0.9072 - val_loss: 0.2947 - val_fbeta: 0.7830\n",
            "Epoch 26/200\n",
            "64/64 [==============================] - 9s 136ms/step - loss: 0.1178 - fbeta: 0.9032 - val_loss: 0.3066 - val_fbeta: 0.7548\n",
            "Epoch 27/200\n",
            "64/64 [==============================] - 9s 137ms/step - loss: 0.1201 - fbeta: 0.9112 - val_loss: 0.2888 - val_fbeta: 0.8133\n",
            "Epoch 28/200\n",
            "64/64 [==============================] - 9s 137ms/step - loss: 0.1095 - fbeta: 0.9202 - val_loss: 0.2908 - val_fbeta: 0.8187\n",
            "Epoch 29/200\n",
            "64/64 [==============================] - 9s 136ms/step - loss: 0.1015 - fbeta: 0.9166 - val_loss: 0.2925 - val_fbeta: 0.7915\n",
            "Epoch 30/200\n",
            "64/64 [==============================] - 9s 137ms/step - loss: 0.1065 - fbeta: 0.9186 - val_loss: 0.2716 - val_fbeta: 0.8032\n",
            "Epoch 31/200\n",
            "64/64 [==============================] - 9s 136ms/step - loss: 0.0996 - fbeta: 0.9249 - val_loss: 0.3125 - val_fbeta: 0.7888\n",
            "Epoch 32/200\n",
            "64/64 [==============================] - 9s 137ms/step - loss: 0.1118 - fbeta: 0.9070 - val_loss: 0.3025 - val_fbeta: 0.8100\n",
            "Epoch 33/200\n",
            "64/64 [==============================] - 9s 137ms/step - loss: 0.1104 - fbeta: 0.9124 - val_loss: 0.2938 - val_fbeta: 0.8264\n",
            "Epoch 34/200\n",
            "64/64 [==============================] - 9s 137ms/step - loss: 0.0983 - fbeta: 0.9285 - val_loss: 0.3011 - val_fbeta: 0.8028\n",
            "Epoch 35/200\n",
            "64/64 [==============================] - 9s 136ms/step - loss: 0.1122 - fbeta: 0.9053 - val_loss: 0.2993 - val_fbeta: 0.8284\n",
            "Epoch 36/200\n",
            "64/64 [==============================] - 9s 136ms/step - loss: 0.0987 - fbeta: 0.9250 - val_loss: 0.3301 - val_fbeta: 0.7682\n",
            "Epoch 37/200\n",
            "64/64 [==============================] - 9s 135ms/step - loss: 0.1045 - fbeta: 0.9178 - val_loss: 0.3241 - val_fbeta: 0.7909\n",
            "Epoch 38/200\n",
            "64/64 [==============================] - 9s 134ms/step - loss: 0.0985 - fbeta: 0.9238 - val_loss: 0.3052 - val_fbeta: 0.8075\n",
            "Epoch 39/200\n",
            "64/64 [==============================] - 9s 135ms/step - loss: 0.1050 - fbeta: 0.9171 - val_loss: 0.3271 - val_fbeta: 0.7972\n",
            "Epoch 00039: early stopping\n"
          ]
        },
        {
          "output_type": "display_data",
          "data": {
            "image/png": "[encoded data removed]",
            "text/plain": [
              "<Figure size 1080x360 with 2 Axes>"
            ]
          },
          "metadata": {
            "needs_background": "light"
          }
        },
        {
          "output_type": "stream",
          "name": "stdout",
          "text": [
            "Model F-beta score :  0.852611780166626\n"
          ]
        }
      ]
    },
    {
      "cell_type": "markdown",
      "metadata": {
        "id": "dlO5XOv9cYSG"
      },
      "source": [
        "Note : "
      ]
    },
    {
      "cell_type": "markdown",
      "metadata": {
        "id": "ANhpf0XhcZKm"
      },
      "source": [
        "### model 4 : Baseline model + data augmentation + dropout layers"
      ]
    },
    {
      "cell_type": "code",
      "metadata": {
        "colab": {
          "base_uri": "https://localhost:8080/",
          "height": 1000
        },
        "id": "_FHKWc1vciMc",
        "outputId": "fa9e2826-9d95-4af8-b97d-9b695b4a32c9"
      },
      "source": [
        "# create data generator with data augmentation\n",
        "train_gen = ImageDataGenerator(preprocessing_function=preprocess_input,\n",
        "                               rotation_range=30,\n",
        "                               width_shift_range=0.2,\n",
        "                               height_shift_range=0.2,\n",
        "                               zoom_range=0.2,\n",
        "                               horizontal_flip=True,\n",
        "                               vertical_flip=True,\n",
        "                               validation_split=0.2)\n",
        "test_gen = ImageDataGenerator(preprocessing_function=preprocess_input)\n",
        "\n",
        "batch_size = 20\n",
        "train_iter = train_gen.flow(X_train, y_train, batch_size=batch_size, subset='training', seed=123)\n",
        "val_iter = train_gen.flow(X_train, y_train, batch_size=batch_size, subset='validation', seed=123)\n",
        "test_iter = test_gen.flow(X_test, y_test, batch_size=1, shuffle=False)\n",
        "\n",
        "# create model\n",
        "\n",
        "# load ResNet50 model\n",
        "model = ResNet50(include_top=False, input_shape=(128,128,3))\n",
        "# mark loaded layers as not trainable\n",
        "for layer in model.layers:\n",
        "    layer.trainable = False\n",
        "# add new classifier layers\n",
        "dropout1 = Dropout(0.2)(model.layers[-1].output)\n",
        "flat1 = Flatten()(dropout1)\n",
        "class1 = Dense(100, activation='relu', kernel_initializer='he_uniform')(flat1)\n",
        "dropout2 = Dropout(0.2)(class1)\n",
        "output = Dense(5, activation='sigmoid')(dropout2)\n",
        "# define model\n",
        "model = Model(inputs=model.inputs, outputs=output)\n",
        "\n",
        "# compile model\n",
        "model.compile(optimizer='adam', loss='binary_crossentropy', metrics=[fbeta])\n",
        "\n",
        "# create early stopping object\n",
        "es = EarlyStopping(monitor='val_loss', mode='min', verbose=1, patience=20)\n",
        "\n",
        "# fit model\n",
        "history = model.fit(train_iter, \n",
        "                    steps_per_epoch=len(train_iter),\n",
        "                    validation_data=val_iter,\n",
        "                    validation_steps=len(val_iter), \n",
        "                    callbacks=[es],\n",
        "                    epochs=200)\n",
        "\n",
        "model4_perf = evaluate_model(history)"
      ],
      "execution_count": 21,
      "outputs": [
        {
          "output_type": "stream",
          "name": "stdout",
          "text": [
            "Epoch 1/200\n",
            "64/64 [==============================] - 14s 153ms/step - loss: 0.9321 - fbeta: 0.5399 - val_loss: 0.3951 - val_fbeta: 0.6317\n",
            "Epoch 2/200\n",
            "64/64 [==============================] - 9s 135ms/step - loss: 0.3853 - fbeta: 0.6423 - val_loss: 0.3359 - val_fbeta: 0.6782\n",
            "Epoch 3/200\n",
            "64/64 [==============================] - 9s 138ms/step - loss: 0.3620 - fbeta: 0.6732 - val_loss: 0.3189 - val_fbeta: 0.6966\n",
            "Epoch 4/200\n",
            "64/64 [==============================] - 9s 136ms/step - loss: 0.3310 - fbeta: 0.6967 - val_loss: 0.2864 - val_fbeta: 0.7390\n",
            "Epoch 5/200\n",
            "64/64 [==============================] - 9s 136ms/step - loss: 0.3063 - fbeta: 0.7074 - val_loss: 0.3040 - val_fbeta: 0.7020\n",
            "Epoch 6/200\n",
            "64/64 [==============================] - 9s 136ms/step - loss: 0.2744 - fbeta: 0.7386 - val_loss: 0.2816 - val_fbeta: 0.7432\n",
            "Epoch 7/200\n",
            "64/64 [==============================] - 9s 136ms/step - loss: 0.2876 - fbeta: 0.7371 - val_loss: 0.2692 - val_fbeta: 0.7658\n",
            "Epoch 8/200\n",
            "64/64 [==============================] - 9s 135ms/step - loss: 0.2636 - fbeta: 0.7386 - val_loss: 0.2519 - val_fbeta: 0.7340\n",
            "Epoch 9/200\n",
            "64/64 [==============================] - 9s 135ms/step - loss: 0.2548 - fbeta: 0.7510 - val_loss: 0.2763 - val_fbeta: 0.7401\n",
            "Epoch 10/200\n",
            "64/64 [==============================] - 9s 136ms/step - loss: 0.2453 - fbeta: 0.7668 - val_loss: 0.3098 - val_fbeta: 0.7602\n",
            "Epoch 11/200\n",
            "64/64 [==============================] - 9s 135ms/step - loss: 0.2488 - fbeta: 0.7561 - val_loss: 0.2590 - val_fbeta: 0.7611\n",
            "Epoch 12/200\n",
            "64/64 [==============================] - 9s 136ms/step - loss: 0.2397 - fbeta: 0.7778 - val_loss: 0.2834 - val_fbeta: 0.7296\n",
            "Epoch 13/200\n",
            "64/64 [==============================] - 9s 136ms/step - loss: 0.2370 - fbeta: 0.7631 - val_loss: 0.2823 - val_fbeta: 0.7659\n",
            "Epoch 14/200\n",
            "64/64 [==============================] - 9s 136ms/step - loss: 0.2265 - fbeta: 0.7765 - val_loss: 0.2645 - val_fbeta: 0.7225\n",
            "Epoch 15/200\n",
            "64/64 [==============================] - 9s 134ms/step - loss: 0.2249 - fbeta: 0.7686 - val_loss: 0.2659 - val_fbeta: 0.7731\n",
            "Epoch 16/200\n",
            "64/64 [==============================] - 9s 134ms/step - loss: 0.2268 - fbeta: 0.7757 - val_loss: 0.2372 - val_fbeta: 0.7862\n",
            "Epoch 17/200\n",
            "64/64 [==============================] - 9s 135ms/step - loss: 0.2287 - fbeta: 0.7735 - val_loss: 0.2894 - val_fbeta: 0.7342\n",
            "Epoch 18/200\n",
            "64/64 [==============================] - 9s 136ms/step - loss: 0.2181 - fbeta: 0.7855 - val_loss: 0.2558 - val_fbeta: 0.7831\n",
            "Epoch 19/200\n",
            "64/64 [==============================] - 9s 134ms/step - loss: 0.2063 - fbeta: 0.7868 - val_loss: 0.2400 - val_fbeta: 0.7889\n",
            "Epoch 20/200\n",
            "64/64 [==============================] - 9s 134ms/step - loss: 0.2150 - fbeta: 0.7848 - val_loss: 0.2545 - val_fbeta: 0.7595\n",
            "Epoch 21/200\n",
            "64/64 [==============================] - 9s 135ms/step - loss: 0.2056 - fbeta: 0.7968 - val_loss: 0.2841 - val_fbeta: 0.7517\n",
            "Epoch 22/200\n",
            "64/64 [==============================] - 9s 135ms/step - loss: 0.1996 - fbeta: 0.8044 - val_loss: 0.2485 - val_fbeta: 0.7897\n",
            "Epoch 23/200\n",
            "64/64 [==============================] - 9s 135ms/step - loss: 0.1956 - fbeta: 0.8007 - val_loss: 0.2503 - val_fbeta: 0.8003\n",
            "Epoch 24/200\n",
            "64/64 [==============================] - 9s 135ms/step - loss: 0.2091 - fbeta: 0.8074 - val_loss: 0.2570 - val_fbeta: 0.7776\n",
            "Epoch 25/200\n",
            "64/64 [==============================] - 9s 135ms/step - loss: 0.1971 - fbeta: 0.8078 - val_loss: 0.2727 - val_fbeta: 0.7850\n",
            "Epoch 26/200\n",
            "64/64 [==============================] - 9s 135ms/step - loss: 0.1913 - fbeta: 0.8091 - val_loss: 0.2658 - val_fbeta: 0.7642\n",
            "Epoch 27/200\n",
            "64/64 [==============================] - 9s 135ms/step - loss: 0.1862 - fbeta: 0.8250 - val_loss: 0.2728 - val_fbeta: 0.7463\n",
            "Epoch 28/200\n",
            "64/64 [==============================] - 9s 134ms/step - loss: 0.1904 - fbeta: 0.8240 - val_loss: 0.2496 - val_fbeta: 0.7748\n",
            "Epoch 29/200\n",
            "64/64 [==============================] - 9s 135ms/step - loss: 0.1695 - fbeta: 0.8487 - val_loss: 0.2510 - val_fbeta: 0.7760\n",
            "Epoch 30/200\n",
            "64/64 [==============================] - 9s 135ms/step - loss: 0.1808 - fbeta: 0.8276 - val_loss: 0.2345 - val_fbeta: 0.7795\n",
            "Epoch 31/200\n",
            "64/64 [==============================] - 9s 135ms/step - loss: 0.1908 - fbeta: 0.8159 - val_loss: 0.2737 - val_fbeta: 0.7698\n",
            "Epoch 32/200\n",
            "64/64 [==============================] - 9s 137ms/step - loss: 0.1872 - fbeta: 0.8237 - val_loss: 0.2700 - val_fbeta: 0.7675\n",
            "Epoch 33/200\n",
            "64/64 [==============================] - 9s 135ms/step - loss: 0.1662 - fbeta: 0.8484 - val_loss: 0.2538 - val_fbeta: 0.8020\n",
            "Epoch 34/200\n",
            "64/64 [==============================] - 9s 134ms/step - loss: 0.1808 - fbeta: 0.8288 - val_loss: 0.2466 - val_fbeta: 0.8251\n",
            "Epoch 35/200\n",
            "64/64 [==============================] - 9s 135ms/step - loss: 0.1719 - fbeta: 0.8438 - val_loss: 0.2263 - val_fbeta: 0.8215\n",
            "Epoch 36/200\n",
            "64/64 [==============================] - 9s 136ms/step - loss: 0.1663 - fbeta: 0.8402 - val_loss: 0.2748 - val_fbeta: 0.7750\n",
            "Epoch 37/200\n",
            "64/64 [==============================] - 9s 135ms/step - loss: 0.1754 - fbeta: 0.8380 - val_loss: 0.2620 - val_fbeta: 0.7741\n",
            "Epoch 38/200\n",
            "64/64 [==============================] - 9s 135ms/step - loss: 0.1672 - fbeta: 0.8448 - val_loss: 0.2214 - val_fbeta: 0.8093\n",
            "Epoch 39/200\n",
            "64/64 [==============================] - 9s 136ms/step - loss: 0.1708 - fbeta: 0.8397 - val_loss: 0.2657 - val_fbeta: 0.7769\n",
            "Epoch 40/200\n",
            "64/64 [==============================] - 9s 136ms/step - loss: 0.1692 - fbeta: 0.8469 - val_loss: 0.2674 - val_fbeta: 0.7788\n",
            "Epoch 41/200\n",
            "64/64 [==============================] - 9s 135ms/step - loss: 0.1593 - fbeta: 0.8616 - val_loss: 0.2683 - val_fbeta: 0.7593\n",
            "Epoch 42/200\n",
            "64/64 [==============================] - 9s 135ms/step - loss: 0.1641 - fbeta: 0.8495 - val_loss: 0.2707 - val_fbeta: 0.7869\n",
            "Epoch 43/200\n",
            "64/64 [==============================] - 9s 135ms/step - loss: 0.1671 - fbeta: 0.8426 - val_loss: 0.2547 - val_fbeta: 0.7928\n",
            "Epoch 44/200\n",
            "64/64 [==============================] - 9s 136ms/step - loss: 0.1666 - fbeta: 0.8539 - val_loss: 0.2514 - val_fbeta: 0.7585\n",
            "Epoch 45/200\n",
            "64/64 [==============================] - 9s 134ms/step - loss: 0.1609 - fbeta: 0.8503 - val_loss: 0.2684 - val_fbeta: 0.7824\n",
            "Epoch 46/200\n",
            "64/64 [==============================] - 9s 135ms/step - loss: 0.1597 - fbeta: 0.8464 - val_loss: 0.2604 - val_fbeta: 0.7812\n",
            "Epoch 47/200\n",
            "64/64 [==============================] - 9s 135ms/step - loss: 0.1641 - fbeta: 0.8541 - val_loss: 0.2531 - val_fbeta: 0.7842\n",
            "Epoch 48/200\n",
            "64/64 [==============================] - 9s 136ms/step - loss: 0.1611 - fbeta: 0.8436 - val_loss: 0.2191 - val_fbeta: 0.7989\n",
            "Epoch 49/200\n",
            "64/64 [==============================] - 9s 135ms/step - loss: 0.1590 - fbeta: 0.8493 - val_loss: 0.2409 - val_fbeta: 0.7765\n",
            "Epoch 50/200\n",
            "64/64 [==============================] - 9s 135ms/step - loss: 0.1692 - fbeta: 0.8462 - val_loss: 0.2346 - val_fbeta: 0.8036\n",
            "Epoch 51/200\n",
            "64/64 [==============================] - 9s 135ms/step - loss: 0.1531 - fbeta: 0.8551 - val_loss: 0.2245 - val_fbeta: 0.8251\n",
            "Epoch 52/200\n",
            "64/64 [==============================] - 9s 136ms/step - loss: 0.1556 - fbeta: 0.8550 - val_loss: 0.2297 - val_fbeta: 0.7979\n",
            "Epoch 53/200\n",
            "64/64 [==============================] - 9s 135ms/step - loss: 0.1646 - fbeta: 0.8374 - val_loss: 0.2295 - val_fbeta: 0.7927\n",
            "Epoch 54/200\n",
            "64/64 [==============================] - 9s 135ms/step - loss: 0.1649 - fbeta: 0.8586 - val_loss: 0.2528 - val_fbeta: 0.7854\n",
            "Epoch 55/200\n",
            "64/64 [==============================] - 9s 136ms/step - loss: 0.1455 - fbeta: 0.8710 - val_loss: 0.2472 - val_fbeta: 0.7920\n",
            "Epoch 56/200\n",
            "64/64 [==============================] - 9s 135ms/step - loss: 0.1490 - fbeta: 0.8669 - val_loss: 0.2655 - val_fbeta: 0.8097\n",
            "Epoch 57/200\n",
            "64/64 [==============================] - 9s 135ms/step - loss: 0.1510 - fbeta: 0.8633 - val_loss: 0.2566 - val_fbeta: 0.8029\n",
            "Epoch 58/200\n",
            "64/64 [==============================] - 9s 136ms/step - loss: 0.1555 - fbeta: 0.8600 - val_loss: 0.2589 - val_fbeta: 0.7677\n",
            "Epoch 59/200\n",
            "64/64 [==============================] - 9s 136ms/step - loss: 0.1503 - fbeta: 0.8642 - val_loss: 0.2614 - val_fbeta: 0.7859\n",
            "Epoch 60/200\n",
            "64/64 [==============================] - 9s 135ms/step - loss: 0.1556 - fbeta: 0.8584 - val_loss: 0.2738 - val_fbeta: 0.7814\n",
            "Epoch 61/200\n",
            "64/64 [==============================] - 9s 137ms/step - loss: 0.1556 - fbeta: 0.8400 - val_loss: 0.2769 - val_fbeta: 0.7770\n",
            "Epoch 62/200\n",
            "64/64 [==============================] - 9s 136ms/step - loss: 0.1472 - fbeta: 0.8589 - val_loss: 0.2871 - val_fbeta: 0.7908\n",
            "Epoch 63/200\n",
            "64/64 [==============================] - 9s 136ms/step - loss: 0.1543 - fbeta: 0.8558 - val_loss: 0.3044 - val_fbeta: 0.7932\n",
            "Epoch 64/200\n",
            "64/64 [==============================] - 9s 136ms/step - loss: 0.1449 - fbeta: 0.8690 - val_loss: 0.2694 - val_fbeta: 0.8006\n",
            "Epoch 65/200\n",
            "64/64 [==============================] - 9s 136ms/step - loss: 0.1468 - fbeta: 0.8760 - val_loss: 0.2517 - val_fbeta: 0.7885\n",
            "Epoch 66/200\n",
            "64/64 [==============================] - 9s 134ms/step - loss: 0.1442 - fbeta: 0.8797 - val_loss: 0.2519 - val_fbeta: 0.7852\n",
            "Epoch 67/200\n",
            "64/64 [==============================] - 9s 136ms/step - loss: 0.1396 - fbeta: 0.8708 - val_loss: 0.2740 - val_fbeta: 0.7829\n",
            "Epoch 68/200\n",
            "64/64 [==============================] - 9s 136ms/step - loss: 0.1539 - fbeta: 0.8621 - val_loss: 0.2723 - val_fbeta: 0.7800\n",
            "Epoch 00068: early stopping\n"
          ]
        },
        {
          "output_type": "display_data",
          "data": {
            "image/png": "[encoded data removed]",
            "text/plain": [
              "<Figure size 1080x360 with 2 Axes>"
            ]
          },
          "metadata": {
            "needs_background": "light"
          }
        },
        {
          "output_type": "stream",
          "name": "stdout",
          "text": [
            "Model F-beta score :  0.8614880442619324\n"
          ]
        }
      ]
    },
    {
      "cell_type": "markdown",
      "metadata": {
        "id": "Zion_CBmcpJ0"
      },
      "source": [
        "Note : overfitting is reduced"
      ]
    },
    {
      "cell_type": "markdown",
      "metadata": {
        "id": "nqztKidAfjvQ"
      },
      "source": [
        "### model 5 : set last block trainable + data augmentation + dropout layer"
      ]
    },
    {
      "cell_type": "code",
      "metadata": {
        "colab": {
          "base_uri": "https://localhost:8080/",
          "height": 1000
        },
        "id": "uK1p-JnifsXu",
        "outputId": "7a7cda06-71fc-4802-c0fd-cac6882bdaee"
      },
      "source": [
        "# create data generator with data augmentation\n",
        "train_gen = ImageDataGenerator(preprocessing_function=preprocess_input,\n",
        "                               rotation_range=30,\n",
        "                               width_shift_range=0.2,\n",
        "                               height_shift_range=0.2,\n",
        "                               zoom_range=0.2,\n",
        "                               horizontal_flip=True,\n",
        "                               vertical_flip=True,\n",
        "                               validation_split=0.2)\n",
        "test_gen = ImageDataGenerator(preprocessing_function=preprocess_input)\n",
        "\n",
        "batch_size = 20\n",
        "train_iter = train_gen.flow(X_train, y_train, batch_size=batch_size, subset='training', seed=123)\n",
        "val_iter = train_gen.flow(X_train, y_train, batch_size=batch_size, subset='validation', seed=123)\n",
        "test_iter = test_gen.flow(X_test, y_test, batch_size=1, shuffle=False)\n",
        "\n",
        "# create model\n",
        "\n",
        "# load ResNet50 model\n",
        "model = ResNet50(include_top=False, input_shape=(128,128,3))\n",
        "# mark loaded layers as not trainable\n",
        "for layer in model.layers:\n",
        "    layer.trainable = False\n",
        "# mark last block as trainable\n",
        "model.get_layer('conv5_block3_3_conv').trainable = True\n",
        "model.get_layer('conv5_block3_3_bn').trainable = True\n",
        "# add new classifier layers\n",
        "dropout1 = Dropout(0.2)(model.layers[-1].output)\n",
        "flat1 = Flatten()(dropout1)\n",
        "class1 = Dense(100, activation='relu', kernel_initializer='he_uniform')(flat1)\n",
        "dropout2 = Dropout(0.2)(class1)\n",
        "output = Dense(5, activation='sigmoid')(dropout2)\n",
        "# define model\n",
        "model = Model(inputs=model.inputs, outputs=output)\n",
        "\n",
        "# compile model\n",
        "model.compile(optimizer='adam', loss='binary_crossentropy', metrics=[fbeta])\n",
        "\n",
        "# create early stopping object\n",
        "es = EarlyStopping(monitor='val_loss', mode='min', verbose=1, patience=20)\n",
        "\n",
        "# fit model\n",
        "history = model.fit(train_iter, \n",
        "                    steps_per_epoch=len(train_iter),\n",
        "                    validation_data=val_iter,\n",
        "                    validation_steps=len(val_iter), \n",
        "                    callbacks=[es],\n",
        "                    epochs=200)\n",
        "\n",
        "model5_perf = evaluate_model(history)"
      ],
      "execution_count": 22,
      "outputs": [
        {
          "output_type": "stream",
          "name": "stdout",
          "text": [
            "Epoch 1/200\n",
            "64/64 [==============================] - 14s 157ms/step - loss: 0.6698 - fbeta: 0.6086 - val_loss: 0.3771 - val_fbeta: 0.6918\n",
            "Epoch 2/200\n",
            "64/64 [==============================] - 9s 139ms/step - loss: 0.3375 - fbeta: 0.7141 - val_loss: 0.3087 - val_fbeta: 0.6649\n",
            "Epoch 3/200\n",
            "64/64 [==============================] - 9s 137ms/step - loss: 0.2934 - fbeta: 0.7427 - val_loss: 0.3147 - val_fbeta: 0.7439\n",
            "Epoch 4/200\n",
            "64/64 [==============================] - 9s 137ms/step - loss: 0.2995 - fbeta: 0.7278 - val_loss: 0.3011 - val_fbeta: 0.7599\n",
            "Epoch 5/200\n",
            "64/64 [==============================] - 9s 137ms/step - loss: 0.2549 - fbeta: 0.7611 - val_loss: 0.3075 - val_fbeta: 0.7592\n",
            "Epoch 6/200\n",
            "64/64 [==============================] - 9s 137ms/step - loss: 0.2234 - fbeta: 0.7945 - val_loss: 0.3002 - val_fbeta: 0.7491\n",
            "Epoch 7/200\n",
            "64/64 [==============================] - 9s 138ms/step - loss: 0.2155 - fbeta: 0.8065 - val_loss: 0.2662 - val_fbeta: 0.7914\n",
            "Epoch 8/200\n",
            "64/64 [==============================] - 9s 137ms/step - loss: 0.2118 - fbeta: 0.8159 - val_loss: 0.2774 - val_fbeta: 0.7712\n",
            "Epoch 9/200\n",
            "64/64 [==============================] - 9s 136ms/step - loss: 0.2096 - fbeta: 0.8195 - val_loss: 0.2837 - val_fbeta: 0.7611\n",
            "Epoch 10/200\n",
            "64/64 [==============================] - 9s 135ms/step - loss: 0.1900 - fbeta: 0.8305 - val_loss: 0.3193 - val_fbeta: 0.7429\n",
            "Epoch 11/200\n",
            "64/64 [==============================] - 9s 135ms/step - loss: 0.1829 - fbeta: 0.8385 - val_loss: 0.2748 - val_fbeta: 0.8038\n",
            "Epoch 12/200\n",
            "64/64 [==============================] - 9s 135ms/step - loss: 0.1726 - fbeta: 0.8457 - val_loss: 0.3134 - val_fbeta: 0.7875\n",
            "Epoch 13/200\n",
            "64/64 [==============================] - 9s 135ms/step - loss: 0.1636 - fbeta: 0.8648 - val_loss: 0.2937 - val_fbeta: 0.7807\n",
            "Epoch 14/200\n",
            "64/64 [==============================] - 9s 134ms/step - loss: 0.1695 - fbeta: 0.8615 - val_loss: 0.2884 - val_fbeta: 0.7737\n",
            "Epoch 15/200\n",
            "64/64 [==============================] - 9s 135ms/step - loss: 0.1650 - fbeta: 0.8680 - val_loss: 0.3185 - val_fbeta: 0.7720\n",
            "Epoch 16/200\n",
            "64/64 [==============================] - 9s 136ms/step - loss: 0.1578 - fbeta: 0.8587 - val_loss: 0.2617 - val_fbeta: 0.7875\n",
            "Epoch 17/200\n",
            "64/64 [==============================] - 9s 136ms/step - loss: 0.1539 - fbeta: 0.8720 - val_loss: 0.3346 - val_fbeta: 0.7645\n",
            "Epoch 18/200\n",
            "64/64 [==============================] - 9s 135ms/step - loss: 0.1557 - fbeta: 0.8708 - val_loss: 0.2761 - val_fbeta: 0.8090\n",
            "Epoch 19/200\n",
            "64/64 [==============================] - 9s 136ms/step - loss: 0.1488 - fbeta: 0.8773 - val_loss: 0.2956 - val_fbeta: 0.7701\n",
            "Epoch 20/200\n",
            "64/64 [==============================] - 9s 136ms/step - loss: 0.1472 - fbeta: 0.8852 - val_loss: 0.3171 - val_fbeta: 0.7817\n",
            "Epoch 21/200\n",
            "64/64 [==============================] - 9s 135ms/step - loss: 0.1371 - fbeta: 0.8929 - val_loss: 0.3051 - val_fbeta: 0.8017\n",
            "Epoch 22/200\n",
            "64/64 [==============================] - 9s 137ms/step - loss: 0.1318 - fbeta: 0.8945 - val_loss: 0.2916 - val_fbeta: 0.7965\n",
            "Epoch 23/200\n",
            "64/64 [==============================] - 9s 137ms/step - loss: 0.1279 - fbeta: 0.8945 - val_loss: 0.2682 - val_fbeta: 0.7868\n",
            "Epoch 24/200\n",
            "64/64 [==============================] - 9s 136ms/step - loss: 0.1265 - fbeta: 0.9017 - val_loss: 0.2678 - val_fbeta: 0.8102\n",
            "Epoch 25/200\n",
            "64/64 [==============================] - 9s 135ms/step - loss: 0.1168 - fbeta: 0.9054 - val_loss: 0.3286 - val_fbeta: 0.7831\n",
            "Epoch 26/200\n",
            "64/64 [==============================] - 9s 136ms/step - loss: 0.1229 - fbeta: 0.8961 - val_loss: 0.3302 - val_fbeta: 0.7895\n",
            "Epoch 27/200\n",
            "64/64 [==============================] - 9s 136ms/step - loss: 0.1206 - fbeta: 0.9030 - val_loss: 0.3075 - val_fbeta: 0.7753\n",
            "Epoch 28/200\n",
            "64/64 [==============================] - 9s 135ms/step - loss: 0.1208 - fbeta: 0.8994 - val_loss: 0.3341 - val_fbeta: 0.7935\n",
            "Epoch 29/200\n",
            "64/64 [==============================] - 9s 135ms/step - loss: 0.1123 - fbeta: 0.9198 - val_loss: 0.2985 - val_fbeta: 0.7779\n",
            "Epoch 30/200\n",
            "64/64 [==============================] - 9s 135ms/step - loss: 0.1131 - fbeta: 0.9055 - val_loss: 0.2975 - val_fbeta: 0.8257\n",
            "Epoch 31/200\n",
            "64/64 [==============================] - 9s 136ms/step - loss: 0.1236 - fbeta: 0.9072 - val_loss: 0.3099 - val_fbeta: 0.8092\n",
            "Epoch 32/200\n",
            "64/64 [==============================] - 9s 135ms/step - loss: 0.1175 - fbeta: 0.9013 - val_loss: 0.3036 - val_fbeta: 0.7935\n",
            "Epoch 33/200\n",
            "64/64 [==============================] - 9s 136ms/step - loss: 0.1151 - fbeta: 0.9158 - val_loss: 0.3267 - val_fbeta: 0.8115\n",
            "Epoch 34/200\n",
            "64/64 [==============================] - 9s 134ms/step - loss: 0.1125 - fbeta: 0.9092 - val_loss: 0.3155 - val_fbeta: 0.8157\n",
            "Epoch 35/200\n",
            "64/64 [==============================] - 9s 136ms/step - loss: 0.1020 - fbeta: 0.9172 - val_loss: 0.2778 - val_fbeta: 0.8154\n",
            "Epoch 36/200\n",
            "64/64 [==============================] - 9s 134ms/step - loss: 0.0995 - fbeta: 0.9177 - val_loss: 0.3405 - val_fbeta: 0.8034\n",
            "Epoch 00036: early stopping\n"
          ]
        },
        {
          "output_type": "display_data",
          "data": {
            "image/png": "[encoded data removed]",
            "text/plain": [
              "<Figure size 1080x360 with 2 Axes>"
            ]
          },
          "metadata": {
            "needs_background": "light"
          }
        },
        {
          "output_type": "stream",
          "name": "stdout",
          "text": [
            "Model F-beta score :  0.8325361013412476\n"
          ]
        }
      ]
    },
    {
      "cell_type": "markdown",
      "metadata": {
        "id": "kFINWMv4f-ep"
      },
      "source": [
        "Note : overfitting, but the performance (fbeta score) is high"
      ]
    },
    {
      "cell_type": "markdown",
      "metadata": {
        "id": "Ub8SeGv0hZxz"
      },
      "source": [
        "## Model performance"
      ]
    },
    {
      "cell_type": "code",
      "metadata": {
        "colab": {
          "base_uri": "https://localhost:8080/"
        },
        "id": "S4GGOmyzheG7",
        "outputId": "cc04a0fb-5f24-445c-8848-d37182778d31"
      },
      "source": [
        "print('Baseline model : ', baseline_perf)\n",
        "print('model 1 : ', model1_perf)\n",
        "print('model 2 : ', model2_perf)\n",
        "print('model 3 : ', model3_perf)\n",
        "print('model 4 : ', model4_perf)\n",
        "print('model 5 : ', model5_perf)"
      ],
      "execution_count": 25,
      "outputs": [
        {
          "output_type": "stream",
          "name": "stdout",
          "text": [
            "Baseline model :  0.8384124636650085\n",
            "model 1 :  0.8508242964744568\n",
            "model 2 :  0.8456944823265076\n",
            "model 3 :  0.852611780166626\n",
            "model 4 :  0.8614880442619324\n",
            "model 5 :  0.8325361013412476\n"
          ]
        }
      ]
    },
    {
      "cell_type": "markdown",
      "metadata": {
        "id": "H6RiCLwUh0Mv"
      },
      "source": [
        "Note : only model 4 is not high overfitting"
      ]
    },
    {
      "cell_type": "markdown",
      "metadata": {
        "id": "4X98pMo8hEWb"
      },
      "source": [
        "## Finalize model 4\n",
        "Train the selected model again.  \n",
        "Give it more time to learn.  \n",
        "Save the highest performance with ModelCheckpoint."
      ]
    },
    {
      "cell_type": "code",
      "metadata": {
        "colab": {
          "base_uri": "https://localhost:8080/",
          "height": 1000
        },
        "id": "00l737WuhPkd",
        "outputId": "f54c3cd1-ca4c-4a35-de73-917afcc429e3"
      },
      "source": [
        "# create data generator with data augmentation\n",
        "train_gen = ImageDataGenerator(preprocessing_function=preprocess_input,\n",
        "                               rotation_range=30,\n",
        "                               width_shift_range=0.2,\n",
        "                               height_shift_range=0.2,\n",
        "                               zoom_range=0.2,\n",
        "                               horizontal_flip=True,\n",
        "                               vertical_flip=True,\n",
        "                               validation_split=0.2)\n",
        "test_gen = ImageDataGenerator(preprocessing_function=preprocess_input)\n",
        "\n",
        "batch_size = 20\n",
        "train_iter = train_gen.flow(X_train, y_train, batch_size=batch_size, subset='training', seed=123)\n",
        "val_iter = train_gen.flow(X_train, y_train, batch_size=batch_size, subset='validation', seed=123)\n",
        "test_iter = test_gen.flow(X_test, y_test, batch_size=1, shuffle=False)\n",
        "\n",
        "# create model\n",
        "\n",
        "# load ResNet50 model\n",
        "model = ResNet50(include_top=False, input_shape=(128,128,3))\n",
        "# mark loaded layers as not trainable\n",
        "for layer in model.layers:\n",
        "    layer.trainable = False\n",
        "# add new classifier layers\n",
        "dropout1 = Dropout(0.2)(model.layers[-1].output)\n",
        "flat1 = Flatten()(dropout1)\n",
        "class1 = Dense(100, activation='relu', kernel_initializer='he_uniform')(flat1)\n",
        "dropout2 = Dropout(0.3)(class1)\n",
        "output = Dense(5, activation='sigmoid')(dropout2)\n",
        "# define model\n",
        "model = Model(inputs=model.inputs, outputs=output)\n",
        "\n",
        "# compile model\n",
        "model.compile(optimizer='adam', loss='binary_crossentropy', metrics=[fbeta])\n",
        "\n",
        "# create early stopping object\n",
        "es = EarlyStopping(monitor='val_loss', mode='min', verbose=1, patience=30)\n",
        "\n",
        "# create model checkpoint\n",
        "mc = ModelCheckpoint(model_name, monitor='val_loss', mode='min', verbose=1, save_best_only=True)\n",
        "\n",
        "# create model checkpoint to save the model\n",
        "mc = ModelCheckpoint(model_name, monitor='val_loss', mode='min', verbose=1, save_best_only=True)\n",
        "# fit model\n",
        "history = model.fit(train_iter, \n",
        "                    steps_per_epoch=len(train_iter),\n",
        "                    validation_data=val_iter,\n",
        "                    validation_steps=len(val_iter), \n",
        "                    callbacks=[es, mc],\n",
        "                    epochs=300)\n",
        "final_model_perf = evaluate_model(history)"
      ],
      "execution_count": 27,
      "outputs": [
        {
          "output_type": "stream",
          "name": "stdout",
          "text": [
            "Epoch 1/300\n",
            "64/64 [==============================] - 14s 158ms/step - loss: 0.7860 - fbeta: 0.4751 - val_loss: 0.3928 - val_fbeta: 0.5466\n",
            "\n",
            "Epoch 00001: val_loss improved from inf to 0.39283, saving model to best_pretrained_ResNet50.h5\n"
          ]
        },
        {
          "output_type": "stream",
          "name": "stderr",
          "text": [
            "/usr/local/lib/python3.7/dist-packages/keras/utils/generic_utils.py:497: CustomMaskWarning: Custom mask layers require a config and must override get_config. When loading, the custom mask layer must be passed to the custom_objects argument.\n",
            "  category=CustomMaskWarning)\n"
          ]
        },
        {
          "output_type": "stream",
          "name": "stdout",
          "text": [
            "Epoch 2/300\n",
            "64/64 [==============================] - 9s 136ms/step - loss: 0.4158 - fbeta: 0.5092 - val_loss: 0.3368 - val_fbeta: 0.5901\n",
            "\n",
            "Epoch 00002: val_loss improved from 0.39283 to 0.33679, saving model to best_pretrained_ResNet50.h5\n",
            "Epoch 3/300\n",
            "64/64 [==============================] - 9s 135ms/step - loss: 0.3862 - fbeta: 0.5753 - val_loss: 0.3315 - val_fbeta: 0.6585\n",
            "\n",
            "Epoch 00003: val_loss improved from 0.33679 to 0.33151, saving model to best_pretrained_ResNet50.h5\n",
            "Epoch 4/300\n",
            "64/64 [==============================] - 9s 136ms/step - loss: 0.3777 - fbeta: 0.5763 - val_loss: 0.2991 - val_fbeta: 0.6970\n",
            "\n",
            "Epoch 00004: val_loss improved from 0.33151 to 0.29910, saving model to best_pretrained_ResNet50.h5\n",
            "Epoch 5/300\n",
            "64/64 [==============================] - 9s 135ms/step - loss: 0.3669 - fbeta: 0.5711 - val_loss: 0.3191 - val_fbeta: 0.6620\n",
            "\n",
            "Epoch 00005: val_loss did not improve from 0.29910\n",
            "Epoch 6/300\n",
            "64/64 [==============================] - 9s 133ms/step - loss: 0.3453 - fbeta: 0.6378 - val_loss: 0.3271 - val_fbeta: 0.6437\n",
            "\n",
            "Epoch 00006: val_loss did not improve from 0.29910\n",
            "Epoch 7/300\n",
            "64/64 [==============================] - 9s 135ms/step - loss: 0.3202 - fbeta: 0.6362 - val_loss: 0.3020 - val_fbeta: 0.6934\n",
            "\n",
            "Epoch 00007: val_loss did not improve from 0.29910\n",
            "Epoch 8/300\n",
            "64/64 [==============================] - 9s 135ms/step - loss: 0.3127 - fbeta: 0.6751 - val_loss: 0.3379 - val_fbeta: 0.6989\n",
            "\n",
            "Epoch 00008: val_loss did not improve from 0.29910\n",
            "Epoch 9/300\n",
            "64/64 [==============================] - 9s 133ms/step - loss: 0.3006 - fbeta: 0.6736 - val_loss: 0.2876 - val_fbeta: 0.6935\n",
            "\n",
            "Epoch 00009: val_loss improved from 0.29910 to 0.28761, saving model to best_pretrained_ResNet50.h5\n",
            "Epoch 10/300\n",
            "64/64 [==============================] - 9s 135ms/step - loss: 0.2773 - fbeta: 0.6931 - val_loss: 0.2971 - val_fbeta: 0.7024\n",
            "\n",
            "Epoch 00010: val_loss did not improve from 0.28761\n",
            "Epoch 11/300\n",
            "64/64 [==============================] - 9s 135ms/step - loss: 0.2872 - fbeta: 0.7153 - val_loss: 0.2835 - val_fbeta: 0.7489\n",
            "\n",
            "Epoch 00011: val_loss improved from 0.28761 to 0.28354, saving model to best_pretrained_ResNet50.h5\n",
            "Epoch 12/300\n",
            "64/64 [==============================] - 9s 134ms/step - loss: 0.2853 - fbeta: 0.7138 - val_loss: 0.2957 - val_fbeta: 0.6880\n",
            "\n",
            "Epoch 00012: val_loss did not improve from 0.28354\n",
            "Epoch 13/300\n",
            "64/64 [==============================] - 9s 134ms/step - loss: 0.2860 - fbeta: 0.7285 - val_loss: 0.2708 - val_fbeta: 0.7307\n",
            "\n",
            "Epoch 00013: val_loss improved from 0.28354 to 0.27083, saving model to best_pretrained_ResNet50.h5\n",
            "Epoch 14/300\n",
            "64/64 [==============================] - 9s 135ms/step - loss: 0.2630 - fbeta: 0.7288 - val_loss: 0.2910 - val_fbeta: 0.7618\n",
            "\n",
            "Epoch 00014: val_loss did not improve from 0.27083\n",
            "Epoch 15/300\n",
            "64/64 [==============================] - 9s 134ms/step - loss: 0.2546 - fbeta: 0.7580 - val_loss: 0.3043 - val_fbeta: 0.7191\n",
            "\n",
            "Epoch 00015: val_loss did not improve from 0.27083\n",
            "Epoch 16/300\n",
            "64/64 [==============================] - 9s 134ms/step - loss: 0.2562 - fbeta: 0.7352 - val_loss: 0.2565 - val_fbeta: 0.7284\n",
            "\n",
            "Epoch 00016: val_loss improved from 0.27083 to 0.25652, saving model to best_pretrained_ResNet50.h5\n",
            "Epoch 17/300\n",
            "64/64 [==============================] - 9s 135ms/step - loss: 0.2604 - fbeta: 0.7475 - val_loss: 0.2966 - val_fbeta: 0.7423\n",
            "\n",
            "Epoch 00017: val_loss did not improve from 0.25652\n",
            "Epoch 18/300\n",
            "64/64 [==============================] - 9s 134ms/step - loss: 0.2594 - fbeta: 0.7444 - val_loss: 0.2524 - val_fbeta: 0.7738\n",
            "\n",
            "Epoch 00018: val_loss improved from 0.25652 to 0.25242, saving model to best_pretrained_ResNet50.h5\n",
            "Epoch 19/300\n",
            "64/64 [==============================] - 9s 135ms/step - loss: 0.2497 - fbeta: 0.7517 - val_loss: 0.2456 - val_fbeta: 0.7559\n",
            "\n",
            "Epoch 00019: val_loss improved from 0.25242 to 0.24559, saving model to best_pretrained_ResNet50.h5\n",
            "Epoch 20/300\n",
            "64/64 [==============================] - 9s 135ms/step - loss: 0.2355 - fbeta: 0.7659 - val_loss: 0.2728 - val_fbeta: 0.7319\n",
            "\n",
            "Epoch 00020: val_loss did not improve from 0.24559\n",
            "Epoch 21/300\n",
            "64/64 [==============================] - 9s 136ms/step - loss: 0.2344 - fbeta: 0.7604 - val_loss: 0.2693 - val_fbeta: 0.7237\n",
            "\n",
            "Epoch 00021: val_loss did not improve from 0.24559\n",
            "Epoch 22/300\n",
            "64/64 [==============================] - 9s 137ms/step - loss: 0.2334 - fbeta: 0.7703 - val_loss: 0.2504 - val_fbeta: 0.7521\n",
            "\n",
            "Epoch 00022: val_loss did not improve from 0.24559\n",
            "Epoch 23/300\n",
            "64/64 [==============================] - 9s 137ms/step - loss: 0.2188 - fbeta: 0.7920 - val_loss: 0.2673 - val_fbeta: 0.7855\n",
            "\n",
            "Epoch 00023: val_loss did not improve from 0.24559\n",
            "Epoch 24/300\n",
            "64/64 [==============================] - 9s 137ms/step - loss: 0.2291 - fbeta: 0.7732 - val_loss: 0.2557 - val_fbeta: 0.7911\n",
            "\n",
            "Epoch 00024: val_loss did not improve from 0.24559\n",
            "Epoch 25/300\n",
            "64/64 [==============================] - 9s 135ms/step - loss: 0.2204 - fbeta: 0.7760 - val_loss: 0.2701 - val_fbeta: 0.7741\n",
            "\n",
            "Epoch 00025: val_loss did not improve from 0.24559\n",
            "Epoch 26/300\n",
            "64/64 [==============================] - 9s 135ms/step - loss: 0.2231 - fbeta: 0.7806 - val_loss: 0.2544 - val_fbeta: 0.7479\n",
            "\n",
            "Epoch 00026: val_loss did not improve from 0.24559\n",
            "Epoch 27/300\n",
            "64/64 [==============================] - 9s 135ms/step - loss: 0.2271 - fbeta: 0.7710 - val_loss: 0.2502 - val_fbeta: 0.7600\n",
            "\n",
            "Epoch 00027: val_loss did not improve from 0.24559\n",
            "Epoch 28/300\n",
            "64/64 [==============================] - 9s 137ms/step - loss: 0.2284 - fbeta: 0.7659 - val_loss: 0.2676 - val_fbeta: 0.7748\n",
            "\n",
            "Epoch 00028: val_loss did not improve from 0.24559\n",
            "Epoch 29/300\n",
            "64/64 [==============================] - 9s 137ms/step - loss: 0.2174 - fbeta: 0.7776 - val_loss: 0.2874 - val_fbeta: 0.7470\n",
            "\n",
            "Epoch 00029: val_loss did not improve from 0.24559\n",
            "Epoch 30/300\n",
            "64/64 [==============================] - 9s 138ms/step - loss: 0.2152 - fbeta: 0.7876 - val_loss: 0.2510 - val_fbeta: 0.7444\n",
            "\n",
            "Epoch 00030: val_loss did not improve from 0.24559\n",
            "Epoch 31/300\n",
            "64/64 [==============================] - 9s 139ms/step - loss: 0.2136 - fbeta: 0.7973 - val_loss: 0.2743 - val_fbeta: 0.7519\n",
            "\n",
            "Epoch 00031: val_loss did not improve from 0.24559\n",
            "Epoch 32/300\n",
            "64/64 [==============================] - 9s 136ms/step - loss: 0.2319 - fbeta: 0.7678 - val_loss: 0.2605 - val_fbeta: 0.7187\n",
            "\n",
            "Epoch 00032: val_loss did not improve from 0.24559\n",
            "Epoch 33/300\n",
            "64/64 [==============================] - 9s 136ms/step - loss: 0.2076 - fbeta: 0.7937 - val_loss: 0.2486 - val_fbeta: 0.7748\n",
            "\n",
            "Epoch 00033: val_loss did not improve from 0.24559\n",
            "Epoch 34/300\n",
            "64/64 [==============================] - 9s 135ms/step - loss: 0.2003 - fbeta: 0.8055 - val_loss: 0.2586 - val_fbeta: 0.7689\n",
            "\n",
            "Epoch 00034: val_loss did not improve from 0.24559\n",
            "Epoch 35/300\n",
            "64/64 [==============================] - 9s 135ms/step - loss: 0.2079 - fbeta: 0.8080 - val_loss: 0.2362 - val_fbeta: 0.7731\n",
            "\n",
            "Epoch 00035: val_loss improved from 0.24559 to 0.23621, saving model to best_pretrained_ResNet50.h5\n",
            "Epoch 36/300\n",
            "64/64 [==============================] - 9s 136ms/step - loss: 0.2049 - fbeta: 0.7900 - val_loss: 0.2640 - val_fbeta: 0.7795\n",
            "\n",
            "Epoch 00036: val_loss did not improve from 0.23621\n",
            "Epoch 37/300\n",
            "64/64 [==============================] - 9s 136ms/step - loss: 0.2027 - fbeta: 0.7942 - val_loss: 0.2703 - val_fbeta: 0.7536\n",
            "\n",
            "Epoch 00037: val_loss did not improve from 0.23621\n",
            "Epoch 38/300\n",
            "64/64 [==============================] - 9s 135ms/step - loss: 0.1956 - fbeta: 0.8107 - val_loss: 0.2324 - val_fbeta: 0.7599\n",
            "\n",
            "Epoch 00038: val_loss improved from 0.23621 to 0.23243, saving model to best_pretrained_ResNet50.h5\n",
            "Epoch 39/300\n",
            "64/64 [==============================] - 9s 135ms/step - loss: 0.2021 - fbeta: 0.7940 - val_loss: 0.2459 - val_fbeta: 0.7680\n",
            "\n",
            "Epoch 00039: val_loss did not improve from 0.23243\n",
            "Epoch 40/300\n",
            "64/64 [==============================] - 10s 149ms/step - loss: 0.2034 - fbeta: 0.8037 - val_loss: 0.2826 - val_fbeta: 0.7607\n",
            "\n",
            "Epoch 00040: val_loss did not improve from 0.23243\n",
            "Epoch 41/300\n",
            "64/64 [==============================] - 9s 135ms/step - loss: 0.2126 - fbeta: 0.8100 - val_loss: 0.2514 - val_fbeta: 0.7564\n",
            "\n",
            "Epoch 00041: val_loss did not improve from 0.23243\n",
            "Epoch 42/300\n",
            "64/64 [==============================] - 9s 135ms/step - loss: 0.1902 - fbeta: 0.8043 - val_loss: 0.2422 - val_fbeta: 0.7743\n",
            "\n",
            "Epoch 00042: val_loss did not improve from 0.23243\n",
            "Epoch 43/300\n",
            "64/64 [==============================] - 9s 134ms/step - loss: 0.1973 - fbeta: 0.8086 - val_loss: 0.2719 - val_fbeta: 0.7217\n",
            "\n",
            "Epoch 00043: val_loss did not improve from 0.23243\n",
            "Epoch 44/300\n",
            "64/64 [==============================] - 9s 134ms/step - loss: 0.1926 - fbeta: 0.8146 - val_loss: 0.2501 - val_fbeta: 0.7347\n",
            "\n",
            "Epoch 00044: val_loss did not improve from 0.23243\n",
            "Epoch 45/300\n",
            "64/64 [==============================] - 9s 135ms/step - loss: 0.1972 - fbeta: 0.7999 - val_loss: 0.2654 - val_fbeta: 0.7540\n",
            "\n",
            "Epoch 00045: val_loss did not improve from 0.23243\n",
            "Epoch 46/300\n",
            "64/64 [==============================] - 9s 135ms/step - loss: 0.2032 - fbeta: 0.8040 - val_loss: 0.2591 - val_fbeta: 0.7611\n",
            "\n",
            "Epoch 00046: val_loss did not improve from 0.23243\n",
            "Epoch 47/300\n",
            "64/64 [==============================] - 9s 135ms/step - loss: 0.1991 - fbeta: 0.7939 - val_loss: 0.2420 - val_fbeta: 0.8001\n",
            "\n",
            "Epoch 00047: val_loss did not improve from 0.23243\n",
            "Epoch 48/300\n",
            "64/64 [==============================] - 9s 135ms/step - loss: 0.1842 - fbeta: 0.8269 - val_loss: 0.2311 - val_fbeta: 0.7770\n",
            "\n",
            "Epoch 00048: val_loss improved from 0.23243 to 0.23108, saving model to best_pretrained_ResNet50.h5\n",
            "Epoch 49/300\n",
            "64/64 [==============================] - 9s 135ms/step - loss: 0.1886 - fbeta: 0.8120 - val_loss: 0.2382 - val_fbeta: 0.7847\n",
            "\n",
            "Epoch 00049: val_loss did not improve from 0.23108\n",
            "Epoch 50/300\n",
            "64/64 [==============================] - 9s 135ms/step - loss: 0.1884 - fbeta: 0.8190 - val_loss: 0.2351 - val_fbeta: 0.7682\n",
            "\n",
            "Epoch 00050: val_loss did not improve from 0.23108\n",
            "Epoch 51/300\n",
            "64/64 [==============================] - 9s 135ms/step - loss: 0.1908 - fbeta: 0.8014 - val_loss: 0.2318 - val_fbeta: 0.7882\n",
            "\n",
            "Epoch 00051: val_loss did not improve from 0.23108\n",
            "Epoch 52/300\n",
            "64/64 [==============================] - 9s 135ms/step - loss: 0.1846 - fbeta: 0.8120 - val_loss: 0.2402 - val_fbeta: 0.7795\n",
            "\n",
            "Epoch 00052: val_loss did not improve from 0.23108\n",
            "Epoch 53/300\n",
            "64/64 [==============================] - 9s 134ms/step - loss: 0.1806 - fbeta: 0.8186 - val_loss: 0.2369 - val_fbeta: 0.7890\n",
            "\n",
            "Epoch 00053: val_loss did not improve from 0.23108\n",
            "Epoch 54/300\n",
            "64/64 [==============================] - 9s 134ms/step - loss: 0.1899 - fbeta: 0.8076 - val_loss: 0.2778 - val_fbeta: 0.7331\n",
            "\n",
            "Epoch 00054: val_loss did not improve from 0.23108\n",
            "Epoch 55/300\n",
            "64/64 [==============================] - 9s 135ms/step - loss: 0.1881 - fbeta: 0.8159 - val_loss: 0.2471 - val_fbeta: 0.7753\n",
            "\n",
            "Epoch 00055: val_loss did not improve from 0.23108\n",
            "Epoch 56/300\n",
            "64/64 [==============================] - 9s 135ms/step - loss: 0.1932 - fbeta: 0.8149 - val_loss: 0.2357 - val_fbeta: 0.7965\n",
            "\n",
            "Epoch 00056: val_loss did not improve from 0.23108\n",
            "Epoch 57/300\n",
            "64/64 [==============================] - 9s 133ms/step - loss: 0.1768 - fbeta: 0.8302 - val_loss: 0.2417 - val_fbeta: 0.7906\n",
            "\n",
            "Epoch 00057: val_loss did not improve from 0.23108\n",
            "Epoch 58/300\n",
            "64/64 [==============================] - 9s 134ms/step - loss: 0.1921 - fbeta: 0.8191 - val_loss: 0.2375 - val_fbeta: 0.7687\n",
            "\n",
            "Epoch 00058: val_loss did not improve from 0.23108\n",
            "Epoch 59/300\n",
            "64/64 [==============================] - 9s 135ms/step - loss: 0.1837 - fbeta: 0.8216 - val_loss: 0.2769 - val_fbeta: 0.7696\n",
            "\n",
            "Epoch 00059: val_loss did not improve from 0.23108\n",
            "Epoch 60/300\n",
            "64/64 [==============================] - 9s 136ms/step - loss: 0.1832 - fbeta: 0.8117 - val_loss: 0.2581 - val_fbeta: 0.8135\n",
            "\n",
            "Epoch 00060: val_loss did not improve from 0.23108\n",
            "Epoch 61/300\n",
            "64/64 [==============================] - 9s 134ms/step - loss: 0.1818 - fbeta: 0.8179 - val_loss: 0.2449 - val_fbeta: 0.7901\n",
            "\n",
            "Epoch 00061: val_loss did not improve from 0.23108\n",
            "Epoch 62/300\n",
            "64/64 [==============================] - 9s 134ms/step - loss: 0.1687 - fbeta: 0.8383 - val_loss: 0.2902 - val_fbeta: 0.7725\n",
            "\n",
            "Epoch 00062: val_loss did not improve from 0.23108\n",
            "Epoch 63/300\n",
            "64/64 [==============================] - 9s 134ms/step - loss: 0.1846 - fbeta: 0.8152 - val_loss: 0.2503 - val_fbeta: 0.7808\n",
            "\n",
            "Epoch 00063: val_loss did not improve from 0.23108\n",
            "Epoch 64/300\n",
            "64/64 [==============================] - 9s 134ms/step - loss: 0.1823 - fbeta: 0.8190 - val_loss: 0.2418 - val_fbeta: 0.8098\n",
            "\n",
            "Epoch 00064: val_loss did not improve from 0.23108\n",
            "Epoch 65/300\n",
            "64/64 [==============================] - 9s 134ms/step - loss: 0.1754 - fbeta: 0.8288 - val_loss: 0.2398 - val_fbeta: 0.7786\n",
            "\n",
            "Epoch 00065: val_loss did not improve from 0.23108\n",
            "Epoch 66/300\n",
            "64/64 [==============================] - 9s 134ms/step - loss: 0.1706 - fbeta: 0.8337 - val_loss: 0.2453 - val_fbeta: 0.7949\n",
            "\n",
            "Epoch 00066: val_loss did not improve from 0.23108\n",
            "Epoch 67/300\n",
            "64/64 [==============================] - 9s 135ms/step - loss: 0.1826 - fbeta: 0.8240 - val_loss: 0.2660 - val_fbeta: 0.7923\n",
            "\n",
            "Epoch 00067: val_loss did not improve from 0.23108\n",
            "Epoch 68/300\n",
            "64/64 [==============================] - 9s 134ms/step - loss: 0.1706 - fbeta: 0.8308 - val_loss: 0.2610 - val_fbeta: 0.7963\n",
            "\n",
            "Epoch 00068: val_loss did not improve from 0.23108\n",
            "Epoch 69/300\n",
            "64/64 [==============================] - 9s 134ms/step - loss: 0.1706 - fbeta: 0.8348 - val_loss: 0.2668 - val_fbeta: 0.7949\n",
            "\n",
            "Epoch 00069: val_loss did not improve from 0.23108\n",
            "Epoch 70/300\n",
            "64/64 [==============================] - 9s 134ms/step - loss: 0.1752 - fbeta: 0.8294 - val_loss: 0.2700 - val_fbeta: 0.7699\n",
            "\n",
            "Epoch 00070: val_loss did not improve from 0.23108\n",
            "Epoch 71/300\n",
            "64/64 [==============================] - 9s 135ms/step - loss: 0.1684 - fbeta: 0.8319 - val_loss: 0.2645 - val_fbeta: 0.7661\n",
            "\n",
            "Epoch 00071: val_loss did not improve from 0.23108\n",
            "Epoch 72/300\n",
            "64/64 [==============================] - 9s 135ms/step - loss: 0.1758 - fbeta: 0.8273 - val_loss: 0.2778 - val_fbeta: 0.7538\n",
            "\n",
            "Epoch 00072: val_loss did not improve from 0.23108\n",
            "Epoch 73/300\n",
            "64/64 [==============================] - 9s 134ms/step - loss: 0.1766 - fbeta: 0.8195 - val_loss: 0.2614 - val_fbeta: 0.7706\n",
            "\n",
            "Epoch 00073: val_loss did not improve from 0.23108\n",
            "Epoch 74/300\n",
            "64/64 [==============================] - 9s 134ms/step - loss: 0.1659 - fbeta: 0.8405 - val_loss: 0.2580 - val_fbeta: 0.7751\n",
            "\n",
            "Epoch 00074: val_loss did not improve from 0.23108\n",
            "Epoch 75/300\n",
            "64/64 [==============================] - 9s 135ms/step - loss: 0.1735 - fbeta: 0.8274 - val_loss: 0.2577 - val_fbeta: 0.8120\n",
            "\n",
            "Epoch 00075: val_loss did not improve from 0.23108\n",
            "Epoch 76/300\n",
            "64/64 [==============================] - 9s 134ms/step - loss: 0.1679 - fbeta: 0.8375 - val_loss: 0.2721 - val_fbeta: 0.7550\n",
            "\n",
            "Epoch 00076: val_loss did not improve from 0.23108\n",
            "Epoch 77/300\n",
            "64/64 [==============================] - 9s 135ms/step - loss: 0.1689 - fbeta: 0.8337 - val_loss: 0.2621 - val_fbeta: 0.7769\n",
            "\n",
            "Epoch 00077: val_loss did not improve from 0.23108\n",
            "Epoch 78/300\n",
            "64/64 [==============================] - 9s 135ms/step - loss: 0.1699 - fbeta: 0.8280 - val_loss: 0.2992 - val_fbeta: 0.7689\n",
            "\n",
            "Epoch 00078: val_loss did not improve from 0.23108\n",
            "Epoch 00078: early stopping\n"
          ]
        },
        {
          "output_type": "display_data",
          "data": {
            "image/png": "[encoded data removed]",
            "text/plain": [
              "<Figure size 1080x360 with 2 Axes>"
            ]
          },
          "metadata": {
            "needs_background": "light"
          }
        },
        {
          "output_type": "stream",
          "name": "stdout",
          "text": [
            "Model F-beta score :  0.8373396396636963\n"
          ]
        }
      ]
    },
    {
      "cell_type": "markdown",
      "metadata": {
        "id": "ISc5EB_jXT-r"
      },
      "source": [
        "## Evaluate model"
      ]
    },
    {
      "cell_type": "code",
      "metadata": {
        "colab": {
          "base_uri": "https://localhost:8080/"
        },
        "id": "PPlMnacVtMEu",
        "outputId": "58e738e0-95b0-4e3a-ac11-ceba9780bd33"
      },
      "source": [
        "# print model score\n",
        "final_model_fbeta = model.evaluate(test_iter)[1]\n",
        "print('final_model_fbeta : ', final_model_fbeta)"
      ],
      "execution_count": 28,
      "outputs": [
        {
          "output_type": "stream",
          "name": "stdout",
          "text": [
            "400/400 [==============================] - 8s 21ms/step - loss: 0.2022 - fbeta: 0.8373\n",
            "final_model_fbeta :  0.8373396396636963\n"
          ]
        }
      ]
    },
    {
      "cell_type": "markdown",
      "metadata": {
        "id": "0Y2wCmtus5LS"
      },
      "source": [
        "## Save model to local machine"
      ]
    },
    {
      "cell_type": "code",
      "metadata": {
        "colab": {
          "base_uri": "https://localhost:8080/",
          "height": 34
        },
        "id": "POBJhAMzs5LS",
        "outputId": "c38b068d-cf20-4b5f-894b-80a55e141eb7"
      },
      "source": [
        "# load saved model file to local machine\n",
        "from google.colab import files\n",
        "files.download(model_name)"
      ],
      "execution_count": 29,
      "outputs": [
        {
          "output_type": "display_data",
          "data": {
            "application/javascript": [
              "\n",
              "    async function download(id, filename, size) {\n",
              "      if (!google.colab.kernel.accessAllowed) {\n",
              "        return;\n",
              "      }\n",
              "      const div = document.createElement('div');\n",
              "      const label = document.createElement('label');\n",
              "      label.textContent = `Downloading \"${filename}\": `;\n",
              "      div.appendChild(label);\n",
              "      const progress = document.createElement('progress');\n",
              "      progress.max = size;\n",
              "      div.appendChild(progress);\n",
              "      document.body.appendChild(div);\n",
              "\n",
              "      const buffers = [];\n",
              "      let downloaded = 0;\n",
              "\n",
              "      const channel = await google.colab.kernel.comms.open(id);\n",
              "      // Send a message to notify the kernel that we're ready.\n",
              "      channel.send({})\n",
              "\n",
              "      for await (const message of channel.messages) {\n",
              "        // Send a message to notify the kernel that we're ready.\n",
              "        channel.send({})\n",
              "        if (message.buffers) {\n",
              "          for (const buffer of message.buffers) {\n",
              "            buffers.push(buffer);\n",
              "            downloaded += buffer.byteLength;\n",
              "            progress.value = downloaded;\n",
              "          }\n",
              "        }\n",
              "      }\n",
              "      const blob = new Blob(buffers, {type: 'application/binary'});\n",
              "      const a = document.createElement('a');\n",
              "      a.href = window.URL.createObjectURL(blob);\n",
              "      a.download = filename;\n",
              "      div.appendChild(a);\n",
              "      a.click();\n",
              "      div.remove();\n",
              "    }\n",
              "  "
            ],
            "text/plain": [
              "<IPython.core.display.Javascript object>"
            ]
          },
          "metadata": {}
        },
        {
          "output_type": "display_data",
          "data": {
            "application/javascript": [
              "download(\"download_93de3366-c171-4f0b-a0b8-8a54ec8152da\", \"best_pretrained_ResNet50.h5\", 134222272)"
            ],
            "text/plain": [
              "<IPython.core.display.Javascript object>"
            ]
          },
          "metadata": {}
        }
      ]
    }
  ]
}