{
  "nbformat": 4,
  "nbformat_minor": 0,
  "metadata": {
    "accelerator": "GPU",
    "colab": {
      "name": "04_pretrained_ResNet50.ipynb",
      "provenance": [],
      "toc_visible": true
    },
    "kernelspec": {
      "display_name": "Python 3",
      "language": "python",
      "name": "python3"
    },
    "language_info": {
      "codemirror_mode": {
        "name": "ipython",
        "version": 3
      },
      "file_extension": ".py",
      "mimetype": "text/x-python",
      "name": "python",
      "nbconvert_exporter": "python",
      "pygments_lexer": "ipython3",
      "version": "3.8.8"
    }
  },
  "cells": [
    {
      "cell_type": "code",
      "metadata": {
        "id": "WpvHMlA1sFTq",
        "outputId": "a6eea0f5-baaa-4ee1-9230-32e43887899c",
        "colab": {
          "base_uri": "https://localhost:8080/"
        }
      },
      "source": [
        "# CTRL + A then CTRL + / to uncomment\n",
        "# CLONE PROJECT TO TRAIN IN GOOGLE COLAB\n",
        "import os\n",
        "if os.path.isdir('/content/nature_multilabel_image_classification'):\n",
        "  !rm -rf '/content/nature_multilabel_image_classification'\n",
        "  \n",
        "!git clone https://github.com/WoradeeKongthong/nature_multilabel_image_classification.git\n",
        "\n",
        "if not os.getcwd() == '/content/nature_multilabel_image_classification' :\n",
        "  %cd /content/nature_multilabel_image_classification\n",
        "\n",
        "!pwd"
      ],
      "execution_count": 1,
      "outputs": [
        {
          "output_type": "stream",
          "name": "stdout",
          "text": [
            "Cloning into 'nature_multilabel_image_classification'...\n",
            "remote: Enumerating objects: 2059, done.\u001b[K\n",
            "remote: Counting objects: 100% (2059/2059), done.\u001b[K\n",
            "remote: Compressing objects: 100% (2047/2047), done.\u001b[K\n",
            "remote: Total 2059 (delta 19), reused 2037 (delta 7), pack-reused 0\u001b[K\n",
            "Receiving objects: 100% (2059/2059), 152.02 MiB | 27.40 MiB/s, done.\n",
            "Resolving deltas: 100% (19/19), done.\n",
            "/content/nature_multilabel_image_classification\n",
            "/content/nature_multilabel_image_classification\n"
          ]
        }
      ]
    },
    {
      "cell_type": "code",
      "metadata": {
        "id": "PfnzksyNt9mQ"
      },
      "source": [
        "# prepared dataset\n",
        "dataset_path = 'data/nature_data.npz'\n",
        "\n",
        "# saved model name\n",
        "model_name = 'best_pretrained_ResNet50.h5'"
      ],
      "execution_count": 2,
      "outputs": []
    },
    {
      "cell_type": "markdown",
      "metadata": {
        "id": "abSMiFfOu3RD"
      },
      "source": [
        "# Nature Image Classification (Multi-labels)\n",
        "\n",
        "## Objective \n",
        "To learn tags given to each image.  \n",
        "There are 5 tags;  \n",
        "- desert  \n",
        "- mountains  \n",
        "- sea  \n",
        "- sunset  \n",
        "- trees  \n",
        "\n",
        "## Dataset\n",
        "source : https://www.dropbox.com/s/0htmeoie69q650p/miml_dataset.zip?dl=0  \n",
        "(You can follow the tutorial in this blog https://vijayabhaskar96.medium.com/multi-label-image-classification-tutorial-with-keras-imagedatagenerator-cd541f8eaf24)\n",
        "\n",
        "## Approach\n",
        "Baseline model : CNN model with 1,2 or 3 VGG block(s)  \n",
        "\n",
        "Improved model \n",
        "- dropout\n",
        "- data augmentation"
      ]
    },
    {
      "cell_type": "markdown",
      "metadata": {
        "id": "hI4siRTuzkP8"
      },
      "source": [
        "## Load dataset from file"
      ]
    },
    {
      "cell_type": "code",
      "metadata": {
        "id": "DY0pyMMyzng5"
      },
      "source": [
        "import numpy as np"
      ],
      "execution_count": 3,
      "outputs": []
    },
    {
      "cell_type": "code",
      "metadata": {
        "colab": {
          "base_uri": "https://localhost:8080/"
        },
        "id": "sTPYiaN0zrve",
        "outputId": "11bafbf2-22be-438e-b693-91ed47527c39"
      },
      "source": [
        "# load data\n",
        "data = np.load(dataset_path)\n",
        "X, y = data['arr_0'], data['arr_1']\n",
        "print('X shape : ', X.shape)\n",
        "print('y shape : ', y.shape)"
      ],
      "execution_count": 4,
      "outputs": [
        {
          "output_type": "stream",
          "name": "stdout",
          "text": [
            "X shape :  (2000, 128, 128, 3)\n",
            "y shape :  (2000, 5)\n"
          ]
        }
      ]
    },
    {
      "cell_type": "markdown",
      "metadata": {
        "id": "cdtytULs0Y7s"
      },
      "source": [
        "## Create train and test set\n",
        "(Note : validation set will be created with ImageDataGenerator)"
      ]
    },
    {
      "cell_type": "code",
      "metadata": {
        "id": "wO_FPRcW0c5t"
      },
      "source": [
        "from sklearn.model_selection import train_test_split"
      ],
      "execution_count": 5,
      "outputs": []
    },
    {
      "cell_type": "code",
      "metadata": {
        "id": "ER5Tq-HU06Cq"
      },
      "source": [
        "X_train, X_test, y_train, y_test = train_test_split(X, y, test_size=0.2, random_state=100)"
      ],
      "execution_count": 6,
      "outputs": []
    },
    {
      "cell_type": "code",
      "metadata": {
        "colab": {
          "base_uri": "https://localhost:8080/"
        },
        "id": "9uhCuhbq1bVu",
        "outputId": "41dfc5da-c785-4629-c07a-dc150673c2f9"
      },
      "source": [
        "print('X_train shape : ', X_train.shape)\n",
        "print('y_train shape : ', y_train.shape)\n",
        "print()\n",
        "print('X_test shape : ', X_test.shape)\n",
        "print('y_test shape : ', y_test.shape)"
      ],
      "execution_count": 7,
      "outputs": [
        {
          "output_type": "stream",
          "name": "stdout",
          "text": [
            "X_train shape :  (1600, 128, 128, 3)\n",
            "y_train shape :  (1600, 5)\n",
            "\n",
            "X_test shape :  (400, 128, 128, 3)\n",
            "y_test shape :  (400, 5)\n"
          ]
        }
      ]
    },
    {
      "cell_type": "markdown",
      "metadata": {
        "id": "ejRHmGDVlSP-"
      },
      "source": [
        "## Create data generator without data augmentation"
      ]
    },
    {
      "cell_type": "code",
      "metadata": {
        "id": "LWRbPRUblbIP"
      },
      "source": [
        "from tensorflow.keras.preprocessing.image import ImageDataGenerator\n",
        "from tensorflow.keras.applications.resnet import preprocess_input"
      ],
      "execution_count": 8,
      "outputs": []
    },
    {
      "cell_type": "code",
      "metadata": {
        "id": "SIRwdlwulfCM"
      },
      "source": [
        "train_gen = ImageDataGenerator(preprocessing_function=preprocess_input, validation_split=0.2)\n",
        "test_gen = ImageDataGenerator(preprocessing_function=preprocess_input)\n",
        "\n",
        "batch_size = 20\n",
        "train_iter = train_gen.flow(X_train, y_train, batch_size=batch_size, subset='training', seed=123)\n",
        "val_iter = train_gen.flow(X_train, y_train, batch_size=batch_size, subset='validation', seed=123)\n",
        "test_iter = test_gen.flow(X_test, y_test, batch_size=1, shuffle=False)"
      ],
      "execution_count": 9,
      "outputs": []
    },
    {
      "cell_type": "markdown",
      "metadata": {
        "id": "LAytm0b02LY4"
      },
      "source": [
        "## fbeta score function for multi-label problem"
      ]
    },
    {
      "cell_type": "code",
      "metadata": {
        "id": "Wn9549YT2QL0"
      },
      "source": [
        "from tensorflow.keras import backend\n",
        "\n",
        "# optional sklearn.metrics.fbeta_score (cannot be used as training metric)\n",
        "#from sklearn.metrics import fbeta_score"
      ],
      "execution_count": 10,
      "outputs": []
    },
    {
      "cell_type": "code",
      "metadata": {
        "id": "v6dCRxSK2T2M"
      },
      "source": [
        "# I create F-beta score calculation in Keras to use as a metric \n",
        "# during training process instead of accuracy.\n",
        "\n",
        "def fbeta(y_true, y_pred, beta=2):\n",
        "  # clip predictions\n",
        "  y_pred = backend.clip(y_pred, 0, 1)\n",
        "  # calculate elements\n",
        "  tp = backend.sum(backend.round(backend.clip(y_true * y_pred, 0, 1)), axis=1)\n",
        "  fp = backend.sum(backend.round(backend.clip(y_pred - y_true, 0, 1)), axis=1)\n",
        "  fn = backend.sum(backend.round(backend.clip(y_true - y_pred, 0, 1)), axis=1)\n",
        "  # calculate precision\n",
        "  p = tp / (tp + fp + backend.epsilon())\n",
        "  # calculate recall\n",
        "  r = tp / (tp + fn + backend.epsilon())\n",
        "  # calculate fbeta, averaged across each class\n",
        "  bb = beta ** 2\n",
        "  fbeta_score = backend.mean((1 + bb) * (p * r) / (bb * p + r + backend.epsilon()))\n",
        "  return fbeta_score"
      ],
      "execution_count": 11,
      "outputs": []
    },
    {
      "cell_type": "markdown",
      "metadata": {
        "id": "CD1IWrOXgXlg"
      },
      "source": [
        "## Baseline Model"
      ]
    },
    {
      "cell_type": "code",
      "metadata": {
        "id": "lQ1jwo4sAjgi"
      },
      "source": [
        "from tensorflow.keras.applications import ResNet50\n",
        "from tensorflow.keras.models import Model\n",
        "from tensorflow.keras.layers import Dense, Flatten, Dropout\n",
        "from tensorflow.keras.callbacks import EarlyStopping, ModelCheckpoint\n",
        "import matplotlib.pyplot as plt"
      ],
      "execution_count": 12,
      "outputs": []
    },
    {
      "cell_type": "code",
      "metadata": {
        "colab": {
          "base_uri": "https://localhost:8080/"
        },
        "id": "SSU7wg4TAl5G",
        "outputId": "8751c15d-e3b3-4c5e-8ae1-22cf13ea70d3"
      },
      "source": [
        "# create model\n",
        "\n",
        "# load ResNet50 model\n",
        "model = ResNet50(include_top=False, input_shape=(128,128,3))\n",
        "# mark loaded layers as not trainable\n",
        "for layer in model.layers:\n",
        "    layer.trainable = False\n",
        "# add new classifier layers\n",
        "flat1 = Flatten()(model.layers[-1].output)\n",
        "class1 = Dense(100, activation='relu', kernel_initializer='he_uniform')(flat1)\n",
        "output = Dense(5, activation='sigmoid')(class1)\n",
        "# define model\n",
        "model = Model(inputs=model.inputs, outputs=output)\n",
        "\n",
        "# compile model\n",
        "model.compile(optimizer='adam', loss='binary_crossentropy', metrics=[fbeta])"
      ],
      "execution_count": 13,
      "outputs": [
        {
          "output_type": "stream",
          "name": "stdout",
          "text": [
            "Downloading data from https://storage.googleapis.com/tensorflow/keras-applications/resnet/resnet50_weights_tf_dim_ordering_tf_kernels_notop.h5\n",
            "94773248/94765736 [==============================] - 1s 0us/step\n",
            "94781440/94765736 [==============================] - 1s 0us/step\n"
          ]
        }
      ]
    },
    {
      "cell_type": "code",
      "metadata": {
        "colab": {
          "base_uri": "https://localhost:8080/"
        },
        "id": "p1iYWekdotgI",
        "outputId": "bb9d7f56-e0ca-4e5d-8e1e-98f180a6e4f3"
      },
      "source": [
        "model.summary()"
      ],
      "execution_count": 14,
      "outputs": [
        {
          "output_type": "stream",
          "name": "stdout",
          "text": [
            "Model: \"model\"\n",
            "__________________________________________________________________________________________________\n",
            "Layer (type)                    Output Shape         Param #     Connected to                     \n",
            "==================================================================================================\n",
            "input_1 (InputLayer)            [(None, 128, 128, 3) 0                                            \n",
            "__________________________________________________________________________________________________\n",
            "conv1_pad (ZeroPadding2D)       (None, 134, 134, 3)  0           input_1[0][0]                    \n",
            "__________________________________________________________________________________________________\n",
            "conv1_conv (Conv2D)             (None, 64, 64, 64)   9472        conv1_pad[0][0]                  \n",
            "__________________________________________________________________________________________________\n",
            "conv1_bn (BatchNormalization)   (None, 64, 64, 64)   256         conv1_conv[0][0]                 \n",
            "__________________________________________________________________________________________________\n",
            "conv1_relu (Activation)         (None, 64, 64, 64)   0           conv1_bn[0][0]                   \n",
            "__________________________________________________________________________________________________\n",
            "pool1_pad (ZeroPadding2D)       (None, 66, 66, 64)   0           conv1_relu[0][0]                 \n",
            "__________________________________________________________________________________________________\n",
            "pool1_pool (MaxPooling2D)       (None, 32, 32, 64)   0           pool1_pad[0][0]                  \n",
            "__________________________________________________________________________________________________\n",
            "conv2_block1_1_conv (Conv2D)    (None, 32, 32, 64)   4160        pool1_pool[0][0]                 \n",
            "__________________________________________________________________________________________________\n",
            "conv2_block1_1_bn (BatchNormali (None, 32, 32, 64)   256         conv2_block1_1_conv[0][0]        \n",
            "__________________________________________________________________________________________________\n",
            "conv2_block1_1_relu (Activation (None, 32, 32, 64)   0           conv2_block1_1_bn[0][0]          \n",
            "__________________________________________________________________________________________________\n",
            "conv2_block1_2_conv (Conv2D)    (None, 32, 32, 64)   36928       conv2_block1_1_relu[0][0]        \n",
            "__________________________________________________________________________________________________\n",
            "conv2_block1_2_bn (BatchNormali (None, 32, 32, 64)   256         conv2_block1_2_conv[0][0]        \n",
            "__________________________________________________________________________________________________\n",
            "conv2_block1_2_relu (Activation (None, 32, 32, 64)   0           conv2_block1_2_bn[0][0]          \n",
            "__________________________________________________________________________________________________\n",
            "conv2_block1_0_conv (Conv2D)    (None, 32, 32, 256)  16640       pool1_pool[0][0]                 \n",
            "__________________________________________________________________________________________________\n",
            "conv2_block1_3_conv (Conv2D)    (None, 32, 32, 256)  16640       conv2_block1_2_relu[0][0]        \n",
            "__________________________________________________________________________________________________\n",
            "conv2_block1_0_bn (BatchNormali (None, 32, 32, 256)  1024        conv2_block1_0_conv[0][0]        \n",
            "__________________________________________________________________________________________________\n",
            "conv2_block1_3_bn (BatchNormali (None, 32, 32, 256)  1024        conv2_block1_3_conv[0][0]        \n",
            "__________________________________________________________________________________________________\n",
            "conv2_block1_add (Add)          (None, 32, 32, 256)  0           conv2_block1_0_bn[0][0]          \n",
            "                                                                 conv2_block1_3_bn[0][0]          \n",
            "__________________________________________________________________________________________________\n",
            "conv2_block1_out (Activation)   (None, 32, 32, 256)  0           conv2_block1_add[0][0]           \n",
            "__________________________________________________________________________________________________\n",
            "conv2_block2_1_conv (Conv2D)    (None, 32, 32, 64)   16448       conv2_block1_out[0][0]           \n",
            "__________________________________________________________________________________________________\n",
            "conv2_block2_1_bn (BatchNormali (None, 32, 32, 64)   256         conv2_block2_1_conv[0][0]        \n",
            "__________________________________________________________________________________________________\n",
            "conv2_block2_1_relu (Activation (None, 32, 32, 64)   0           conv2_block2_1_bn[0][0]          \n",
            "__________________________________________________________________________________________________\n",
            "conv2_block2_2_conv (Conv2D)    (None, 32, 32, 64)   36928       conv2_block2_1_relu[0][0]        \n",
            "__________________________________________________________________________________________________\n",
            "conv2_block2_2_bn (BatchNormali (None, 32, 32, 64)   256         conv2_block2_2_conv[0][0]        \n",
            "__________________________________________________________________________________________________\n",
            "conv2_block2_2_relu (Activation (None, 32, 32, 64)   0           conv2_block2_2_bn[0][0]          \n",
            "__________________________________________________________________________________________________\n",
            "conv2_block2_3_conv (Conv2D)    (None, 32, 32, 256)  16640       conv2_block2_2_relu[0][0]        \n",
            "__________________________________________________________________________________________________\n",
            "conv2_block2_3_bn (BatchNormali (None, 32, 32, 256)  1024        conv2_block2_3_conv[0][0]        \n",
            "__________________________________________________________________________________________________\n",
            "conv2_block2_add (Add)          (None, 32, 32, 256)  0           conv2_block1_out[0][0]           \n",
            "                                                                 conv2_block2_3_bn[0][0]          \n",
            "__________________________________________________________________________________________________\n",
            "conv2_block2_out (Activation)   (None, 32, 32, 256)  0           conv2_block2_add[0][0]           \n",
            "__________________________________________________________________________________________________\n",
            "conv2_block3_1_conv (Conv2D)    (None, 32, 32, 64)   16448       conv2_block2_out[0][0]           \n",
            "__________________________________________________________________________________________________\n",
            "conv2_block3_1_bn (BatchNormali (None, 32, 32, 64)   256         conv2_block3_1_conv[0][0]        \n",
            "__________________________________________________________________________________________________\n",
            "conv2_block3_1_relu (Activation (None, 32, 32, 64)   0           conv2_block3_1_bn[0][0]          \n",
            "__________________________________________________________________________________________________\n",
            "conv2_block3_2_conv (Conv2D)    (None, 32, 32, 64)   36928       conv2_block3_1_relu[0][0]        \n",
            "__________________________________________________________________________________________________\n",
            "conv2_block3_2_bn (BatchNormali (None, 32, 32, 64)   256         conv2_block3_2_conv[0][0]        \n",
            "__________________________________________________________________________________________________\n",
            "conv2_block3_2_relu (Activation (None, 32, 32, 64)   0           conv2_block3_2_bn[0][0]          \n",
            "__________________________________________________________________________________________________\n",
            "conv2_block3_3_conv (Conv2D)    (None, 32, 32, 256)  16640       conv2_block3_2_relu[0][0]        \n",
            "__________________________________________________________________________________________________\n",
            "conv2_block3_3_bn (BatchNormali (None, 32, 32, 256)  1024        conv2_block3_3_conv[0][0]        \n",
            "__________________________________________________________________________________________________\n",
            "conv2_block3_add (Add)          (None, 32, 32, 256)  0           conv2_block2_out[0][0]           \n",
            "                                                                 conv2_block3_3_bn[0][0]          \n",
            "__________________________________________________________________________________________________\n",
            "conv2_block3_out (Activation)   (None, 32, 32, 256)  0           conv2_block3_add[0][0]           \n",
            "__________________________________________________________________________________________________\n",
            "conv3_block1_1_conv (Conv2D)    (None, 16, 16, 128)  32896       conv2_block3_out[0][0]           \n",
            "__________________________________________________________________________________________________\n",
            "conv3_block1_1_bn (BatchNormali (None, 16, 16, 128)  512         conv3_block1_1_conv[0][0]        \n",
            "__________________________________________________________________________________________________\n",
            "conv3_block1_1_relu (Activation (None, 16, 16, 128)  0           conv3_block1_1_bn[0][0]          \n",
            "__________________________________________________________________________________________________\n",
            "conv3_block1_2_conv (Conv2D)    (None, 16, 16, 128)  147584      conv3_block1_1_relu[0][0]        \n",
            "__________________________________________________________________________________________________\n",
            "conv3_block1_2_bn (BatchNormali (None, 16, 16, 128)  512         conv3_block1_2_conv[0][0]        \n",
            "__________________________________________________________________________________________________\n",
            "conv3_block1_2_relu (Activation (None, 16, 16, 128)  0           conv3_block1_2_bn[0][0]          \n",
            "__________________________________________________________________________________________________\n",
            "conv3_block1_0_conv (Conv2D)    (None, 16, 16, 512)  131584      conv2_block3_out[0][0]           \n",
            "__________________________________________________________________________________________________\n",
            "conv3_block1_3_conv (Conv2D)    (None, 16, 16, 512)  66048       conv3_block1_2_relu[0][0]        \n",
            "__________________________________________________________________________________________________\n",
            "conv3_block1_0_bn (BatchNormali (None, 16, 16, 512)  2048        conv3_block1_0_conv[0][0]        \n",
            "__________________________________________________________________________________________________\n",
            "conv3_block1_3_bn (BatchNormali (None, 16, 16, 512)  2048        conv3_block1_3_conv[0][0]        \n",
            "__________________________________________________________________________________________________\n",
            "conv3_block1_add (Add)          (None, 16, 16, 512)  0           conv3_block1_0_bn[0][0]          \n",
            "                                                                 conv3_block1_3_bn[0][0]          \n",
            "__________________________________________________________________________________________________\n",
            "conv3_block1_out (Activation)   (None, 16, 16, 512)  0           conv3_block1_add[0][0]           \n",
            "__________________________________________________________________________________________________\n",
            "conv3_block2_1_conv (Conv2D)    (None, 16, 16, 128)  65664       conv3_block1_out[0][0]           \n",
            "__________________________________________________________________________________________________\n",
            "conv3_block2_1_bn (BatchNormali (None, 16, 16, 128)  512         conv3_block2_1_conv[0][0]        \n",
            "__________________________________________________________________________________________________\n",
            "conv3_block2_1_relu (Activation (None, 16, 16, 128)  0           conv3_block2_1_bn[0][0]          \n",
            "__________________________________________________________________________________________________\n",
            "conv3_block2_2_conv (Conv2D)    (None, 16, 16, 128)  147584      conv3_block2_1_relu[0][0]        \n",
            "__________________________________________________________________________________________________\n",
            "conv3_block2_2_bn (BatchNormali (None, 16, 16, 128)  512         conv3_block2_2_conv[0][0]        \n",
            "__________________________________________________________________________________________________\n",
            "conv3_block2_2_relu (Activation (None, 16, 16, 128)  0           conv3_block2_2_bn[0][0]          \n",
            "__________________________________________________________________________________________________\n",
            "conv3_block2_3_conv (Conv2D)    (None, 16, 16, 512)  66048       conv3_block2_2_relu[0][0]        \n",
            "__________________________________________________________________________________________________\n",
            "conv3_block2_3_bn (BatchNormali (None, 16, 16, 512)  2048        conv3_block2_3_conv[0][0]        \n",
            "__________________________________________________________________________________________________\n",
            "conv3_block2_add (Add)          (None, 16, 16, 512)  0           conv3_block1_out[0][0]           \n",
            "                                                                 conv3_block2_3_bn[0][0]          \n",
            "__________________________________________________________________________________________________\n",
            "conv3_block2_out (Activation)   (None, 16, 16, 512)  0           conv3_block2_add[0][0]           \n",
            "__________________________________________________________________________________________________\n",
            "conv3_block3_1_conv (Conv2D)    (None, 16, 16, 128)  65664       conv3_block2_out[0][0]           \n",
            "__________________________________________________________________________________________________\n",
            "conv3_block3_1_bn (BatchNormali (None, 16, 16, 128)  512         conv3_block3_1_conv[0][0]        \n",
            "__________________________________________________________________________________________________\n",
            "conv3_block3_1_relu (Activation (None, 16, 16, 128)  0           conv3_block3_1_bn[0][0]          \n",
            "__________________________________________________________________________________________________\n",
            "conv3_block3_2_conv (Conv2D)    (None, 16, 16, 128)  147584      conv3_block3_1_relu[0][0]        \n",
            "__________________________________________________________________________________________________\n",
            "conv3_block3_2_bn (BatchNormali (None, 16, 16, 128)  512         conv3_block3_2_conv[0][0]        \n",
            "__________________________________________________________________________________________________\n",
            "conv3_block3_2_relu (Activation (None, 16, 16, 128)  0           conv3_block3_2_bn[0][0]          \n",
            "__________________________________________________________________________________________________\n",
            "conv3_block3_3_conv (Conv2D)    (None, 16, 16, 512)  66048       conv3_block3_2_relu[0][0]        \n",
            "__________________________________________________________________________________________________\n",
            "conv3_block3_3_bn (BatchNormali (None, 16, 16, 512)  2048        conv3_block3_3_conv[0][0]        \n",
            "__________________________________________________________________________________________________\n",
            "conv3_block3_add (Add)          (None, 16, 16, 512)  0           conv3_block2_out[0][0]           \n",
            "                                                                 conv3_block3_3_bn[0][0]          \n",
            "__________________________________________________________________________________________________\n",
            "conv3_block3_out (Activation)   (None, 16, 16, 512)  0           conv3_block3_add[0][0]           \n",
            "__________________________________________________________________________________________________\n",
            "conv3_block4_1_conv (Conv2D)    (None, 16, 16, 128)  65664       conv3_block3_out[0][0]           \n",
            "__________________________________________________________________________________________________\n",
            "conv3_block4_1_bn (BatchNormali (None, 16, 16, 128)  512         conv3_block4_1_conv[0][0]        \n",
            "__________________________________________________________________________________________________\n",
            "conv3_block4_1_relu (Activation (None, 16, 16, 128)  0           conv3_block4_1_bn[0][0]          \n",
            "__________________________________________________________________________________________________\n",
            "conv3_block4_2_conv (Conv2D)    (None, 16, 16, 128)  147584      conv3_block4_1_relu[0][0]        \n",
            "__________________________________________________________________________________________________\n",
            "conv3_block4_2_bn (BatchNormali (None, 16, 16, 128)  512         conv3_block4_2_conv[0][0]        \n",
            "__________________________________________________________________________________________________\n",
            "conv3_block4_2_relu (Activation (None, 16, 16, 128)  0           conv3_block4_2_bn[0][0]          \n",
            "__________________________________________________________________________________________________\n",
            "conv3_block4_3_conv (Conv2D)    (None, 16, 16, 512)  66048       conv3_block4_2_relu[0][0]        \n",
            "__________________________________________________________________________________________________\n",
            "conv3_block4_3_bn (BatchNormali (None, 16, 16, 512)  2048        conv3_block4_3_conv[0][0]        \n",
            "__________________________________________________________________________________________________\n",
            "conv3_block4_add (Add)          (None, 16, 16, 512)  0           conv3_block3_out[0][0]           \n",
            "                                                                 conv3_block4_3_bn[0][0]          \n",
            "__________________________________________________________________________________________________\n",
            "conv3_block4_out (Activation)   (None, 16, 16, 512)  0           conv3_block4_add[0][0]           \n",
            "__________________________________________________________________________________________________\n",
            "conv4_block1_1_conv (Conv2D)    (None, 8, 8, 256)    131328      conv3_block4_out[0][0]           \n",
            "__________________________________________________________________________________________________\n",
            "conv4_block1_1_bn (BatchNormali (None, 8, 8, 256)    1024        conv4_block1_1_conv[0][0]        \n",
            "__________________________________________________________________________________________________\n",
            "conv4_block1_1_relu (Activation (None, 8, 8, 256)    0           conv4_block1_1_bn[0][0]          \n",
            "__________________________________________________________________________________________________\n",
            "conv4_block1_2_conv (Conv2D)    (None, 8, 8, 256)    590080      conv4_block1_1_relu[0][0]        \n",
            "__________________________________________________________________________________________________\n",
            "conv4_block1_2_bn (BatchNormali (None, 8, 8, 256)    1024        conv4_block1_2_conv[0][0]        \n",
            "__________________________________________________________________________________________________\n",
            "conv4_block1_2_relu (Activation (None, 8, 8, 256)    0           conv4_block1_2_bn[0][0]          \n",
            "__________________________________________________________________________________________________\n",
            "conv4_block1_0_conv (Conv2D)    (None, 8, 8, 1024)   525312      conv3_block4_out[0][0]           \n",
            "__________________________________________________________________________________________________\n",
            "conv4_block1_3_conv (Conv2D)    (None, 8, 8, 1024)   263168      conv4_block1_2_relu[0][0]        \n",
            "__________________________________________________________________________________________________\n",
            "conv4_block1_0_bn (BatchNormali (None, 8, 8, 1024)   4096        conv4_block1_0_conv[0][0]        \n",
            "__________________________________________________________________________________________________\n",
            "conv4_block1_3_bn (BatchNormali (None, 8, 8, 1024)   4096        conv4_block1_3_conv[0][0]        \n",
            "__________________________________________________________________________________________________\n",
            "conv4_block1_add (Add)          (None, 8, 8, 1024)   0           conv4_block1_0_bn[0][0]          \n",
            "                                                                 conv4_block1_3_bn[0][0]          \n",
            "__________________________________________________________________________________________________\n",
            "conv4_block1_out (Activation)   (None, 8, 8, 1024)   0           conv4_block1_add[0][0]           \n",
            "__________________________________________________________________________________________________\n",
            "conv4_block2_1_conv (Conv2D)    (None, 8, 8, 256)    262400      conv4_block1_out[0][0]           \n",
            "__________________________________________________________________________________________________\n",
            "conv4_block2_1_bn (BatchNormali (None, 8, 8, 256)    1024        conv4_block2_1_conv[0][0]        \n",
            "__________________________________________________________________________________________________\n",
            "conv4_block2_1_relu (Activation (None, 8, 8, 256)    0           conv4_block2_1_bn[0][0]          \n",
            "__________________________________________________________________________________________________\n",
            "conv4_block2_2_conv (Conv2D)    (None, 8, 8, 256)    590080      conv4_block2_1_relu[0][0]        \n",
            "__________________________________________________________________________________________________\n",
            "conv4_block2_2_bn (BatchNormali (None, 8, 8, 256)    1024        conv4_block2_2_conv[0][0]        \n",
            "__________________________________________________________________________________________________\n",
            "conv4_block2_2_relu (Activation (None, 8, 8, 256)    0           conv4_block2_2_bn[0][0]          \n",
            "__________________________________________________________________________________________________\n",
            "conv4_block2_3_conv (Conv2D)    (None, 8, 8, 1024)   263168      conv4_block2_2_relu[0][0]        \n",
            "__________________________________________________________________________________________________\n",
            "conv4_block2_3_bn (BatchNormali (None, 8, 8, 1024)   4096        conv4_block2_3_conv[0][0]        \n",
            "__________________________________________________________________________________________________\n",
            "conv4_block2_add (Add)          (None, 8, 8, 1024)   0           conv4_block1_out[0][0]           \n",
            "                                                                 conv4_block2_3_bn[0][0]          \n",
            "__________________________________________________________________________________________________\n",
            "conv4_block2_out (Activation)   (None, 8, 8, 1024)   0           conv4_block2_add[0][0]           \n",
            "__________________________________________________________________________________________________\n",
            "conv4_block3_1_conv (Conv2D)    (None, 8, 8, 256)    262400      conv4_block2_out[0][0]           \n",
            "__________________________________________________________________________________________________\n",
            "conv4_block3_1_bn (BatchNormali (None, 8, 8, 256)    1024        conv4_block3_1_conv[0][0]        \n",
            "__________________________________________________________________________________________________\n",
            "conv4_block3_1_relu (Activation (None, 8, 8, 256)    0           conv4_block3_1_bn[0][0]          \n",
            "__________________________________________________________________________________________________\n",
            "conv4_block3_2_conv (Conv2D)    (None, 8, 8, 256)    590080      conv4_block3_1_relu[0][0]        \n",
            "__________________________________________________________________________________________________\n",
            "conv4_block3_2_bn (BatchNormali (None, 8, 8, 256)    1024        conv4_block3_2_conv[0][0]        \n",
            "__________________________________________________________________________________________________\n",
            "conv4_block3_2_relu (Activation (None, 8, 8, 256)    0           conv4_block3_2_bn[0][0]          \n",
            "__________________________________________________________________________________________________\n",
            "conv4_block3_3_conv (Conv2D)    (None, 8, 8, 1024)   263168      conv4_block3_2_relu[0][0]        \n",
            "__________________________________________________________________________________________________\n",
            "conv4_block3_3_bn (BatchNormali (None, 8, 8, 1024)   4096        conv4_block3_3_conv[0][0]        \n",
            "__________________________________________________________________________________________________\n",
            "conv4_block3_add (Add)          (None, 8, 8, 1024)   0           conv4_block2_out[0][0]           \n",
            "                                                                 conv4_block3_3_bn[0][0]          \n",
            "__________________________________________________________________________________________________\n",
            "conv4_block3_out (Activation)   (None, 8, 8, 1024)   0           conv4_block3_add[0][0]           \n",
            "__________________________________________________________________________________________________\n",
            "conv4_block4_1_conv (Conv2D)    (None, 8, 8, 256)    262400      conv4_block3_out[0][0]           \n",
            "__________________________________________________________________________________________________\n",
            "conv4_block4_1_bn (BatchNormali (None, 8, 8, 256)    1024        conv4_block4_1_conv[0][0]        \n",
            "__________________________________________________________________________________________________\n",
            "conv4_block4_1_relu (Activation (None, 8, 8, 256)    0           conv4_block4_1_bn[0][0]          \n",
            "__________________________________________________________________________________________________\n",
            "conv4_block4_2_conv (Conv2D)    (None, 8, 8, 256)    590080      conv4_block4_1_relu[0][0]        \n",
            "__________________________________________________________________________________________________\n",
            "conv4_block4_2_bn (BatchNormali (None, 8, 8, 256)    1024        conv4_block4_2_conv[0][0]        \n",
            "__________________________________________________________________________________________________\n",
            "conv4_block4_2_relu (Activation (None, 8, 8, 256)    0           conv4_block4_2_bn[0][0]          \n",
            "__________________________________________________________________________________________________\n",
            "conv4_block4_3_conv (Conv2D)    (None, 8, 8, 1024)   263168      conv4_block4_2_relu[0][0]        \n",
            "__________________________________________________________________________________________________\n",
            "conv4_block4_3_bn (BatchNormali (None, 8, 8, 1024)   4096        conv4_block4_3_conv[0][0]        \n",
            "__________________________________________________________________________________________________\n",
            "conv4_block4_add (Add)          (None, 8, 8, 1024)   0           conv4_block3_out[0][0]           \n",
            "                                                                 conv4_block4_3_bn[0][0]          \n",
            "__________________________________________________________________________________________________\n",
            "conv4_block4_out (Activation)   (None, 8, 8, 1024)   0           conv4_block4_add[0][0]           \n",
            "__________________________________________________________________________________________________\n",
            "conv4_block5_1_conv (Conv2D)    (None, 8, 8, 256)    262400      conv4_block4_out[0][0]           \n",
            "__________________________________________________________________________________________________\n",
            "conv4_block5_1_bn (BatchNormali (None, 8, 8, 256)    1024        conv4_block5_1_conv[0][0]        \n",
            "__________________________________________________________________________________________________\n",
            "conv4_block5_1_relu (Activation (None, 8, 8, 256)    0           conv4_block5_1_bn[0][0]          \n",
            "__________________________________________________________________________________________________\n",
            "conv4_block5_2_conv (Conv2D)    (None, 8, 8, 256)    590080      conv4_block5_1_relu[0][0]        \n",
            "__________________________________________________________________________________________________\n",
            "conv4_block5_2_bn (BatchNormali (None, 8, 8, 256)    1024        conv4_block5_2_conv[0][0]        \n",
            "__________________________________________________________________________________________________\n",
            "conv4_block5_2_relu (Activation (None, 8, 8, 256)    0           conv4_block5_2_bn[0][0]          \n",
            "__________________________________________________________________________________________________\n",
            "conv4_block5_3_conv (Conv2D)    (None, 8, 8, 1024)   263168      conv4_block5_2_relu[0][0]        \n",
            "__________________________________________________________________________________________________\n",
            "conv4_block5_3_bn (BatchNormali (None, 8, 8, 1024)   4096        conv4_block5_3_conv[0][0]        \n",
            "__________________________________________________________________________________________________\n",
            "conv4_block5_add (Add)          (None, 8, 8, 1024)   0           conv4_block4_out[0][0]           \n",
            "                                                                 conv4_block5_3_bn[0][0]          \n",
            "__________________________________________________________________________________________________\n",
            "conv4_block5_out (Activation)   (None, 8, 8, 1024)   0           conv4_block5_add[0][0]           \n",
            "__________________________________________________________________________________________________\n",
            "conv4_block6_1_conv (Conv2D)    (None, 8, 8, 256)    262400      conv4_block5_out[0][0]           \n",
            "__________________________________________________________________________________________________\n",
            "conv4_block6_1_bn (BatchNormali (None, 8, 8, 256)    1024        conv4_block6_1_conv[0][0]        \n",
            "__________________________________________________________________________________________________\n",
            "conv4_block6_1_relu (Activation (None, 8, 8, 256)    0           conv4_block6_1_bn[0][0]          \n",
            "__________________________________________________________________________________________________\n",
            "conv4_block6_2_conv (Conv2D)    (None, 8, 8, 256)    590080      conv4_block6_1_relu[0][0]        \n",
            "__________________________________________________________________________________________________\n",
            "conv4_block6_2_bn (BatchNormali (None, 8, 8, 256)    1024        conv4_block6_2_conv[0][0]        \n",
            "__________________________________________________________________________________________________\n",
            "conv4_block6_2_relu (Activation (None, 8, 8, 256)    0           conv4_block6_2_bn[0][0]          \n",
            "__________________________________________________________________________________________________\n",
            "conv4_block6_3_conv (Conv2D)    (None, 8, 8, 1024)   263168      conv4_block6_2_relu[0][0]        \n",
            "__________________________________________________________________________________________________\n",
            "conv4_block6_3_bn (BatchNormali (None, 8, 8, 1024)   4096        conv4_block6_3_conv[0][0]        \n",
            "__________________________________________________________________________________________________\n",
            "conv4_block6_add (Add)          (None, 8, 8, 1024)   0           conv4_block5_out[0][0]           \n",
            "                                                                 conv4_block6_3_bn[0][0]          \n",
            "__________________________________________________________________________________________________\n",
            "conv4_block6_out (Activation)   (None, 8, 8, 1024)   0           conv4_block6_add[0][0]           \n",
            "__________________________________________________________________________________________________\n",
            "conv5_block1_1_conv (Conv2D)    (None, 4, 4, 512)    524800      conv4_block6_out[0][0]           \n",
            "__________________________________________________________________________________________________\n",
            "conv5_block1_1_bn (BatchNormali (None, 4, 4, 512)    2048        conv5_block1_1_conv[0][0]        \n",
            "__________________________________________________________________________________________________\n",
            "conv5_block1_1_relu (Activation (None, 4, 4, 512)    0           conv5_block1_1_bn[0][0]          \n",
            "__________________________________________________________________________________________________\n",
            "conv5_block1_2_conv (Conv2D)    (None, 4, 4, 512)    2359808     conv5_block1_1_relu[0][0]        \n",
            "__________________________________________________________________________________________________\n",
            "conv5_block1_2_bn (BatchNormali (None, 4, 4, 512)    2048        conv5_block1_2_conv[0][0]        \n",
            "__________________________________________________________________________________________________\n",
            "conv5_block1_2_relu (Activation (None, 4, 4, 512)    0           conv5_block1_2_bn[0][0]          \n",
            "__________________________________________________________________________________________________\n",
            "conv5_block1_0_conv (Conv2D)    (None, 4, 4, 2048)   2099200     conv4_block6_out[0][0]           \n",
            "__________________________________________________________________________________________________\n",
            "conv5_block1_3_conv (Conv2D)    (None, 4, 4, 2048)   1050624     conv5_block1_2_relu[0][0]        \n",
            "__________________________________________________________________________________________________\n",
            "conv5_block1_0_bn (BatchNormali (None, 4, 4, 2048)   8192        conv5_block1_0_conv[0][0]        \n",
            "__________________________________________________________________________________________________\n",
            "conv5_block1_3_bn (BatchNormali (None, 4, 4, 2048)   8192        conv5_block1_3_conv[0][0]        \n",
            "__________________________________________________________________________________________________\n",
            "conv5_block1_add (Add)          (None, 4, 4, 2048)   0           conv5_block1_0_bn[0][0]          \n",
            "                                                                 conv5_block1_3_bn[0][0]          \n",
            "__________________________________________________________________________________________________\n",
            "conv5_block1_out (Activation)   (None, 4, 4, 2048)   0           conv5_block1_add[0][0]           \n",
            "__________________________________________________________________________________________________\n",
            "conv5_block2_1_conv (Conv2D)    (None, 4, 4, 512)    1049088     conv5_block1_out[0][0]           \n",
            "__________________________________________________________________________________________________\n",
            "conv5_block2_1_bn (BatchNormali (None, 4, 4, 512)    2048        conv5_block2_1_conv[0][0]        \n",
            "__________________________________________________________________________________________________\n",
            "conv5_block2_1_relu (Activation (None, 4, 4, 512)    0           conv5_block2_1_bn[0][0]          \n",
            "__________________________________________________________________________________________________\n",
            "conv5_block2_2_conv (Conv2D)    (None, 4, 4, 512)    2359808     conv5_block2_1_relu[0][0]        \n",
            "__________________________________________________________________________________________________\n",
            "conv5_block2_2_bn (BatchNormali (None, 4, 4, 512)    2048        conv5_block2_2_conv[0][0]        \n",
            "__________________________________________________________________________________________________\n",
            "conv5_block2_2_relu (Activation (None, 4, 4, 512)    0           conv5_block2_2_bn[0][0]          \n",
            "__________________________________________________________________________________________________\n",
            "conv5_block2_3_conv (Conv2D)    (None, 4, 4, 2048)   1050624     conv5_block2_2_relu[0][0]        \n",
            "__________________________________________________________________________________________________\n",
            "conv5_block2_3_bn (BatchNormali (None, 4, 4, 2048)   8192        conv5_block2_3_conv[0][0]        \n",
            "__________________________________________________________________________________________________\n",
            "conv5_block2_add (Add)          (None, 4, 4, 2048)   0           conv5_block1_out[0][0]           \n",
            "                                                                 conv5_block2_3_bn[0][0]          \n",
            "__________________________________________________________________________________________________\n",
            "conv5_block2_out (Activation)   (None, 4, 4, 2048)   0           conv5_block2_add[0][0]           \n",
            "__________________________________________________________________________________________________\n",
            "conv5_block3_1_conv (Conv2D)    (None, 4, 4, 512)    1049088     conv5_block2_out[0][0]           \n",
            "__________________________________________________________________________________________________\n",
            "conv5_block3_1_bn (BatchNormali (None, 4, 4, 512)    2048        conv5_block3_1_conv[0][0]        \n",
            "__________________________________________________________________________________________________\n",
            "conv5_block3_1_relu (Activation (None, 4, 4, 512)    0           conv5_block3_1_bn[0][0]          \n",
            "__________________________________________________________________________________________________\n",
            "conv5_block3_2_conv (Conv2D)    (None, 4, 4, 512)    2359808     conv5_block3_1_relu[0][0]        \n",
            "__________________________________________________________________________________________________\n",
            "conv5_block3_2_bn (BatchNormali (None, 4, 4, 512)    2048        conv5_block3_2_conv[0][0]        \n",
            "__________________________________________________________________________________________________\n",
            "conv5_block3_2_relu (Activation (None, 4, 4, 512)    0           conv5_block3_2_bn[0][0]          \n",
            "__________________________________________________________________________________________________\n",
            "conv5_block3_3_conv (Conv2D)    (None, 4, 4, 2048)   1050624     conv5_block3_2_relu[0][0]        \n",
            "__________________________________________________________________________________________________\n",
            "conv5_block3_3_bn (BatchNormali (None, 4, 4, 2048)   8192        conv5_block3_3_conv[0][0]        \n",
            "__________________________________________________________________________________________________\n",
            "conv5_block3_add (Add)          (None, 4, 4, 2048)   0           conv5_block2_out[0][0]           \n",
            "                                                                 conv5_block3_3_bn[0][0]          \n",
            "__________________________________________________________________________________________________\n",
            "conv5_block3_out (Activation)   (None, 4, 4, 2048)   0           conv5_block3_add[0][0]           \n",
            "__________________________________________________________________________________________________\n",
            "flatten (Flatten)               (None, 32768)        0           conv5_block3_out[0][0]           \n",
            "__________________________________________________________________________________________________\n",
            "dense (Dense)                   (None, 100)          3276900     flatten[0][0]                    \n",
            "__________________________________________________________________________________________________\n",
            "dense_1 (Dense)                 (None, 5)            505         dense[0][0]                      \n",
            "==================================================================================================\n",
            "Total params: 26,865,117\n",
            "Trainable params: 3,277,405\n",
            "Non-trainable params: 23,587,712\n",
            "__________________________________________________________________________________________________\n"
          ]
        }
      ]
    },
    {
      "cell_type": "code",
      "metadata": {
        "colab": {
          "base_uri": "https://localhost:8080/"
        },
        "id": "nJGKobxWo8uv",
        "outputId": "1f847190-207c-49b6-e197-d4380bfe22ed"
      },
      "source": [
        "# create early stopping object\n",
        "es = EarlyStopping(monitor='val_loss', mode='min', verbose=1, patience=20)\n",
        "\n",
        "# fit model\n",
        "history = model.fit(train_iter, \n",
        "                    steps_per_epoch=len(train_iter),\n",
        "                    validation_data=val_iter,\n",
        "                    validation_steps=len(val_iter), \n",
        "                    callbacks=[es],\n",
        "                    epochs=200)"
      ],
      "execution_count": 15,
      "outputs": [
        {
          "output_type": "stream",
          "name": "stdout",
          "text": [
            "Epoch 1/200\n",
            "64/64 [==============================] - 40s 108ms/step - loss: 0.6132 - fbeta: 0.7442 - val_loss: 0.2652 - val_fbeta: 0.7855\n",
            "Epoch 2/200\n",
            "64/64 [==============================] - 6s 91ms/step - loss: 0.1223 - fbeta: 0.9131 - val_loss: 0.2902 - val_fbeta: 0.8199\n",
            "Epoch 3/200\n",
            "64/64 [==============================] - 6s 90ms/step - loss: 0.0502 - fbeta: 0.9675 - val_loss: 0.3362 - val_fbeta: 0.8127\n",
            "Epoch 4/200\n",
            "64/64 [==============================] - 6s 91ms/step - loss: 0.0219 - fbeta: 0.9854 - val_loss: 0.3125 - val_fbeta: 0.8468\n",
            "Epoch 5/200\n",
            "64/64 [==============================] - 6s 91ms/step - loss: 0.0176 - fbeta: 0.9930 - val_loss: 0.3520 - val_fbeta: 0.8365\n",
            "Epoch 6/200\n",
            "64/64 [==============================] - 6s 92ms/step - loss: 0.0124 - fbeta: 0.9948 - val_loss: 0.3560 - val_fbeta: 0.8464\n",
            "Epoch 7/200\n",
            "64/64 [==============================] - 6s 91ms/step - loss: 0.0077 - fbeta: 0.9971 - val_loss: 0.3490 - val_fbeta: 0.8381\n",
            "Epoch 8/200\n",
            "64/64 [==============================] - 6s 93ms/step - loss: 0.0031 - fbeta: 0.9994 - val_loss: 0.3890 - val_fbeta: 0.8314\n",
            "Epoch 9/200\n",
            "64/64 [==============================] - 6s 92ms/step - loss: 0.0025 - fbeta: 0.9994 - val_loss: 0.3602 - val_fbeta: 0.8297\n",
            "Epoch 10/200\n",
            "64/64 [==============================] - 6s 92ms/step - loss: 0.0019 - fbeta: 0.9996 - val_loss: 0.3726 - val_fbeta: 0.8282\n",
            "Epoch 11/200\n",
            "64/64 [==============================] - 6s 93ms/step - loss: 0.0026 - fbeta: 0.9996 - val_loss: 0.3750 - val_fbeta: 0.8328\n",
            "Epoch 12/200\n",
            "64/64 [==============================] - 6s 92ms/step - loss: 0.0014 - fbeta: 0.9996 - val_loss: 0.3874 - val_fbeta: 0.8333\n",
            "Epoch 13/200\n",
            "64/64 [==============================] - 6s 93ms/step - loss: 0.0012 - fbeta: 0.9996 - val_loss: 0.4239 - val_fbeta: 0.8185\n",
            "Epoch 14/200\n",
            "64/64 [==============================] - 6s 92ms/step - loss: 0.0013 - fbeta: 0.9990 - val_loss: 0.3939 - val_fbeta: 0.8466\n",
            "Epoch 15/200\n",
            "64/64 [==============================] - 6s 92ms/step - loss: 9.9728e-04 - fbeta: 0.9997 - val_loss: 0.4061 - val_fbeta: 0.8294\n",
            "Epoch 16/200\n",
            "64/64 [==============================] - 6s 91ms/step - loss: 0.0010 - fbeta: 0.9997 - val_loss: 0.4039 - val_fbeta: 0.8333\n",
            "Epoch 17/200\n",
            "64/64 [==============================] - 6s 92ms/step - loss: 5.7542e-04 - fbeta: 0.9998 - val_loss: 0.4014 - val_fbeta: 0.8359\n",
            "Epoch 18/200\n",
            "64/64 [==============================] - 6s 92ms/step - loss: 4.7340e-04 - fbeta: 0.9998 - val_loss: 0.4032 - val_fbeta: 0.8373\n",
            "Epoch 19/200\n",
            "64/64 [==============================] - 6s 91ms/step - loss: 4.5217e-04 - fbeta: 0.9998 - val_loss: 0.4054 - val_fbeta: 0.8388\n",
            "Epoch 20/200\n",
            "64/64 [==============================] - 6s 91ms/step - loss: 4.2650e-04 - fbeta: 0.9998 - val_loss: 0.4074 - val_fbeta: 0.8373\n",
            "Epoch 21/200\n",
            "64/64 [==============================] - 6s 92ms/step - loss: 4.0907e-04 - fbeta: 0.9998 - val_loss: 0.4075 - val_fbeta: 0.8378\n",
            "Epoch 00021: early stopping\n"
          ]
        }
      ]
    },
    {
      "cell_type": "code",
      "metadata": {
        "id": "sQNEF43drCyz"
      },
      "source": [
        "# create function for plotting\n",
        "\n",
        "def evaluate_model(history):\n",
        "    # plot training and validation loss\n",
        "    fig = plt.figure(figsize=(15,5))\n",
        "    fig.add_subplot(121)\n",
        "    plt.plot(history.history['loss'], color='blue', label='train')\n",
        "    plt.plot(history.history['val_loss'], color='orange', label='val')\n",
        "    plt.legend()\n",
        "    plt.title('Loss')\n",
        "\n",
        "    # plot training and validation accuracy\n",
        "    fig.add_subplot(122)\n",
        "    plt.plot(history.history['fbeta'], color='blue', label='train')\n",
        "    plt.plot(history.history['val_fbeta'], color='orange', label='val')\n",
        "    plt.legend()\n",
        "    plt.title('F-beta score')\n",
        "    \n",
        "    plt.show()\n",
        "    \n",
        "    # print model accuracy\n",
        "    _, fbeta = model.evaluate(test_iter, steps=len(test_iter), verbose=0)\n",
        "    print('Model F-beta score : ', fbeta)\n",
        "    return fbeta"
      ],
      "execution_count": 16,
      "outputs": []
    },
    {
      "cell_type": "code",
      "metadata": {
        "colab": {
          "base_uri": "https://localhost:8080/",
          "height": 353
        },
        "id": "MUSmt3KfrsZI",
        "outputId": "6fa6051f-d7bf-46b0-974f-572781677f31"
      },
      "source": [
        "baseline_perf = evaluate_model(history)"
      ],
      "execution_count": 17,
      "outputs": [
        {
          "output_type": "display_data",
          "data": {
            "image/png": "[encoded data removed]",
            "text/plain": [
              "<Figure size 1080x360 with 2 Axes>"
            ]
          },
          "metadata": {
            "needs_background": "light"
          }
        },
        {
          "output_type": "stream",
          "name": "stdout",
          "text": [
            "Model F-beta score :  0.8585315942764282\n"
          ]
        }
      ]
    },
    {
      "cell_type": "markdown",
      "metadata": {
        "id": "cfjiGFryBexB"
      },
      "source": [
        "Note : overfitting"
      ]
    },
    {
      "cell_type": "markdown",
      "metadata": {
        "id": "ccaNy9GUBX8s"
      },
      "source": [
        "## Improved Models"
      ]
    },
    {
      "cell_type": "markdown",
      "metadata": {
        "id": "7zDu2tBTZZiW"
      },
      "source": [
        "### model 1 : set last block as trainable"
      ]
    },
    {
      "cell_type": "code",
      "metadata": {
        "colab": {
          "base_uri": "https://localhost:8080/",
          "height": 1000
        },
        "id": "HMfZZJ1pZkIa",
        "outputId": "7a9e4898-c0d9-4cd2-dbfd-ee9774a8e69a"
      },
      "source": [
        "# create model\n",
        "\n",
        "# load ResNet50 model\n",
        "model = ResNet50(include_top=False, input_shape=(128,128,3))\n",
        "# mark loaded layers as not trainable\n",
        "for layer in model.layers:\n",
        "    layer.trainable = False\n",
        "# mark last block as trainable\n",
        "model.get_layer('conv5_block3_3_conv').trainable = True\n",
        "model.get_layer('conv5_block3_3_bn').trainable = True\n",
        "# add new classifier layers\n",
        "flat1 = Flatten()(model.layers[-1].output)\n",
        "class1 = Dense(100, activation='relu', kernel_initializer='he_uniform')(flat1)\n",
        "output = Dense(5, activation='sigmoid')(class1)\n",
        "# define model\n",
        "model = Model(inputs=model.inputs, outputs=output)\n",
        "\n",
        "# compile model\n",
        "model.compile(optimizer='adam', loss='binary_crossentropy', metrics=[fbeta])\n",
        "\n",
        "# create early stopping object\n",
        "es = EarlyStopping(monitor='val_loss', mode='min', verbose=1, patience=20)\n",
        "\n",
        "# fit model\n",
        "history = model.fit(train_iter, \n",
        "                    steps_per_epoch=len(train_iter),\n",
        "                    validation_data=val_iter,\n",
        "                    validation_steps=len(val_iter), \n",
        "                    callbacks=[es],\n",
        "                    epochs=200)\n",
        "\n",
        "model1_perf = evaluate_model(history)"
      ],
      "execution_count": 18,
      "outputs": [
        {
          "output_type": "stream",
          "name": "stdout",
          "text": [
            "Epoch 1/200\n",
            "64/64 [==============================] - 12s 113ms/step - loss: 0.5152 - fbeta: 0.7657 - val_loss: 0.3780 - val_fbeta: 0.8196\n",
            "Epoch 2/200\n",
            "64/64 [==============================] - 6s 94ms/step - loss: 0.0992 - fbeta: 0.9343 - val_loss: 0.2707 - val_fbeta: 0.8341\n",
            "Epoch 3/200\n",
            "64/64 [==============================] - 6s 94ms/step - loss: 0.0285 - fbeta: 0.9854 - val_loss: 0.2858 - val_fbeta: 0.8267\n",
            "Epoch 4/200\n",
            "64/64 [==============================] - 6s 94ms/step - loss: 0.0107 - fbeta: 0.9953 - val_loss: 0.3071 - val_fbeta: 0.8327\n",
            "Epoch 5/200\n",
            "64/64 [==============================] - 6s 94ms/step - loss: 0.0042 - fbeta: 0.9991 - val_loss: 0.3041 - val_fbeta: 0.8592\n",
            "Epoch 6/200\n",
            "64/64 [==============================] - 6s 94ms/step - loss: 0.0019 - fbeta: 0.9998 - val_loss: 0.3219 - val_fbeta: 0.8587\n",
            "Epoch 7/200\n",
            "64/64 [==============================] - 6s 94ms/step - loss: 0.0011 - fbeta: 0.9998 - val_loss: 0.3251 - val_fbeta: 0.8538\n",
            "Epoch 8/200\n",
            "64/64 [==============================] - 6s 94ms/step - loss: 9.3403e-04 - fbeta: 0.9998 - val_loss: 0.3436 - val_fbeta: 0.8517\n",
            "Epoch 9/200\n",
            "64/64 [==============================] - 6s 95ms/step - loss: 9.2130e-04 - fbeta: 0.9998 - val_loss: 0.3312 - val_fbeta: 0.8603\n",
            "Epoch 10/200\n",
            "64/64 [==============================] - 6s 93ms/step - loss: 6.2904e-04 - fbeta: 0.9998 - val_loss: 0.3477 - val_fbeta: 0.8546\n",
            "Epoch 11/200\n",
            "64/64 [==============================] - 6s 93ms/step - loss: 4.0276e-04 - fbeta: 1.0000 - val_loss: 0.3442 - val_fbeta: 0.8610\n",
            "Epoch 12/200\n",
            "64/64 [==============================] - 6s 94ms/step - loss: 2.8040e-04 - fbeta: 1.0000 - val_loss: 0.3481 - val_fbeta: 0.8579\n",
            "Epoch 13/200\n",
            "64/64 [==============================] - 6s 94ms/step - loss: 2.4957e-04 - fbeta: 1.0000 - val_loss: 0.3505 - val_fbeta: 0.8548\n",
            "Epoch 14/200\n",
            "64/64 [==============================] - 6s 94ms/step - loss: 2.0674e-04 - fbeta: 1.0000 - val_loss: 0.3543 - val_fbeta: 0.8582\n",
            "Epoch 15/200\n",
            "64/64 [==============================] - 6s 94ms/step - loss: 1.7820e-04 - fbeta: 1.0000 - val_loss: 0.3551 - val_fbeta: 0.8596\n",
            "Epoch 16/200\n",
            "64/64 [==============================] - 6s 94ms/step - loss: 1.6296e-04 - fbeta: 1.0000 - val_loss: 0.3599 - val_fbeta: 0.8545\n",
            "Epoch 17/200\n",
            "64/64 [==============================] - 6s 94ms/step - loss: 1.4121e-04 - fbeta: 1.0000 - val_loss: 0.3614 - val_fbeta: 0.8596\n",
            "Epoch 18/200\n",
            "64/64 [==============================] - 6s 94ms/step - loss: 1.2586e-04 - fbeta: 1.0000 - val_loss: 0.3630 - val_fbeta: 0.8559\n",
            "Epoch 19/200\n",
            "64/64 [==============================] - 6s 93ms/step - loss: 1.1677e-04 - fbeta: 1.0000 - val_loss: 0.3671 - val_fbeta: 0.8564\n",
            "Epoch 20/200\n",
            "64/64 [==============================] - 6s 93ms/step - loss: 1.0058e-04 - fbeta: 1.0000 - val_loss: 0.3694 - val_fbeta: 0.8542\n",
            "Epoch 21/200\n",
            "64/64 [==============================] - 6s 94ms/step - loss: 9.0978e-05 - fbeta: 1.0000 - val_loss: 0.3700 - val_fbeta: 0.8582\n",
            "Epoch 22/200\n",
            "64/64 [==============================] - 6s 94ms/step - loss: 8.4321e-05 - fbeta: 1.0000 - val_loss: 0.3735 - val_fbeta: 0.8547\n",
            "Epoch 00022: early stopping\n"
          ]
        },
        {
          "output_type": "display_data",
          "data": {
            "image/png": "[encoded data removed]",
            "text/plain": [
              "<Figure size 1080x360 with 2 Axes>"
            ]
          },
          "metadata": {
            "needs_background": "light"
          }
        },
        {
          "output_type": "stream",
          "name": "stdout",
          "text": [
            "Model F-beta score :  0.8648827075958252\n"
          ]
        }
      ]
    },
    {
      "cell_type": "markdown",
      "metadata": {
        "id": "l9Bk3O59bepx"
      },
      "source": [
        "Note : overfitting, the performance is little higher than baseline model"
      ]
    },
    {
      "cell_type": "markdown",
      "metadata": {
        "id": "ybJFIEVmbiEM"
      },
      "source": [
        "### model 2 : Baseline + dropout layer"
      ]
    },
    {
      "cell_type": "code",
      "metadata": {
        "colab": {
          "base_uri": "https://localhost:8080/",
          "height": 1000
        },
        "id": "_hGHFAt9bfq6",
        "outputId": "f3623001-89d7-4f21-e4c8-4fbed06f02a8"
      },
      "source": [
        "# create image data generator\n",
        "train_gen = ImageDataGenerator(preprocessing_function=preprocess_input, validation_split=0.2)\n",
        "test_gen = ImageDataGenerator(preprocessing_function=preprocess_input)\n",
        "\n",
        "batch_size = 20\n",
        "train_iter = train_gen.flow(X_train, y_train, batch_size=batch_size, subset='training', seed=123)\n",
        "val_iter = train_gen.flow(X_train, y_train, batch_size=batch_size, subset='validation', seed=123)\n",
        "test_iter = test_gen.flow(X_test, y_test, batch_size=1, shuffle=False)\n",
        "\n",
        "# create model\n",
        "\n",
        "# load ResNet50 model\n",
        "model = ResNet50(include_top=False, input_shape=(128,128,3))\n",
        "# mark loaded layers as not trainable\n",
        "for layer in model.layers:\n",
        "    layer.trainable = False\n",
        "# add new classifier layers\n",
        "dropout1 = Dropout(0.2)(model.layers[-1].output)\n",
        "flat1 = Flatten()(dropout1)\n",
        "class1 = Dense(100, activation='relu', kernel_initializer='he_uniform')(flat1)\n",
        "dropout2 = Dropout(0.2)(class1)\n",
        "output = Dense(5, activation='sigmoid')(dropout2)\n",
        "\n",
        "# define model\n",
        "model = Model(inputs=model.inputs, outputs=output)\n",
        "\n",
        "# compile model\n",
        "model.compile(optimizer='adam', loss='binary_crossentropy', metrics=[fbeta])\n",
        "\n",
        "# create early stopping object\n",
        "es = EarlyStopping(monitor='val_loss', mode='min', verbose=1, patience=20)\n",
        "\n",
        "# fit model\n",
        "history = model.fit(train_iter, \n",
        "                    steps_per_epoch=len(train_iter),\n",
        "                    validation_data=val_iter,\n",
        "                    validation_steps=len(val_iter), \n",
        "                    callbacks=[es],\n",
        "                    epochs=200)\n",
        "\n",
        "model2_perf = evaluate_model(history)"
      ],
      "execution_count": 19,
      "outputs": [
        {
          "output_type": "stream",
          "name": "stdout",
          "text": [
            "Epoch 1/200\n",
            "64/64 [==============================] - 11s 111ms/step - loss: 0.8153 - fbeta: 0.6779 - val_loss: 0.2692 - val_fbeta: 0.8057\n",
            "Epoch 2/200\n",
            "64/64 [==============================] - 6s 92ms/step - loss: 0.2066 - fbeta: 0.8453 - val_loss: 0.2341 - val_fbeta: 0.8310\n",
            "Epoch 3/200\n",
            "64/64 [==============================] - 6s 92ms/step - loss: 0.1526 - fbeta: 0.8832 - val_loss: 0.2373 - val_fbeta: 0.8193\n",
            "Epoch 4/200\n",
            "64/64 [==============================] - 6s 93ms/step - loss: 0.1378 - fbeta: 0.9058 - val_loss: 0.2266 - val_fbeta: 0.8329\n",
            "Epoch 5/200\n",
            "64/64 [==============================] - 6s 92ms/step - loss: 0.1065 - fbeta: 0.9180 - val_loss: 0.2275 - val_fbeta: 0.8430\n",
            "Epoch 6/200\n",
            "64/64 [==============================] - 6s 92ms/step - loss: 0.0892 - fbeta: 0.9345 - val_loss: 0.2401 - val_fbeta: 0.8409\n",
            "Epoch 7/200\n",
            "64/64 [==============================] - 6s 92ms/step - loss: 0.0751 - fbeta: 0.9458 - val_loss: 0.2491 - val_fbeta: 0.8392\n",
            "Epoch 8/200\n",
            "64/64 [==============================] - 6s 92ms/step - loss: 0.0629 - fbeta: 0.9560 - val_loss: 0.2570 - val_fbeta: 0.8401\n",
            "Epoch 9/200\n",
            "64/64 [==============================] - 6s 92ms/step - loss: 0.0663 - fbeta: 0.9508 - val_loss: 0.2846 - val_fbeta: 0.8272\n",
            "Epoch 10/200\n",
            "64/64 [==============================] - 6s 92ms/step - loss: 0.0556 - fbeta: 0.9616 - val_loss: 0.2977 - val_fbeta: 0.8212\n",
            "Epoch 11/200\n",
            "64/64 [==============================] - 6s 92ms/step - loss: 0.0635 - fbeta: 0.9554 - val_loss: 0.2693 - val_fbeta: 0.8453\n",
            "Epoch 12/200\n",
            "64/64 [==============================] - 6s 92ms/step - loss: 0.0636 - fbeta: 0.9571 - val_loss: 0.3054 - val_fbeta: 0.8514\n",
            "Epoch 13/200\n",
            "64/64 [==============================] - 6s 92ms/step - loss: 0.0574 - fbeta: 0.9564 - val_loss: 0.3491 - val_fbeta: 0.8354\n",
            "Epoch 14/200\n",
            "64/64 [==============================] - 6s 93ms/step - loss: 0.0582 - fbeta: 0.9658 - val_loss: 0.3118 - val_fbeta: 0.8331\n",
            "Epoch 15/200\n",
            "64/64 [==============================] - 6s 92ms/step - loss: 0.0484 - fbeta: 0.9672 - val_loss: 0.3099 - val_fbeta: 0.8508\n",
            "Epoch 16/200\n",
            "64/64 [==============================] - 6s 93ms/step - loss: 0.0475 - fbeta: 0.9644 - val_loss: 0.3055 - val_fbeta: 0.8402\n",
            "Epoch 17/200\n",
            "64/64 [==============================] - 6s 93ms/step - loss: 0.0469 - fbeta: 0.9616 - val_loss: 0.3131 - val_fbeta: 0.8444\n",
            "Epoch 18/200\n",
            "64/64 [==============================] - 6s 92ms/step - loss: 0.0442 - fbeta: 0.9690 - val_loss: 0.3314 - val_fbeta: 0.8354\n",
            "Epoch 19/200\n",
            "64/64 [==============================] - 6s 93ms/step - loss: 0.0548 - fbeta: 0.9659 - val_loss: 0.3497 - val_fbeta: 0.8298\n",
            "Epoch 20/200\n",
            "64/64 [==============================] - 6s 93ms/step - loss: 0.0521 - fbeta: 0.9621 - val_loss: 0.2994 - val_fbeta: 0.8484\n",
            "Epoch 21/200\n",
            "64/64 [==============================] - 6s 92ms/step - loss: 0.0437 - fbeta: 0.9723 - val_loss: 0.3333 - val_fbeta: 0.8418\n",
            "Epoch 22/200\n",
            "64/64 [==============================] - 6s 93ms/step - loss: 0.0417 - fbeta: 0.9715 - val_loss: 0.3664 - val_fbeta: 0.8314\n",
            "Epoch 23/200\n",
            "64/64 [==============================] - 6s 94ms/step - loss: 0.0472 - fbeta: 0.9709 - val_loss: 0.3456 - val_fbeta: 0.8494\n",
            "Epoch 24/200\n",
            "64/64 [==============================] - 6s 93ms/step - loss: 0.0476 - fbeta: 0.9733 - val_loss: 0.3784 - val_fbeta: 0.8498\n",
            "Epoch 00024: early stopping\n"
          ]
        },
        {
          "output_type": "display_data",
          "data": {
            "image/png": "[encoded data removed]",
            "text/plain": [
              "<Figure size 1080x360 with 2 Axes>"
            ]
          },
          "metadata": {
            "needs_background": "light"
          }
        },
        {
          "output_type": "stream",
          "name": "stdout",
          "text": [
            "Model F-beta score :  0.8441362977027893\n"
          ]
        }
      ]
    },
    {
      "cell_type": "markdown",
      "metadata": {
        "id": "pbDQ3DKrb9H4"
      },
      "source": [
        "Note : over fitting still occurs, the performance is higher than baseline model"
      ]
    },
    {
      "cell_type": "markdown",
      "metadata": {
        "id": "vI0CwgAvb-eH"
      },
      "source": [
        "### model 3 : Baseline model + data augmentation"
      ]
    },
    {
      "cell_type": "code",
      "metadata": {
        "colab": {
          "base_uri": "https://localhost:8080/",
          "height": 1000
        },
        "id": "1WniKqb9cDcQ",
        "outputId": "43a8345a-8539-4548-a0a1-e9225b827b2d"
      },
      "source": [
        "# create data generator with data augmentation\n",
        "train_gen = ImageDataGenerator(preprocessing_function=preprocess_input,\n",
        "                               rotation_range=30,\n",
        "                               width_shift_range=0.2,\n",
        "                               height_shift_range=0.2,\n",
        "                               zoom_range=0.2,\n",
        "                               horizontal_flip=True,\n",
        "                               vertical_flip=True,\n",
        "                               validation_split=0.2)\n",
        "test_gen = ImageDataGenerator(preprocessing_function=preprocess_input)\n",
        "\n",
        "batch_size = 20\n",
        "train_iter = train_gen.flow(X_train, y_train, batch_size=batch_size, subset='training', seed=123)\n",
        "val_iter = train_gen.flow(X_train, y_train, batch_size=batch_size, subset='validation', seed=123)\n",
        "test_iter = test_gen.flow(X_test, y_test, batch_size=1, shuffle=False)\n",
        "\n",
        "# create model\n",
        "\n",
        "# load ResNet50 model\n",
        "model = ResNet50(include_top=False, input_shape=(128,128,3))\n",
        "# mark loaded layers as not trainable\n",
        "for layer in model.layers:\n",
        "    layer.trainable = False\n",
        "# add new classifier layers\n",
        "flat1 = Flatten()(model.layers[-1].output)\n",
        "class1 = Dense(100, activation='relu', kernel_initializer='he_uniform')(flat1)\n",
        "output = Dense(5, activation='sigmoid')(class1)\n",
        "# define model\n",
        "model = Model(inputs=model.inputs, outputs=output)\n",
        "\n",
        "# compile model\n",
        "model.compile(optimizer='adam', loss='binary_crossentropy', metrics=[fbeta])\n",
        "\n",
        "# create early stopping object\n",
        "es = EarlyStopping(monitor='val_loss', mode='min', verbose=1, patience=20)\n",
        "\n",
        "# fit model\n",
        "history = model.fit(train_iter, \n",
        "                    steps_per_epoch=len(train_iter),\n",
        "                    validation_data=val_iter,\n",
        "                    validation_steps=len(val_iter), \n",
        "                    callbacks=[es],\n",
        "                    epochs=200)\n",
        "\n",
        "model3_perf = evaluate_model(history)"
      ],
      "execution_count": 20,
      "outputs": [
        {
          "output_type": "stream",
          "name": "stdout",
          "text": [
            "Epoch 1/200\n",
            "64/64 [==============================] - 14s 155ms/step - loss: 0.7666 - fbeta: 0.5171 - val_loss: 0.4363 - val_fbeta: 0.5154\n",
            "Epoch 2/200\n",
            "64/64 [==============================] - 9s 135ms/step - loss: 0.3423 - fbeta: 0.6751 - val_loss: 0.3997 - val_fbeta: 0.6741\n",
            "Epoch 3/200\n",
            "64/64 [==============================] - 9s 134ms/step - loss: 0.2862 - fbeta: 0.7361 - val_loss: 0.3227 - val_fbeta: 0.6942\n",
            "Epoch 4/200\n",
            "64/64 [==============================] - 9s 135ms/step - loss: 0.2614 - fbeta: 0.7808 - val_loss: 0.3150 - val_fbeta: 0.7640\n",
            "Epoch 5/200\n",
            "64/64 [==============================] - 9s 136ms/step - loss: 0.2222 - fbeta: 0.8077 - val_loss: 0.2914 - val_fbeta: 0.7519\n",
            "Epoch 6/200\n",
            "64/64 [==============================] - 9s 135ms/step - loss: 0.2029 - fbeta: 0.8284 - val_loss: 0.3272 - val_fbeta: 0.7238\n",
            "Epoch 7/200\n",
            "64/64 [==============================] - 9s 133ms/step - loss: 0.2080 - fbeta: 0.8208 - val_loss: 0.2547 - val_fbeta: 0.8034\n",
            "Epoch 8/200\n",
            "64/64 [==============================] - 9s 133ms/step - loss: 0.1929 - fbeta: 0.8525 - val_loss: 0.2782 - val_fbeta: 0.7901\n",
            "Epoch 9/200\n",
            "64/64 [==============================] - 9s 134ms/step - loss: 0.1889 - fbeta: 0.8515 - val_loss: 0.2468 - val_fbeta: 0.7909\n",
            "Epoch 10/200\n",
            "64/64 [==============================] - 9s 134ms/step - loss: 0.1749 - fbeta: 0.8621 - val_loss: 0.2555 - val_fbeta: 0.7963\n",
            "Epoch 11/200\n",
            "64/64 [==============================] - 9s 133ms/step - loss: 0.1753 - fbeta: 0.8591 - val_loss: 0.2467 - val_fbeta: 0.7908\n",
            "Epoch 12/200\n",
            "64/64 [==============================] - 9s 134ms/step - loss: 0.1580 - fbeta: 0.8665 - val_loss: 0.2728 - val_fbeta: 0.7986\n",
            "Epoch 13/200\n",
            "64/64 [==============================] - 9s 135ms/step - loss: 0.1615 - fbeta: 0.8706 - val_loss: 0.2495 - val_fbeta: 0.8165\n",
            "Epoch 14/200\n",
            "64/64 [==============================] - 9s 134ms/step - loss: 0.1603 - fbeta: 0.8722 - val_loss: 0.2738 - val_fbeta: 0.7899\n",
            "Epoch 15/200\n",
            "64/64 [==============================] - 9s 134ms/step - loss: 0.1531 - fbeta: 0.8783 - val_loss: 0.2805 - val_fbeta: 0.7797\n",
            "Epoch 16/200\n",
            "64/64 [==============================] - 9s 134ms/step - loss: 0.1413 - fbeta: 0.8841 - val_loss: 0.2625 - val_fbeta: 0.7805\n",
            "Epoch 17/200\n",
            "64/64 [==============================] - 9s 135ms/step - loss: 0.1477 - fbeta: 0.8788 - val_loss: 0.2838 - val_fbeta: 0.7932\n",
            "Epoch 18/200\n",
            "64/64 [==============================] - 9s 135ms/step - loss: 0.1498 - fbeta: 0.8777 - val_loss: 0.2702 - val_fbeta: 0.8067\n",
            "Epoch 19/200\n",
            "64/64 [==============================] - 9s 134ms/step - loss: 0.1367 - fbeta: 0.8898 - val_loss: 0.2656 - val_fbeta: 0.8036\n",
            "Epoch 20/200\n",
            "64/64 [==============================] - 9s 134ms/step - loss: 0.1432 - fbeta: 0.8914 - val_loss: 0.2636 - val_fbeta: 0.7948\n",
            "Epoch 21/200\n",
            "64/64 [==============================] - 9s 135ms/step - loss: 0.1366 - fbeta: 0.8911 - val_loss: 0.2738 - val_fbeta: 0.7829\n",
            "Epoch 22/200\n",
            "64/64 [==============================] - 9s 138ms/step - loss: 0.1288 - fbeta: 0.9043 - val_loss: 0.2844 - val_fbeta: 0.7871\n",
            "Epoch 23/200\n",
            "64/64 [==============================] - 9s 138ms/step - loss: 0.1340 - fbeta: 0.9050 - val_loss: 0.2328 - val_fbeta: 0.8269\n",
            "Epoch 24/200\n",
            "64/64 [==============================] - 9s 139ms/step - loss: 0.1161 - fbeta: 0.9074 - val_loss: 0.2570 - val_fbeta: 0.8128\n",
            "Epoch 25/200\n",
            "64/64 [==============================] - 9s 139ms/step - loss: 0.1229 - fbeta: 0.9070 - val_loss: 0.2973 - val_fbeta: 0.7757\n",
            "Epoch 26/200\n",
            "64/64 [==============================] - 9s 139ms/step - loss: 0.1174 - fbeta: 0.9082 - val_loss: 0.2610 - val_fbeta: 0.7947\n",
            "Epoch 27/200\n",
            "64/64 [==============================] - 9s 140ms/step - loss: 0.1150 - fbeta: 0.9157 - val_loss: 0.2752 - val_fbeta: 0.7958\n",
            "Epoch 28/200\n",
            "64/64 [==============================] - 9s 139ms/step - loss: 0.1271 - fbeta: 0.9054 - val_loss: 0.2884 - val_fbeta: 0.7909\n",
            "Epoch 29/200\n",
            "64/64 [==============================] - 9s 140ms/step - loss: 0.1205 - fbeta: 0.9068 - val_loss: 0.3243 - val_fbeta: 0.7788\n",
            "Epoch 30/200\n",
            "64/64 [==============================] - 9s 140ms/step - loss: 0.1144 - fbeta: 0.9084 - val_loss: 0.2757 - val_fbeta: 0.8165\n",
            "Epoch 31/200\n",
            "64/64 [==============================] - 9s 140ms/step - loss: 0.1207 - fbeta: 0.9068 - val_loss: 0.3076 - val_fbeta: 0.7977\n",
            "Epoch 32/200\n",
            "64/64 [==============================] - 9s 140ms/step - loss: 0.1191 - fbeta: 0.9129 - val_loss: 0.2956 - val_fbeta: 0.7656\n",
            "Epoch 33/200\n",
            "64/64 [==============================] - 9s 139ms/step - loss: 0.1120 - fbeta: 0.9154 - val_loss: 0.2746 - val_fbeta: 0.8101\n",
            "Epoch 34/200\n",
            "64/64 [==============================] - 9s 140ms/step - loss: 0.1180 - fbeta: 0.9156 - val_loss: 0.2652 - val_fbeta: 0.8303\n",
            "Epoch 35/200\n",
            "64/64 [==============================] - 9s 139ms/step - loss: 0.1175 - fbeta: 0.9038 - val_loss: 0.2858 - val_fbeta: 0.8081\n",
            "Epoch 36/200\n",
            "64/64 [==============================] - 9s 139ms/step - loss: 0.1086 - fbeta: 0.9224 - val_loss: 0.2892 - val_fbeta: 0.7665\n",
            "Epoch 37/200\n",
            "64/64 [==============================] - 9s 138ms/step - loss: 0.1107 - fbeta: 0.9169 - val_loss: 0.3012 - val_fbeta: 0.7792\n",
            "Epoch 38/200\n",
            "64/64 [==============================] - 9s 140ms/step - loss: 0.1045 - fbeta: 0.9260 - val_loss: 0.2458 - val_fbeta: 0.8161\n",
            "Epoch 39/200\n",
            "64/64 [==============================] - 9s 139ms/step - loss: 0.1020 - fbeta: 0.9210 - val_loss: 0.3104 - val_fbeta: 0.8026\n",
            "Epoch 40/200\n",
            "64/64 [==============================] - 9s 139ms/step - loss: 0.1070 - fbeta: 0.9199 - val_loss: 0.3112 - val_fbeta: 0.8040\n",
            "Epoch 41/200\n",
            "64/64 [==============================] - 9s 140ms/step - loss: 0.1160 - fbeta: 0.9121 - val_loss: 0.2832 - val_fbeta: 0.7849\n",
            "Epoch 42/200\n",
            "64/64 [==============================] - 9s 139ms/step - loss: 0.1046 - fbeta: 0.9188 - val_loss: 0.2917 - val_fbeta: 0.7955\n",
            "Epoch 43/200\n",
            "64/64 [==============================] - 9s 138ms/step - loss: 0.1008 - fbeta: 0.9285 - val_loss: 0.3109 - val_fbeta: 0.8074\n",
            "Epoch 00043: early stopping\n"
          ]
        },
        {
          "output_type": "display_data",
          "data": {
            "image/png": "[encoded data removed]",
            "text/plain": [
              "<Figure size 1080x360 with 2 Axes>"
            ]
          },
          "metadata": {
            "needs_background": "light"
          }
        },
        {
          "output_type": "stream",
          "name": "stdout",
          "text": [
            "Model F-beta score :  0.8540188074111938\n"
          ]
        }
      ]
    },
    {
      "cell_type": "markdown",
      "metadata": {
        "id": "dlO5XOv9cYSG"
      },
      "source": [
        "Note : "
      ]
    },
    {
      "cell_type": "markdown",
      "metadata": {
        "id": "ANhpf0XhcZKm"
      },
      "source": [
        "### model 4 : Baseline model + data augmentation + dropout layers"
      ]
    },
    {
      "cell_type": "code",
      "metadata": {
        "colab": {
          "base_uri": "https://localhost:8080/",
          "height": 1000
        },
        "id": "_FHKWc1vciMc",
        "outputId": "d20418ca-764b-4e90-dbc7-993e4d9f4567"
      },
      "source": [
        "# create data generator with data augmentation\n",
        "train_gen = ImageDataGenerator(preprocessing_function=preprocess_input,\n",
        "                               rotation_range=30,\n",
        "                               width_shift_range=0.2,\n",
        "                               height_shift_range=0.2,\n",
        "                               zoom_range=0.2,\n",
        "                               horizontal_flip=True,\n",
        "                               vertical_flip=True,\n",
        "                               validation_split=0.2)\n",
        "test_gen = ImageDataGenerator(preprocessing_function=preprocess_input)\n",
        "\n",
        "batch_size = 20\n",
        "train_iter = train_gen.flow(X_train, y_train, batch_size=batch_size, subset='training', seed=123)\n",
        "val_iter = train_gen.flow(X_train, y_train, batch_size=batch_size, subset='validation', seed=123)\n",
        "test_iter = test_gen.flow(X_test, y_test, batch_size=1, shuffle=False)\n",
        "\n",
        "# create model\n",
        "\n",
        "# load ResNet50 model\n",
        "model = ResNet50(include_top=False, input_shape=(128,128,3))\n",
        "# mark loaded layers as not trainable\n",
        "for layer in model.layers:\n",
        "    layer.trainable = False\n",
        "# add new classifier layers\n",
        "dropout1 = Dropout(0.2)(model.layers[-1].output)\n",
        "flat1 = Flatten()(dropout1)\n",
        "class1 = Dense(100, activation='relu', kernel_initializer='he_uniform')(flat1)\n",
        "dropout2 = Dropout(0.4)(class1)\n",
        "output = Dense(5, activation='sigmoid')(dropout2)\n",
        "# define model\n",
        "model = Model(inputs=model.inputs, outputs=output)\n",
        "\n",
        "# compile model\n",
        "model.compile(optimizer='adam', loss='binary_crossentropy', metrics=[fbeta])\n",
        "\n",
        "# create early stopping object\n",
        "es = EarlyStopping(monitor='val_loss', mode='min', verbose=1, patience=20)\n",
        "\n",
        "# fit model\n",
        "history = model.fit(train_iter, \n",
        "                    steps_per_epoch=len(train_iter),\n",
        "                    validation_data=val_iter,\n",
        "                    validation_steps=len(val_iter), \n",
        "                    callbacks=[es],\n",
        "                    epochs=200)\n",
        "\n",
        "model4_perf = evaluate_model(history)"
      ],
      "execution_count": 24,
      "outputs": [
        {
          "output_type": "stream",
          "name": "stdout",
          "text": [
            "Epoch 1/200\n",
            "64/64 [==============================] - 14s 157ms/step - loss: 0.8828 - fbeta: 0.4864 - val_loss: 0.3877 - val_fbeta: 0.6692\n",
            "Epoch 2/200\n",
            "64/64 [==============================] - 9s 136ms/step - loss: 0.4495 - fbeta: 0.5250 - val_loss: 0.3271 - val_fbeta: 0.6956\n",
            "Epoch 3/200\n",
            "64/64 [==============================] - 9s 136ms/step - loss: 0.4134 - fbeta: 0.5563 - val_loss: 0.3231 - val_fbeta: 0.7111\n",
            "Epoch 4/200\n",
            "64/64 [==============================] - 9s 135ms/step - loss: 0.4060 - fbeta: 0.5413 - val_loss: 0.3002 - val_fbeta: 0.7091\n",
            "Epoch 5/200\n",
            "64/64 [==============================] - 9s 136ms/step - loss: 0.3672 - fbeta: 0.5761 - val_loss: 0.3268 - val_fbeta: 0.6844\n",
            "Epoch 6/200\n",
            "64/64 [==============================] - 9s 136ms/step - loss: 0.3858 - fbeta: 0.5836 - val_loss: 0.2966 - val_fbeta: 0.7191\n",
            "Epoch 7/200\n",
            "64/64 [==============================] - 9s 136ms/step - loss: 0.3533 - fbeta: 0.6204 - val_loss: 0.3160 - val_fbeta: 0.7441\n",
            "Epoch 8/200\n",
            "64/64 [==============================] - 9s 135ms/step - loss: 0.3420 - fbeta: 0.6069 - val_loss: 0.3076 - val_fbeta: 0.7040\n",
            "Epoch 9/200\n",
            "64/64 [==============================] - 9s 136ms/step - loss: 0.3398 - fbeta: 0.6104 - val_loss: 0.2779 - val_fbeta: 0.7208\n",
            "Epoch 10/200\n",
            "64/64 [==============================] - 9s 137ms/step - loss: 0.3373 - fbeta: 0.6090 - val_loss: 0.2862 - val_fbeta: 0.7066\n",
            "Epoch 11/200\n",
            "64/64 [==============================] - 9s 137ms/step - loss: 0.3232 - fbeta: 0.6100 - val_loss: 0.2851 - val_fbeta: 0.7312\n",
            "Epoch 12/200\n",
            "64/64 [==============================] - 9s 136ms/step - loss: 0.3270 - fbeta: 0.5888 - val_loss: 0.2872 - val_fbeta: 0.7015\n",
            "Epoch 13/200\n",
            "64/64 [==============================] - 9s 137ms/step - loss: 0.2898 - fbeta: 0.6567 - val_loss: 0.2645 - val_fbeta: 0.7100\n",
            "Epoch 14/200\n",
            "64/64 [==============================] - 9s 136ms/step - loss: 0.2993 - fbeta: 0.6479 - val_loss: 0.2784 - val_fbeta: 0.6956\n",
            "Epoch 15/200\n",
            "64/64 [==============================] - 9s 136ms/step - loss: 0.2950 - fbeta: 0.6425 - val_loss: 0.2812 - val_fbeta: 0.7166\n",
            "Epoch 16/200\n",
            "64/64 [==============================] - 9s 136ms/step - loss: 0.2991 - fbeta: 0.6408 - val_loss: 0.2624 - val_fbeta: 0.7595\n",
            "Epoch 17/200\n",
            "64/64 [==============================] - 9s 137ms/step - loss: 0.2904 - fbeta: 0.6440 - val_loss: 0.3021 - val_fbeta: 0.6876\n",
            "Epoch 18/200\n",
            "64/64 [==============================] - 9s 136ms/step - loss: 0.3063 - fbeta: 0.6287 - val_loss: 0.2696 - val_fbeta: 0.7159\n",
            "Epoch 19/200\n",
            "64/64 [==============================] - 9s 135ms/step - loss: 0.2997 - fbeta: 0.6334 - val_loss: 0.2731 - val_fbeta: 0.7781\n",
            "Epoch 20/200\n",
            "64/64 [==============================] - 9s 135ms/step - loss: 0.2863 - fbeta: 0.6384 - val_loss: 0.2792 - val_fbeta: 0.7243\n",
            "Epoch 21/200\n",
            "64/64 [==============================] - 9s 136ms/step - loss: 0.2676 - fbeta: 0.6686 - val_loss: 0.2955 - val_fbeta: 0.7245\n",
            "Epoch 22/200\n",
            "64/64 [==============================] - 9s 137ms/step - loss: 0.2644 - fbeta: 0.6801 - val_loss: 0.2721 - val_fbeta: 0.7180\n",
            "Epoch 23/200\n",
            "64/64 [==============================] - 9s 136ms/step - loss: 0.2804 - fbeta: 0.6521 - val_loss: 0.2692 - val_fbeta: 0.7219\n",
            "Epoch 24/200\n",
            "64/64 [==============================] - 9s 135ms/step - loss: 0.2787 - fbeta: 0.6556 - val_loss: 0.2561 - val_fbeta: 0.7623\n",
            "Epoch 25/200\n",
            "64/64 [==============================] - 9s 136ms/step - loss: 0.2708 - fbeta: 0.6714 - val_loss: 0.2654 - val_fbeta: 0.7167\n",
            "Epoch 26/200\n",
            "64/64 [==============================] - 9s 135ms/step - loss: 0.2668 - fbeta: 0.6737 - val_loss: 0.2488 - val_fbeta: 0.7354\n",
            "Epoch 27/200\n",
            "64/64 [==============================] - 9s 134ms/step - loss: 0.2627 - fbeta: 0.6849 - val_loss: 0.2657 - val_fbeta: 0.7005\n",
            "Epoch 28/200\n",
            "64/64 [==============================] - 9s 135ms/step - loss: 0.2760 - fbeta: 0.6475 - val_loss: 0.2595 - val_fbeta: 0.7467\n",
            "Epoch 29/200\n",
            "64/64 [==============================] - 9s 133ms/step - loss: 0.2601 - fbeta: 0.6891 - val_loss: 0.2695 - val_fbeta: 0.7366\n",
            "Epoch 30/200\n",
            "64/64 [==============================] - 9s 133ms/step - loss: 0.2524 - fbeta: 0.6906 - val_loss: 0.2503 - val_fbeta: 0.7474\n",
            "Epoch 31/200\n",
            "64/64 [==============================] - 9s 133ms/step - loss: 0.2567 - fbeta: 0.6772 - val_loss: 0.2701 - val_fbeta: 0.7345\n",
            "Epoch 32/200\n",
            "64/64 [==============================] - 9s 134ms/step - loss: 0.2565 - fbeta: 0.7038 - val_loss: 0.2574 - val_fbeta: 0.7458\n",
            "Epoch 33/200\n",
            "64/64 [==============================] - 9s 133ms/step - loss: 0.2536 - fbeta: 0.6892 - val_loss: 0.2450 - val_fbeta: 0.7376\n",
            "Epoch 34/200\n",
            "64/64 [==============================] - 8s 132ms/step - loss: 0.2458 - fbeta: 0.7019 - val_loss: 0.2669 - val_fbeta: 0.7416\n",
            "Epoch 35/200\n",
            "64/64 [==============================] - 9s 133ms/step - loss: 0.2433 - fbeta: 0.6985 - val_loss: 0.2469 - val_fbeta: 0.7772\n",
            "Epoch 36/200\n",
            "64/64 [==============================] - 9s 135ms/step - loss: 0.2512 - fbeta: 0.7120 - val_loss: 0.2616 - val_fbeta: 0.7401\n",
            "Epoch 37/200\n",
            "64/64 [==============================] - 10s 148ms/step - loss: 0.2495 - fbeta: 0.6919 - val_loss: 0.2666 - val_fbeta: 0.7390\n",
            "Epoch 38/200\n",
            "64/64 [==============================] - 9s 147ms/step - loss: 0.2511 - fbeta: 0.6918 - val_loss: 0.2455 - val_fbeta: 0.7328\n",
            "Epoch 39/200\n",
            "64/64 [==============================] - 8s 132ms/step - loss: 0.2491 - fbeta: 0.7049 - val_loss: 0.2622 - val_fbeta: 0.7069\n",
            "Epoch 40/200\n",
            "64/64 [==============================] - 9s 135ms/step - loss: 0.2421 - fbeta: 0.6996 - val_loss: 0.2739 - val_fbeta: 0.7140\n",
            "Epoch 41/200\n",
            "64/64 [==============================] - 9s 134ms/step - loss: 0.2504 - fbeta: 0.6978 - val_loss: 0.2801 - val_fbeta: 0.7144\n",
            "Epoch 42/200\n",
            "64/64 [==============================] - 9s 134ms/step - loss: 0.2413 - fbeta: 0.7121 - val_loss: 0.2552 - val_fbeta: 0.7371\n",
            "Epoch 43/200\n",
            "64/64 [==============================] - 9s 135ms/step - loss: 0.2261 - fbeta: 0.7262 - val_loss: 0.2526 - val_fbeta: 0.7403\n",
            "Epoch 44/200\n",
            "64/64 [==============================] - 9s 134ms/step - loss: 0.2433 - fbeta: 0.7191 - val_loss: 0.2483 - val_fbeta: 0.7706\n",
            "Epoch 45/200\n",
            "64/64 [==============================] - 9s 133ms/step - loss: 0.2323 - fbeta: 0.7307 - val_loss: 0.2577 - val_fbeta: 0.7468\n",
            "Epoch 46/200\n",
            "64/64 [==============================] - 9s 133ms/step - loss: 0.2290 - fbeta: 0.7228 - val_loss: 0.2590 - val_fbeta: 0.7382\n",
            "Epoch 47/200\n",
            "64/64 [==============================] - 9s 134ms/step - loss: 0.2193 - fbeta: 0.7473 - val_loss: 0.2661 - val_fbeta: 0.7519\n",
            "Epoch 48/200\n",
            "64/64 [==============================] - 9s 135ms/step - loss: 0.2158 - fbeta: 0.7459 - val_loss: 0.2382 - val_fbeta: 0.7687\n",
            "Epoch 49/200\n",
            "64/64 [==============================] - 9s 134ms/step - loss: 0.2299 - fbeta: 0.7368 - val_loss: 0.2557 - val_fbeta: 0.7559\n",
            "Epoch 50/200\n",
            "64/64 [==============================] - 8s 132ms/step - loss: 0.2297 - fbeta: 0.7318 - val_loss: 0.2489 - val_fbeta: 0.7574\n",
            "Epoch 51/200\n",
            "64/64 [==============================] - 9s 133ms/step - loss: 0.2221 - fbeta: 0.7418 - val_loss: 0.2425 - val_fbeta: 0.7620\n",
            "Epoch 52/200\n",
            "64/64 [==============================] - 9s 134ms/step - loss: 0.2268 - fbeta: 0.7226 - val_loss: 0.2423 - val_fbeta: 0.7581\n",
            "Epoch 53/200\n",
            "64/64 [==============================] - 9s 133ms/step - loss: 0.2170 - fbeta: 0.7414 - val_loss: 0.2663 - val_fbeta: 0.7415\n",
            "Epoch 54/200\n",
            "64/64 [==============================] - 9s 134ms/step - loss: 0.2352 - fbeta: 0.7191 - val_loss: 0.2611 - val_fbeta: 0.6875\n",
            "Epoch 55/200\n",
            "64/64 [==============================] - 9s 136ms/step - loss: 0.2245 - fbeta: 0.7320 - val_loss: 0.2832 - val_fbeta: 0.7578\n",
            "Epoch 56/200\n",
            "64/64 [==============================] - 9s 134ms/step - loss: 0.2191 - fbeta: 0.7403 - val_loss: 0.2587 - val_fbeta: 0.7809\n",
            "Epoch 57/200\n",
            "64/64 [==============================] - 9s 135ms/step - loss: 0.2216 - fbeta: 0.7309 - val_loss: 0.2497 - val_fbeta: 0.7529\n",
            "Epoch 58/200\n",
            "64/64 [==============================] - 8s 132ms/step - loss: 0.2330 - fbeta: 0.7346 - val_loss: 0.2546 - val_fbeta: 0.7455\n",
            "Epoch 59/200\n",
            "64/64 [==============================] - 8s 132ms/step - loss: 0.2243 - fbeta: 0.7329 - val_loss: 0.2539 - val_fbeta: 0.7283\n",
            "Epoch 60/200\n",
            "64/64 [==============================] - 8s 132ms/step - loss: 0.2266 - fbeta: 0.7340 - val_loss: 0.2581 - val_fbeta: 0.7409\n",
            "Epoch 61/200\n",
            "64/64 [==============================] - 8s 132ms/step - loss: 0.2113 - fbeta: 0.7525 - val_loss: 0.2722 - val_fbeta: 0.7378\n",
            "Epoch 62/200\n",
            "64/64 [==============================] - 8s 133ms/step - loss: 0.2160 - fbeta: 0.7583 - val_loss: 0.2508 - val_fbeta: 0.7762\n",
            "Epoch 63/200\n",
            "64/64 [==============================] - 8s 132ms/step - loss: 0.2220 - fbeta: 0.7474 - val_loss: 0.2668 - val_fbeta: 0.7619\n",
            "Epoch 64/200\n",
            "64/64 [==============================] - 9s 133ms/step - loss: 0.2096 - fbeta: 0.7690 - val_loss: 0.2596 - val_fbeta: 0.7465\n",
            "Epoch 65/200\n",
            "64/64 [==============================] - 8s 131ms/step - loss: 0.2123 - fbeta: 0.7509 - val_loss: 0.2589 - val_fbeta: 0.7706\n",
            "Epoch 66/200\n",
            "64/64 [==============================] - 9s 134ms/step - loss: 0.2119 - fbeta: 0.7498 - val_loss: 0.2473 - val_fbeta: 0.7668\n",
            "Epoch 67/200\n",
            "64/64 [==============================] - 9s 133ms/step - loss: 0.2135 - fbeta: 0.7538 - val_loss: 0.2638 - val_fbeta: 0.7210\n",
            "Epoch 68/200\n",
            "64/64 [==============================] - 8s 131ms/step - loss: 0.2091 - fbeta: 0.7483 - val_loss: 0.2632 - val_fbeta: 0.7446\n",
            "Epoch 00068: early stopping\n"
          ]
        },
        {
          "output_type": "display_data",
          "data": {
            "image/png": "[encoded data removed]",
            "text/plain": [
              "<Figure size 1080x360 with 2 Axes>"
            ]
          },
          "metadata": {
            "needs_background": "light"
          }
        },
        {
          "output_type": "stream",
          "name": "stdout",
          "text": [
            "Model F-beta score :  0.7938674092292786\n"
          ]
        }
      ]
    },
    {
      "cell_type": "markdown",
      "metadata": {
        "id": "Zion_CBmcpJ0"
      },
      "source": [
        "Note : overfitting is reduced"
      ]
    },
    {
      "cell_type": "markdown",
      "metadata": {
        "id": "nqztKidAfjvQ"
      },
      "source": [
        "### model 5 : set last block trainable + data augmentation + dropout layer"
      ]
    },
    {
      "cell_type": "code",
      "metadata": {
        "colab": {
          "base_uri": "https://localhost:8080/",
          "height": 1000
        },
        "id": "uK1p-JnifsXu",
        "outputId": "9615b1a3-291f-47cb-8274-9fd6ee14ab1f"
      },
      "source": [
        "# create data generator with data augmentation\n",
        "train_gen = ImageDataGenerator(preprocessing_function=preprocess_input,\n",
        "                               rotation_range=30,\n",
        "                               width_shift_range=0.2,\n",
        "                               height_shift_range=0.2,\n",
        "                               zoom_range=0.2,\n",
        "                               horizontal_flip=True,\n",
        "                               vertical_flip=True,\n",
        "                               validation_split=0.2)\n",
        "test_gen = ImageDataGenerator(preprocessing_function=preprocess_input)\n",
        "\n",
        "batch_size = 20\n",
        "train_iter = train_gen.flow(X_train, y_train, batch_size=batch_size, subset='training', seed=123)\n",
        "val_iter = train_gen.flow(X_train, y_train, batch_size=batch_size, subset='validation', seed=123)\n",
        "test_iter = test_gen.flow(X_test, y_test, batch_size=1, shuffle=False)\n",
        "\n",
        "# create model\n",
        "\n",
        "# load ResNet50 model\n",
        "model = ResNet50(include_top=False, input_shape=(128,128,3))\n",
        "# mark loaded layers as not trainable\n",
        "for layer in model.layers:\n",
        "    layer.trainable = False\n",
        "# mark last block as trainable\n",
        "model.get_layer('conv5_block3_3_conv').trainable = True\n",
        "model.get_layer('conv5_block3_3_bn').trainable = True\n",
        "# add new classifier layers\n",
        "dropout1 = Dropout(0.2)(model.layers[-1].output)\n",
        "flat1 = Flatten()(dropout1)\n",
        "class1 = Dense(100, activation='relu', kernel_initializer='he_uniform')(flat1)\n",
        "dropout2 = Dropout(0.2)(class1)\n",
        "output = Dense(5, activation='sigmoid')(dropout2)\n",
        "# define model\n",
        "model = Model(inputs=model.inputs, outputs=output)\n",
        "\n",
        "# compile model\n",
        "model.compile(optimizer='adam', loss='binary_crossentropy', metrics=[fbeta])\n",
        "\n",
        "# create early stopping object\n",
        "es = EarlyStopping(monitor='val_loss', mode='min', verbose=1, patience=20)\n",
        "\n",
        "# fit model\n",
        "history = model.fit(train_iter, \n",
        "                    steps_per_epoch=len(train_iter),\n",
        "                    validation_data=val_iter,\n",
        "                    validation_steps=len(val_iter), \n",
        "                    callbacks=[es],\n",
        "                    epochs=200)\n",
        "\n",
        "model5_perf = evaluate_model(history)"
      ],
      "execution_count": 22,
      "outputs": [
        {
          "output_type": "stream",
          "name": "stdout",
          "text": [
            "Epoch 1/200\n",
            "64/64 [==============================] - 14s 153ms/step - loss: 0.6966 - fbeta: 0.6067 - val_loss: 0.3894 - val_fbeta: 0.6450\n",
            "Epoch 2/200\n",
            "64/64 [==============================] - 9s 133ms/step - loss: 0.3303 - fbeta: 0.7221 - val_loss: 0.3543 - val_fbeta: 0.6592\n",
            "Epoch 3/200\n",
            "64/64 [==============================] - 9s 134ms/step - loss: 0.3063 - fbeta: 0.7625 - val_loss: 0.3329 - val_fbeta: 0.7151\n",
            "Epoch 4/200\n",
            "64/64 [==============================] - 9s 134ms/step - loss: 0.2629 - fbeta: 0.7682 - val_loss: 0.2866 - val_fbeta: 0.7725\n",
            "Epoch 5/200\n",
            "64/64 [==============================] - 9s 134ms/step - loss: 0.2438 - fbeta: 0.7914 - val_loss: 0.2869 - val_fbeta: 0.7687\n",
            "Epoch 6/200\n",
            "64/64 [==============================] - 9s 135ms/step - loss: 0.2216 - fbeta: 0.8083 - val_loss: 0.2791 - val_fbeta: 0.7861\n",
            "Epoch 7/200\n",
            "64/64 [==============================] - 9s 134ms/step - loss: 0.2290 - fbeta: 0.8142 - val_loss: 0.2850 - val_fbeta: 0.7958\n",
            "Epoch 8/200\n",
            "64/64 [==============================] - 9s 135ms/step - loss: 0.1964 - fbeta: 0.8255 - val_loss: 0.2883 - val_fbeta: 0.7859\n",
            "Epoch 9/200\n",
            "64/64 [==============================] - 9s 134ms/step - loss: 0.2070 - fbeta: 0.8313 - val_loss: 0.2784 - val_fbeta: 0.7843\n",
            "Epoch 10/200\n",
            "64/64 [==============================] - 9s 135ms/step - loss: 0.2029 - fbeta: 0.8243 - val_loss: 0.2582 - val_fbeta: 0.7848\n",
            "Epoch 11/200\n",
            "64/64 [==============================] - 9s 136ms/step - loss: 0.1887 - fbeta: 0.8399 - val_loss: 0.2511 - val_fbeta: 0.7876\n",
            "Epoch 12/200\n",
            "64/64 [==============================] - 9s 135ms/step - loss: 0.1789 - fbeta: 0.8489 - val_loss: 0.2690 - val_fbeta: 0.8074\n",
            "Epoch 13/200\n",
            "64/64 [==============================] - 9s 136ms/step - loss: 0.1786 - fbeta: 0.8544 - val_loss: 0.3031 - val_fbeta: 0.7673\n",
            "Epoch 14/200\n",
            "64/64 [==============================] - 9s 136ms/step - loss: 0.1614 - fbeta: 0.8685 - val_loss: 0.2599 - val_fbeta: 0.8011\n",
            "Epoch 15/200\n",
            "64/64 [==============================] - 9s 135ms/step - loss: 0.1600 - fbeta: 0.8626 - val_loss: 0.2772 - val_fbeta: 0.8147\n",
            "Epoch 16/200\n",
            "64/64 [==============================] - 9s 137ms/step - loss: 0.1545 - fbeta: 0.8672 - val_loss: 0.2677 - val_fbeta: 0.7946\n",
            "Epoch 17/200\n",
            "64/64 [==============================] - 9s 137ms/step - loss: 0.1514 - fbeta: 0.8729 - val_loss: 0.3171 - val_fbeta: 0.7951\n",
            "Epoch 18/200\n",
            "64/64 [==============================] - 9s 134ms/step - loss: 0.1493 - fbeta: 0.8744 - val_loss: 0.2920 - val_fbeta: 0.7784\n",
            "Epoch 19/200\n",
            "64/64 [==============================] - 9s 138ms/step - loss: 0.1515 - fbeta: 0.8770 - val_loss: 0.2608 - val_fbeta: 0.8237\n",
            "Epoch 20/200\n",
            "64/64 [==============================] - 9s 136ms/step - loss: 0.1442 - fbeta: 0.8798 - val_loss: 0.3096 - val_fbeta: 0.7814\n",
            "Epoch 21/200\n",
            "64/64 [==============================] - 9s 136ms/step - loss: 0.1516 - fbeta: 0.8836 - val_loss: 0.3306 - val_fbeta: 0.7807\n",
            "Epoch 22/200\n",
            "64/64 [==============================] - 9s 136ms/step - loss: 0.1458 - fbeta: 0.8855 - val_loss: 0.2897 - val_fbeta: 0.7890\n",
            "Epoch 23/200\n",
            "64/64 [==============================] - 9s 137ms/step - loss: 0.1390 - fbeta: 0.8864 - val_loss: 0.2672 - val_fbeta: 0.8090\n",
            "Epoch 24/200\n",
            "64/64 [==============================] - 9s 136ms/step - loss: 0.1315 - fbeta: 0.8902 - val_loss: 0.2613 - val_fbeta: 0.8111\n",
            "Epoch 25/200\n",
            "64/64 [==============================] - 9s 135ms/step - loss: 0.1288 - fbeta: 0.8951 - val_loss: 0.3203 - val_fbeta: 0.8170\n",
            "Epoch 26/200\n",
            "64/64 [==============================] - 9s 134ms/step - loss: 0.1279 - fbeta: 0.9030 - val_loss: 0.2812 - val_fbeta: 0.7904\n",
            "Epoch 27/200\n",
            "64/64 [==============================] - 9s 135ms/step - loss: 0.1360 - fbeta: 0.8904 - val_loss: 0.2967 - val_fbeta: 0.8123\n",
            "Epoch 28/200\n",
            "64/64 [==============================] - 9s 135ms/step - loss: 0.1154 - fbeta: 0.9094 - val_loss: 0.3215 - val_fbeta: 0.7864\n",
            "Epoch 29/200\n",
            "64/64 [==============================] - 9s 136ms/step - loss: 0.1166 - fbeta: 0.8993 - val_loss: 0.2743 - val_fbeta: 0.8199\n",
            "Epoch 30/200\n",
            "64/64 [==============================] - 9s 137ms/step - loss: 0.1251 - fbeta: 0.8945 - val_loss: 0.2987 - val_fbeta: 0.8420\n",
            "Epoch 31/200\n",
            "64/64 [==============================] - 9s 137ms/step - loss: 0.1149 - fbeta: 0.9011 - val_loss: 0.3297 - val_fbeta: 0.8059\n",
            "Epoch 00031: early stopping\n"
          ]
        },
        {
          "output_type": "display_data",
          "data": {
            "image/png": "[encoded data removed]",
            "text/plain": [
              "<Figure size 1080x360 with 2 Axes>"
            ]
          },
          "metadata": {
            "needs_background": "light"
          }
        },
        {
          "output_type": "stream",
          "name": "stdout",
          "text": [
            "Model F-beta score :  0.8253860473632812\n"
          ]
        }
      ]
    },
    {
      "cell_type": "markdown",
      "metadata": {
        "id": "kFINWMv4f-ep"
      },
      "source": [
        "Note : overfitting, but the performance (fbeta score) is high"
      ]
    },
    {
      "cell_type": "markdown",
      "metadata": {
        "id": "Ub8SeGv0hZxz"
      },
      "source": [
        "## Model performance"
      ]
    },
    {
      "cell_type": "code",
      "metadata": {
        "colab": {
          "base_uri": "https://localhost:8080/"
        },
        "id": "S4GGOmyzheG7",
        "outputId": "8a240d8b-c188-4803-c633-7061bd4ba81d"
      },
      "source": [
        "print('Baseline model : ', baseline_perf)\n",
        "print('model 1 : ', model1_perf)\n",
        "print('model 2 : ', model2_perf)\n",
        "print('model 3 : ', model3_perf)\n",
        "print('model 4 : ', model4_perf)\n",
        "print('model 5 : ', model5_perf)"
      ],
      "execution_count": 23,
      "outputs": [
        {
          "output_type": "stream",
          "name": "stdout",
          "text": [
            "Baseline model :  0.8585315942764282\n",
            "model 1 :  0.8648827075958252\n",
            "model 2 :  0.8441362977027893\n",
            "model 3 :  0.8540188074111938\n",
            "model 4 :  0.8297007083892822\n",
            "model 5 :  0.8253860473632812\n"
          ]
        }
      ]
    },
    {
      "cell_type": "markdown",
      "metadata": {
        "id": "H6RiCLwUh0Mv"
      },
      "source": [
        "Note : only model 4 is not high overfitting"
      ]
    },
    {
      "cell_type": "markdown",
      "metadata": {
        "id": "4X98pMo8hEWb"
      },
      "source": [
        "## Finalize model 4\n",
        "Train the selected model again.  \n",
        "Give it more time to learn.  \n",
        "Save the highest performance with ModelCheckpoint."
      ]
    },
    {
      "cell_type": "code",
      "metadata": {
        "colab": {
          "base_uri": "https://localhost:8080/"
        },
        "id": "00l737WuhPkd",
        "outputId": "af503f12-0560-49e0-9445-28a90cb6d7fd"
      },
      "source": [
        "# create data generator with data augmentation\n",
        "train_gen = ImageDataGenerator(preprocessing_function=preprocess_input,\n",
        "                               rotation_range=30,\n",
        "                               width_shift_range=0.2,\n",
        "                               height_shift_range=0.2,\n",
        "                               zoom_range=0.2,\n",
        "                               horizontal_flip=True,\n",
        "                               vertical_flip=True,\n",
        "                               validation_split=0.2)\n",
        "test_gen = ImageDataGenerator(preprocessing_function=preprocess_input)\n",
        "\n",
        "batch_size = 20\n",
        "train_iter = train_gen.flow(X_train, y_train, batch_size=batch_size, subset='training', seed=123)\n",
        "val_iter = train_gen.flow(X_train, y_train, batch_size=batch_size, subset='validation', seed=123)\n",
        "test_iter = test_gen.flow(X_test, y_test, batch_size=1, shuffle=False)\n",
        "\n",
        "# create model\n",
        "\n",
        "# load ResNet50 model\n",
        "model = ResNet50(include_top=False, input_shape=(128,128,3))\n",
        "# mark loaded layers as not trainable\n",
        "for layer in model.layers:\n",
        "    layer.trainable = False\n",
        "# add new classifier layers\n",
        "dropout1 = Dropout(0.2)(model.layers[-1].output)\n",
        "flat1 = Flatten()(dropout1)\n",
        "class1 = Dense(100, activation='relu', kernel_initializer='he_uniform')(flat1)\n",
        "dropout2 = Dropout(0.2)(class1)\n",
        "output = Dense(5, activation='sigmoid')(dropout2)\n",
        "# define model\n",
        "model = Model(inputs=model.inputs, outputs=output)\n",
        "\n",
        "# compile model\n",
        "model.compile(optimizer='adam', loss='binary_crossentropy')\n",
        "\n",
        "# create early stopping object\n",
        "es = EarlyStopping(monitor='val_loss', mode='min', verbose=1, patience=30)\n",
        "\n",
        "# create model checkpoint\n",
        "mc = ModelCheckpoint(model_name, monitor='val_loss', mode='min', verbose=1, save_best_only=True)\n",
        "\n",
        "# create model checkpoint to save the model\n",
        "mc = ModelCheckpoint(model_name, monitor='val_loss', mode='min', verbose=1, save_best_only=True)\n",
        "# fit model\n",
        "history = model.fit(train_iter, \n",
        "                    steps_per_epoch=len(train_iter),\n",
        "                    validation_data=val_iter,\n",
        "                    validation_steps=len(val_iter), \n",
        "                    callbacks=[es, mc],\n",
        "                    epochs=300)\n",
        "final_model_perf = evaluate_model(history)"
      ],
      "execution_count": null,
      "outputs": [
        {
          "name": "stdout",
          "output_type": "stream",
          "text": [
            "Epoch 1/300\n",
            "64/64 [==============================] - 13s 154ms/step - loss: 1.6461 - val_loss: 0.3651\n",
            "\n",
            "Epoch 00001: val_loss improved from inf to 0.36505, saving model to best_pretrained_ResNet50.h5\n",
            "Epoch 2/300\n",
            "64/64 [==============================] - 9s 136ms/step - loss: 0.4041 - val_loss: 0.3200\n",
            "\n",
            "Epoch 00002: val_loss improved from 0.36505 to 0.32003, saving model to best_pretrained_ResNet50.h5\n",
            "Epoch 3/300\n",
            "64/64 [==============================] - 9s 135ms/step - loss: 0.3343 - val_loss: 0.2962\n",
            "\n",
            "Epoch 00003: val_loss improved from 0.32003 to 0.29620, saving model to best_pretrained_ResNet50.h5\n",
            "Epoch 4/300\n",
            "64/64 [==============================] - 9s 135ms/step - loss: 0.3527 - val_loss: 0.2969\n",
            "\n",
            "Epoch 00004: val_loss did not improve from 0.29620\n",
            "Epoch 5/300\n",
            "64/64 [==============================] - 9s 135ms/step - loss: 0.2949 - val_loss: 0.3315\n",
            "\n",
            "Epoch 00005: val_loss did not improve from 0.29620\n",
            "Epoch 6/300\n",
            "64/64 [==============================] - 9s 135ms/step - loss: 0.2848 - val_loss: 0.3051\n",
            "\n",
            "Epoch 00006: val_loss did not improve from 0.29620\n",
            "Epoch 7/300\n",
            "64/64 [==============================] - 9s 135ms/step - loss: 0.3024 - val_loss: 0.2919\n",
            "\n",
            "Epoch 00007: val_loss improved from 0.29620 to 0.29190, saving model to best_pretrained_ResNet50.h5\n",
            "Epoch 8/300\n",
            "64/64 [==============================] - 9s 136ms/step - loss: 0.2748 - val_loss: 0.3444\n",
            "\n",
            "Epoch 00008: val_loss did not improve from 0.29190\n",
            "Epoch 9/300\n",
            "64/64 [==============================] - 9s 135ms/step - loss: 0.2717 - val_loss: 0.2884\n",
            "\n",
            "Epoch 00009: val_loss improved from 0.29190 to 0.28838, saving model to best_pretrained_ResNet50.h5\n",
            "Epoch 10/300\n",
            "64/64 [==============================] - 9s 137ms/step - loss: 0.2499 - val_loss: 0.3240\n",
            "\n",
            "Epoch 00010: val_loss did not improve from 0.28838\n",
            "Epoch 11/300\n",
            "64/64 [==============================] - 9s 136ms/step - loss: 0.2448 - val_loss: 0.2670\n",
            "\n",
            "Epoch 00011: val_loss improved from 0.28838 to 0.26704, saving model to best_pretrained_ResNet50.h5\n",
            "Epoch 12/300\n",
            "64/64 [==============================] - 9s 136ms/step - loss: 0.2478 - val_loss: 0.2869\n",
            "\n",
            "Epoch 00012: val_loss did not improve from 0.26704\n",
            "Epoch 13/300\n",
            "64/64 [==============================] - 9s 135ms/step - loss: 0.2275 - val_loss: 0.2758\n",
            "\n",
            "Epoch 00013: val_loss did not improve from 0.26704\n",
            "Epoch 14/300\n",
            "64/64 [==============================] - 9s 135ms/step - loss: 0.2302 - val_loss: 0.2752\n",
            "\n",
            "Epoch 00014: val_loss did not improve from 0.26704\n",
            "Epoch 15/300\n",
            "64/64 [==============================] - 9s 136ms/step - loss: 0.2133 - val_loss: 0.2519\n",
            "\n",
            "Epoch 00015: val_loss improved from 0.26704 to 0.25194, saving model to best_pretrained_ResNet50.h5\n",
            "Epoch 16/300\n",
            "64/64 [==============================] - 9s 135ms/step - loss: 0.2231 - val_loss: 0.2601\n",
            "\n",
            "Epoch 00016: val_loss did not improve from 0.25194\n",
            "Epoch 17/300\n",
            "64/64 [==============================] - 9s 135ms/step - loss: 0.2143 - val_loss: 0.2785\n",
            "\n",
            "Epoch 00017: val_loss did not improve from 0.25194\n",
            "Epoch 18/300\n",
            "64/64 [==============================] - 9s 135ms/step - loss: 0.2273 - val_loss: 0.2489\n",
            "\n",
            "Epoch 00018: val_loss improved from 0.25194 to 0.24894, saving model to best_pretrained_ResNet50.h5\n",
            "Epoch 19/300\n",
            "64/64 [==============================] - 9s 136ms/step - loss: 0.2272 - val_loss: 0.2827\n",
            "\n",
            "Epoch 00019: val_loss did not improve from 0.24894\n",
            "Epoch 20/300\n",
            "64/64 [==============================] - 9s 136ms/step - loss: 0.1914 - val_loss: 0.2593\n",
            "\n",
            "Epoch 00020: val_loss did not improve from 0.24894\n",
            "Epoch 21/300\n",
            "64/64 [==============================] - 9s 135ms/step - loss: 0.2214 - val_loss: 0.2496\n",
            "\n",
            "Epoch 00021: val_loss did not improve from 0.24894\n",
            "Epoch 22/300\n",
            "64/64 [==============================] - 9s 135ms/step - loss: 0.2016 - val_loss: 0.2805\n",
            "\n",
            "Epoch 00022: val_loss did not improve from 0.24894\n",
            "Epoch 23/300\n",
            "64/64 [==============================] - 9s 134ms/step - loss: 0.2144 - val_loss: 0.2648\n",
            "\n",
            "Epoch 00023: val_loss did not improve from 0.24894\n",
            "Epoch 24/300\n",
            "64/64 [==============================] - 9s 134ms/step - loss: 0.1937 - val_loss: 0.2698\n",
            "\n",
            "Epoch 00024: val_loss did not improve from 0.24894\n",
            "Epoch 25/300\n",
            "64/64 [==============================] - 9s 135ms/step - loss: 0.2165 - val_loss: 0.2563\n",
            "\n",
            "Epoch 00025: val_loss did not improve from 0.24894\n",
            "Epoch 26/300\n",
            "64/64 [==============================] - 9s 134ms/step - loss: 0.1882 - val_loss: 0.2717\n",
            "\n",
            "Epoch 00026: val_loss did not improve from 0.24894\n",
            "Epoch 27/300\n",
            "64/64 [==============================] - 9s 134ms/step - loss: 0.1996 - val_loss: 0.2578\n",
            "\n",
            "Epoch 00027: val_loss did not improve from 0.24894\n",
            "Epoch 28/300\n",
            "64/64 [==============================] - 9s 133ms/step - loss: 0.1967 - val_loss: 0.2534\n",
            "\n",
            "Epoch 00028: val_loss did not improve from 0.24894\n",
            "Epoch 29/300\n",
            "64/64 [==============================] - 9s 133ms/step - loss: 0.1767 - val_loss: 0.2683\n",
            "\n",
            "Epoch 00029: val_loss did not improve from 0.24894\n",
            "Epoch 30/300\n",
            "64/64 [==============================] - 9s 134ms/step - loss: 0.1761 - val_loss: 0.2801\n",
            "\n",
            "Epoch 00030: val_loss did not improve from 0.24894\n",
            "Epoch 31/300\n",
            "64/64 [==============================] - 9s 135ms/step - loss: 0.1958 - val_loss: 0.2751\n",
            "\n",
            "Epoch 00031: val_loss did not improve from 0.24894\n",
            "Epoch 32/300\n",
            "64/64 [==============================] - 9s 134ms/step - loss: 0.1696 - val_loss: 0.2724\n",
            "\n",
            "Epoch 00032: val_loss did not improve from 0.24894\n",
            "Epoch 33/300\n",
            "64/64 [==============================] - 9s 134ms/step - loss: 0.1926 - val_loss: 0.2762\n",
            "\n",
            "Epoch 00033: val_loss did not improve from 0.24894\n",
            "Epoch 34/300\n",
            "64/64 [==============================] - 9s 135ms/step - loss: 0.1934 - val_loss: 0.2466\n",
            "\n",
            "Epoch 00034: val_loss improved from 0.24894 to 0.24663, saving model to best_pretrained_ResNet50.h5\n",
            "Epoch 35/300\n",
            "64/64 [==============================] - 8s 131ms/step - loss: 0.1745 - val_loss: 0.2677\n",
            "\n",
            "Epoch 00035: val_loss did not improve from 0.24663\n",
            "Epoch 36/300\n",
            "64/64 [==============================] - 8s 131ms/step - loss: 0.1813 - val_loss: 0.2674\n",
            "\n",
            "Epoch 00036: val_loss did not improve from 0.24663\n",
            "Epoch 37/300\n",
            "64/64 [==============================] - 9s 133ms/step - loss: 0.1725 - val_loss: 0.2478\n",
            "\n",
            "Epoch 00037: val_loss did not improve from 0.24663\n",
            "Epoch 38/300\n",
            "64/64 [==============================] - 9s 134ms/step - loss: 0.1873 - val_loss: 0.2699\n",
            "\n",
            "Epoch 00038: val_loss did not improve from 0.24663\n",
            "Epoch 39/300\n",
            "64/64 [==============================] - 9s 133ms/step - loss: 0.1739 - val_loss: 0.2795\n",
            "\n",
            "Epoch 00039: val_loss did not improve from 0.24663\n",
            "Epoch 40/300\n",
            "64/64 [==============================] - 8s 130ms/step - loss: 0.1578 - val_loss: 0.2897\n",
            "\n",
            "Epoch 00040: val_loss did not improve from 0.24663\n",
            "Epoch 41/300\n",
            "64/64 [==============================] - 8s 131ms/step - loss: 0.1813 - val_loss: 0.2879\n",
            "\n",
            "Epoch 00041: val_loss did not improve from 0.24663\n",
            "Epoch 42/300\n",
            "64/64 [==============================] - 8s 131ms/step - loss: 0.1683 - val_loss: 0.2727\n",
            "\n",
            "Epoch 00042: val_loss did not improve from 0.24663\n",
            "Epoch 43/300\n",
            "64/64 [==============================] - 8s 132ms/step - loss: 0.1652 - val_loss: 0.2640\n",
            "\n",
            "Epoch 00043: val_loss did not improve from 0.24663\n",
            "Epoch 44/300\n",
            "64/64 [==============================] - 8s 131ms/step - loss: 0.1506 - val_loss: 0.2996\n",
            "\n",
            "Epoch 00044: val_loss did not improve from 0.24663\n",
            "Epoch 45/300\n",
            "64/64 [==============================] - 9s 135ms/step - loss: 0.2001 - val_loss: 0.2694\n",
            "\n",
            "Epoch 00045: val_loss did not improve from 0.24663\n",
            "Epoch 46/300\n",
            "64/64 [==============================] - 9s 135ms/step - loss: 0.1489 - val_loss: 0.2598\n",
            "\n",
            "Epoch 00046: val_loss did not improve from 0.24663\n",
            "Epoch 47/300\n",
            "64/64 [==============================] - 9s 135ms/step - loss: 0.1674 - val_loss: 0.2544\n",
            "\n",
            "Epoch 00047: val_loss did not improve from 0.24663\n",
            "Epoch 48/300\n",
            "64/64 [==============================] - 8s 132ms/step - loss: 0.1794 - val_loss: 0.2846\n",
            "\n",
            "Epoch 00048: val_loss did not improve from 0.24663\n",
            "Epoch 49/300\n",
            "64/64 [==============================] - 9s 133ms/step - loss: 0.1707 - val_loss: 0.2983\n",
            "\n",
            "Epoch 00049: val_loss did not improve from 0.24663\n",
            "Epoch 50/300\n",
            "64/64 [==============================] - 9s 133ms/step - loss: 0.1623 - val_loss: 0.2681\n",
            "\n",
            "Epoch 00050: val_loss did not improve from 0.24663\n",
            "Epoch 51/300\n",
            "64/64 [==============================] - 9s 133ms/step - loss: 0.1557 - val_loss: 0.2609\n",
            "\n",
            "Epoch 00051: val_loss did not improve from 0.24663\n",
            "Epoch 52/300\n",
            "64/64 [==============================] - 9s 134ms/step - loss: 0.1549 - val_loss: 0.2681\n",
            "\n",
            "Epoch 00052: val_loss did not improve from 0.24663\n",
            "Epoch 53/300\n",
            "64/64 [==============================] - 9s 135ms/step - loss: 0.1820 - val_loss: 0.2704\n",
            "\n",
            "Epoch 00053: val_loss did not improve from 0.24663\n",
            "Epoch 54/300\n",
            "64/64 [==============================] - 9s 135ms/step - loss: 0.1467 - val_loss: 0.2772\n",
            "\n",
            "Epoch 00054: val_loss did not improve from 0.24663\n",
            "Epoch 55/300\n",
            "64/64 [==============================] - 9s 135ms/step - loss: 0.1657 - val_loss: 0.2877\n",
            "\n",
            "Epoch 00055: val_loss did not improve from 0.24663\n",
            "Epoch 56/300\n",
            "64/64 [==============================] - 9s 133ms/step - loss: 0.1432 - val_loss: 0.2660\n",
            "\n",
            "Epoch 00056: val_loss did not improve from 0.24663\n",
            "Epoch 57/300\n",
            "64/64 [==============================] - 9s 134ms/step - loss: 0.1389 - val_loss: 0.2503\n",
            "\n",
            "Epoch 00057: val_loss did not improve from 0.24663\n",
            "Epoch 58/300\n",
            "64/64 [==============================] - 9s 137ms/step - loss: 0.1571 - val_loss: 0.2543\n",
            "\n",
            "Epoch 00058: val_loss did not improve from 0.24663\n",
            "Epoch 59/300\n",
            "64/64 [==============================] - 8s 132ms/step - loss: 0.1484 - val_loss: 0.2670\n",
            "\n",
            "Epoch 00059: val_loss did not improve from 0.24663\n",
            "Epoch 60/300\n",
            "64/64 [==============================] - 9s 133ms/step - loss: 0.1502 - val_loss: 0.2843\n",
            "\n",
            "Epoch 00060: val_loss did not improve from 0.24663\n",
            "Epoch 61/300\n",
            "64/64 [==============================] - 9s 133ms/step - loss: 0.1597 - val_loss: 0.2654\n",
            "\n",
            "Epoch 00061: val_loss did not improve from 0.24663\n",
            "Epoch 62/300\n",
            "64/64 [==============================] - 9s 136ms/step - loss: 0.1566 - val_loss: 0.2810\n",
            "\n",
            "Epoch 00062: val_loss did not improve from 0.24663\n",
            "Epoch 63/300\n",
            "64/64 [==============================] - 9s 133ms/step - loss: 0.1552 - val_loss: 0.3013\n",
            "\n",
            "Epoch 00063: val_loss did not improve from 0.24663\n",
            "Epoch 64/300\n",
            "64/64 [==============================] - 8s 129ms/step - loss: 0.1398 - val_loss: 0.2924\n",
            "\n",
            "Epoch 00064: val_loss did not improve from 0.24663\n",
            "Epoch 00064: early stopping\n"
          ]
        }
      ]
    },
    {
      "cell_type": "markdown",
      "metadata": {
        "id": "ISc5EB_jXT-r"
      },
      "source": [
        "## Evaluate model"
      ]
    },
    {
      "cell_type": "code",
      "metadata": {
        "colab": {
          "base_uri": "https://localhost:8080/"
        },
        "id": "PPlMnacVtMEu",
        "outputId": "7019f48e-477c-468f-811d-a6e09ed33f8e"
      },
      "source": [
        "# print model score\n",
        "final_model_fbeta = model.evaluate(test_iter)[1]\n",
        "print('final_model_fbeta : ', final_model_fbeta)"
      ],
      "execution_count": null,
      "outputs": [
        {
          "name": "stdout",
          "output_type": "stream",
          "text": [
            "final_model_fbeta :  0.84483045\n"
          ]
        }
      ]
    },
    {
      "cell_type": "markdown",
      "metadata": {
        "id": "0Y2wCmtus5LS"
      },
      "source": [
        "## Save model to local machine"
      ]
    },
    {
      "cell_type": "code",
      "metadata": {
        "colab": {
          "base_uri": "https://localhost:8080/",
          "height": 17
        },
        "id": "POBJhAMzs5LS",
        "outputId": "7d25c444-1338-4127-cd62-ed53f046319a"
      },
      "source": [
        "# load saved model file to local machine\n",
        "from google.colab import files\n",
        "files.download(model_name)"
      ],
      "execution_count": null,
      "outputs": [
        {
          "output_type": "display_data",
          "data": {
            "application/javascript": [
              "\n",
              "    async function download(id, filename, size) {\n",
              "      if (!google.colab.kernel.accessAllowed) {\n",
              "        return;\n",
              "      }\n",
              "      const div = document.createElement('div');\n",
              "      const label = document.createElement('label');\n",
              "      label.textContent = `Downloading \"${filename}\": `;\n",
              "      div.appendChild(label);\n",
              "      const progress = document.createElement('progress');\n",
              "      progress.max = size;\n",
              "      div.appendChild(progress);\n",
              "      document.body.appendChild(div);\n",
              "\n",
              "      const buffers = [];\n",
              "      let downloaded = 0;\n",
              "\n",
              "      const channel = await google.colab.kernel.comms.open(id);\n",
              "      // Send a message to notify the kernel that we're ready.\n",
              "      channel.send({})\n",
              "\n",
              "      for await (const message of channel.messages) {\n",
              "        // Send a message to notify the kernel that we're ready.\n",
              "        channel.send({})\n",
              "        if (message.buffers) {\n",
              "          for (const buffer of message.buffers) {\n",
              "            buffers.push(buffer);\n",
              "            downloaded += buffer.byteLength;\n",
              "            progress.value = downloaded;\n",
              "          }\n",
              "        }\n",
              "      }\n",
              "      const blob = new Blob(buffers, {type: 'application/binary'});\n",
              "      const a = document.createElement('a');\n",
              "      a.href = window.URL.createObjectURL(blob);\n",
              "      a.download = filename;\n",
              "      div.appendChild(a);\n",
              "      a.click();\n",
              "      div.remove();\n",
              "    }\n",
              "  "
            ],
            "text/plain": [
              "<IPython.core.display.Javascript object>"
            ]
          },
          "metadata": {}
        },
        {
          "output_type": "display_data",
          "data": {
            "application/javascript": [
              "download(\"download_b7eddb6e-b723-4b69-b965-fe9074bb2c62\", \"best_pretrained_VGG16.h5\", 78869160)"
            ],
            "text/plain": [
              "<IPython.core.display.Javascript object>"
            ]
          },
          "metadata": {}
        }
      ]
    }
  ]
}